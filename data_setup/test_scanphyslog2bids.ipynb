{
 "cells": [
  {
   "cell_type": "code",
   "execution_count": null,
   "metadata": {},
   "outputs": [],
   "source": [
    "from scanphyslog2bids.core import PhilipsPhysioLog\n",
    "import nibabel as nib\n",
    "import numpy as np\n",
    "\n",
    "main_dir = '/Users/jheunis/Desktop/sample-data/sub-neufepmetest/sub-pilot/raw-data'\n",
    "log_file = main_dir + '/SCANPHYSLOG20191011115018_motor1.log'\n",
    "out_dir = main_dir + '/my_bids_data'  # where the BIDSified data should be saved\n",
    "deriv_dir = main_dir + '/my_bids_data/physio'  # where some QC plots should be saved\n",
    "\n",
    "# fmri_file is used to extract metadata, such as TR and number of volumes\n",
    "fmri_file = main_dir + '/sub-pilot_task-motor_run-1_echo-2.nii' \n",
    "fmri_img = nib.load(fmri_file)\n",
    "n_dyns = fmri_img.shape[-1]\n",
    "tr = np.round(fmri_img.header['pixdim'][4], 3)\n",
    "\n",
    "# Create PhilipsPhysioLog object with info\n",
    "phlog = PhilipsPhysioLog(f=log_file, tr=tr, n_dyns=n_dyns, sf=500, manually_stopped=False)\n",
    "\n",
    "# Load in data, do some preprocessing\n",
    "phlog.load()\n",
    "\n",
    "# Try to align physio data with scan data, using a particular method\n",
    "# (either \"vol_markers\", \"gradient_log\", or \"interpolation\")\n",
    "# phlog.align(trigger_method='vol_markers')  # load and find vol triggers\n",
    "phlog.align(trigger_method='interpolate')  # load and find vol triggers\n",
    "\n",
    "# Write out BIDS files\n",
    "phlog.to_bids(out_dir)  # writes out .tsv.gz and .json files\n",
    "\n",
    "# Optional: plot some QC graphs for alignment and actual traces\n",
    "phlog.plot_alignment(out_dir=deriv_dir)  # plots alignment with gradient\n",
    "phlog.plot_traces(out_dir=deriv_dir)  # plots cardiac/resp traces"
   ]
  },
  {
   "cell_type": "code",
   "execution_count": null,
   "metadata": {},
   "outputs": [],
   "source": []
  }
 ],
 "metadata": {
  "kernelspec": {
   "display_name": "Python 3",
   "language": "python",
   "name": "python3"
  },
  "language_info": {
   "codemirror_mode": {
    "name": "ipython",
    "version": 3
   },
   "file_extension": ".py",
   "mimetype": "text/x-python",
   "name": "python",
   "nbconvert_exporter": "python",
   "pygments_lexer": "ipython3",
   "version": "3.7.3"
  }
 },
 "nbformat": 4,
 "nbformat_minor": 2
}
