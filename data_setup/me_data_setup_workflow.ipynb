{
 "cells": [
  {
   "cell_type": "markdown",
   "metadata": {},
   "source": [
    "# NEUFEP-ME study: Data setup workflow"
   ]
  },
  {
   "cell_type": "markdown",
   "metadata": {},
   "source": [
    "This notebook contains the workflow required to convert all raw data into the formats, types and structures necessary for the main data processing pipeline. Thus, getting data ready to be processed.\n",
    "\n",
    "## Study overview\n",
    "\n",
    "The main purpose of the study is to investigate methods to improve the quality of real-time functional magnetic resonance imaging (fMRI) data. These improvements are for future applications in real-time fMRI neurofeedback, a method where participants are presented with visual feedback of their brain activity while they are inside the MRI scanner, and then asked to regulate the level of feedback. We have developed real-time multi-echo EPI acquisition sequences and processing methods, and this study aims to collect data from volunteers in order to validate these new methods. No neurofeedback is provided.\n",
    "\n",
    "```\n",
    "The scan session will consist of a number of scan sequences, some of which will require you to look at pictures or perform a task, and others just to lie still in the scanner. The total time in the scanner will be around 1 hour, with a break in the middle. Volunteers have to be right-handed, healthy and should have no history of or be under current treatment for psychiatric / neurological conditions. If this inclusion criteria do not fit you, you will unfortunately not be able to participate in the study. Other reasons for not being able to participate include being pregnant or having metal implants.\n",
    "```\n",
    "\n",
    "## Data\n",
    "\n",
    "Per subject, all of the following data were collected during one scan session (all functional scans are multi-echo EPI):\n",
    "\n",
    "| Nr | Name  | Scan Type | Description | Format |\n",
    "| :--- | :--- | :--- | :--- | :--- |\n",
    "| 1 | T1w | Anatomical | Standard T1-weighted sequence | NIfTI |\n",
    "| 2 | run1_BOLD_rest | Functional | Resting state | PAR/REC, XML/REC, DICOM |\n",
    "| 3 | run1_BOLD_task1 | Functional | Motor - finger tapping | PAR/REC, XML/REC, DICOM |\n",
    "| 4 | run1_BOLD_task2 | Functional | Emotion - shape/face matching | PAR/REC, XML/REC, DICOM |\n",
    "| 5 | run2_BOLD_rest | Functional | Resting state | PAR/REC, XML/REC, DICOM |\n",
    "| 6 | run2_BOLD_task1 | Functional | Motor mental - imagined finger tapping | PAR/REC, XML/REC, DICOM |\n",
    "| 7 | run2_BOLD_task2 | Functional | Emotion mental - recalling emotional memories | PAR/REC, XML/REC, DICOM |\n",
    "| 8 | Stimulus timing | Peripheral measure | Stimulus and response timing for all tasks, i.e. x4 | Eprime .dat and .txt |\n",
    "| 9 | Physiology | Peripheral measure | Cardiac + respiratory traces for all runs, i.e. x6 | Philips \"scanphyslog\" |\n",
    "\n",
    "## Data setup goals\n",
    "\n",
    "For each dataset (i.e. for each subject) we have to:\n",
    "\n",
    "1. Move all files into a machine readable directory structure\n",
    "2. Rename all image files in this directory structure such that BIDS tags are findable\n",
    "3. Convert data to BIDS:\n",
    "  1. Run `bidsify` to convert the image data to BIDS (This includes conversion of PAR/REC to NIfTI using `dcm2niix`; this also includes anonymization, which doesn't work for some reason)\n",
    "  2. Deface the T1w image using `pydeface`\n",
    "  3. Run eprime conversion script to convert stimilus and response timings to BIDS (need to figure out this format)\n",
    "  4. Run `scanphyslog2bids` (or Matlab script if needed) to convert physiology data to BIDS\n",
    "4. Run the BIDS validator\n",
    "6. Create summary tables and plots using `pybids`"
   ]
  },
  {
   "cell_type": "markdown",
   "metadata": {},
   "source": [
    "## Required packages / software\n",
    "\n",
    "- bidsify: https://github.com/NILAB-UvA/bidsify/tree/master/bidsify\n",
    "- pydeface: https://github.com/poldracklab/pydeface\n",
    "- fsl (required for pydeface): https://fsl.fmrib.ox.ac.uk/fsl/fslwiki\n",
    "- bids_validator: https://github.com/bids-standard/bids-validator; https://bids-standard.github.io/bids-validator/\n",
    "- convert-eprime: https://github.com/tsalo/convert-eprime\n",
    "- scanphyslog2bids: https://github.com/lukassnoek/scanphyslog2bids"
   ]
  },
  {
   "cell_type": "code",
   "execution_count": 1,
   "metadata": {},
   "outputs": [],
   "source": [
    "%matplotlib inline\n",
    "%load_ext autoreload\n",
    "%autoreload 2"
   ]
  },
  {
   "cell_type": "code",
   "execution_count": 2,
   "metadata": {},
   "outputs": [],
   "source": [
    "import os\n",
    "import shutil\n",
    "import glob\n",
    "import matplotlib.pyplot as plt\n",
    "import numpy as np\n",
    "import nibabel as nib\n",
    "import bidsify\n",
    "import pydeface\n",
    "import pandas as pd\n",
    "import json\n",
    "from bids_validator import BIDSValidator\n",
    "from convert_eprime.convert import text_to_csv\n",
    "from scanphyslog2bids.core import PhilipsPhysioLog"
   ]
  },
  {
   "cell_type": "markdown",
   "metadata": {},
   "source": [
    "## Step 0: initialize variables, directories, filenames, etc\n"
   ]
  },
  {
   "cell_type": "code",
   "execution_count": 3,
   "metadata": {},
   "outputs": [],
   "source": [
    "# Dependent on structure and filenames in current data on external drive\n",
    "data_dir = '/Volumes/Stephan_WD/NEUFEPME_data/'\n",
    "new_data_dir = '/Volumes/Stephan_WD/NEUFEPME_data/NEUFEPME_data_new/'\n",
    "org_data_dir = '/Volumes/Stephan_WD/NEUFEPME_data_organised/'\n",
    "new_org_data_dir = org_data_dir + 'new/'\n",
    "bids_data_dir = '/Volumes/Stephan_WD/NEUFEPME_data_BIDS/'\n",
    "bids_deriv_data_dir = '/Volumes/Stephan_WD/NEUFEPME_data_BIDS_derivatives/'\n",
    "eprime_data_dir = '/Volumes/Stephan_WD/NEUFEPME_data_eprime/'"
   ]
  },
  {
   "cell_type": "markdown",
   "metadata": {},
   "source": [
    "## Step 1+2: Move and rename all files into a machine readable and BIDS-ready directory structure\n"
   ]
  },
  {
   "cell_type": "markdown",
   "metadata": {},
   "source": [
    "#### ONCE ONLY: copy all raw data, with exceptions, to new directory (leave raw data untouched!)\n"
   ]
  },
  {
   "cell_type": "code",
   "execution_count": 5,
   "metadata": {},
   "outputs": [
    {
     "data": {
      "text/plain": [
       "'/Volumes/Stephan_WD/NEUFEPME_data_organised/new/'"
      ]
     },
     "execution_count": 5,
     "metadata": {},
     "output_type": "execute_result"
    }
   ],
   "source": [
    "# Ignore files:\n",
    "# - with 'FSL', this is a proxy for the FSL '.nii' file\n",
    "# - with spaces (this is a proxy for the xml/rec files),\n",
    "# - the PAR/RECs of T1w file\n",
    "src = new_data_dir\n",
    "dst = new_org_data_dir\n",
    "ignore_pattern = shutil.ignore_patterns('*FSL*',\n",
    "                                        '* *',\n",
    "                                        '*T1W*.PAR',\n",
    "                                        '*T1W*.REC')\n",
    "shutil.copytree(src, dst, ignore=ignore_pattern)"
   ]
  },
  {
   "cell_type": "markdown",
   "metadata": {},
   "source": [
    "#### ONCE ONLY: Rename files such that bidsify can read separate tags and convert correctly to BIDS format\n",
    "See filenames in: \"/Users/jheunis/Documents/PYTHON/rtme-fMRI/bidsify_test_2709/sub-01\")\n"
   ]
  },
  {
   "cell_type": "code",
   "execution_count": 6,
   "metadata": {},
   "outputs": [],
   "source": [
    "# This means removing the 'SENSE' text from the T1w file such that files with SENSE are all recognised as BOLD\n",
    "os.chdir(new_org_data_dir)\n",
    "t1w = glob.glob('*/*T1W*',recursive=True)\n",
    "for fn in t1w:\n",
    "    os.rename(fn, fn.replace('_SENSE', ''))"
   ]
  },
  {
   "cell_type": "markdown",
   "metadata": {},
   "source": [
    "#### ONCE ONLY: Rename scanphyslog files based on time of acquisition and relation to functional scans"
   ]
  },
  {
   "cell_type": "code",
   "execution_count": 7,
   "metadata": {},
   "outputs": [
    {
     "name": "stdout",
     "output_type": "stream",
     "text": [
      "['sub-021', 'sub-022', 'sub-023', 'sub-024', 'sub-025', 'sub-026', 'sub-027', 'sub-029', 'sub-030', 'sub-031', 'sub-032']\n",
      "sub-021\n",
      "SCANPHYSLOG20200210094910_emotion2.log\n",
      "SCANPHYSLOG20200210094023_motor2.log\n",
      "SCANPHYSLOG20200210093219_rest2.log\n",
      "SCANPHYSLOG20200210092322_emotion1.log\n",
      "SCANPHYSLOG20200210091439_motor1.log\n",
      "SCANPHYSLOG20200210090629_rest1.log\n",
      "SCANPHYSLOG20200210085925.log\n",
      "SCANPHYSLOG20200210085911.log\n",
      "SCANPHYSLOG20200210085612.log\n",
      "SCANPHYSLOG20200210085551.log\n",
      "sub-022\n",
      "SCANPHYSLOG20200210114009_emotion2.log\n",
      "SCANPHYSLOG20200210113155_motor2.log\n",
      "SCANPHYSLOG20200210112346_rest2.log\n",
      "SCANPHYSLOG20200210111334_emotion1.log\n",
      "SCANPHYSLOG20200210110501_motor1.log\n",
      "SCANPHYSLOG20200210105701_rest1.log\n",
      "SCANPHYSLOG20200210104850.log\n",
      "SCANPHYSLOG20200210104838.log\n",
      "SCANPHYSLOG20200210104601.log\n",
      "SCANPHYSLOG20200210104540.log\n",
      "sub-023\n",
      "SCANPHYSLOG20200210155308_emotion2.log\n",
      "SCANPHYSLOG20200210154406_motor2.log\n",
      "SCANPHYSLOG20200210153547_rest2.log\n",
      "SCANPHYSLOG20200210152712_emotion1.log\n",
      "SCANPHYSLOG20200210151656_motor1.log\n",
      "SCANPHYSLOG20200210150847_rest1.log\n",
      "SCANPHYSLOG20200210145943.log\n",
      "SCANPHYSLOG20200210145931.log\n",
      "SCANPHYSLOG20200210145632.log\n",
      "SCANPHYSLOG20200210145611.log\n",
      "sub-024\n",
      "SCANPHYSLOG20200212101147_emotion2.log\n",
      "SCANPHYSLOG20200212100339_motor2.log\n",
      "SCANPHYSLOG20200212095531_rest2.log\n",
      "SCANPHYSLOG20200212094554_emotion1.log\n",
      "SCANPHYSLOG20200212093734_motor1.log\n",
      "SCANPHYSLOG20200212092945_rest1.log\n",
      "SCANPHYSLOG20200212092105.log\n",
      "SCANPHYSLOG20200212092052.log\n",
      "SCANPHYSLOG20200212091809.log\n",
      "SCANPHYSLOG20200212091748.log\n",
      "sub-025\n",
      "ERROR: there are 11 files. Not renaming files\n",
      "sub-026\n",
      "SCANPHYSLOG20200217114139_emotion2.log\n",
      "SCANPHYSLOG20200217113333_motor2.log\n",
      "SCANPHYSLOG20200217112536_rest2.log\n",
      "SCANPHYSLOG20200217111713_emotion1.log\n",
      "SCANPHYSLOG20200217110825_motor1.log\n",
      "SCANPHYSLOG20200217110018_rest1.log\n",
      "SCANPHYSLOG20200217105148.log\n",
      "SCANPHYSLOG20200217105136.log\n",
      "SCANPHYSLOG20200217104858.log\n",
      "SCANPHYSLOG20200217104837.log\n",
      "sub-027\n",
      "SCANPHYSLOG20200217140703_emotion2.log\n",
      "SCANPHYSLOG20200217135837_motor2.log\n",
      "SCANPHYSLOG20200217135015_rest2.log\n",
      "SCANPHYSLOG20200217134120_emotion1.log\n",
      "SCANPHYSLOG20200217133244_motor1.log\n",
      "SCANPHYSLOG20200217132438_rest1.log\n",
      "SCANPHYSLOG20200217131548.log\n",
      "SCANPHYSLOG20200217131536.log\n",
      "SCANPHYSLOG20200217131234.log\n",
      "SCANPHYSLOG20200217131216.log\n",
      "sub-029\n",
      "SCANPHYSLOG20200220100958_emotion2.log\n",
      "SCANPHYSLOG20200220100043_motor2.log\n",
      "SCANPHYSLOG20200220095203_rest2.log\n",
      "SCANPHYSLOG20200220094110_emotion1.log\n",
      "SCANPHYSLOG20200220093029_motor1.log\n",
      "SCANPHYSLOG20200220092237_rest1.log\n",
      "SCANPHYSLOG20200220091421.log\n",
      "SCANPHYSLOG20200220091409.log\n",
      "SCANPHYSLOG20200220091046.log\n",
      "SCANPHYSLOG20200220091020.log\n",
      "sub-030\n",
      "SCANPHYSLOG20200220113647_emotion2.log\n",
      "SCANPHYSLOG20200220112832_motor2.log\n",
      "SCANPHYSLOG20200220112012_rest2.log\n",
      "SCANPHYSLOG20200220111131_emotion1.log\n",
      "SCANPHYSLOG20200220110308_motor1.log\n",
      "SCANPHYSLOG20200220105458_rest1.log\n",
      "SCANPHYSLOG20200220104542.log\n",
      "SCANPHYSLOG20200220104529.log\n",
      "SCANPHYSLOG20200220104200.log\n",
      "SCANPHYSLOG20200220104139.log\n",
      "sub-031\n",
      "SCANPHYSLOG20200220141224_emotion2.log\n",
      "SCANPHYSLOG20200220140425_motor2.log\n",
      "SCANPHYSLOG20200220135621_rest2.log\n",
      "SCANPHYSLOG20200220134753_emotion1.log\n",
      "SCANPHYSLOG20200220133912_motor1.log\n",
      "SCANPHYSLOG20200220133104_rest1.log\n",
      "SCANPHYSLOG20200220132356.log\n",
      "SCANPHYSLOG20200220132344.log\n",
      "SCANPHYSLOG20200220132104.log\n",
      "SCANPHYSLOG20200220132044.log\n",
      "sub-032\n",
      "SCANPHYSLOG20200220155055_emotion2.log\n",
      "SCANPHYSLOG20200220154251_motor2.log\n",
      "SCANPHYSLOG20200220153451_rest2.log\n",
      "SCANPHYSLOG20200220152611_emotion1.log\n",
      "SCANPHYSLOG20200220151755_motor1.log\n",
      "SCANPHYSLOG20200220150948_rest1.log\n",
      "SCANPHYSLOG20200220150025.log\n",
      "SCANPHYSLOG20200220150013.log\n",
      "SCANPHYSLOG20200220145721.log\n",
      "SCANPHYSLOG20200220145700.log\n"
     ]
    }
   ],
   "source": [
    "# Typically 10 files in each subject's 'scanphyslog' directory. If not, throw error.\n",
    "scan_names = ['_emotion2', '_motor2', '_rest2', '_emotion1', '_motor1', '_rest1']\n",
    "all_subs = next(os.walk(new_org_data_dir))[1]\n",
    "\n",
    "print(all_subs)\n",
    "\n",
    "for sub in all_subs:\n",
    "    print(sub)\n",
    "    os.chdir(new_org_data_dir + sub + '/scanphyslog')\n",
    "    files = glob.glob('*')\n",
    "    files.sort(key=os.path.getmtime, reverse=True)\n",
    "    if len(files) != 10:\n",
    "        print('ERROR: there are {} files. Not renaming files'.format(len(files)))\n",
    "    else:\n",
    "        for i, file in enumerate(files):\n",
    "            if i < 6:\n",
    "                new_file = os.path.splitext(file)[0] + scan_names[i] + os.path.splitext(file)[1]\n",
    "                print(new_file)\n",
    "                os.rename(file, new_file)\n",
    "            else:\n",
    "                print(file)"
   ]
  },
  {
   "cell_type": "markdown",
   "metadata": {},
   "source": [
    "## Step 3.1: Convert image data to BIDS\n",
    "\n",
    "Using `bidsify`\n",
    "\n",
    "See `me_workflow.ipynb`\n"
   ]
  },
  {
   "cell_type": "code",
   "execution_count": 8,
   "metadata": {},
   "outputs": [
    {
     "name": "stdout",
     "output_type": "stream",
     "text": [
      "Setting output-dir to /Volumes/Stephan_WD/NEUFEPME_data_organised/bids\n",
      "Running bidsify with the following arguments:\n",
      "\t directory=/Volumes/Stephan_WD/NEUFEPME_data_organised/new \n",
      "\t config=/Volumes/Stephan_WD/NEUFEPME_data_organised/new/config.yml \n",
      "\t out_dir=/Volumes/Stephan_WD/NEUFEPME_data_organised/bids \n",
      "\t validate=True\n",
      "\n",
      "200303-10:25:11,429 nipype.utils INFO:\n",
      "\t Running nipype version 1.2.3 (latest: 1.4.2)\n",
      "/Users/jheunis/miniconda3/envs/rtme-fmri/lib/python3.7/site-packages/bidsify/main.py:173: UserWarning: The program 'bids-validator' was not found on your computer;\n",
      "        setting the validate option to False\n",
      "  warnings.warn(msg)\n",
      "Converting data from sub-021 ...\n",
      "WARNING: file NEUFEP-ME-021^NEUFEP-ME-021_NEUFEP-ME-emotion1_SENSE_5_1.PAR seems to be a multiecho file - this feature is experimental!\n",
      "Compression will be faster with 'pigz' installed http://macappstore.org/pigz/\n",
      "Chris Rorden's dcm2niiX version v1.0.20190410  Clang9.0.0 (64-bit MacOS)\n",
      "Warning: dcm2niix PAR is not actively supported (hint: use dicm2nii)\n",
      "Warning: Reported TR=2002.7ms, measured TR=2002.68ms (prospect. motion corr.?)\n",
      "Warning: PAR file volumes not saved in ascending temporal order (please check re-ordering)\n",
      "Warning: Distance between slices reported by slice gap+thick does not match estimate from slice positions (issue 273).\n",
      "Done reading PAR header version 4.2, with 21420 slices\n",
      "Warning: Multiple Echo (3) or Cardiac (1). Carefully inspect output\n",
      "Philips Scaling Values RS:RI:SS = 0.75775:0:0.00198914 (see PMC3998685)\n",
      "Convert 1 DICOM as /Volumes/Stephan_WD/NEUFEPME_data_organised/bids/sub-021/NEUFEP-ME-021_NEUFEP-ME-021_NEUFEP-ME-emotion1_SENSE_5_1_echo-1 (64x64x34x210)\n",
      "Philips Scaling Values RS:RI:SS = 0.75775:0:0.00198914 (see PMC3998685)\n",
      "Convert 1 DICOM as /Volumes/Stephan_WD/NEUFEPME_data_organised/bids/sub-021/NEUFEP-ME-021_NEUFEP-ME-021_NEUFEP-ME-emotion1_SENSE_5_1_echo-2 (64x64x34x210)\n",
      "Philips Scaling Values RS:RI:SS = 0.75775:0:0.00198914 (see PMC3998685)\n",
      "Convert 1 DICOM as /Volumes/Stephan_WD/NEUFEPME_data_organised/bids/sub-021/NEUFEP-ME-021_NEUFEP-ME-021_NEUFEP-ME-emotion1_SENSE_5_1_echo-3 (64x64x34x210)\n",
      "Conversion required 5.699795 seconds (2.207165 for core code).\n",
      "WARNING: file NEUFEP-ME-021^NEUFEP-ME-021_NEUFEP-ME-emotion2_SENSE_8_1.PAR seems to be a multiecho file - this feature is experimental!\n",
      "Compression will be faster with 'pigz' installed http://macappstore.org/pigz/\n",
      "Chris Rorden's dcm2niiX version v1.0.20190410  Clang9.0.0 (64-bit MacOS)\n",
      "Warning: dcm2niix PAR is not actively supported (hint: use dicm2nii)\n",
      "Warning: Reported TR=2002.7ms, measured TR=2002.68ms (prospect. motion corr.?)\n",
      "Warning: PAR file volumes not saved in ascending temporal order (please check re-ordering)\n",
      "Warning: Distance between slices reported by slice gap+thick does not match estimate from slice positions (issue 273).\n",
      "Done reading PAR header version 4.2, with 21420 slices\n",
      "Warning: Multiple Echo (3) or Cardiac (1). Carefully inspect output\n",
      "Philips Scaling Values RS:RI:SS = 0.78315:0:0.00191139 (see PMC3998685)\n",
      "Convert 1 DICOM as /Volumes/Stephan_WD/NEUFEPME_data_organised/bids/sub-021/NEUFEP-ME-021_NEUFEP-ME-021_NEUFEP-ME-emotion2_SENSE_8_1_echo-1 (64x64x34x210)\n",
      "Philips Scaling Values RS:RI:SS = 0.78315:0:0.00191139 (see PMC3998685)\n",
      "Convert 1 DICOM as /Volumes/Stephan_WD/NEUFEPME_data_organised/bids/sub-021/NEUFEP-ME-021_NEUFEP-ME-021_NEUFEP-ME-emotion2_SENSE_8_1_echo-2 (64x64x34x210)\n",
      "Philips Scaling Values RS:RI:SS = 0.78315:0:0.00191139 (see PMC3998685)\n",
      "Convert 1 DICOM as /Volumes/Stephan_WD/NEUFEPME_data_organised/bids/sub-021/NEUFEP-ME-021_NEUFEP-ME-021_NEUFEP-ME-emotion2_SENSE_8_1_echo-3 (64x64x34x210)\n",
      "Conversion required 5.858071 seconds (2.324288 for core code).\n",
      "WARNING: file NEUFEP-ME-021^NEUFEP-ME-021_NEUFEP-ME-motor1_SENSE_4_1.PAR seems to be a multiecho file - this feature is experimental!\n",
      "Compression will be faster with 'pigz' installed http://macappstore.org/pigz/\n",
      "Chris Rorden's dcm2niiX version v1.0.20190410  Clang9.0.0 (64-bit MacOS)\n",
      "Warning: dcm2niix PAR is not actively supported (hint: use dicm2nii)\n",
      "Warning: Reported TR=2002.7ms, measured TR=2002.68ms (prospect. motion corr.?)\n",
      "Warning: PAR file volumes not saved in ascending temporal order (please check re-ordering)\n",
      "Warning: Distance between slices reported by slice gap+thick does not match estimate from slice positions (issue 273).\n",
      "Done reading PAR header version 4.2, with 21420 slices\n",
      "Warning: Multiple Echo (3) or Cardiac (1). Carefully inspect output\n",
      "Philips Scaling Values RS:RI:SS = 0.74359:0:0.00198569 (see PMC3998685)\n",
      "Convert 1 DICOM as /Volumes/Stephan_WD/NEUFEPME_data_organised/bids/sub-021/NEUFEP-ME-021_NEUFEP-ME-021_NEUFEP-ME-motor1_SENSE_4_1_echo-1 (64x64x34x210)\n",
      "Philips Scaling Values RS:RI:SS = 0.74359:0:0.00198569 (see PMC3998685)\n",
      "Convert 1 DICOM as /Volumes/Stephan_WD/NEUFEPME_data_organised/bids/sub-021/NEUFEP-ME-021_NEUFEP-ME-021_NEUFEP-ME-motor1_SENSE_4_1_echo-2 (64x64x34x210)\n",
      "Philips Scaling Values RS:RI:SS = 0.74359:0:0.00198569 (see PMC3998685)\n",
      "Convert 1 DICOM as /Volumes/Stephan_WD/NEUFEPME_data_organised/bids/sub-021/NEUFEP-ME-021_NEUFEP-ME-021_NEUFEP-ME-motor1_SENSE_4_1_echo-3 (64x64x34x210)\n",
      "Conversion required 9.124118 seconds (2.941403 for core code).\n",
      "WARNING: file NEUFEP-ME-021^NEUFEP-ME-021_NEUFEP-ME-motor2_SENSE_7_1.PAR seems to be a multiecho file - this feature is experimental!\n",
      "Compression will be faster with 'pigz' installed http://macappstore.org/pigz/\n",
      "Chris Rorden's dcm2niiX version v1.0.20190410  Clang9.0.0 (64-bit MacOS)\n",
      "Warning: dcm2niix PAR is not actively supported (hint: use dicm2nii)\n",
      "Warning: Reported TR=2002.7ms, measured TR=2002.68ms (prospect. motion corr.?)\n",
      "Warning: PAR file volumes not saved in ascending temporal order (please check re-ordering)\n",
      "Warning: Distance between slices reported by slice gap+thick does not match estimate from slice positions (issue 273).\n",
      "Done reading PAR header version 4.2, with 21420 slices\n",
      "Warning: Multiple Echo (3) or Cardiac (1). Carefully inspect output\n",
      "Philips Scaling Values RS:RI:SS = 0.74212:0:0.00200387 (see PMC3998685)\n",
      "Convert 1 DICOM as /Volumes/Stephan_WD/NEUFEPME_data_organised/bids/sub-021/NEUFEP-ME-021_NEUFEP-ME-021_NEUFEP-ME-motor2_SENSE_7_1_echo-1 (64x64x34x210)\n",
      "Philips Scaling Values RS:RI:SS = 0.74212:0:0.00200387 (see PMC3998685)\n",
      "Convert 1 DICOM as /Volumes/Stephan_WD/NEUFEPME_data_organised/bids/sub-021/NEUFEP-ME-021_NEUFEP-ME-021_NEUFEP-ME-motor2_SENSE_7_1_echo-2 (64x64x34x210)\n",
      "Philips Scaling Values RS:RI:SS = 0.74212:0:0.00200387 (see PMC3998685)\n",
      "Convert 1 DICOM as /Volumes/Stephan_WD/NEUFEPME_data_organised/bids/sub-021/NEUFEP-ME-021_NEUFEP-ME-021_NEUFEP-ME-motor2_SENSE_7_1_echo-3 (64x64x34x210)\n",
      "Conversion required 6.289861 seconds (2.618430 for core code).\n",
      "WARNING: file NEUFEP-ME-021^NEUFEP-ME-021_NEUFEP-ME-rest1_SENSE_3_1.PAR seems to be a multiecho file - this feature is experimental!\n",
      "Compression will be faster with 'pigz' installed http://macappstore.org/pigz/\n",
      "Chris Rorden's dcm2niiX version v1.0.20190410  Clang9.0.0 (64-bit MacOS)\n",
      "Warning: dcm2niix PAR is not actively supported (hint: use dicm2nii)\n",
      "Warning: Reported TR=2002.7ms, measured TR=2002.68ms (prospect. motion corr.?)\n",
      "Warning: PAR file volumes not saved in ascending temporal order (please check re-ordering)\n",
      "Warning: Distance between slices reported by slice gap+thick does not match estimate from slice positions (issue 273).\n",
      "Done reading PAR header version 4.2, with 21420 slices\n",
      "Warning: Multiple Echo (3) or Cardiac (1). Carefully inspect output\n",
      "Philips Scaling Values RS:RI:SS = 0.74066:0:0.00204851 (see PMC3998685)\n",
      "Convert 1 DICOM as /Volumes/Stephan_WD/NEUFEPME_data_organised/bids/sub-021/NEUFEP-ME-021_NEUFEP-ME-021_NEUFEP-ME-rest1_SENSE_3_1_echo-1 (64x64x34x210)\n",
      "Philips Scaling Values RS:RI:SS = 0.74066:0:0.00204851 (see PMC3998685)\n",
      "Convert 1 DICOM as /Volumes/Stephan_WD/NEUFEPME_data_organised/bids/sub-021/NEUFEP-ME-021_NEUFEP-ME-021_NEUFEP-ME-rest1_SENSE_3_1_echo-2 (64x64x34x210)\n",
      "Philips Scaling Values RS:RI:SS = 0.74066:0:0.00204851 (see PMC3998685)\n",
      "Convert 1 DICOM as /Volumes/Stephan_WD/NEUFEPME_data_organised/bids/sub-021/NEUFEP-ME-021_NEUFEP-ME-021_NEUFEP-ME-rest1_SENSE_3_1_echo-3 (64x64x34x210)\n",
      "Conversion required 6.141251 seconds (2.428633 for core code).\n"
     ]
    },
    {
     "name": "stdout",
     "output_type": "stream",
     "text": [
      "WARNING: file NEUFEP-ME-021^NEUFEP-ME-021_NEUFEP-ME-rest2_SENSE_6_1.PAR seems to be a multiecho file - this feature is experimental!\n",
      "Compression will be faster with 'pigz' installed http://macappstore.org/pigz/\n",
      "Chris Rorden's dcm2niiX version v1.0.20190410  Clang9.0.0 (64-bit MacOS)\n",
      "Warning: dcm2niix PAR is not actively supported (hint: use dicm2nii)\n",
      "Warning: Reported TR=2002.7ms, measured TR=2002.68ms (prospect. motion corr.?)\n",
      "Warning: PAR file volumes not saved in ascending temporal order (please check re-ordering)\n",
      "Warning: Distance between slices reported by slice gap+thick does not match estimate from slice positions (issue 273).\n",
      "Done reading PAR header version 4.2, with 21420 slices\n",
      "Warning: Multiple Echo (3) or Cardiac (1). Carefully inspect output\n",
      "Philips Scaling Values RS:RI:SS = 0.79219:0:0.00191241 (see PMC3998685)\n",
      "Convert 1 DICOM as /Volumes/Stephan_WD/NEUFEPME_data_organised/bids/sub-021/NEUFEP-ME-021_NEUFEP-ME-021_NEUFEP-ME-rest2_SENSE_6_1_echo-1 (64x64x34x210)\n",
      "Philips Scaling Values RS:RI:SS = 0.79219:0:0.00191241 (see PMC3998685)\n",
      "Convert 1 DICOM as /Volumes/Stephan_WD/NEUFEPME_data_organised/bids/sub-021/NEUFEP-ME-021_NEUFEP-ME-021_NEUFEP-ME-rest2_SENSE_6_1_echo-2 (64x64x34x210)\n",
      "Philips Scaling Values RS:RI:SS = 0.79219:0:0.00191241 (see PMC3998685)\n",
      "Convert 1 DICOM as /Volumes/Stephan_WD/NEUFEPME_data_organised/bids/sub-021/NEUFEP-ME-021_NEUFEP-ME-021_NEUFEP-ME-rest2_SENSE_6_1_echo-3 (64x64x34x210)\n",
      "Conversion required 5.546676 seconds (2.063248 for core code).\n",
      "Renaming '/Volumes/Stephan_WD/NEUFEPME_data_organised/bids/sub-021/NEUFEP-ME-021_NEUFEP-ME-021_NEUFEP-ME-rest1_SENSE_3_1_echo-1.json' to '/Volumes/Stephan_WD/NEUFEPME_data_organised/bids/sub-021/func/sub-021_task-rest_run-1_echo-1_bold.json'\n",
      "Renaming '/Volumes/Stephan_WD/NEUFEPME_data_organised/bids/sub-021/NEUFEP-ME-021_NEUFEP-ME-021_NEUFEP-ME-rest1_SENSE_3_1_echo-1.nii' to '/Volumes/Stephan_WD/NEUFEPME_data_organised/bids/sub-021/func/sub-021_task-rest_run-1_echo-1_bold.nii'\n",
      "Renaming '/Volumes/Stephan_WD/NEUFEPME_data_organised/bids/sub-021/NEUFEP-ME-021_NEUFEP-ME-021_NEUFEP-ME-rest1_SENSE_3_1_echo-2.json' to '/Volumes/Stephan_WD/NEUFEPME_data_organised/bids/sub-021/func/sub-021_task-rest_run-1_echo-2_bold.json'\n",
      "Renaming '/Volumes/Stephan_WD/NEUFEPME_data_organised/bids/sub-021/NEUFEP-ME-021_NEUFEP-ME-021_NEUFEP-ME-rest1_SENSE_3_1_echo-2.nii' to '/Volumes/Stephan_WD/NEUFEPME_data_organised/bids/sub-021/func/sub-021_task-rest_run-1_echo-2_bold.nii'\n",
      "Renaming '/Volumes/Stephan_WD/NEUFEPME_data_organised/bids/sub-021/NEUFEP-ME-021_NEUFEP-ME-021_NEUFEP-ME-rest1_SENSE_3_1_echo-3.json' to '/Volumes/Stephan_WD/NEUFEPME_data_organised/bids/sub-021/func/sub-021_task-rest_run-1_echo-3_bold.json'\n",
      "Renaming '/Volumes/Stephan_WD/NEUFEPME_data_organised/bids/sub-021/NEUFEP-ME-021_NEUFEP-ME-021_NEUFEP-ME-rest1_SENSE_3_1_echo-3.nii' to '/Volumes/Stephan_WD/NEUFEPME_data_organised/bids/sub-021/func/sub-021_task-rest_run-1_echo-3_bold.nii'\n",
      "Renaming '/Volumes/Stephan_WD/NEUFEPME_data_organised/bids/sub-021/NEUFEP-ME-021_NEUFEP-ME-021_NEUFEP-ME-rest2_SENSE_6_1_echo-1.json' to '/Volumes/Stephan_WD/NEUFEPME_data_organised/bids/sub-021/func/sub-021_task-rest_run-2_echo-1_bold.json'\n",
      "Renaming '/Volumes/Stephan_WD/NEUFEPME_data_organised/bids/sub-021/NEUFEP-ME-021_NEUFEP-ME-021_NEUFEP-ME-rest2_SENSE_6_1_echo-1.nii' to '/Volumes/Stephan_WD/NEUFEPME_data_organised/bids/sub-021/func/sub-021_task-rest_run-2_echo-1_bold.nii'\n",
      "Renaming '/Volumes/Stephan_WD/NEUFEPME_data_organised/bids/sub-021/NEUFEP-ME-021_NEUFEP-ME-021_NEUFEP-ME-rest2_SENSE_6_1_echo-2.json' to '/Volumes/Stephan_WD/NEUFEPME_data_organised/bids/sub-021/func/sub-021_task-rest_run-2_echo-2_bold.json'\n",
      "Renaming '/Volumes/Stephan_WD/NEUFEPME_data_organised/bids/sub-021/NEUFEP-ME-021_NEUFEP-ME-021_NEUFEP-ME-rest2_SENSE_6_1_echo-2.nii' to '/Volumes/Stephan_WD/NEUFEPME_data_organised/bids/sub-021/func/sub-021_task-rest_run-2_echo-2_bold.nii'\n",
      "Renaming '/Volumes/Stephan_WD/NEUFEPME_data_organised/bids/sub-021/NEUFEP-ME-021_NEUFEP-ME-021_NEUFEP-ME-rest2_SENSE_6_1_echo-3.json' to '/Volumes/Stephan_WD/NEUFEPME_data_organised/bids/sub-021/func/sub-021_task-rest_run-2_echo-3_bold.json'\n",
      "Renaming '/Volumes/Stephan_WD/NEUFEPME_data_organised/bids/sub-021/NEUFEP-ME-021_NEUFEP-ME-021_NEUFEP-ME-rest2_SENSE_6_1_echo-3.nii' to '/Volumes/Stephan_WD/NEUFEPME_data_organised/bids/sub-021/func/sub-021_task-rest_run-2_echo-3_bold.nii'\n",
      "Renaming '/Volumes/Stephan_WD/NEUFEPME_data_organised/bids/sub-021/NEUFEP-ME-021_NEUFEP-ME-021_NEUFEP-ME-motor1_SENSE_4_1_echo-1.json' to '/Volumes/Stephan_WD/NEUFEPME_data_organised/bids/sub-021/func/sub-021_task-motor_run-1_echo-1_bold.json'\n",
      "Renaming '/Volumes/Stephan_WD/NEUFEPME_data_organised/bids/sub-021/NEUFEP-ME-021_NEUFEP-ME-021_NEUFEP-ME-motor1_SENSE_4_1_echo-1.nii' to '/Volumes/Stephan_WD/NEUFEPME_data_organised/bids/sub-021/func/sub-021_task-motor_run-1_echo-1_bold.nii'\n",
      "Renaming '/Volumes/Stephan_WD/NEUFEPME_data_organised/bids/sub-021/NEUFEP-ME-021_NEUFEP-ME-021_NEUFEP-ME-motor1_SENSE_4_1_echo-2.json' to '/Volumes/Stephan_WD/NEUFEPME_data_organised/bids/sub-021/func/sub-021_task-motor_run-1_echo-2_bold.json'\n",
      "Renaming '/Volumes/Stephan_WD/NEUFEPME_data_organised/bids/sub-021/NEUFEP-ME-021_NEUFEP-ME-021_NEUFEP-ME-motor1_SENSE_4_1_echo-2.nii' to '/Volumes/Stephan_WD/NEUFEPME_data_organised/bids/sub-021/func/sub-021_task-motor_run-1_echo-2_bold.nii'\n",
      "Renaming '/Volumes/Stephan_WD/NEUFEPME_data_organised/bids/sub-021/NEUFEP-ME-021_NEUFEP-ME-021_NEUFEP-ME-motor1_SENSE_4_1_echo-3.json' to '/Volumes/Stephan_WD/NEUFEPME_data_organised/bids/sub-021/func/sub-021_task-motor_run-1_echo-3_bold.json'\n",
      "Renaming '/Volumes/Stephan_WD/NEUFEPME_data_organised/bids/sub-021/NEUFEP-ME-021_NEUFEP-ME-021_NEUFEP-ME-motor1_SENSE_4_1_echo-3.nii' to '/Volumes/Stephan_WD/NEUFEPME_data_organised/bids/sub-021/func/sub-021_task-motor_run-1_echo-3_bold.nii'\n",
      "Renaming '/Volumes/Stephan_WD/NEUFEPME_data_organised/bids/sub-021/NEUFEP-ME-021_NEUFEP-ME-021_NEUFEP-ME-motor2_SENSE_7_1_echo-1.json' to '/Volumes/Stephan_WD/NEUFEPME_data_organised/bids/sub-021/func/sub-021_task-motor_run-2_echo-1_bold.json'\n",
      "Renaming '/Volumes/Stephan_WD/NEUFEPME_data_organised/bids/sub-021/NEUFEP-ME-021_NEUFEP-ME-021_NEUFEP-ME-motor2_SENSE_7_1_echo-1.nii' to '/Volumes/Stephan_WD/NEUFEPME_data_organised/bids/sub-021/func/sub-021_task-motor_run-2_echo-1_bold.nii'\n",
      "Renaming '/Volumes/Stephan_WD/NEUFEPME_data_organised/bids/sub-021/NEUFEP-ME-021_NEUFEP-ME-021_NEUFEP-ME-motor2_SENSE_7_1_echo-2.json' to '/Volumes/Stephan_WD/NEUFEPME_data_organised/bids/sub-021/func/sub-021_task-motor_run-2_echo-2_bold.json'\n",
      "Renaming '/Volumes/Stephan_WD/NEUFEPME_data_organised/bids/sub-021/NEUFEP-ME-021_NEUFEP-ME-021_NEUFEP-ME-motor2_SENSE_7_1_echo-2.nii' to '/Volumes/Stephan_WD/NEUFEPME_data_organised/bids/sub-021/func/sub-021_task-motor_run-2_echo-2_bold.nii'\n",
      "Renaming '/Volumes/Stephan_WD/NEUFEPME_data_organised/bids/sub-021/NEUFEP-ME-021_NEUFEP-ME-021_NEUFEP-ME-motor2_SENSE_7_1_echo-3.json' to '/Volumes/Stephan_WD/NEUFEPME_data_organised/bids/sub-021/func/sub-021_task-motor_run-2_echo-3_bold.json'\n",
      "Renaming '/Volumes/Stephan_WD/NEUFEPME_data_organised/bids/sub-021/NEUFEP-ME-021_NEUFEP-ME-021_NEUFEP-ME-motor2_SENSE_7_1_echo-3.nii' to '/Volumes/Stephan_WD/NEUFEPME_data_organised/bids/sub-021/func/sub-021_task-motor_run-2_echo-3_bold.nii'\n",
      "Renaming '/Volumes/Stephan_WD/NEUFEPME_data_organised/bids/sub-021/NEUFEP-ME-021_NEUFEP-ME-021_NEUFEP-ME-emotion1_SENSE_5_1_echo-1.json' to '/Volumes/Stephan_WD/NEUFEPME_data_organised/bids/sub-021/func/sub-021_task-emotion_run-1_echo-1_bold.json'\n",
      "Renaming '/Volumes/Stephan_WD/NEUFEPME_data_organised/bids/sub-021/NEUFEP-ME-021_NEUFEP-ME-021_NEUFEP-ME-emotion1_SENSE_5_1_echo-1.nii' to '/Volumes/Stephan_WD/NEUFEPME_data_organised/bids/sub-021/func/sub-021_task-emotion_run-1_echo-1_bold.nii'\n",
      "Renaming '/Volumes/Stephan_WD/NEUFEPME_data_organised/bids/sub-021/NEUFEP-ME-021_NEUFEP-ME-021_NEUFEP-ME-emotion1_SENSE_5_1_echo-2.json' to '/Volumes/Stephan_WD/NEUFEPME_data_organised/bids/sub-021/func/sub-021_task-emotion_run-1_echo-2_bold.json'\n",
      "Renaming '/Volumes/Stephan_WD/NEUFEPME_data_organised/bids/sub-021/NEUFEP-ME-021_NEUFEP-ME-021_NEUFEP-ME-emotion1_SENSE_5_1_echo-2.nii' to '/Volumes/Stephan_WD/NEUFEPME_data_organised/bids/sub-021/func/sub-021_task-emotion_run-1_echo-2_bold.nii'\n",
      "Renaming '/Volumes/Stephan_WD/NEUFEPME_data_organised/bids/sub-021/NEUFEP-ME-021_NEUFEP-ME-021_NEUFEP-ME-emotion1_SENSE_5_1_echo-3.json' to '/Volumes/Stephan_WD/NEUFEPME_data_organised/bids/sub-021/func/sub-021_task-emotion_run-1_echo-3_bold.json'\n",
      "Renaming '/Volumes/Stephan_WD/NEUFEPME_data_organised/bids/sub-021/NEUFEP-ME-021_NEUFEP-ME-021_NEUFEP-ME-emotion1_SENSE_5_1_echo-3.nii' to '/Volumes/Stephan_WD/NEUFEPME_data_organised/bids/sub-021/func/sub-021_task-emotion_run-1_echo-3_bold.nii'\n",
      "Renaming '/Volumes/Stephan_WD/NEUFEPME_data_organised/bids/sub-021/NEUFEP-ME-021_NEUFEP-ME-021_NEUFEP-ME-emotion2_SENSE_8_1_echo-1.json' to '/Volumes/Stephan_WD/NEUFEPME_data_organised/bids/sub-021/func/sub-021_task-emotion_run-2_echo-1_bold.json'\n",
      "Renaming '/Volumes/Stephan_WD/NEUFEPME_data_organised/bids/sub-021/NEUFEP-ME-021_NEUFEP-ME-021_NEUFEP-ME-emotion2_SENSE_8_1_echo-1.nii' to '/Volumes/Stephan_WD/NEUFEPME_data_organised/bids/sub-021/func/sub-021_task-emotion_run-2_echo-1_bold.nii'\n",
      "Renaming '/Volumes/Stephan_WD/NEUFEPME_data_organised/bids/sub-021/NEUFEP-ME-021_NEUFEP-ME-021_NEUFEP-ME-emotion2_SENSE_8_1_echo-2.json' to '/Volumes/Stephan_WD/NEUFEPME_data_organised/bids/sub-021/func/sub-021_task-emotion_run-2_echo-2_bold.json'\n",
      "Renaming '/Volumes/Stephan_WD/NEUFEPME_data_organised/bids/sub-021/NEUFEP-ME-021_NEUFEP-ME-021_NEUFEP-ME-emotion2_SENSE_8_1_echo-2.nii' to '/Volumes/Stephan_WD/NEUFEPME_data_organised/bids/sub-021/func/sub-021_task-emotion_run-2_echo-2_bold.nii'\n",
      "Renaming '/Volumes/Stephan_WD/NEUFEPME_data_organised/bids/sub-021/NEUFEP-ME-021_NEUFEP-ME-021_NEUFEP-ME-emotion2_SENSE_8_1_echo-3.json' to '/Volumes/Stephan_WD/NEUFEPME_data_organised/bids/sub-021/func/sub-021_task-emotion_run-2_echo-3_bold.json'\n",
      "Renaming '/Volumes/Stephan_WD/NEUFEPME_data_organised/bids/sub-021/NEUFEP-ME-021_NEUFEP-ME-021_NEUFEP-ME-emotion2_SENSE_8_1_echo-3.nii' to '/Volumes/Stephan_WD/NEUFEPME_data_organised/bids/sub-021/func/sub-021_task-emotion_run-2_echo-3_bold.nii'\n",
      "Renaming '/Volumes/Stephan_WD/NEUFEPME_data_organised/bids/sub-021/NEUFEP-ME-021^NEUFEP-ME-021_T1W_3D_TFE_2_1.nii' to '/Volumes/Stephan_WD/NEUFEPME_data_organised/bids/sub-021/anat/sub-021_T1w.nii'\n"
     ]
    },
    {
     "name": "stdout",
     "output_type": "stream",
     "text": [
      "Converting data from sub-022 ...\n",
      "WARNING: file NEUFEP-ME-022^NEUFEP-ME-022_NEUFEP-ME-emotion1_SENSE_5_1.PAR seems to be a multiecho file - this feature is experimental!\n",
      "Compression will be faster with 'pigz' installed http://macappstore.org/pigz/\n",
      "Chris Rorden's dcm2niiX version v1.0.20190410  Clang9.0.0 (64-bit MacOS)\n",
      "Warning: dcm2niix PAR is not actively supported (hint: use dicm2nii)\n",
      "Warning: Reported TR=2003.91ms, measured TR=2003.92ms (prospect. motion corr.?)\n",
      "Warning: PAR file volumes not saved in ascending temporal order (please check re-ordering)\n",
      "Done reading PAR header version 4.2, with 21420 slices\n",
      "Warning: Multiple Echo (3) or Cardiac (1). Carefully inspect output\n",
      "Philips Scaling Values RS:RI:SS = 0.7348:0:0.00196881 (see PMC3998685)\n",
      "Convert 1 DICOM as /Volumes/Stephan_WD/NEUFEPME_data_organised/bids/sub-022/NEUFEP-ME-022_NEUFEP-ME-022_NEUFEP-ME-emotion1_SENSE_5_1_echo-1 (64x64x34x210)\n",
      "Philips Scaling Values RS:RI:SS = 0.7348:0:0.00196881 (see PMC3998685)\n",
      "Convert 1 DICOM as /Volumes/Stephan_WD/NEUFEPME_data_organised/bids/sub-022/NEUFEP-ME-022_NEUFEP-ME-022_NEUFEP-ME-emotion1_SENSE_5_1_echo-2 (64x64x34x210)\n",
      "Philips Scaling Values RS:RI:SS = 0.7348:0:0.00196881 (see PMC3998685)\n",
      "Convert 1 DICOM as /Volumes/Stephan_WD/NEUFEPME_data_organised/bids/sub-022/NEUFEP-ME-022_NEUFEP-ME-022_NEUFEP-ME-emotion1_SENSE_5_1_echo-3 (64x64x34x210)\n",
      "Conversion required 5.762092 seconds (2.154735 for core code).\n",
      "WARNING: file NEUFEP-ME-022^NEUFEP-ME-022_NEUFEP-ME-emotion2_SENSE_8_1.PAR seems to be a multiecho file - this feature is experimental!\n",
      "Compression will be faster with 'pigz' installed http://macappstore.org/pigz/\n",
      "Chris Rorden's dcm2niiX version v1.0.20190410  Clang9.0.0 (64-bit MacOS)\n",
      "Warning: dcm2niix PAR is not actively supported (hint: use dicm2nii)\n",
      "Warning: Reported TR=2003.91ms, measured TR=2003.92ms (prospect. motion corr.?)\n",
      "Warning: PAR file volumes not saved in ascending temporal order (please check re-ordering)\n",
      "Done reading PAR header version 4.2, with 21420 slices\n",
      "Warning: Multiple Echo (3) or Cardiac (1). Carefully inspect output\n",
      "Philips Scaling Values RS:RI:SS = 0.75165:0:0.00206193 (see PMC3998685)\n",
      "Convert 1 DICOM as /Volumes/Stephan_WD/NEUFEPME_data_organised/bids/sub-022/NEUFEP-ME-022_NEUFEP-ME-022_NEUFEP-ME-emotion2_SENSE_8_1_echo-1 (64x64x34x210)\n",
      "Philips Scaling Values RS:RI:SS = 0.75165:0:0.00206193 (see PMC3998685)\n",
      "Convert 1 DICOM as /Volumes/Stephan_WD/NEUFEPME_data_organised/bids/sub-022/NEUFEP-ME-022_NEUFEP-ME-022_NEUFEP-ME-emotion2_SENSE_8_1_echo-2 (64x64x34x210)\n",
      "Philips Scaling Values RS:RI:SS = 0.75165:0:0.00206193 (see PMC3998685)\n",
      "Convert 1 DICOM as /Volumes/Stephan_WD/NEUFEPME_data_organised/bids/sub-022/NEUFEP-ME-022_NEUFEP-ME-022_NEUFEP-ME-emotion2_SENSE_8_1_echo-3 (64x64x34x210)\n",
      "Conversion required 5.402614 seconds (1.979284 for core code).\n",
      "WARNING: file NEUFEP-ME-022^NEUFEP-ME-022_NEUFEP-ME-motor1_SENSE_4_1.PAR seems to be a multiecho file - this feature is experimental!\n",
      "Compression will be faster with 'pigz' installed http://macappstore.org/pigz/\n",
      "Chris Rorden's dcm2niiX version v1.0.20190410  Clang9.0.0 (64-bit MacOS)\n",
      "Warning: dcm2niix PAR is not actively supported (hint: use dicm2nii)\n",
      "Warning: Reported TR=2003.91ms, measured TR=2003.92ms (prospect. motion corr.?)\n",
      "Warning: PAR file volumes not saved in ascending temporal order (please check re-ordering)\n",
      "Done reading PAR header version 4.2, with 21420 slices\n",
      "Warning: Multiple Echo (3) or Cardiac (1). Carefully inspect output\n",
      "Philips Scaling Values RS:RI:SS = 0.75482:0:0.00194255 (see PMC3998685)\n",
      "Convert 1 DICOM as /Volumes/Stephan_WD/NEUFEPME_data_organised/bids/sub-022/NEUFEP-ME-022_NEUFEP-ME-022_NEUFEP-ME-motor1_SENSE_4_1_echo-1 (64x64x34x210)\n",
      "Philips Scaling Values RS:RI:SS = 0.75482:0:0.00194255 (see PMC3998685)\n",
      "Convert 1 DICOM as /Volumes/Stephan_WD/NEUFEPME_data_organised/bids/sub-022/NEUFEP-ME-022_NEUFEP-ME-022_NEUFEP-ME-motor1_SENSE_4_1_echo-2 (64x64x34x210)\n",
      "Philips Scaling Values RS:RI:SS = 0.75482:0:0.00194255 (see PMC3998685)\n",
      "Convert 1 DICOM as /Volumes/Stephan_WD/NEUFEPME_data_organised/bids/sub-022/NEUFEP-ME-022_NEUFEP-ME-022_NEUFEP-ME-motor1_SENSE_4_1_echo-3 (64x64x34x210)\n",
      "Conversion required 5.926973 seconds (2.091810 for core code).\n",
      "WARNING: file NEUFEP-ME-022^NEUFEP-ME-022_NEUFEP-ME-motor2_SENSE_7_1.PAR seems to be a multiecho file - this feature is experimental!\n",
      "Compression will be faster with 'pigz' installed http://macappstore.org/pigz/\n",
      "Chris Rorden's dcm2niiX version v1.0.20190410  Clang9.0.0 (64-bit MacOS)\n",
      "Warning: dcm2niix PAR is not actively supported (hint: use dicm2nii)\n",
      "Warning: Reported TR=2003.91ms, measured TR=2003.92ms (prospect. motion corr.?)\n",
      "Warning: PAR file volumes not saved in ascending temporal order (please check re-ordering)\n",
      "Done reading PAR header version 4.2, with 21420 slices\n",
      "Warning: Multiple Echo (3) or Cardiac (1). Carefully inspect output\n",
      "Philips Scaling Values RS:RI:SS = 0.76313:0:0.00199115 (see PMC3998685)\n",
      "Convert 1 DICOM as /Volumes/Stephan_WD/NEUFEPME_data_organised/bids/sub-022/NEUFEP-ME-022_NEUFEP-ME-022_NEUFEP-ME-motor2_SENSE_7_1_echo-1 (64x64x34x210)\n",
      "Philips Scaling Values RS:RI:SS = 0.76313:0:0.00199115 (see PMC3998685)\n",
      "Convert 1 DICOM as /Volumes/Stephan_WD/NEUFEPME_data_organised/bids/sub-022/NEUFEP-ME-022_NEUFEP-ME-022_NEUFEP-ME-motor2_SENSE_7_1_echo-2 (64x64x34x210)\n",
      "Philips Scaling Values RS:RI:SS = 0.76313:0:0.00199115 (see PMC3998685)\n",
      "Convert 1 DICOM as /Volumes/Stephan_WD/NEUFEPME_data_organised/bids/sub-022/NEUFEP-ME-022_NEUFEP-ME-022_NEUFEP-ME-motor2_SENSE_7_1_echo-3 (64x64x34x210)\n",
      "Conversion required 5.543088 seconds (2.083961 for core code).\n",
      "WARNING: file NEUFEP-ME-022^NEUFEP-ME-022_NEUFEP-ME-rest1_SENSE_3_1.PAR seems to be a multiecho file - this feature is experimental!\n",
      "Compression will be faster with 'pigz' installed http://macappstore.org/pigz/\n",
      "Chris Rorden's dcm2niiX version v1.0.20190410  Clang9.0.0 (64-bit MacOS)\n",
      "Warning: dcm2niix PAR is not actively supported (hint: use dicm2nii)\n",
      "Warning: Reported TR=2003.91ms, measured TR=2003.92ms (prospect. motion corr.?)\n",
      "Warning: PAR file volumes not saved in ascending temporal order (please check re-ordering)\n",
      "Done reading PAR header version 4.2, with 21420 slices\n",
      "Warning: Multiple Echo (3) or Cardiac (1). Carefully inspect output\n",
      "Philips Scaling Values RS:RI:SS = 0.76313:0:0.0019531 (see PMC3998685)\n",
      "Convert 1 DICOM as /Volumes/Stephan_WD/NEUFEPME_data_organised/bids/sub-022/NEUFEP-ME-022_NEUFEP-ME-022_NEUFEP-ME-rest1_SENSE_3_1_echo-1 (64x64x34x210)\n",
      "Philips Scaling Values RS:RI:SS = 0.76313:0:0.0019531 (see PMC3998685)\n",
      "Convert 1 DICOM as /Volumes/Stephan_WD/NEUFEPME_data_organised/bids/sub-022/NEUFEP-ME-022_NEUFEP-ME-022_NEUFEP-ME-rest1_SENSE_3_1_echo-2 (64x64x34x210)\n",
      "Philips Scaling Values RS:RI:SS = 0.76313:0:0.0019531 (see PMC3998685)\n",
      "Convert 1 DICOM as /Volumes/Stephan_WD/NEUFEPME_data_organised/bids/sub-022/NEUFEP-ME-022_NEUFEP-ME-022_NEUFEP-ME-rest1_SENSE_3_1_echo-3 (64x64x34x210)\n",
      "Conversion required 5.872073 seconds (2.505119 for core code).\n",
      "WARNING: file NEUFEP-ME-022^NEUFEP-ME-022_NEUFEP-ME-rest2_SENSE_6_1.PAR seems to be a multiecho file - this feature is experimental!\n",
      "Compression will be faster with 'pigz' installed http://macappstore.org/pigz/\n",
      "Chris Rorden's dcm2niiX version v1.0.20190410  Clang9.0.0 (64-bit MacOS)\n",
      "Warning: dcm2niix PAR is not actively supported (hint: use dicm2nii)\n",
      "Warning: Reported TR=2003.91ms, measured TR=2003.92ms (prospect. motion corr.?)\n",
      "Warning: PAR file volumes not saved in ascending temporal order (please check re-ordering)\n",
      "Done reading PAR header version 4.2, with 21420 slices\n",
      "Warning: Multiple Echo (3) or Cardiac (1). Carefully inspect output\n",
      "Philips Scaling Values RS:RI:SS = 0.76777:0:0.00205435 (see PMC3998685)\n",
      "Convert 1 DICOM as /Volumes/Stephan_WD/NEUFEPME_data_organised/bids/sub-022/NEUFEP-ME-022_NEUFEP-ME-022_NEUFEP-ME-rest2_SENSE_6_1_echo-1 (64x64x34x210)\n",
      "Philips Scaling Values RS:RI:SS = 0.76777:0:0.00205435 (see PMC3998685)\n",
      "Convert 1 DICOM as /Volumes/Stephan_WD/NEUFEPME_data_organised/bids/sub-022/NEUFEP-ME-022_NEUFEP-ME-022_NEUFEP-ME-rest2_SENSE_6_1_echo-2 (64x64x34x210)\n",
      "Philips Scaling Values RS:RI:SS = 0.76777:0:0.00205435 (see PMC3998685)\n",
      "Convert 1 DICOM as /Volumes/Stephan_WD/NEUFEPME_data_organised/bids/sub-022/NEUFEP-ME-022_NEUFEP-ME-022_NEUFEP-ME-rest2_SENSE_6_1_echo-3 (64x64x34x210)\n"
     ]
    },
    {
     "name": "stdout",
     "output_type": "stream",
     "text": [
      "Conversion required 6.074872 seconds (2.245057 for core code).\n",
      "Renaming '/Volumes/Stephan_WD/NEUFEPME_data_organised/bids/sub-022/NEUFEP-ME-022_NEUFEP-ME-022_NEUFEP-ME-rest1_SENSE_3_1_echo-1.json' to '/Volumes/Stephan_WD/NEUFEPME_data_organised/bids/sub-022/func/sub-022_task-rest_run-1_echo-1_bold.json'\n",
      "Renaming '/Volumes/Stephan_WD/NEUFEPME_data_organised/bids/sub-022/NEUFEP-ME-022_NEUFEP-ME-022_NEUFEP-ME-rest1_SENSE_3_1_echo-1.nii' to '/Volumes/Stephan_WD/NEUFEPME_data_organised/bids/sub-022/func/sub-022_task-rest_run-1_echo-1_bold.nii'\n",
      "Renaming '/Volumes/Stephan_WD/NEUFEPME_data_organised/bids/sub-022/NEUFEP-ME-022_NEUFEP-ME-022_NEUFEP-ME-rest1_SENSE_3_1_echo-2.json' to '/Volumes/Stephan_WD/NEUFEPME_data_organised/bids/sub-022/func/sub-022_task-rest_run-1_echo-2_bold.json'\n",
      "Renaming '/Volumes/Stephan_WD/NEUFEPME_data_organised/bids/sub-022/NEUFEP-ME-022_NEUFEP-ME-022_NEUFEP-ME-rest1_SENSE_3_1_echo-2.nii' to '/Volumes/Stephan_WD/NEUFEPME_data_organised/bids/sub-022/func/sub-022_task-rest_run-1_echo-2_bold.nii'\n",
      "Renaming '/Volumes/Stephan_WD/NEUFEPME_data_organised/bids/sub-022/NEUFEP-ME-022_NEUFEP-ME-022_NEUFEP-ME-rest1_SENSE_3_1_echo-3.json' to '/Volumes/Stephan_WD/NEUFEPME_data_organised/bids/sub-022/func/sub-022_task-rest_run-1_echo-3_bold.json'\n",
      "Renaming '/Volumes/Stephan_WD/NEUFEPME_data_organised/bids/sub-022/NEUFEP-ME-022_NEUFEP-ME-022_NEUFEP-ME-rest1_SENSE_3_1_echo-3.nii' to '/Volumes/Stephan_WD/NEUFEPME_data_organised/bids/sub-022/func/sub-022_task-rest_run-1_echo-3_bold.nii'\n",
      "Renaming '/Volumes/Stephan_WD/NEUFEPME_data_organised/bids/sub-022/NEUFEP-ME-022_NEUFEP-ME-022_NEUFEP-ME-rest2_SENSE_6_1_echo-1.json' to '/Volumes/Stephan_WD/NEUFEPME_data_organised/bids/sub-022/func/sub-022_task-rest_run-2_echo-1_bold.json'\n",
      "Renaming '/Volumes/Stephan_WD/NEUFEPME_data_organised/bids/sub-022/NEUFEP-ME-022_NEUFEP-ME-022_NEUFEP-ME-rest2_SENSE_6_1_echo-1.nii' to '/Volumes/Stephan_WD/NEUFEPME_data_organised/bids/sub-022/func/sub-022_task-rest_run-2_echo-1_bold.nii'\n",
      "Renaming '/Volumes/Stephan_WD/NEUFEPME_data_organised/bids/sub-022/NEUFEP-ME-022_NEUFEP-ME-022_NEUFEP-ME-rest2_SENSE_6_1_echo-2.json' to '/Volumes/Stephan_WD/NEUFEPME_data_organised/bids/sub-022/func/sub-022_task-rest_run-2_echo-2_bold.json'\n",
      "Renaming '/Volumes/Stephan_WD/NEUFEPME_data_organised/bids/sub-022/NEUFEP-ME-022_NEUFEP-ME-022_NEUFEP-ME-rest2_SENSE_6_1_echo-2.nii' to '/Volumes/Stephan_WD/NEUFEPME_data_organised/bids/sub-022/func/sub-022_task-rest_run-2_echo-2_bold.nii'\n",
      "Renaming '/Volumes/Stephan_WD/NEUFEPME_data_organised/bids/sub-022/NEUFEP-ME-022_NEUFEP-ME-022_NEUFEP-ME-rest2_SENSE_6_1_echo-3.json' to '/Volumes/Stephan_WD/NEUFEPME_data_organised/bids/sub-022/func/sub-022_task-rest_run-2_echo-3_bold.json'\n",
      "Renaming '/Volumes/Stephan_WD/NEUFEPME_data_organised/bids/sub-022/NEUFEP-ME-022_NEUFEP-ME-022_NEUFEP-ME-rest2_SENSE_6_1_echo-3.nii' to '/Volumes/Stephan_WD/NEUFEPME_data_organised/bids/sub-022/func/sub-022_task-rest_run-2_echo-3_bold.nii'\n",
      "Renaming '/Volumes/Stephan_WD/NEUFEPME_data_organised/bids/sub-022/NEUFEP-ME-022_NEUFEP-ME-022_NEUFEP-ME-motor1_SENSE_4_1_echo-1.json' to '/Volumes/Stephan_WD/NEUFEPME_data_organised/bids/sub-022/func/sub-022_task-motor_run-1_echo-1_bold.json'\n",
      "Renaming '/Volumes/Stephan_WD/NEUFEPME_data_organised/bids/sub-022/NEUFEP-ME-022_NEUFEP-ME-022_NEUFEP-ME-motor1_SENSE_4_1_echo-1.nii' to '/Volumes/Stephan_WD/NEUFEPME_data_organised/bids/sub-022/func/sub-022_task-motor_run-1_echo-1_bold.nii'\n",
      "Renaming '/Volumes/Stephan_WD/NEUFEPME_data_organised/bids/sub-022/NEUFEP-ME-022_NEUFEP-ME-022_NEUFEP-ME-motor1_SENSE_4_1_echo-2.json' to '/Volumes/Stephan_WD/NEUFEPME_data_organised/bids/sub-022/func/sub-022_task-motor_run-1_echo-2_bold.json'\n",
      "Renaming '/Volumes/Stephan_WD/NEUFEPME_data_organised/bids/sub-022/NEUFEP-ME-022_NEUFEP-ME-022_NEUFEP-ME-motor1_SENSE_4_1_echo-2.nii' to '/Volumes/Stephan_WD/NEUFEPME_data_organised/bids/sub-022/func/sub-022_task-motor_run-1_echo-2_bold.nii'\n",
      "Renaming '/Volumes/Stephan_WD/NEUFEPME_data_organised/bids/sub-022/NEUFEP-ME-022_NEUFEP-ME-022_NEUFEP-ME-motor1_SENSE_4_1_echo-3.json' to '/Volumes/Stephan_WD/NEUFEPME_data_organised/bids/sub-022/func/sub-022_task-motor_run-1_echo-3_bold.json'\n",
      "Renaming '/Volumes/Stephan_WD/NEUFEPME_data_organised/bids/sub-022/NEUFEP-ME-022_NEUFEP-ME-022_NEUFEP-ME-motor1_SENSE_4_1_echo-3.nii' to '/Volumes/Stephan_WD/NEUFEPME_data_organised/bids/sub-022/func/sub-022_task-motor_run-1_echo-3_bold.nii'\n",
      "Renaming '/Volumes/Stephan_WD/NEUFEPME_data_organised/bids/sub-022/NEUFEP-ME-022_NEUFEP-ME-022_NEUFEP-ME-motor2_SENSE_7_1_echo-1.json' to '/Volumes/Stephan_WD/NEUFEPME_data_organised/bids/sub-022/func/sub-022_task-motor_run-2_echo-1_bold.json'\n",
      "Renaming '/Volumes/Stephan_WD/NEUFEPME_data_organised/bids/sub-022/NEUFEP-ME-022_NEUFEP-ME-022_NEUFEP-ME-motor2_SENSE_7_1_echo-1.nii' to '/Volumes/Stephan_WD/NEUFEPME_data_organised/bids/sub-022/func/sub-022_task-motor_run-2_echo-1_bold.nii'\n",
      "Renaming '/Volumes/Stephan_WD/NEUFEPME_data_organised/bids/sub-022/NEUFEP-ME-022_NEUFEP-ME-022_NEUFEP-ME-motor2_SENSE_7_1_echo-2.json' to '/Volumes/Stephan_WD/NEUFEPME_data_organised/bids/sub-022/func/sub-022_task-motor_run-2_echo-2_bold.json'\n",
      "Renaming '/Volumes/Stephan_WD/NEUFEPME_data_organised/bids/sub-022/NEUFEP-ME-022_NEUFEP-ME-022_NEUFEP-ME-motor2_SENSE_7_1_echo-2.nii' to '/Volumes/Stephan_WD/NEUFEPME_data_organised/bids/sub-022/func/sub-022_task-motor_run-2_echo-2_bold.nii'\n",
      "Renaming '/Volumes/Stephan_WD/NEUFEPME_data_organised/bids/sub-022/NEUFEP-ME-022_NEUFEP-ME-022_NEUFEP-ME-motor2_SENSE_7_1_echo-3.json' to '/Volumes/Stephan_WD/NEUFEPME_data_organised/bids/sub-022/func/sub-022_task-motor_run-2_echo-3_bold.json'\n",
      "Renaming '/Volumes/Stephan_WD/NEUFEPME_data_organised/bids/sub-022/NEUFEP-ME-022_NEUFEP-ME-022_NEUFEP-ME-motor2_SENSE_7_1_echo-3.nii' to '/Volumes/Stephan_WD/NEUFEPME_data_organised/bids/sub-022/func/sub-022_task-motor_run-2_echo-3_bold.nii'\n",
      "Renaming '/Volumes/Stephan_WD/NEUFEPME_data_organised/bids/sub-022/NEUFEP-ME-022_NEUFEP-ME-022_NEUFEP-ME-emotion1_SENSE_5_1_echo-1.json' to '/Volumes/Stephan_WD/NEUFEPME_data_organised/bids/sub-022/func/sub-022_task-emotion_run-1_echo-1_bold.json'\n",
      "Renaming '/Volumes/Stephan_WD/NEUFEPME_data_organised/bids/sub-022/NEUFEP-ME-022_NEUFEP-ME-022_NEUFEP-ME-emotion1_SENSE_5_1_echo-1.nii' to '/Volumes/Stephan_WD/NEUFEPME_data_organised/bids/sub-022/func/sub-022_task-emotion_run-1_echo-1_bold.nii'\n",
      "Renaming '/Volumes/Stephan_WD/NEUFEPME_data_organised/bids/sub-022/NEUFEP-ME-022_NEUFEP-ME-022_NEUFEP-ME-emotion1_SENSE_5_1_echo-2.json' to '/Volumes/Stephan_WD/NEUFEPME_data_organised/bids/sub-022/func/sub-022_task-emotion_run-1_echo-2_bold.json'\n",
      "Renaming '/Volumes/Stephan_WD/NEUFEPME_data_organised/bids/sub-022/NEUFEP-ME-022_NEUFEP-ME-022_NEUFEP-ME-emotion1_SENSE_5_1_echo-2.nii' to '/Volumes/Stephan_WD/NEUFEPME_data_organised/bids/sub-022/func/sub-022_task-emotion_run-1_echo-2_bold.nii'\n",
      "Renaming '/Volumes/Stephan_WD/NEUFEPME_data_organised/bids/sub-022/NEUFEP-ME-022_NEUFEP-ME-022_NEUFEP-ME-emotion1_SENSE_5_1_echo-3.json' to '/Volumes/Stephan_WD/NEUFEPME_data_organised/bids/sub-022/func/sub-022_task-emotion_run-1_echo-3_bold.json'\n",
      "Renaming '/Volumes/Stephan_WD/NEUFEPME_data_organised/bids/sub-022/NEUFEP-ME-022_NEUFEP-ME-022_NEUFEP-ME-emotion1_SENSE_5_1_echo-3.nii' to '/Volumes/Stephan_WD/NEUFEPME_data_organised/bids/sub-022/func/sub-022_task-emotion_run-1_echo-3_bold.nii'\n",
      "Renaming '/Volumes/Stephan_WD/NEUFEPME_data_organised/bids/sub-022/NEUFEP-ME-022_NEUFEP-ME-022_NEUFEP-ME-emotion2_SENSE_8_1_echo-1.json' to '/Volumes/Stephan_WD/NEUFEPME_data_organised/bids/sub-022/func/sub-022_task-emotion_run-2_echo-1_bold.json'\n",
      "Renaming '/Volumes/Stephan_WD/NEUFEPME_data_organised/bids/sub-022/NEUFEP-ME-022_NEUFEP-ME-022_NEUFEP-ME-emotion2_SENSE_8_1_echo-1.nii' to '/Volumes/Stephan_WD/NEUFEPME_data_organised/bids/sub-022/func/sub-022_task-emotion_run-2_echo-1_bold.nii'\n",
      "Renaming '/Volumes/Stephan_WD/NEUFEPME_data_organised/bids/sub-022/NEUFEP-ME-022_NEUFEP-ME-022_NEUFEP-ME-emotion2_SENSE_8_1_echo-2.json' to '/Volumes/Stephan_WD/NEUFEPME_data_organised/bids/sub-022/func/sub-022_task-emotion_run-2_echo-2_bold.json'\n",
      "Renaming '/Volumes/Stephan_WD/NEUFEPME_data_organised/bids/sub-022/NEUFEP-ME-022_NEUFEP-ME-022_NEUFEP-ME-emotion2_SENSE_8_1_echo-2.nii' to '/Volumes/Stephan_WD/NEUFEPME_data_organised/bids/sub-022/func/sub-022_task-emotion_run-2_echo-2_bold.nii'\n",
      "Renaming '/Volumes/Stephan_WD/NEUFEPME_data_organised/bids/sub-022/NEUFEP-ME-022_NEUFEP-ME-022_NEUFEP-ME-emotion2_SENSE_8_1_echo-3.json' to '/Volumes/Stephan_WD/NEUFEPME_data_organised/bids/sub-022/func/sub-022_task-emotion_run-2_echo-3_bold.json'\n",
      "Renaming '/Volumes/Stephan_WD/NEUFEPME_data_organised/bids/sub-022/NEUFEP-ME-022_NEUFEP-ME-022_NEUFEP-ME-emotion2_SENSE_8_1_echo-3.nii' to '/Volumes/Stephan_WD/NEUFEPME_data_organised/bids/sub-022/func/sub-022_task-emotion_run-2_echo-3_bold.nii'\n"
     ]
    },
    {
     "name": "stdout",
     "output_type": "stream",
     "text": [
      "Renaming '/Volumes/Stephan_WD/NEUFEPME_data_organised/bids/sub-022/NEUFEP-ME-022^NEUFEP-ME-022_T1W_3D_TFE_2_1.nii' to '/Volumes/Stephan_WD/NEUFEPME_data_organised/bids/sub-022/anat/sub-022_T1w.nii'\n",
      "Converting data from sub-023 ...\n",
      "WARNING: file NEUFEP-ME-023^NEUFEP-ME-023_NEUFEP-ME-emotion1_SENSE_5_1.PAR seems to be a multiecho file - this feature is experimental!\n",
      "Compression will be faster with 'pigz' installed http://macappstore.org/pigz/\n",
      "Chris Rorden's dcm2niiX version v1.0.20190410  Clang9.0.0 (64-bit MacOS)\n",
      "Warning: dcm2niix PAR is not actively supported (hint: use dicm2nii)\n",
      "Warning: Reported TR=2002.7ms, measured TR=2002.68ms (prospect. motion corr.?)\n",
      "Warning: PAR file volumes not saved in ascending temporal order (please check re-ordering)\n",
      "Done reading PAR header version 4.2, with 21420 slices\n",
      "Warning: Multiple Echo (3) or Cardiac (1). Carefully inspect output\n",
      "Philips Scaling Values RS:RI:SS = 0.74725:0:0.00186147 (see PMC3998685)\n",
      "Convert 1 DICOM as /Volumes/Stephan_WD/NEUFEPME_data_organised/bids/sub-023/NEUFEP-ME-023_NEUFEP-ME-023_NEUFEP-ME-emotion1_SENSE_5_1_echo-1 (64x64x34x210)\n",
      "Philips Scaling Values RS:RI:SS = 0.74725:0:0.00186147 (see PMC3998685)\n",
      "Convert 1 DICOM as /Volumes/Stephan_WD/NEUFEPME_data_organised/bids/sub-023/NEUFEP-ME-023_NEUFEP-ME-023_NEUFEP-ME-emotion1_SENSE_5_1_echo-2 (64x64x34x210)\n",
      "Philips Scaling Values RS:RI:SS = 0.74725:0:0.00186147 (see PMC3998685)\n",
      "Convert 1 DICOM as /Volumes/Stephan_WD/NEUFEPME_data_organised/bids/sub-023/NEUFEP-ME-023_NEUFEP-ME-023_NEUFEP-ME-emotion1_SENSE_5_1_echo-3 (64x64x34x210)\n",
      "Conversion required 5.724038 seconds (1.987536 for core code).\n",
      "WARNING: file NEUFEP-ME-023^NEUFEP-ME-023_NEUFEP-ME-emotion2_SENSE_8_1.PAR seems to be a multiecho file - this feature is experimental!\n",
      "Compression will be faster with 'pigz' installed http://macappstore.org/pigz/\n",
      "Chris Rorden's dcm2niiX version v1.0.20190410  Clang9.0.0 (64-bit MacOS)\n",
      "Warning: dcm2niix PAR is not actively supported (hint: use dicm2nii)\n",
      "Warning: Reported TR=2002.7ms, measured TR=2002.68ms (prospect. motion corr.?)\n",
      "Warning: PAR file volumes not saved in ascending temporal order (please check re-ordering)\n",
      "Done reading PAR header version 4.2, with 21420 slices\n",
      "Warning: Multiple Echo (3) or Cardiac (1). Carefully inspect output\n",
      "Philips Scaling Values RS:RI:SS = 0.76947:0:0.00186068 (see PMC3998685)\n",
      "Convert 1 DICOM as /Volumes/Stephan_WD/NEUFEPME_data_organised/bids/sub-023/NEUFEP-ME-023_NEUFEP-ME-023_NEUFEP-ME-emotion2_SENSE_8_1_echo-1 (64x64x34x210)\n",
      "Philips Scaling Values RS:RI:SS = 0.76947:0:0.00186068 (see PMC3998685)\n",
      "Convert 1 DICOM as /Volumes/Stephan_WD/NEUFEPME_data_organised/bids/sub-023/NEUFEP-ME-023_NEUFEP-ME-023_NEUFEP-ME-emotion2_SENSE_8_1_echo-2 (64x64x34x210)\n",
      "Philips Scaling Values RS:RI:SS = 0.76947:0:0.00186068 (see PMC3998685)\n",
      "Convert 1 DICOM as /Volumes/Stephan_WD/NEUFEPME_data_organised/bids/sub-023/NEUFEP-ME-023_NEUFEP-ME-023_NEUFEP-ME-emotion2_SENSE_8_1_echo-3 (64x64x34x210)\n",
      "Conversion required 5.617552 seconds (2.061807 for core code).\n",
      "WARNING: file NEUFEP-ME-023^NEUFEP-ME-023_NEUFEP-ME-motor1_SENSE_4_1.PAR seems to be a multiecho file - this feature is experimental!\n",
      "Compression will be faster with 'pigz' installed http://macappstore.org/pigz/\n",
      "Chris Rorden's dcm2niiX version v1.0.20190410  Clang9.0.0 (64-bit MacOS)\n",
      "Warning: dcm2niix PAR is not actively supported (hint: use dicm2nii)\n",
      "Warning: Reported TR=2002.7ms, measured TR=2002.68ms (prospect. motion corr.?)\n",
      "Warning: PAR file volumes not saved in ascending temporal order (please check re-ordering)\n",
      "Done reading PAR header version 4.2, with 21420 slices\n",
      "Warning: Multiple Echo (3) or Cardiac (1). Carefully inspect output\n",
      "Philips Scaling Values RS:RI:SS = 0.7873:0:0.00180308 (see PMC3998685)\n",
      "Convert 1 DICOM as /Volumes/Stephan_WD/NEUFEPME_data_organised/bids/sub-023/NEUFEP-ME-023_NEUFEP-ME-023_NEUFEP-ME-motor1_SENSE_4_1_echo-1 (64x64x34x210)\n",
      "Philips Scaling Values RS:RI:SS = 0.7873:0:0.00180308 (see PMC3998685)\n",
      "Convert 1 DICOM as /Volumes/Stephan_WD/NEUFEPME_data_organised/bids/sub-023/NEUFEP-ME-023_NEUFEP-ME-023_NEUFEP-ME-motor1_SENSE_4_1_echo-2 (64x64x34x210)\n",
      "Philips Scaling Values RS:RI:SS = 0.7873:0:0.00180308 (see PMC3998685)\n",
      "Convert 1 DICOM as /Volumes/Stephan_WD/NEUFEPME_data_organised/bids/sub-023/NEUFEP-ME-023_NEUFEP-ME-023_NEUFEP-ME-motor1_SENSE_4_1_echo-3 (64x64x34x210)\n",
      "Conversion required 6.652801 seconds (2.629561 for core code).\n",
      "WARNING: file NEUFEP-ME-023^NEUFEP-ME-023_NEUFEP-ME-motor2_SENSE_7_1.PAR seems to be a multiecho file - this feature is experimental!\n",
      "Compression will be faster with 'pigz' installed http://macappstore.org/pigz/\n",
      "Chris Rorden's dcm2niiX version v1.0.20190410  Clang9.0.0 (64-bit MacOS)\n",
      "Warning: dcm2niix PAR is not actively supported (hint: use dicm2nii)\n",
      "Warning: Reported TR=2002.7ms, measured TR=2002.68ms (prospect. motion corr.?)\n",
      "Warning: PAR file volumes not saved in ascending temporal order (please check re-ordering)\n",
      "Done reading PAR header version 4.2, with 21420 slices\n",
      "Warning: Multiple Echo (3) or Cardiac (1). Carefully inspect output\n",
      "Philips Scaling Values RS:RI:SS = 0.75165:0:0.00189686 (see PMC3998685)\n",
      "Convert 1 DICOM as /Volumes/Stephan_WD/NEUFEPME_data_organised/bids/sub-023/NEUFEP-ME-023_NEUFEP-ME-023_NEUFEP-ME-motor2_SENSE_7_1_echo-1 (64x64x34x210)\n",
      "Philips Scaling Values RS:RI:SS = 0.75165:0:0.00189686 (see PMC3998685)\n",
      "Convert 1 DICOM as /Volumes/Stephan_WD/NEUFEPME_data_organised/bids/sub-023/NEUFEP-ME-023_NEUFEP-ME-023_NEUFEP-ME-motor2_SENSE_7_1_echo-2 (64x64x34x210)\n",
      "Philips Scaling Values RS:RI:SS = 0.75165:0:0.00189686 (see PMC3998685)\n",
      "Convert 1 DICOM as /Volumes/Stephan_WD/NEUFEPME_data_organised/bids/sub-023/NEUFEP-ME-023_NEUFEP-ME-023_NEUFEP-ME-motor2_SENSE_7_1_echo-3 (64x64x34x210)\n",
      "Conversion required 5.554719 seconds (2.080340 for core code).\n",
      "WARNING: file NEUFEP-ME-023^NEUFEP-ME-023_NEUFEP-ME-rest1_SENSE_3_1.PAR seems to be a multiecho file - this feature is experimental!\n",
      "Compression will be faster with 'pigz' installed http://macappstore.org/pigz/\n",
      "Chris Rorden's dcm2niiX version v1.0.20190410  Clang9.0.0 (64-bit MacOS)\n",
      "Warning: dcm2niix PAR is not actively supported (hint: use dicm2nii)\n",
      "Warning: Reported TR=2002.7ms, measured TR=2002.68ms (prospect. motion corr.?)\n",
      "Warning: PAR file volumes not saved in ascending temporal order (please check re-ordering)\n",
      "Done reading PAR header version 4.2, with 21420 slices\n",
      "Warning: Multiple Echo (3) or Cardiac (1). Carefully inspect output\n",
      "Philips Scaling Values RS:RI:SS = 0.77265:0:0.00183877 (see PMC3998685)\n",
      "Convert 1 DICOM as /Volumes/Stephan_WD/NEUFEPME_data_organised/bids/sub-023/NEUFEP-ME-023_NEUFEP-ME-023_NEUFEP-ME-rest1_SENSE_3_1_echo-1 (64x64x34x210)\n",
      "Philips Scaling Values RS:RI:SS = 0.77265:0:0.00183877 (see PMC3998685)\n",
      "Convert 1 DICOM as /Volumes/Stephan_WD/NEUFEPME_data_organised/bids/sub-023/NEUFEP-ME-023_NEUFEP-ME-023_NEUFEP-ME-rest1_SENSE_3_1_echo-2 (64x64x34x210)\n",
      "Philips Scaling Values RS:RI:SS = 0.77265:0:0.00183877 (see PMC3998685)\n",
      "Convert 1 DICOM as /Volumes/Stephan_WD/NEUFEPME_data_organised/bids/sub-023/NEUFEP-ME-023_NEUFEP-ME-023_NEUFEP-ME-rest1_SENSE_3_1_echo-3 (64x64x34x210)\n",
      "Conversion required 5.428626 seconds (2.095103 for core code).\n",
      "WARNING: file NEUFEP-ME-023^NEUFEP-ME-023_NEUFEP-ME-rest2_SENSE_6_1.PAR seems to be a multiecho file - this feature is experimental!\n",
      "Compression will be faster with 'pigz' installed http://macappstore.org/pigz/\n",
      "Chris Rorden's dcm2niiX version v1.0.20190410  Clang9.0.0 (64-bit MacOS)\n",
      "Warning: dcm2niix PAR is not actively supported (hint: use dicm2nii)\n",
      "Warning: Reported TR=2002.7ms, measured TR=2002.68ms (prospect. motion corr.?)\n",
      "Warning: PAR file volumes not saved in ascending temporal order (please check re-ordering)\n",
      "Done reading PAR header version 4.2, with 21420 slices\n",
      "Warning: Multiple Echo (3) or Cardiac (1). Carefully inspect output\n",
      "Philips Scaling Values RS:RI:SS = 0.74872:0:0.00189706 (see PMC3998685)\n",
      "Convert 1 DICOM as /Volumes/Stephan_WD/NEUFEPME_data_organised/bids/sub-023/NEUFEP-ME-023_NEUFEP-ME-023_NEUFEP-ME-rest2_SENSE_6_1_echo-1 (64x64x34x210)\n",
      "Philips Scaling Values RS:RI:SS = 0.74872:0:0.00189706 (see PMC3998685)\n",
      "Convert 1 DICOM as /Volumes/Stephan_WD/NEUFEPME_data_organised/bids/sub-023/NEUFEP-ME-023_NEUFEP-ME-023_NEUFEP-ME-rest2_SENSE_6_1_echo-2 (64x64x34x210)\n"
     ]
    },
    {
     "name": "stdout",
     "output_type": "stream",
     "text": [
      "Philips Scaling Values RS:RI:SS = 0.74872:0:0.00189706 (see PMC3998685)\n",
      "Convert 1 DICOM as /Volumes/Stephan_WD/NEUFEPME_data_organised/bids/sub-023/NEUFEP-ME-023_NEUFEP-ME-023_NEUFEP-ME-rest2_SENSE_6_1_echo-3 (64x64x34x210)\n",
      "Conversion required 6.292588 seconds (2.104057 for core code).\n",
      "Renaming '/Volumes/Stephan_WD/NEUFEPME_data_organised/bids/sub-023/NEUFEP-ME-023_NEUFEP-ME-023_NEUFEP-ME-rest1_SENSE_3_1_echo-1.json' to '/Volumes/Stephan_WD/NEUFEPME_data_organised/bids/sub-023/func/sub-023_task-rest_run-1_echo-1_bold.json'\n",
      "Renaming '/Volumes/Stephan_WD/NEUFEPME_data_organised/bids/sub-023/NEUFEP-ME-023_NEUFEP-ME-023_NEUFEP-ME-rest1_SENSE_3_1_echo-1.nii' to '/Volumes/Stephan_WD/NEUFEPME_data_organised/bids/sub-023/func/sub-023_task-rest_run-1_echo-1_bold.nii'\n",
      "Renaming '/Volumes/Stephan_WD/NEUFEPME_data_organised/bids/sub-023/NEUFEP-ME-023_NEUFEP-ME-023_NEUFEP-ME-rest1_SENSE_3_1_echo-2.json' to '/Volumes/Stephan_WD/NEUFEPME_data_organised/bids/sub-023/func/sub-023_task-rest_run-1_echo-2_bold.json'\n",
      "Renaming '/Volumes/Stephan_WD/NEUFEPME_data_organised/bids/sub-023/NEUFEP-ME-023_NEUFEP-ME-023_NEUFEP-ME-rest1_SENSE_3_1_echo-2.nii' to '/Volumes/Stephan_WD/NEUFEPME_data_organised/bids/sub-023/func/sub-023_task-rest_run-1_echo-2_bold.nii'\n",
      "Renaming '/Volumes/Stephan_WD/NEUFEPME_data_organised/bids/sub-023/NEUFEP-ME-023_NEUFEP-ME-023_NEUFEP-ME-rest1_SENSE_3_1_echo-3.json' to '/Volumes/Stephan_WD/NEUFEPME_data_organised/bids/sub-023/func/sub-023_task-rest_run-1_echo-3_bold.json'\n",
      "Renaming '/Volumes/Stephan_WD/NEUFEPME_data_organised/bids/sub-023/NEUFEP-ME-023_NEUFEP-ME-023_NEUFEP-ME-rest1_SENSE_3_1_echo-3.nii' to '/Volumes/Stephan_WD/NEUFEPME_data_organised/bids/sub-023/func/sub-023_task-rest_run-1_echo-3_bold.nii'\n",
      "Renaming '/Volumes/Stephan_WD/NEUFEPME_data_organised/bids/sub-023/NEUFEP-ME-023_NEUFEP-ME-023_NEUFEP-ME-rest2_SENSE_6_1_echo-1.json' to '/Volumes/Stephan_WD/NEUFEPME_data_organised/bids/sub-023/func/sub-023_task-rest_run-2_echo-1_bold.json'\n",
      "Renaming '/Volumes/Stephan_WD/NEUFEPME_data_organised/bids/sub-023/NEUFEP-ME-023_NEUFEP-ME-023_NEUFEP-ME-rest2_SENSE_6_1_echo-1.nii' to '/Volumes/Stephan_WD/NEUFEPME_data_organised/bids/sub-023/func/sub-023_task-rest_run-2_echo-1_bold.nii'\n",
      "Renaming '/Volumes/Stephan_WD/NEUFEPME_data_organised/bids/sub-023/NEUFEP-ME-023_NEUFEP-ME-023_NEUFEP-ME-rest2_SENSE_6_1_echo-2.json' to '/Volumes/Stephan_WD/NEUFEPME_data_organised/bids/sub-023/func/sub-023_task-rest_run-2_echo-2_bold.json'\n",
      "Renaming '/Volumes/Stephan_WD/NEUFEPME_data_organised/bids/sub-023/NEUFEP-ME-023_NEUFEP-ME-023_NEUFEP-ME-rest2_SENSE_6_1_echo-2.nii' to '/Volumes/Stephan_WD/NEUFEPME_data_organised/bids/sub-023/func/sub-023_task-rest_run-2_echo-2_bold.nii'\n",
      "Renaming '/Volumes/Stephan_WD/NEUFEPME_data_organised/bids/sub-023/NEUFEP-ME-023_NEUFEP-ME-023_NEUFEP-ME-rest2_SENSE_6_1_echo-3.json' to '/Volumes/Stephan_WD/NEUFEPME_data_organised/bids/sub-023/func/sub-023_task-rest_run-2_echo-3_bold.json'\n",
      "Renaming '/Volumes/Stephan_WD/NEUFEPME_data_organised/bids/sub-023/NEUFEP-ME-023_NEUFEP-ME-023_NEUFEP-ME-rest2_SENSE_6_1_echo-3.nii' to '/Volumes/Stephan_WD/NEUFEPME_data_organised/bids/sub-023/func/sub-023_task-rest_run-2_echo-3_bold.nii'\n",
      "Renaming '/Volumes/Stephan_WD/NEUFEPME_data_organised/bids/sub-023/NEUFEP-ME-023_NEUFEP-ME-023_NEUFEP-ME-motor1_SENSE_4_1_echo-1.json' to '/Volumes/Stephan_WD/NEUFEPME_data_organised/bids/sub-023/func/sub-023_task-motor_run-1_echo-1_bold.json'\n",
      "Renaming '/Volumes/Stephan_WD/NEUFEPME_data_organised/bids/sub-023/NEUFEP-ME-023_NEUFEP-ME-023_NEUFEP-ME-motor1_SENSE_4_1_echo-1.nii' to '/Volumes/Stephan_WD/NEUFEPME_data_organised/bids/sub-023/func/sub-023_task-motor_run-1_echo-1_bold.nii'\n",
      "Renaming '/Volumes/Stephan_WD/NEUFEPME_data_organised/bids/sub-023/NEUFEP-ME-023_NEUFEP-ME-023_NEUFEP-ME-motor1_SENSE_4_1_echo-2.json' to '/Volumes/Stephan_WD/NEUFEPME_data_organised/bids/sub-023/func/sub-023_task-motor_run-1_echo-2_bold.json'\n",
      "Renaming '/Volumes/Stephan_WD/NEUFEPME_data_organised/bids/sub-023/NEUFEP-ME-023_NEUFEP-ME-023_NEUFEP-ME-motor1_SENSE_4_1_echo-2.nii' to '/Volumes/Stephan_WD/NEUFEPME_data_organised/bids/sub-023/func/sub-023_task-motor_run-1_echo-2_bold.nii'\n",
      "Renaming '/Volumes/Stephan_WD/NEUFEPME_data_organised/bids/sub-023/NEUFEP-ME-023_NEUFEP-ME-023_NEUFEP-ME-motor1_SENSE_4_1_echo-3.json' to '/Volumes/Stephan_WD/NEUFEPME_data_organised/bids/sub-023/func/sub-023_task-motor_run-1_echo-3_bold.json'\n",
      "Renaming '/Volumes/Stephan_WD/NEUFEPME_data_organised/bids/sub-023/NEUFEP-ME-023_NEUFEP-ME-023_NEUFEP-ME-motor1_SENSE_4_1_echo-3.nii' to '/Volumes/Stephan_WD/NEUFEPME_data_organised/bids/sub-023/func/sub-023_task-motor_run-1_echo-3_bold.nii'\n",
      "Renaming '/Volumes/Stephan_WD/NEUFEPME_data_organised/bids/sub-023/NEUFEP-ME-023_NEUFEP-ME-023_NEUFEP-ME-motor2_SENSE_7_1_echo-1.json' to '/Volumes/Stephan_WD/NEUFEPME_data_organised/bids/sub-023/func/sub-023_task-motor_run-2_echo-1_bold.json'\n",
      "Renaming '/Volumes/Stephan_WD/NEUFEPME_data_organised/bids/sub-023/NEUFEP-ME-023_NEUFEP-ME-023_NEUFEP-ME-motor2_SENSE_7_1_echo-1.nii' to '/Volumes/Stephan_WD/NEUFEPME_data_organised/bids/sub-023/func/sub-023_task-motor_run-2_echo-1_bold.nii'\n",
      "Renaming '/Volumes/Stephan_WD/NEUFEPME_data_organised/bids/sub-023/NEUFEP-ME-023_NEUFEP-ME-023_NEUFEP-ME-motor2_SENSE_7_1_echo-2.json' to '/Volumes/Stephan_WD/NEUFEPME_data_organised/bids/sub-023/func/sub-023_task-motor_run-2_echo-2_bold.json'\n",
      "Renaming '/Volumes/Stephan_WD/NEUFEPME_data_organised/bids/sub-023/NEUFEP-ME-023_NEUFEP-ME-023_NEUFEP-ME-motor2_SENSE_7_1_echo-2.nii' to '/Volumes/Stephan_WD/NEUFEPME_data_organised/bids/sub-023/func/sub-023_task-motor_run-2_echo-2_bold.nii'\n",
      "Renaming '/Volumes/Stephan_WD/NEUFEPME_data_organised/bids/sub-023/NEUFEP-ME-023_NEUFEP-ME-023_NEUFEP-ME-motor2_SENSE_7_1_echo-3.json' to '/Volumes/Stephan_WD/NEUFEPME_data_organised/bids/sub-023/func/sub-023_task-motor_run-2_echo-3_bold.json'\n",
      "Renaming '/Volumes/Stephan_WD/NEUFEPME_data_organised/bids/sub-023/NEUFEP-ME-023_NEUFEP-ME-023_NEUFEP-ME-motor2_SENSE_7_1_echo-3.nii' to '/Volumes/Stephan_WD/NEUFEPME_data_organised/bids/sub-023/func/sub-023_task-motor_run-2_echo-3_bold.nii'\n",
      "Renaming '/Volumes/Stephan_WD/NEUFEPME_data_organised/bids/sub-023/NEUFEP-ME-023_NEUFEP-ME-023_NEUFEP-ME-emotion1_SENSE_5_1_echo-1.json' to '/Volumes/Stephan_WD/NEUFEPME_data_organised/bids/sub-023/func/sub-023_task-emotion_run-1_echo-1_bold.json'\n",
      "Renaming '/Volumes/Stephan_WD/NEUFEPME_data_organised/bids/sub-023/NEUFEP-ME-023_NEUFEP-ME-023_NEUFEP-ME-emotion1_SENSE_5_1_echo-1.nii' to '/Volumes/Stephan_WD/NEUFEPME_data_organised/bids/sub-023/func/sub-023_task-emotion_run-1_echo-1_bold.nii'\n",
      "Renaming '/Volumes/Stephan_WD/NEUFEPME_data_organised/bids/sub-023/NEUFEP-ME-023_NEUFEP-ME-023_NEUFEP-ME-emotion1_SENSE_5_1_echo-2.json' to '/Volumes/Stephan_WD/NEUFEPME_data_organised/bids/sub-023/func/sub-023_task-emotion_run-1_echo-2_bold.json'\n",
      "Renaming '/Volumes/Stephan_WD/NEUFEPME_data_organised/bids/sub-023/NEUFEP-ME-023_NEUFEP-ME-023_NEUFEP-ME-emotion1_SENSE_5_1_echo-2.nii' to '/Volumes/Stephan_WD/NEUFEPME_data_organised/bids/sub-023/func/sub-023_task-emotion_run-1_echo-2_bold.nii'\n",
      "Renaming '/Volumes/Stephan_WD/NEUFEPME_data_organised/bids/sub-023/NEUFEP-ME-023_NEUFEP-ME-023_NEUFEP-ME-emotion1_SENSE_5_1_echo-3.json' to '/Volumes/Stephan_WD/NEUFEPME_data_organised/bids/sub-023/func/sub-023_task-emotion_run-1_echo-3_bold.json'\n",
      "Renaming '/Volumes/Stephan_WD/NEUFEPME_data_organised/bids/sub-023/NEUFEP-ME-023_NEUFEP-ME-023_NEUFEP-ME-emotion1_SENSE_5_1_echo-3.nii' to '/Volumes/Stephan_WD/NEUFEPME_data_organised/bids/sub-023/func/sub-023_task-emotion_run-1_echo-3_bold.nii'\n",
      "Renaming '/Volumes/Stephan_WD/NEUFEPME_data_organised/bids/sub-023/NEUFEP-ME-023_NEUFEP-ME-023_NEUFEP-ME-emotion2_SENSE_8_1_echo-1.json' to '/Volumes/Stephan_WD/NEUFEPME_data_organised/bids/sub-023/func/sub-023_task-emotion_run-2_echo-1_bold.json'\n",
      "Renaming '/Volumes/Stephan_WD/NEUFEPME_data_organised/bids/sub-023/NEUFEP-ME-023_NEUFEP-ME-023_NEUFEP-ME-emotion2_SENSE_8_1_echo-1.nii' to '/Volumes/Stephan_WD/NEUFEPME_data_organised/bids/sub-023/func/sub-023_task-emotion_run-2_echo-1_bold.nii'\n",
      "Renaming '/Volumes/Stephan_WD/NEUFEPME_data_organised/bids/sub-023/NEUFEP-ME-023_NEUFEP-ME-023_NEUFEP-ME-emotion2_SENSE_8_1_echo-2.json' to '/Volumes/Stephan_WD/NEUFEPME_data_organised/bids/sub-023/func/sub-023_task-emotion_run-2_echo-2_bold.json'\n",
      "Renaming '/Volumes/Stephan_WD/NEUFEPME_data_organised/bids/sub-023/NEUFEP-ME-023_NEUFEP-ME-023_NEUFEP-ME-emotion2_SENSE_8_1_echo-2.nii' to '/Volumes/Stephan_WD/NEUFEPME_data_organised/bids/sub-023/func/sub-023_task-emotion_run-2_echo-2_bold.nii'\n",
      "Renaming '/Volumes/Stephan_WD/NEUFEPME_data_organised/bids/sub-023/NEUFEP-ME-023_NEUFEP-ME-023_NEUFEP-ME-emotion2_SENSE_8_1_echo-3.json' to '/Volumes/Stephan_WD/NEUFEPME_data_organised/bids/sub-023/func/sub-023_task-emotion_run-2_echo-3_bold.json'\n",
      "Renaming '/Volumes/Stephan_WD/NEUFEPME_data_organised/bids/sub-023/NEUFEP-ME-023_NEUFEP-ME-023_NEUFEP-ME-emotion2_SENSE_8_1_echo-3.nii' to '/Volumes/Stephan_WD/NEUFEPME_data_organised/bids/sub-023/func/sub-023_task-emotion_run-2_echo-3_bold.nii'\n",
      "Renaming '/Volumes/Stephan_WD/NEUFEPME_data_organised/bids/sub-023/NEUFEP-ME-023^NEUFEP-ME-023_T1W_3D_TFE_2_1.nii' to '/Volumes/Stephan_WD/NEUFEPME_data_organised/bids/sub-023/anat/sub-023_T1w.nii'\n"
     ]
    },
    {
     "name": "stdout",
     "output_type": "stream",
     "text": [
      "Converting data from sub-024 ...\n",
      "WARNING: file NEUFEP-ME-024^NEUFEP-ME-024_NEUFEP-ME-emotion1_SENSE_5_1.PAR seems to be a multiecho file - this feature is experimental!\n",
      "Compression will be faster with 'pigz' installed http://macappstore.org/pigz/\n",
      "Chris Rorden's dcm2niiX version v1.0.20190410  Clang9.0.0 (64-bit MacOS)\n",
      "Warning: dcm2niix PAR is not actively supported (hint: use dicm2nii)\n",
      "Warning: Reported TR=2003.91ms, measured TR=2003.92ms (prospect. motion corr.?)\n",
      "Warning: PAR file volumes not saved in ascending temporal order (please check re-ordering)\n",
      "Done reading PAR header version 4.2, with 21420 slices\n",
      "Warning: Multiple Echo (3) or Cardiac (1). Carefully inspect output\n",
      "Philips Scaling Values RS:RI:SS = 0.73846:0:0.0021134 (see PMC3998685)\n",
      "Convert 1 DICOM as /Volumes/Stephan_WD/NEUFEPME_data_organised/bids/sub-024/NEUFEP-ME-024_NEUFEP-ME-024_NEUFEP-ME-emotion1_SENSE_5_1_echo-1 (64x64x34x210)\n",
      "Philips Scaling Values RS:RI:SS = 0.73846:0:0.0021134 (see PMC3998685)\n",
      "Convert 1 DICOM as /Volumes/Stephan_WD/NEUFEPME_data_organised/bids/sub-024/NEUFEP-ME-024_NEUFEP-ME-024_NEUFEP-ME-emotion1_SENSE_5_1_echo-2 (64x64x34x210)\n",
      "Philips Scaling Values RS:RI:SS = 0.73846:0:0.0021134 (see PMC3998685)\n",
      "Convert 1 DICOM as /Volumes/Stephan_WD/NEUFEPME_data_organised/bids/sub-024/NEUFEP-ME-024_NEUFEP-ME-024_NEUFEP-ME-emotion1_SENSE_5_1_echo-3 (64x64x34x210)\n",
      "Conversion required 5.998201 seconds (1.940718 for core code).\n",
      "WARNING: file NEUFEP-ME-024^NEUFEP-ME-024_NEUFEP-ME-emotion2_SENSE_8_1.PAR seems to be a multiecho file - this feature is experimental!\n",
      "Compression will be faster with 'pigz' installed http://macappstore.org/pigz/\n",
      "Chris Rorden's dcm2niiX version v1.0.20190410  Clang9.0.0 (64-bit MacOS)\n",
      "Warning: dcm2niix PAR is not actively supported (hint: use dicm2nii)\n",
      "Warning: Reported TR=2003.91ms, measured TR=2003.92ms (prospect. motion corr.?)\n",
      "Warning: PAR file volumes not saved in ascending temporal order (please check re-ordering)\n",
      "Done reading PAR header version 4.2, with 21420 slices\n",
      "Warning: Multiple Echo (3) or Cardiac (1). Carefully inspect output\n",
      "Philips Scaling Values RS:RI:SS = 0.76166:0:0.0021138 (see PMC3998685)\n",
      "Convert 1 DICOM as /Volumes/Stephan_WD/NEUFEPME_data_organised/bids/sub-024/NEUFEP-ME-024_NEUFEP-ME-024_NEUFEP-ME-emotion2_SENSE_8_1_echo-1 (64x64x34x210)\n",
      "Philips Scaling Values RS:RI:SS = 0.76166:0:0.0021138 (see PMC3998685)\n",
      "Convert 1 DICOM as /Volumes/Stephan_WD/NEUFEPME_data_organised/bids/sub-024/NEUFEP-ME-024_NEUFEP-ME-024_NEUFEP-ME-emotion2_SENSE_8_1_echo-2 (64x64x34x210)\n",
      "Philips Scaling Values RS:RI:SS = 0.76166:0:0.0021138 (see PMC3998685)\n",
      "Convert 1 DICOM as /Volumes/Stephan_WD/NEUFEPME_data_organised/bids/sub-024/NEUFEP-ME-024_NEUFEP-ME-024_NEUFEP-ME-emotion2_SENSE_8_1_echo-3 (64x64x34x210)\n",
      "Conversion required 5.507810 seconds (2.007104 for core code).\n",
      "WARNING: file NEUFEP-ME-024^NEUFEP-ME-024_NEUFEP-ME-motor1_SENSE_4_1.PAR seems to be a multiecho file - this feature is experimental!\n",
      "Compression will be faster with 'pigz' installed http://macappstore.org/pigz/\n",
      "Chris Rorden's dcm2niiX version v1.0.20190410  Clang9.0.0 (64-bit MacOS)\n",
      "Warning: dcm2niix PAR is not actively supported (hint: use dicm2nii)\n",
      "Warning: Reported TR=2003.91ms, measured TR=2003.92ms (prospect. motion corr.?)\n",
      "Warning: PAR file volumes not saved in ascending temporal order (please check re-ordering)\n",
      "Done reading PAR header version 4.2, with 21420 slices\n",
      "Warning: Multiple Echo (3) or Cardiac (1). Carefully inspect output\n",
      "Philips Scaling Values RS:RI:SS = 0.77021:0:0.00205915 (see PMC3998685)\n",
      "Convert 1 DICOM as /Volumes/Stephan_WD/NEUFEPME_data_organised/bids/sub-024/NEUFEP-ME-024_NEUFEP-ME-024_NEUFEP-ME-motor1_SENSE_4_1_echo-1 (64x64x34x210)\n",
      "Philips Scaling Values RS:RI:SS = 0.77021:0:0.00205915 (see PMC3998685)\n",
      "Convert 1 DICOM as /Volumes/Stephan_WD/NEUFEPME_data_organised/bids/sub-024/NEUFEP-ME-024_NEUFEP-ME-024_NEUFEP-ME-motor1_SENSE_4_1_echo-2 (64x64x34x210)\n",
      "Philips Scaling Values RS:RI:SS = 0.77021:0:0.00205915 (see PMC3998685)\n",
      "Convert 1 DICOM as /Volumes/Stephan_WD/NEUFEPME_data_organised/bids/sub-024/NEUFEP-ME-024_NEUFEP-ME-024_NEUFEP-ME-motor1_SENSE_4_1_echo-3 (64x64x34x210)\n",
      "Conversion required 5.545218 seconds (2.025976 for core code).\n",
      "WARNING: file NEUFEP-ME-024^NEUFEP-ME-024_NEUFEP-ME-motor2_SENSE_7_1.PAR seems to be a multiecho file - this feature is experimental!\n",
      "Compression will be faster with 'pigz' installed http://macappstore.org/pigz/\n",
      "Chris Rorden's dcm2niiX version v1.0.20190410  Clang9.0.0 (64-bit MacOS)\n",
      "Warning: dcm2niix PAR is not actively supported (hint: use dicm2nii)\n",
      "Warning: Reported TR=2003.91ms, measured TR=2003.92ms (prospect. motion corr.?)\n",
      "Warning: PAR file volumes not saved in ascending temporal order (please check re-ordering)\n",
      "Done reading PAR header version 4.2, with 21420 slices\n",
      "Warning: Multiple Echo (3) or Cardiac (1). Carefully inspect output\n",
      "Philips Scaling Values RS:RI:SS = 0.75995:0:0.00211071 (see PMC3998685)\n",
      "Convert 1 DICOM as /Volumes/Stephan_WD/NEUFEPME_data_organised/bids/sub-024/NEUFEP-ME-024_NEUFEP-ME-024_NEUFEP-ME-motor2_SENSE_7_1_echo-1 (64x64x34x210)\n",
      "Philips Scaling Values RS:RI:SS = 0.75995:0:0.00211071 (see PMC3998685)\n",
      "Convert 1 DICOM as /Volumes/Stephan_WD/NEUFEPME_data_organised/bids/sub-024/NEUFEP-ME-024_NEUFEP-ME-024_NEUFEP-ME-motor2_SENSE_7_1_echo-2 (64x64x34x210)\n",
      "Philips Scaling Values RS:RI:SS = 0.75995:0:0.00211071 (see PMC3998685)\n",
      "Convert 1 DICOM as /Volumes/Stephan_WD/NEUFEPME_data_organised/bids/sub-024/NEUFEP-ME-024_NEUFEP-ME-024_NEUFEP-ME-motor2_SENSE_7_1_echo-3 (64x64x34x210)\n",
      "Conversion required 5.671514 seconds (2.047906 for core code).\n",
      "WARNING: file NEUFEP-ME-024^NEUFEP-ME-024_NEUFEP-ME-rest1_SENSE_3_1.PAR seems to be a multiecho file - this feature is experimental!\n",
      "Compression will be faster with 'pigz' installed http://macappstore.org/pigz/\n",
      "Chris Rorden's dcm2niiX version v1.0.20190410  Clang9.0.0 (64-bit MacOS)\n",
      "Warning: dcm2niix PAR is not actively supported (hint: use dicm2nii)\n",
      "Warning: Reported TR=2003.91ms, measured TR=2003.92ms (prospect. motion corr.?)\n",
      "Warning: PAR file volumes not saved in ascending temporal order (please check re-ordering)\n",
      "Done reading PAR header version 4.2, with 21420 slices\n",
      "Warning: Multiple Echo (3) or Cardiac (1). Carefully inspect output\n",
      "Philips Scaling Values RS:RI:SS = 0.76239:0:0.00214353 (see PMC3998685)\n",
      "Convert 1 DICOM as /Volumes/Stephan_WD/NEUFEPME_data_organised/bids/sub-024/NEUFEP-ME-024_NEUFEP-ME-024_NEUFEP-ME-rest1_SENSE_3_1_echo-1 (64x64x34x210)\n",
      "Philips Scaling Values RS:RI:SS = 0.76239:0:0.00214353 (see PMC3998685)\n",
      "Convert 1 DICOM as /Volumes/Stephan_WD/NEUFEPME_data_organised/bids/sub-024/NEUFEP-ME-024_NEUFEP-ME-024_NEUFEP-ME-rest1_SENSE_3_1_echo-2 (64x64x34x210)\n",
      "Philips Scaling Values RS:RI:SS = 0.76239:0:0.00214353 (see PMC3998685)\n",
      "Convert 1 DICOM as /Volumes/Stephan_WD/NEUFEPME_data_organised/bids/sub-024/NEUFEP-ME-024_NEUFEP-ME-024_NEUFEP-ME-rest1_SENSE_3_1_echo-3 (64x64x34x210)\n",
      "Conversion required 5.359244 seconds (2.034545 for core code).\n",
      "WARNING: file NEUFEP-ME-024^NEUFEP-ME-024_NEUFEP-ME-rest2_SENSE_6_1.PAR seems to be a multiecho file - this feature is experimental!\n",
      "Compression will be faster with 'pigz' installed http://macappstore.org/pigz/\n",
      "Chris Rorden's dcm2niiX version v1.0.20190410  Clang9.0.0 (64-bit MacOS)\n",
      "Warning: dcm2niix PAR is not actively supported (hint: use dicm2nii)\n",
      "Warning: Reported TR=2003.91ms, measured TR=2003.92ms (prospect. motion corr.?)\n",
      "Warning: PAR file volumes not saved in ascending temporal order (please check re-ordering)\n",
      "Done reading PAR header version 4.2, with 21420 slices\n",
      "Warning: Multiple Echo (3) or Cardiac (1). Carefully inspect output\n",
      "Philips Scaling Values RS:RI:SS = 0.76459:0:0.00212701 (see PMC3998685)\n",
      "Convert 1 DICOM as /Volumes/Stephan_WD/NEUFEPME_data_organised/bids/sub-024/NEUFEP-ME-024_NEUFEP-ME-024_NEUFEP-ME-rest2_SENSE_6_1_echo-1 (64x64x34x210)\n",
      "Philips Scaling Values RS:RI:SS = 0.76459:0:0.00212701 (see PMC3998685)\n",
      "Convert 1 DICOM as /Volumes/Stephan_WD/NEUFEPME_data_organised/bids/sub-024/NEUFEP-ME-024_NEUFEP-ME-024_NEUFEP-ME-rest2_SENSE_6_1_echo-2 (64x64x34x210)\n",
      "Philips Scaling Values RS:RI:SS = 0.76459:0:0.00212701 (see PMC3998685)\n",
      "Convert 1 DICOM as /Volumes/Stephan_WD/NEUFEPME_data_organised/bids/sub-024/NEUFEP-ME-024_NEUFEP-ME-024_NEUFEP-ME-rest2_SENSE_6_1_echo-3 (64x64x34x210)\n"
     ]
    },
    {
     "name": "stdout",
     "output_type": "stream",
     "text": [
      "Conversion required 6.398570 seconds (1.926405 for core code).\n",
      "Renaming '/Volumes/Stephan_WD/NEUFEPME_data_organised/bids/sub-024/NEUFEP-ME-024_NEUFEP-ME-024_NEUFEP-ME-rest1_SENSE_3_1_echo-1.json' to '/Volumes/Stephan_WD/NEUFEPME_data_organised/bids/sub-024/func/sub-024_task-rest_run-1_echo-1_bold.json'\n",
      "Renaming '/Volumes/Stephan_WD/NEUFEPME_data_organised/bids/sub-024/NEUFEP-ME-024_NEUFEP-ME-024_NEUFEP-ME-rest1_SENSE_3_1_echo-1.nii' to '/Volumes/Stephan_WD/NEUFEPME_data_organised/bids/sub-024/func/sub-024_task-rest_run-1_echo-1_bold.nii'\n",
      "Renaming '/Volumes/Stephan_WD/NEUFEPME_data_organised/bids/sub-024/NEUFEP-ME-024_NEUFEP-ME-024_NEUFEP-ME-rest1_SENSE_3_1_echo-2.json' to '/Volumes/Stephan_WD/NEUFEPME_data_organised/bids/sub-024/func/sub-024_task-rest_run-1_echo-2_bold.json'\n",
      "Renaming '/Volumes/Stephan_WD/NEUFEPME_data_organised/bids/sub-024/NEUFEP-ME-024_NEUFEP-ME-024_NEUFEP-ME-rest1_SENSE_3_1_echo-2.nii' to '/Volumes/Stephan_WD/NEUFEPME_data_organised/bids/sub-024/func/sub-024_task-rest_run-1_echo-2_bold.nii'\n",
      "Renaming '/Volumes/Stephan_WD/NEUFEPME_data_organised/bids/sub-024/NEUFEP-ME-024_NEUFEP-ME-024_NEUFEP-ME-rest1_SENSE_3_1_echo-3.json' to '/Volumes/Stephan_WD/NEUFEPME_data_organised/bids/sub-024/func/sub-024_task-rest_run-1_echo-3_bold.json'\n",
      "Renaming '/Volumes/Stephan_WD/NEUFEPME_data_organised/bids/sub-024/NEUFEP-ME-024_NEUFEP-ME-024_NEUFEP-ME-rest1_SENSE_3_1_echo-3.nii' to '/Volumes/Stephan_WD/NEUFEPME_data_organised/bids/sub-024/func/sub-024_task-rest_run-1_echo-3_bold.nii'\n",
      "Renaming '/Volumes/Stephan_WD/NEUFEPME_data_organised/bids/sub-024/NEUFEP-ME-024_NEUFEP-ME-024_NEUFEP-ME-rest2_SENSE_6_1_echo-1.json' to '/Volumes/Stephan_WD/NEUFEPME_data_organised/bids/sub-024/func/sub-024_task-rest_run-2_echo-1_bold.json'\n",
      "Renaming '/Volumes/Stephan_WD/NEUFEPME_data_organised/bids/sub-024/NEUFEP-ME-024_NEUFEP-ME-024_NEUFEP-ME-rest2_SENSE_6_1_echo-1.nii' to '/Volumes/Stephan_WD/NEUFEPME_data_organised/bids/sub-024/func/sub-024_task-rest_run-2_echo-1_bold.nii'\n",
      "Renaming '/Volumes/Stephan_WD/NEUFEPME_data_organised/bids/sub-024/NEUFEP-ME-024_NEUFEP-ME-024_NEUFEP-ME-rest2_SENSE_6_1_echo-2.json' to '/Volumes/Stephan_WD/NEUFEPME_data_organised/bids/sub-024/func/sub-024_task-rest_run-2_echo-2_bold.json'\n",
      "Renaming '/Volumes/Stephan_WD/NEUFEPME_data_organised/bids/sub-024/NEUFEP-ME-024_NEUFEP-ME-024_NEUFEP-ME-rest2_SENSE_6_1_echo-2.nii' to '/Volumes/Stephan_WD/NEUFEPME_data_organised/bids/sub-024/func/sub-024_task-rest_run-2_echo-2_bold.nii'\n",
      "Renaming '/Volumes/Stephan_WD/NEUFEPME_data_organised/bids/sub-024/NEUFEP-ME-024_NEUFEP-ME-024_NEUFEP-ME-rest2_SENSE_6_1_echo-3.json' to '/Volumes/Stephan_WD/NEUFEPME_data_organised/bids/sub-024/func/sub-024_task-rest_run-2_echo-3_bold.json'\n",
      "Renaming '/Volumes/Stephan_WD/NEUFEPME_data_organised/bids/sub-024/NEUFEP-ME-024_NEUFEP-ME-024_NEUFEP-ME-rest2_SENSE_6_1_echo-3.nii' to '/Volumes/Stephan_WD/NEUFEPME_data_organised/bids/sub-024/func/sub-024_task-rest_run-2_echo-3_bold.nii'\n",
      "Renaming '/Volumes/Stephan_WD/NEUFEPME_data_organised/bids/sub-024/NEUFEP-ME-024_NEUFEP-ME-024_NEUFEP-ME-motor1_SENSE_4_1_echo-1.json' to '/Volumes/Stephan_WD/NEUFEPME_data_organised/bids/sub-024/func/sub-024_task-motor_run-1_echo-1_bold.json'\n",
      "Renaming '/Volumes/Stephan_WD/NEUFEPME_data_organised/bids/sub-024/NEUFEP-ME-024_NEUFEP-ME-024_NEUFEP-ME-motor1_SENSE_4_1_echo-1.nii' to '/Volumes/Stephan_WD/NEUFEPME_data_organised/bids/sub-024/func/sub-024_task-motor_run-1_echo-1_bold.nii'\n",
      "Renaming '/Volumes/Stephan_WD/NEUFEPME_data_organised/bids/sub-024/NEUFEP-ME-024_NEUFEP-ME-024_NEUFEP-ME-motor1_SENSE_4_1_echo-2.json' to '/Volumes/Stephan_WD/NEUFEPME_data_organised/bids/sub-024/func/sub-024_task-motor_run-1_echo-2_bold.json'\n",
      "Renaming '/Volumes/Stephan_WD/NEUFEPME_data_organised/bids/sub-024/NEUFEP-ME-024_NEUFEP-ME-024_NEUFEP-ME-motor1_SENSE_4_1_echo-2.nii' to '/Volumes/Stephan_WD/NEUFEPME_data_organised/bids/sub-024/func/sub-024_task-motor_run-1_echo-2_bold.nii'\n",
      "Renaming '/Volumes/Stephan_WD/NEUFEPME_data_organised/bids/sub-024/NEUFEP-ME-024_NEUFEP-ME-024_NEUFEP-ME-motor1_SENSE_4_1_echo-3.json' to '/Volumes/Stephan_WD/NEUFEPME_data_organised/bids/sub-024/func/sub-024_task-motor_run-1_echo-3_bold.json'\n",
      "Renaming '/Volumes/Stephan_WD/NEUFEPME_data_organised/bids/sub-024/NEUFEP-ME-024_NEUFEP-ME-024_NEUFEP-ME-motor1_SENSE_4_1_echo-3.nii' to '/Volumes/Stephan_WD/NEUFEPME_data_organised/bids/sub-024/func/sub-024_task-motor_run-1_echo-3_bold.nii'\n",
      "Renaming '/Volumes/Stephan_WD/NEUFEPME_data_organised/bids/sub-024/NEUFEP-ME-024_NEUFEP-ME-024_NEUFEP-ME-motor2_SENSE_7_1_echo-1.json' to '/Volumes/Stephan_WD/NEUFEPME_data_organised/bids/sub-024/func/sub-024_task-motor_run-2_echo-1_bold.json'\n",
      "Renaming '/Volumes/Stephan_WD/NEUFEPME_data_organised/bids/sub-024/NEUFEP-ME-024_NEUFEP-ME-024_NEUFEP-ME-motor2_SENSE_7_1_echo-1.nii' to '/Volumes/Stephan_WD/NEUFEPME_data_organised/bids/sub-024/func/sub-024_task-motor_run-2_echo-1_bold.nii'\n",
      "Renaming '/Volumes/Stephan_WD/NEUFEPME_data_organised/bids/sub-024/NEUFEP-ME-024_NEUFEP-ME-024_NEUFEP-ME-motor2_SENSE_7_1_echo-2.json' to '/Volumes/Stephan_WD/NEUFEPME_data_organised/bids/sub-024/func/sub-024_task-motor_run-2_echo-2_bold.json'\n",
      "Renaming '/Volumes/Stephan_WD/NEUFEPME_data_organised/bids/sub-024/NEUFEP-ME-024_NEUFEP-ME-024_NEUFEP-ME-motor2_SENSE_7_1_echo-2.nii' to '/Volumes/Stephan_WD/NEUFEPME_data_organised/bids/sub-024/func/sub-024_task-motor_run-2_echo-2_bold.nii'\n",
      "Renaming '/Volumes/Stephan_WD/NEUFEPME_data_organised/bids/sub-024/NEUFEP-ME-024_NEUFEP-ME-024_NEUFEP-ME-motor2_SENSE_7_1_echo-3.json' to '/Volumes/Stephan_WD/NEUFEPME_data_organised/bids/sub-024/func/sub-024_task-motor_run-2_echo-3_bold.json'\n",
      "Renaming '/Volumes/Stephan_WD/NEUFEPME_data_organised/bids/sub-024/NEUFEP-ME-024_NEUFEP-ME-024_NEUFEP-ME-motor2_SENSE_7_1_echo-3.nii' to '/Volumes/Stephan_WD/NEUFEPME_data_organised/bids/sub-024/func/sub-024_task-motor_run-2_echo-3_bold.nii'\n",
      "Renaming '/Volumes/Stephan_WD/NEUFEPME_data_organised/bids/sub-024/NEUFEP-ME-024_NEUFEP-ME-024_NEUFEP-ME-emotion1_SENSE_5_1_echo-1.json' to '/Volumes/Stephan_WD/NEUFEPME_data_organised/bids/sub-024/func/sub-024_task-emotion_run-1_echo-1_bold.json'\n",
      "Renaming '/Volumes/Stephan_WD/NEUFEPME_data_organised/bids/sub-024/NEUFEP-ME-024_NEUFEP-ME-024_NEUFEP-ME-emotion1_SENSE_5_1_echo-1.nii' to '/Volumes/Stephan_WD/NEUFEPME_data_organised/bids/sub-024/func/sub-024_task-emotion_run-1_echo-1_bold.nii'\n",
      "Renaming '/Volumes/Stephan_WD/NEUFEPME_data_organised/bids/sub-024/NEUFEP-ME-024_NEUFEP-ME-024_NEUFEP-ME-emotion1_SENSE_5_1_echo-2.json' to '/Volumes/Stephan_WD/NEUFEPME_data_organised/bids/sub-024/func/sub-024_task-emotion_run-1_echo-2_bold.json'\n",
      "Renaming '/Volumes/Stephan_WD/NEUFEPME_data_organised/bids/sub-024/NEUFEP-ME-024_NEUFEP-ME-024_NEUFEP-ME-emotion1_SENSE_5_1_echo-2.nii' to '/Volumes/Stephan_WD/NEUFEPME_data_organised/bids/sub-024/func/sub-024_task-emotion_run-1_echo-2_bold.nii'\n",
      "Renaming '/Volumes/Stephan_WD/NEUFEPME_data_organised/bids/sub-024/NEUFEP-ME-024_NEUFEP-ME-024_NEUFEP-ME-emotion1_SENSE_5_1_echo-3.json' to '/Volumes/Stephan_WD/NEUFEPME_data_organised/bids/sub-024/func/sub-024_task-emotion_run-1_echo-3_bold.json'\n",
      "Renaming '/Volumes/Stephan_WD/NEUFEPME_data_organised/bids/sub-024/NEUFEP-ME-024_NEUFEP-ME-024_NEUFEP-ME-emotion1_SENSE_5_1_echo-3.nii' to '/Volumes/Stephan_WD/NEUFEPME_data_organised/bids/sub-024/func/sub-024_task-emotion_run-1_echo-3_bold.nii'\n",
      "Renaming '/Volumes/Stephan_WD/NEUFEPME_data_organised/bids/sub-024/NEUFEP-ME-024_NEUFEP-ME-024_NEUFEP-ME-emotion2_SENSE_8_1_echo-1.json' to '/Volumes/Stephan_WD/NEUFEPME_data_organised/bids/sub-024/func/sub-024_task-emotion_run-2_echo-1_bold.json'\n",
      "Renaming '/Volumes/Stephan_WD/NEUFEPME_data_organised/bids/sub-024/NEUFEP-ME-024_NEUFEP-ME-024_NEUFEP-ME-emotion2_SENSE_8_1_echo-1.nii' to '/Volumes/Stephan_WD/NEUFEPME_data_organised/bids/sub-024/func/sub-024_task-emotion_run-2_echo-1_bold.nii'\n",
      "Renaming '/Volumes/Stephan_WD/NEUFEPME_data_organised/bids/sub-024/NEUFEP-ME-024_NEUFEP-ME-024_NEUFEP-ME-emotion2_SENSE_8_1_echo-2.json' to '/Volumes/Stephan_WD/NEUFEPME_data_organised/bids/sub-024/func/sub-024_task-emotion_run-2_echo-2_bold.json'\n",
      "Renaming '/Volumes/Stephan_WD/NEUFEPME_data_organised/bids/sub-024/NEUFEP-ME-024_NEUFEP-ME-024_NEUFEP-ME-emotion2_SENSE_8_1_echo-2.nii' to '/Volumes/Stephan_WD/NEUFEPME_data_organised/bids/sub-024/func/sub-024_task-emotion_run-2_echo-2_bold.nii'\n",
      "Renaming '/Volumes/Stephan_WD/NEUFEPME_data_organised/bids/sub-024/NEUFEP-ME-024_NEUFEP-ME-024_NEUFEP-ME-emotion2_SENSE_8_1_echo-3.json' to '/Volumes/Stephan_WD/NEUFEPME_data_organised/bids/sub-024/func/sub-024_task-emotion_run-2_echo-3_bold.json'\n",
      "Renaming '/Volumes/Stephan_WD/NEUFEPME_data_organised/bids/sub-024/NEUFEP-ME-024_NEUFEP-ME-024_NEUFEP-ME-emotion2_SENSE_8_1_echo-3.nii' to '/Volumes/Stephan_WD/NEUFEPME_data_organised/bids/sub-024/func/sub-024_task-emotion_run-2_echo-3_bold.nii'\n",
      "Renaming '/Volumes/Stephan_WD/NEUFEPME_data_organised/bids/sub-024/NEUFEP-ME-024^NEUFEP-ME-024_T1W_3D_TFE_2_1.nii' to '/Volumes/Stephan_WD/NEUFEPME_data_organised/bids/sub-024/anat/sub-024_T1w.nii'\n"
     ]
    },
    {
     "name": "stdout",
     "output_type": "stream",
     "text": [
      "Converting data from sub-025 ...\n",
      "WARNING: file NEUFEP-ME-025^NEUFEP-ME-025_NEUFEP-ME-emotion1_SENSE_5_1.PAR seems to be a multiecho file - this feature is experimental!\n",
      "Compression will be faster with 'pigz' installed http://macappstore.org/pigz/\n",
      "Chris Rorden's dcm2niiX version v1.0.20190410  Clang9.0.0 (64-bit MacOS)\n",
      "Warning: dcm2niix PAR is not actively supported (hint: use dicm2nii)\n",
      "Warning: Reported TR=2002.7ms, measured TR=2002.68ms (prospect. motion corr.?)\n",
      "Warning: PAR file volumes not saved in ascending temporal order (please check re-ordering)\n",
      "Warning: Distance between slices reported by slice gap+thick does not match estimate from slice positions (issue 273).\n",
      "Done reading PAR header version 4.2, with 21420 slices\n",
      "Warning: Multiple Echo (3) or Cardiac (1). Carefully inspect output\n",
      "Philips Scaling Values RS:RI:SS = 0.73553:0:0.00215263 (see PMC3998685)\n",
      "Convert 1 DICOM as /Volumes/Stephan_WD/NEUFEPME_data_organised/bids/sub-025/NEUFEP-ME-025_NEUFEP-ME-025_NEUFEP-ME-emotion1_SENSE_5_1_echo-1 (64x64x34x210)\n",
      "Philips Scaling Values RS:RI:SS = 0.73553:0:0.00215263 (see PMC3998685)\n",
      "Convert 1 DICOM as /Volumes/Stephan_WD/NEUFEPME_data_organised/bids/sub-025/NEUFEP-ME-025_NEUFEP-ME-025_NEUFEP-ME-emotion1_SENSE_5_1_echo-2 (64x64x34x210)\n",
      "Philips Scaling Values RS:RI:SS = 0.73553:0:0.00215263 (see PMC3998685)\n",
      "Convert 1 DICOM as /Volumes/Stephan_WD/NEUFEPME_data_organised/bids/sub-025/NEUFEP-ME-025_NEUFEP-ME-025_NEUFEP-ME-emotion1_SENSE_5_1_echo-3 (64x64x34x210)\n",
      "Conversion required 5.454708 seconds (2.032057 for core code).\n",
      "WARNING: file NEUFEP-ME-025^NEUFEP-ME-025_NEUFEP-ME-emotion2_SENSE_8_1.PAR seems to be a multiecho file - this feature is experimental!\n",
      "Compression will be faster with 'pigz' installed http://macappstore.org/pigz/\n",
      "Chris Rorden's dcm2niiX version v1.0.20190410  Clang9.0.0 (64-bit MacOS)\n",
      "Warning: dcm2niix PAR is not actively supported (hint: use dicm2nii)\n",
      "Warning: Reported TR=2002.7ms, measured TR=2002.68ms (prospect. motion corr.?)\n",
      "Warning: PAR file volumes not saved in ascending temporal order (please check re-ordering)\n",
      "Warning: Distance between slices reported by slice gap+thick does not match estimate from slice positions (issue 273).\n",
      "Done reading PAR header version 4.2, with 21420 slices\n",
      "Warning: Multiple Echo (3) or Cardiac (1). Carefully inspect output\n",
      "Philips Scaling Values RS:RI:SS = 0.75018:0:0.00217266 (see PMC3998685)\n",
      "Convert 1 DICOM as /Volumes/Stephan_WD/NEUFEPME_data_organised/bids/sub-025/NEUFEP-ME-025_NEUFEP-ME-025_NEUFEP-ME-emotion2_SENSE_8_1_echo-1 (64x64x34x210)\n",
      "Philips Scaling Values RS:RI:SS = 0.75018:0:0.00217266 (see PMC3998685)\n",
      "Convert 1 DICOM as /Volumes/Stephan_WD/NEUFEPME_data_organised/bids/sub-025/NEUFEP-ME-025_NEUFEP-ME-025_NEUFEP-ME-emotion2_SENSE_8_1_echo-2 (64x64x34x210)\n",
      "Philips Scaling Values RS:RI:SS = 0.75018:0:0.00217266 (see PMC3998685)\n",
      "Convert 1 DICOM as /Volumes/Stephan_WD/NEUFEPME_data_organised/bids/sub-025/NEUFEP-ME-025_NEUFEP-ME-025_NEUFEP-ME-emotion2_SENSE_8_1_echo-3 (64x64x34x210)\n",
      "Conversion required 5.517785 seconds (2.015238 for core code).\n",
      "WARNING: file NEUFEP-ME-025^NEUFEP-ME-025_NEUFEP-ME-motor1_SENSE_4_1.PAR seems to be a multiecho file - this feature is experimental!\n",
      "Compression will be faster with 'pigz' installed http://macappstore.org/pigz/\n",
      "Chris Rorden's dcm2niiX version v1.0.20190410  Clang9.0.0 (64-bit MacOS)\n",
      "Warning: dcm2niix PAR is not actively supported (hint: use dicm2nii)\n",
      "Warning: Reported TR=2002.7ms, measured TR=2002.68ms (prospect. motion corr.?)\n",
      "Warning: PAR file volumes not saved in ascending temporal order (please check re-ordering)\n",
      "Warning: Distance between slices reported by slice gap+thick does not match estimate from slice positions (issue 273).\n",
      "Done reading PAR header version 4.2, with 21420 slices\n",
      "Warning: Multiple Echo (3) or Cardiac (1). Carefully inspect output\n",
      "Philips Scaling Values RS:RI:SS = 0.73773:0:0.00216358 (see PMC3998685)\n",
      "Convert 1 DICOM as /Volumes/Stephan_WD/NEUFEPME_data_organised/bids/sub-025/NEUFEP-ME-025_NEUFEP-ME-025_NEUFEP-ME-motor1_SENSE_4_1_echo-1 (64x64x34x210)\n",
      "Philips Scaling Values RS:RI:SS = 0.73773:0:0.00216358 (see PMC3998685)\n",
      "Convert 1 DICOM as /Volumes/Stephan_WD/NEUFEPME_data_organised/bids/sub-025/NEUFEP-ME-025_NEUFEP-ME-025_NEUFEP-ME-motor1_SENSE_4_1_echo-2 (64x64x34x210)\n",
      "Philips Scaling Values RS:RI:SS = 0.73773:0:0.00216358 (see PMC3998685)\n",
      "Convert 1 DICOM as /Volumes/Stephan_WD/NEUFEPME_data_organised/bids/sub-025/NEUFEP-ME-025_NEUFEP-ME-025_NEUFEP-ME-motor1_SENSE_4_1_echo-3 (64x64x34x210)\n",
      "Conversion required 5.780177 seconds (2.063657 for core code).\n",
      "WARNING: file NEUFEP-ME-025^NEUFEP-ME-025_NEUFEP-ME-motor2_SENSE_7_1.PAR seems to be a multiecho file - this feature is experimental!\n",
      "Compression will be faster with 'pigz' installed http://macappstore.org/pigz/\n",
      "Chris Rorden's dcm2niiX version v1.0.20190410  Clang9.0.0 (64-bit MacOS)\n",
      "Warning: dcm2niix PAR is not actively supported (hint: use dicm2nii)\n",
      "Warning: Reported TR=2002.7ms, measured TR=2002.68ms (prospect. motion corr.?)\n",
      "Warning: PAR file volumes not saved in ascending temporal order (please check re-ordering)\n",
      "Warning: Distance between slices reported by slice gap+thick does not match estimate from slice positions (issue 273).\n",
      "Done reading PAR header version 4.2, with 21420 slices\n",
      "Warning: Multiple Echo (3) or Cardiac (1). Carefully inspect output\n",
      "Philips Scaling Values RS:RI:SS = 0.74872:0:0.00216674 (see PMC3998685)\n",
      "Convert 1 DICOM as /Volumes/Stephan_WD/NEUFEPME_data_organised/bids/sub-025/NEUFEP-ME-025_NEUFEP-ME-025_NEUFEP-ME-motor2_SENSE_7_1_echo-1 (64x64x34x210)\n",
      "Philips Scaling Values RS:RI:SS = 0.74872:0:0.00216674 (see PMC3998685)\n",
      "Convert 1 DICOM as /Volumes/Stephan_WD/NEUFEPME_data_organised/bids/sub-025/NEUFEP-ME-025_NEUFEP-ME-025_NEUFEP-ME-motor2_SENSE_7_1_echo-2 (64x64x34x210)\n",
      "Philips Scaling Values RS:RI:SS = 0.74872:0:0.00216674 (see PMC3998685)\n",
      "Convert 1 DICOM as /Volumes/Stephan_WD/NEUFEPME_data_organised/bids/sub-025/NEUFEP-ME-025_NEUFEP-ME-025_NEUFEP-ME-motor2_SENSE_7_1_echo-3 (64x64x34x210)\n",
      "Conversion required 5.681646 seconds (2.044217 for core code).\n",
      "WARNING: file NEUFEP-ME-025^NEUFEP-ME-025_NEUFEP-ME-rest1_SENSE_3_1.PAR seems to be a multiecho file - this feature is experimental!\n",
      "Compression will be faster with 'pigz' installed http://macappstore.org/pigz/\n",
      "Chris Rorden's dcm2niiX version v1.0.20190410  Clang9.0.0 (64-bit MacOS)\n",
      "Warning: dcm2niix PAR is not actively supported (hint: use dicm2nii)\n",
      "Warning: Reported TR=2002.7ms, measured TR=2002.68ms (prospect. motion corr.?)\n",
      "Warning: PAR file volumes not saved in ascending temporal order (please check re-ordering)\n",
      "Warning: Distance between slices reported by slice gap+thick does not match estimate from slice positions (issue 273).\n",
      "Done reading PAR header version 4.2, with 21420 slices\n",
      "Warning: Multiple Echo (3) or Cardiac (1). Carefully inspect output\n",
      "Philips Scaling Values RS:RI:SS = 0.77338:0:0.00208613 (see PMC3998685)\n",
      "Convert 1 DICOM as /Volumes/Stephan_WD/NEUFEPME_data_organised/bids/sub-025/NEUFEP-ME-025_NEUFEP-ME-025_NEUFEP-ME-rest1_SENSE_3_1_echo-1 (64x64x34x210)\n",
      "Philips Scaling Values RS:RI:SS = 0.77338:0:0.00208613 (see PMC3998685)\n",
      "Convert 1 DICOM as /Volumes/Stephan_WD/NEUFEPME_data_organised/bids/sub-025/NEUFEP-ME-025_NEUFEP-ME-025_NEUFEP-ME-rest1_SENSE_3_1_echo-2 (64x64x34x210)\n",
      "Philips Scaling Values RS:RI:SS = 0.77338:0:0.00208613 (see PMC3998685)\n",
      "Convert 1 DICOM as /Volumes/Stephan_WD/NEUFEPME_data_organised/bids/sub-025/NEUFEP-ME-025_NEUFEP-ME-025_NEUFEP-ME-rest1_SENSE_3_1_echo-3 (64x64x34x210)\n",
      "Conversion required 5.662554 seconds (1.956008 for core code).\n",
      "WARNING: file NEUFEP-ME-025^NEUFEP-ME-025_NEUFEP-ME-rest2_SENSE_6_1.PAR seems to be a multiecho file - this feature is experimental!\n",
      "Compression will be faster with 'pigz' installed http://macappstore.org/pigz/\n",
      "Chris Rorden's dcm2niiX version v1.0.20190410  Clang9.0.0 (64-bit MacOS)\n",
      "Warning: dcm2niix PAR is not actively supported (hint: use dicm2nii)\n",
      "Warning: Reported TR=2002.7ms, measured TR=2002.68ms (prospect. motion corr.?)\n",
      "Warning: PAR file volumes not saved in ascending temporal order (please check re-ordering)\n",
      "Warning: Distance between slices reported by slice gap+thick does not match estimate from slice positions (issue 273).\n",
      "Done reading PAR header version 4.2, with 21420 slices\n"
     ]
    },
    {
     "name": "stdout",
     "output_type": "stream",
     "text": [
      "Warning: Multiple Echo (3) or Cardiac (1). Carefully inspect output\n",
      "Philips Scaling Values RS:RI:SS = 0.75849:0:0.00220491 (see PMC3998685)\n",
      "Convert 1 DICOM as /Volumes/Stephan_WD/NEUFEPME_data_organised/bids/sub-025/NEUFEP-ME-025_NEUFEP-ME-025_NEUFEP-ME-rest2_SENSE_6_1_echo-1 (64x64x34x210)\n",
      "Philips Scaling Values RS:RI:SS = 0.75849:0:0.00220491 (see PMC3998685)\n",
      "Convert 1 DICOM as /Volumes/Stephan_WD/NEUFEPME_data_organised/bids/sub-025/NEUFEP-ME-025_NEUFEP-ME-025_NEUFEP-ME-rest2_SENSE_6_1_echo-2 (64x64x34x210)\n",
      "Philips Scaling Values RS:RI:SS = 0.75849:0:0.00220491 (see PMC3998685)\n",
      "Convert 1 DICOM as /Volumes/Stephan_WD/NEUFEPME_data_organised/bids/sub-025/NEUFEP-ME-025_NEUFEP-ME-025_NEUFEP-ME-rest2_SENSE_6_1_echo-3 (64x64x34x210)\n",
      "Conversion required 6.208397 seconds (2.053565 for core code).\n",
      "Renaming '/Volumes/Stephan_WD/NEUFEPME_data_organised/bids/sub-025/NEUFEP-ME-025_NEUFEP-ME-025_NEUFEP-ME-rest1_SENSE_3_1_echo-1.json' to '/Volumes/Stephan_WD/NEUFEPME_data_organised/bids/sub-025/func/sub-025_task-rest_run-1_echo-1_bold.json'\n",
      "Renaming '/Volumes/Stephan_WD/NEUFEPME_data_organised/bids/sub-025/NEUFEP-ME-025_NEUFEP-ME-025_NEUFEP-ME-rest1_SENSE_3_1_echo-1.nii' to '/Volumes/Stephan_WD/NEUFEPME_data_organised/bids/sub-025/func/sub-025_task-rest_run-1_echo-1_bold.nii'\n",
      "Renaming '/Volumes/Stephan_WD/NEUFEPME_data_organised/bids/sub-025/NEUFEP-ME-025_NEUFEP-ME-025_NEUFEP-ME-rest1_SENSE_3_1_echo-2.json' to '/Volumes/Stephan_WD/NEUFEPME_data_organised/bids/sub-025/func/sub-025_task-rest_run-1_echo-2_bold.json'\n",
      "Renaming '/Volumes/Stephan_WD/NEUFEPME_data_organised/bids/sub-025/NEUFEP-ME-025_NEUFEP-ME-025_NEUFEP-ME-rest1_SENSE_3_1_echo-2.nii' to '/Volumes/Stephan_WD/NEUFEPME_data_organised/bids/sub-025/func/sub-025_task-rest_run-1_echo-2_bold.nii'\n",
      "Renaming '/Volumes/Stephan_WD/NEUFEPME_data_organised/bids/sub-025/NEUFEP-ME-025_NEUFEP-ME-025_NEUFEP-ME-rest1_SENSE_3_1_echo-3.json' to '/Volumes/Stephan_WD/NEUFEPME_data_organised/bids/sub-025/func/sub-025_task-rest_run-1_echo-3_bold.json'\n",
      "Renaming '/Volumes/Stephan_WD/NEUFEPME_data_organised/bids/sub-025/NEUFEP-ME-025_NEUFEP-ME-025_NEUFEP-ME-rest1_SENSE_3_1_echo-3.nii' to '/Volumes/Stephan_WD/NEUFEPME_data_organised/bids/sub-025/func/sub-025_task-rest_run-1_echo-3_bold.nii'\n",
      "Renaming '/Volumes/Stephan_WD/NEUFEPME_data_organised/bids/sub-025/NEUFEP-ME-025_NEUFEP-ME-025_NEUFEP-ME-rest2_SENSE_6_1_echo-1.json' to '/Volumes/Stephan_WD/NEUFEPME_data_organised/bids/sub-025/func/sub-025_task-rest_run-2_echo-1_bold.json'\n",
      "Renaming '/Volumes/Stephan_WD/NEUFEPME_data_organised/bids/sub-025/NEUFEP-ME-025_NEUFEP-ME-025_NEUFEP-ME-rest2_SENSE_6_1_echo-1.nii' to '/Volumes/Stephan_WD/NEUFEPME_data_organised/bids/sub-025/func/sub-025_task-rest_run-2_echo-1_bold.nii'\n",
      "Renaming '/Volumes/Stephan_WD/NEUFEPME_data_organised/bids/sub-025/NEUFEP-ME-025_NEUFEP-ME-025_NEUFEP-ME-rest2_SENSE_6_1_echo-2.json' to '/Volumes/Stephan_WD/NEUFEPME_data_organised/bids/sub-025/func/sub-025_task-rest_run-2_echo-2_bold.json'\n",
      "Renaming '/Volumes/Stephan_WD/NEUFEPME_data_organised/bids/sub-025/NEUFEP-ME-025_NEUFEP-ME-025_NEUFEP-ME-rest2_SENSE_6_1_echo-2.nii' to '/Volumes/Stephan_WD/NEUFEPME_data_organised/bids/sub-025/func/sub-025_task-rest_run-2_echo-2_bold.nii'\n",
      "Renaming '/Volumes/Stephan_WD/NEUFEPME_data_organised/bids/sub-025/NEUFEP-ME-025_NEUFEP-ME-025_NEUFEP-ME-rest2_SENSE_6_1_echo-3.json' to '/Volumes/Stephan_WD/NEUFEPME_data_organised/bids/sub-025/func/sub-025_task-rest_run-2_echo-3_bold.json'\n",
      "Renaming '/Volumes/Stephan_WD/NEUFEPME_data_organised/bids/sub-025/NEUFEP-ME-025_NEUFEP-ME-025_NEUFEP-ME-rest2_SENSE_6_1_echo-3.nii' to '/Volumes/Stephan_WD/NEUFEPME_data_organised/bids/sub-025/func/sub-025_task-rest_run-2_echo-3_bold.nii'\n",
      "Renaming '/Volumes/Stephan_WD/NEUFEPME_data_organised/bids/sub-025/NEUFEP-ME-025_NEUFEP-ME-025_NEUFEP-ME-motor1_SENSE_4_1_echo-1.json' to '/Volumes/Stephan_WD/NEUFEPME_data_organised/bids/sub-025/func/sub-025_task-motor_run-1_echo-1_bold.json'\n",
      "Renaming '/Volumes/Stephan_WD/NEUFEPME_data_organised/bids/sub-025/NEUFEP-ME-025_NEUFEP-ME-025_NEUFEP-ME-motor1_SENSE_4_1_echo-1.nii' to '/Volumes/Stephan_WD/NEUFEPME_data_organised/bids/sub-025/func/sub-025_task-motor_run-1_echo-1_bold.nii'\n",
      "Renaming '/Volumes/Stephan_WD/NEUFEPME_data_organised/bids/sub-025/NEUFEP-ME-025_NEUFEP-ME-025_NEUFEP-ME-motor1_SENSE_4_1_echo-2.json' to '/Volumes/Stephan_WD/NEUFEPME_data_organised/bids/sub-025/func/sub-025_task-motor_run-1_echo-2_bold.json'\n",
      "Renaming '/Volumes/Stephan_WD/NEUFEPME_data_organised/bids/sub-025/NEUFEP-ME-025_NEUFEP-ME-025_NEUFEP-ME-motor1_SENSE_4_1_echo-2.nii' to '/Volumes/Stephan_WD/NEUFEPME_data_organised/bids/sub-025/func/sub-025_task-motor_run-1_echo-2_bold.nii'\n",
      "Renaming '/Volumes/Stephan_WD/NEUFEPME_data_organised/bids/sub-025/NEUFEP-ME-025_NEUFEP-ME-025_NEUFEP-ME-motor1_SENSE_4_1_echo-3.json' to '/Volumes/Stephan_WD/NEUFEPME_data_organised/bids/sub-025/func/sub-025_task-motor_run-1_echo-3_bold.json'\n",
      "Renaming '/Volumes/Stephan_WD/NEUFEPME_data_organised/bids/sub-025/NEUFEP-ME-025_NEUFEP-ME-025_NEUFEP-ME-motor1_SENSE_4_1_echo-3.nii' to '/Volumes/Stephan_WD/NEUFEPME_data_organised/bids/sub-025/func/sub-025_task-motor_run-1_echo-3_bold.nii'\n",
      "Renaming '/Volumes/Stephan_WD/NEUFEPME_data_organised/bids/sub-025/NEUFEP-ME-025_NEUFEP-ME-025_NEUFEP-ME-motor2_SENSE_7_1_echo-1.json' to '/Volumes/Stephan_WD/NEUFEPME_data_organised/bids/sub-025/func/sub-025_task-motor_run-2_echo-1_bold.json'\n",
      "Renaming '/Volumes/Stephan_WD/NEUFEPME_data_organised/bids/sub-025/NEUFEP-ME-025_NEUFEP-ME-025_NEUFEP-ME-motor2_SENSE_7_1_echo-1.nii' to '/Volumes/Stephan_WD/NEUFEPME_data_organised/bids/sub-025/func/sub-025_task-motor_run-2_echo-1_bold.nii'\n",
      "Renaming '/Volumes/Stephan_WD/NEUFEPME_data_organised/bids/sub-025/NEUFEP-ME-025_NEUFEP-ME-025_NEUFEP-ME-motor2_SENSE_7_1_echo-2.json' to '/Volumes/Stephan_WD/NEUFEPME_data_organised/bids/sub-025/func/sub-025_task-motor_run-2_echo-2_bold.json'\n",
      "Renaming '/Volumes/Stephan_WD/NEUFEPME_data_organised/bids/sub-025/NEUFEP-ME-025_NEUFEP-ME-025_NEUFEP-ME-motor2_SENSE_7_1_echo-2.nii' to '/Volumes/Stephan_WD/NEUFEPME_data_organised/bids/sub-025/func/sub-025_task-motor_run-2_echo-2_bold.nii'\n",
      "Renaming '/Volumes/Stephan_WD/NEUFEPME_data_organised/bids/sub-025/NEUFEP-ME-025_NEUFEP-ME-025_NEUFEP-ME-motor2_SENSE_7_1_echo-3.json' to '/Volumes/Stephan_WD/NEUFEPME_data_organised/bids/sub-025/func/sub-025_task-motor_run-2_echo-3_bold.json'\n",
      "Renaming '/Volumes/Stephan_WD/NEUFEPME_data_organised/bids/sub-025/NEUFEP-ME-025_NEUFEP-ME-025_NEUFEP-ME-motor2_SENSE_7_1_echo-3.nii' to '/Volumes/Stephan_WD/NEUFEPME_data_organised/bids/sub-025/func/sub-025_task-motor_run-2_echo-3_bold.nii'\n",
      "Renaming '/Volumes/Stephan_WD/NEUFEPME_data_organised/bids/sub-025/NEUFEP-ME-025_NEUFEP-ME-025_NEUFEP-ME-emotion1_SENSE_5_1_echo-1.json' to '/Volumes/Stephan_WD/NEUFEPME_data_organised/bids/sub-025/func/sub-025_task-emotion_run-1_echo-1_bold.json'\n",
      "Renaming '/Volumes/Stephan_WD/NEUFEPME_data_organised/bids/sub-025/NEUFEP-ME-025_NEUFEP-ME-025_NEUFEP-ME-emotion1_SENSE_5_1_echo-1.nii' to '/Volumes/Stephan_WD/NEUFEPME_data_organised/bids/sub-025/func/sub-025_task-emotion_run-1_echo-1_bold.nii'\n",
      "Renaming '/Volumes/Stephan_WD/NEUFEPME_data_organised/bids/sub-025/NEUFEP-ME-025_NEUFEP-ME-025_NEUFEP-ME-emotion1_SENSE_5_1_echo-2.json' to '/Volumes/Stephan_WD/NEUFEPME_data_organised/bids/sub-025/func/sub-025_task-emotion_run-1_echo-2_bold.json'\n",
      "Renaming '/Volumes/Stephan_WD/NEUFEPME_data_organised/bids/sub-025/NEUFEP-ME-025_NEUFEP-ME-025_NEUFEP-ME-emotion1_SENSE_5_1_echo-2.nii' to '/Volumes/Stephan_WD/NEUFEPME_data_organised/bids/sub-025/func/sub-025_task-emotion_run-1_echo-2_bold.nii'\n",
      "Renaming '/Volumes/Stephan_WD/NEUFEPME_data_organised/bids/sub-025/NEUFEP-ME-025_NEUFEP-ME-025_NEUFEP-ME-emotion1_SENSE_5_1_echo-3.json' to '/Volumes/Stephan_WD/NEUFEPME_data_organised/bids/sub-025/func/sub-025_task-emotion_run-1_echo-3_bold.json'\n",
      "Renaming '/Volumes/Stephan_WD/NEUFEPME_data_organised/bids/sub-025/NEUFEP-ME-025_NEUFEP-ME-025_NEUFEP-ME-emotion1_SENSE_5_1_echo-3.nii' to '/Volumes/Stephan_WD/NEUFEPME_data_organised/bids/sub-025/func/sub-025_task-emotion_run-1_echo-3_bold.nii'\n",
      "Renaming '/Volumes/Stephan_WD/NEUFEPME_data_organised/bids/sub-025/NEUFEP-ME-025_NEUFEP-ME-025_NEUFEP-ME-emotion2_SENSE_8_1_echo-1.json' to '/Volumes/Stephan_WD/NEUFEPME_data_organised/bids/sub-025/func/sub-025_task-emotion_run-2_echo-1_bold.json'\n",
      "Renaming '/Volumes/Stephan_WD/NEUFEPME_data_organised/bids/sub-025/NEUFEP-ME-025_NEUFEP-ME-025_NEUFEP-ME-emotion2_SENSE_8_1_echo-1.nii' to '/Volumes/Stephan_WD/NEUFEPME_data_organised/bids/sub-025/func/sub-025_task-emotion_run-2_echo-1_bold.nii'\n",
      "Renaming '/Volumes/Stephan_WD/NEUFEPME_data_organised/bids/sub-025/NEUFEP-ME-025_NEUFEP-ME-025_NEUFEP-ME-emotion2_SENSE_8_1_echo-2.json' to '/Volumes/Stephan_WD/NEUFEPME_data_organised/bids/sub-025/func/sub-025_task-emotion_run-2_echo-2_bold.json'\n",
      "Renaming '/Volumes/Stephan_WD/NEUFEPME_data_organised/bids/sub-025/NEUFEP-ME-025_NEUFEP-ME-025_NEUFEP-ME-emotion2_SENSE_8_1_echo-2.nii' to '/Volumes/Stephan_WD/NEUFEPME_data_organised/bids/sub-025/func/sub-025_task-emotion_run-2_echo-2_bold.nii'\n",
      "Renaming '/Volumes/Stephan_WD/NEUFEPME_data_organised/bids/sub-025/NEUFEP-ME-025_NEUFEP-ME-025_NEUFEP-ME-emotion2_SENSE_8_1_echo-3.json' to '/Volumes/Stephan_WD/NEUFEPME_data_organised/bids/sub-025/func/sub-025_task-emotion_run-2_echo-3_bold.json'\n",
      "Renaming '/Volumes/Stephan_WD/NEUFEPME_data_organised/bids/sub-025/NEUFEP-ME-025_NEUFEP-ME-025_NEUFEP-ME-emotion2_SENSE_8_1_echo-3.nii' to '/Volumes/Stephan_WD/NEUFEPME_data_organised/bids/sub-025/func/sub-025_task-emotion_run-2_echo-3_bold.nii'\n",
      "Renaming '/Volumes/Stephan_WD/NEUFEPME_data_organised/bids/sub-025/NEUFEP-ME-025^NEUFEP-ME-025_T1W_3D_TFE_2_1.nii' to '/Volumes/Stephan_WD/NEUFEPME_data_organised/bids/sub-025/anat/sub-025_T1w.nii'\n"
     ]
    },
    {
     "name": "stdout",
     "output_type": "stream",
     "text": [
      "Converting data from sub-026 ...\n",
      "WARNING: file NEUFEP-ME-026^NEUFEP-ME-026_NEUFEP-ME-emotion1_SENSE_5_1.PAR seems to be a multiecho file - this feature is experimental!\n",
      "Compression will be faster with 'pigz' installed http://macappstore.org/pigz/\n",
      "Chris Rorden's dcm2niiX version v1.0.20190410  Clang9.0.0 (64-bit MacOS)\n",
      "Warning: dcm2niix PAR is not actively supported (hint: use dicm2nii)\n",
      "Warning: Reported TR=2001.54ms, measured TR=2001.53ms (prospect. motion corr.?)\n",
      "Warning: PAR file volumes not saved in ascending temporal order (please check re-ordering)\n",
      "Done reading PAR header version 4.2, with 21420 slices\n",
      "Warning: Multiple Echo (3) or Cardiac (1). Carefully inspect output\n",
      "Philips Scaling Values RS:RI:SS = 0.76386:0:0.00182777 (see PMC3998685)\n",
      "Convert 1 DICOM as /Volumes/Stephan_WD/NEUFEPME_data_organised/bids/sub-026/NEUFEP-ME-026_NEUFEP-ME-026_NEUFEP-ME-emotion1_SENSE_5_1_echo-1 (64x64x34x210)\n",
      "Philips Scaling Values RS:RI:SS = 0.76386:0:0.00182777 (see PMC3998685)\n",
      "Convert 1 DICOM as /Volumes/Stephan_WD/NEUFEPME_data_organised/bids/sub-026/NEUFEP-ME-026_NEUFEP-ME-026_NEUFEP-ME-emotion1_SENSE_5_1_echo-2 (64x64x34x210)\n",
      "Philips Scaling Values RS:RI:SS = 0.76386:0:0.00182777 (see PMC3998685)\n",
      "Convert 1 DICOM as /Volumes/Stephan_WD/NEUFEPME_data_organised/bids/sub-026/NEUFEP-ME-026_NEUFEP-ME-026_NEUFEP-ME-emotion1_SENSE_5_1_echo-3 (64x64x34x210)\n",
      "Conversion required 5.401293 seconds (1.916996 for core code).\n",
      "WARNING: file NEUFEP-ME-026^NEUFEP-ME-026_NEUFEP-ME-emotion2_SENSE_8_1.PAR seems to be a multiecho file - this feature is experimental!\n",
      "Compression will be faster with 'pigz' installed http://macappstore.org/pigz/\n",
      "Chris Rorden's dcm2niiX version v1.0.20190410  Clang9.0.0 (64-bit MacOS)\n",
      "Warning: dcm2niix PAR is not actively supported (hint: use dicm2nii)\n",
      "Warning: Reported TR=2001.54ms, measured TR=2001.53ms (prospect. motion corr.?)\n",
      "Warning: PAR file volumes not saved in ascending temporal order (please check re-ordering)\n",
      "Done reading PAR header version 4.2, with 21420 slices\n",
      "Warning: Multiple Echo (3) or Cardiac (1). Carefully inspect output\n",
      "Philips Scaling Values RS:RI:SS = 0.77265:0:0.00184647 (see PMC3998685)\n",
      "Convert 1 DICOM as /Volumes/Stephan_WD/NEUFEPME_data_organised/bids/sub-026/NEUFEP-ME-026_NEUFEP-ME-026_NEUFEP-ME-emotion2_SENSE_8_1_echo-1 (64x64x34x210)\n",
      "Philips Scaling Values RS:RI:SS = 0.77265:0:0.00184647 (see PMC3998685)\n",
      "Convert 1 DICOM as /Volumes/Stephan_WD/NEUFEPME_data_organised/bids/sub-026/NEUFEP-ME-026_NEUFEP-ME-026_NEUFEP-ME-emotion2_SENSE_8_1_echo-2 (64x64x34x210)\n",
      "Philips Scaling Values RS:RI:SS = 0.77265:0:0.00184647 (see PMC3998685)\n",
      "Convert 1 DICOM as /Volumes/Stephan_WD/NEUFEPME_data_organised/bids/sub-026/NEUFEP-ME-026_NEUFEP-ME-026_NEUFEP-ME-emotion2_SENSE_8_1_echo-3 (64x64x34x210)\n",
      "Conversion required 5.695853 seconds (1.950095 for core code).\n",
      "WARNING: file NEUFEP-ME-026^NEUFEP-ME-026_NEUFEP-ME-motor1_SENSE_4_1.PAR seems to be a multiecho file - this feature is experimental!\n",
      "Compression will be faster with 'pigz' installed http://macappstore.org/pigz/\n",
      "Chris Rorden's dcm2niiX version v1.0.20190410  Clang9.0.0 (64-bit MacOS)\n",
      "Warning: dcm2niix PAR is not actively supported (hint: use dicm2nii)\n",
      "Warning: Reported TR=2001.54ms, measured TR=2001.53ms (prospect. motion corr.?)\n",
      "Warning: PAR file volumes not saved in ascending temporal order (please check re-ordering)\n",
      "Done reading PAR header version 4.2, with 21420 slices\n",
      "Warning: Multiple Echo (3) or Cardiac (1). Carefully inspect output\n",
      "Philips Scaling Values RS:RI:SS = 0.75702:0:0.00186262 (see PMC3998685)\n",
      "Convert 1 DICOM as /Volumes/Stephan_WD/NEUFEPME_data_organised/bids/sub-026/NEUFEP-ME-026_NEUFEP-ME-026_NEUFEP-ME-motor1_SENSE_4_1_echo-1 (64x64x34x210)\n",
      "Philips Scaling Values RS:RI:SS = 0.75702:0:0.00186262 (see PMC3998685)\n",
      "Convert 1 DICOM as /Volumes/Stephan_WD/NEUFEPME_data_organised/bids/sub-026/NEUFEP-ME-026_NEUFEP-ME-026_NEUFEP-ME-motor1_SENSE_4_1_echo-2 (64x64x34x210)\n",
      "Philips Scaling Values RS:RI:SS = 0.75702:0:0.00186262 (see PMC3998685)\n",
      "Convert 1 DICOM as /Volumes/Stephan_WD/NEUFEPME_data_organised/bids/sub-026/NEUFEP-ME-026_NEUFEP-ME-026_NEUFEP-ME-motor1_SENSE_4_1_echo-3 (64x64x34x210)\n",
      "Conversion required 5.372340 seconds (1.970983 for core code).\n",
      "WARNING: file NEUFEP-ME-026^NEUFEP-ME-026_NEUFEP-ME-motor2_SENSE_7_1.PAR seems to be a multiecho file - this feature is experimental!\n",
      "Compression will be faster with 'pigz' installed http://macappstore.org/pigz/\n",
      "Chris Rorden's dcm2niiX version v1.0.20190410  Clang9.0.0 (64-bit MacOS)\n",
      "Warning: dcm2niix PAR is not actively supported (hint: use dicm2nii)\n",
      "Warning: Reported TR=2001.54ms, measured TR=2001.53ms (prospect. motion corr.?)\n",
      "Warning: PAR file volumes not saved in ascending temporal order (please check re-ordering)\n",
      "Done reading PAR header version 4.2, with 21420 slices\n",
      "Warning: Multiple Echo (3) or Cardiac (1). Carefully inspect output\n",
      "Philips Scaling Values RS:RI:SS = 0.77094:0:0.00184193 (see PMC3998685)\n",
      "Convert 1 DICOM as /Volumes/Stephan_WD/NEUFEPME_data_organised/bids/sub-026/NEUFEP-ME-026_NEUFEP-ME-026_NEUFEP-ME-motor2_SENSE_7_1_echo-1 (64x64x34x210)\n",
      "Philips Scaling Values RS:RI:SS = 0.77094:0:0.00184193 (see PMC3998685)\n",
      "Convert 1 DICOM as /Volumes/Stephan_WD/NEUFEPME_data_organised/bids/sub-026/NEUFEP-ME-026_NEUFEP-ME-026_NEUFEP-ME-motor2_SENSE_7_1_echo-2 (64x64x34x210)\n",
      "Philips Scaling Values RS:RI:SS = 0.77094:0:0.00184193 (see PMC3998685)\n",
      "Convert 1 DICOM as /Volumes/Stephan_WD/NEUFEPME_data_organised/bids/sub-026/NEUFEP-ME-026_NEUFEP-ME-026_NEUFEP-ME-motor2_SENSE_7_1_echo-3 (64x64x34x210)\n",
      "Conversion required 5.970690 seconds (2.010522 for core code).\n",
      "WARNING: file NEUFEP-ME-026^NEUFEP-ME-026_NEUFEP-ME-rest1_SENSE_3_1.PAR seems to be a multiecho file - this feature is experimental!\n",
      "Compression will be faster with 'pigz' installed http://macappstore.org/pigz/\n",
      "Chris Rorden's dcm2niiX version v1.0.20190410  Clang9.0.0 (64-bit MacOS)\n",
      "Warning: dcm2niix PAR is not actively supported (hint: use dicm2nii)\n",
      "Warning: Reported TR=2001.54ms, measured TR=2001.53ms (prospect. motion corr.?)\n",
      "Warning: PAR file volumes not saved in ascending temporal order (please check re-ordering)\n",
      "Done reading PAR header version 4.2, with 21420 slices\n",
      "Warning: Multiple Echo (3) or Cardiac (1). Carefully inspect output\n",
      "Philips Scaling Values RS:RI:SS = 0.76166:0:0.00183769 (see PMC3998685)\n",
      "Convert 1 DICOM as /Volumes/Stephan_WD/NEUFEPME_data_organised/bids/sub-026/NEUFEP-ME-026_NEUFEP-ME-026_NEUFEP-ME-rest1_SENSE_3_1_echo-1 (64x64x34x210)\n",
      "Philips Scaling Values RS:RI:SS = 0.76166:0:0.00183769 (see PMC3998685)\n",
      "Convert 1 DICOM as /Volumes/Stephan_WD/NEUFEPME_data_organised/bids/sub-026/NEUFEP-ME-026_NEUFEP-ME-026_NEUFEP-ME-rest1_SENSE_3_1_echo-2 (64x64x34x210)\n",
      "Philips Scaling Values RS:RI:SS = 0.76166:0:0.00183769 (see PMC3998685)\n",
      "Convert 1 DICOM as /Volumes/Stephan_WD/NEUFEPME_data_organised/bids/sub-026/NEUFEP-ME-026_NEUFEP-ME-026_NEUFEP-ME-rest1_SENSE_3_1_echo-3 (64x64x34x210)\n",
      "Conversion required 6.284590 seconds (2.086539 for core code).\n",
      "WARNING: file NEUFEP-ME-026^NEUFEP-ME-026_NEUFEP-ME-rest2_SENSE_6_1.PAR seems to be a multiecho file - this feature is experimental!\n",
      "Compression will be faster with 'pigz' installed http://macappstore.org/pigz/\n",
      "Chris Rorden's dcm2niiX version v1.0.20190410  Clang9.0.0 (64-bit MacOS)\n",
      "Warning: dcm2niix PAR is not actively supported (hint: use dicm2nii)\n",
      "Warning: Reported TR=2001.54ms, measured TR=2001.53ms (prospect. motion corr.?)\n",
      "Warning: PAR file volumes not saved in ascending temporal order (please check re-ordering)\n",
      "Done reading PAR header version 4.2, with 21420 slices\n",
      "Warning: Multiple Echo (3) or Cardiac (1). Carefully inspect output\n",
      "Philips Scaling Values RS:RI:SS = 0.78632:0:0.00179095 (see PMC3998685)\n",
      "Convert 1 DICOM as /Volumes/Stephan_WD/NEUFEPME_data_organised/bids/sub-026/NEUFEP-ME-026_NEUFEP-ME-026_NEUFEP-ME-rest2_SENSE_6_1_echo-1 (64x64x34x210)\n",
      "Philips Scaling Values RS:RI:SS = 0.78632:0:0.00179095 (see PMC3998685)\n",
      "Convert 1 DICOM as /Volumes/Stephan_WD/NEUFEPME_data_organised/bids/sub-026/NEUFEP-ME-026_NEUFEP-ME-026_NEUFEP-ME-rest2_SENSE_6_1_echo-2 (64x64x34x210)\n",
      "Philips Scaling Values RS:RI:SS = 0.78632:0:0.00179095 (see PMC3998685)\n",
      "Convert 1 DICOM as /Volumes/Stephan_WD/NEUFEPME_data_organised/bids/sub-026/NEUFEP-ME-026_NEUFEP-ME-026_NEUFEP-ME-rest2_SENSE_6_1_echo-3 (64x64x34x210)\n"
     ]
    },
    {
     "name": "stdout",
     "output_type": "stream",
     "text": [
      "Conversion required 6.296166 seconds (2.025161 for core code).\n",
      "Renaming '/Volumes/Stephan_WD/NEUFEPME_data_organised/bids/sub-026/NEUFEP-ME-026_NEUFEP-ME-026_NEUFEP-ME-rest1_SENSE_3_1_echo-1.json' to '/Volumes/Stephan_WD/NEUFEPME_data_organised/bids/sub-026/func/sub-026_task-rest_run-1_echo-1_bold.json'\n",
      "Renaming '/Volumes/Stephan_WD/NEUFEPME_data_organised/bids/sub-026/NEUFEP-ME-026_NEUFEP-ME-026_NEUFEP-ME-rest1_SENSE_3_1_echo-1.nii' to '/Volumes/Stephan_WD/NEUFEPME_data_organised/bids/sub-026/func/sub-026_task-rest_run-1_echo-1_bold.nii'\n",
      "Renaming '/Volumes/Stephan_WD/NEUFEPME_data_organised/bids/sub-026/NEUFEP-ME-026_NEUFEP-ME-026_NEUFEP-ME-rest1_SENSE_3_1_echo-2.json' to '/Volumes/Stephan_WD/NEUFEPME_data_organised/bids/sub-026/func/sub-026_task-rest_run-1_echo-2_bold.json'\n",
      "Renaming '/Volumes/Stephan_WD/NEUFEPME_data_organised/bids/sub-026/NEUFEP-ME-026_NEUFEP-ME-026_NEUFEP-ME-rest1_SENSE_3_1_echo-2.nii' to '/Volumes/Stephan_WD/NEUFEPME_data_organised/bids/sub-026/func/sub-026_task-rest_run-1_echo-2_bold.nii'\n",
      "Renaming '/Volumes/Stephan_WD/NEUFEPME_data_organised/bids/sub-026/NEUFEP-ME-026_NEUFEP-ME-026_NEUFEP-ME-rest1_SENSE_3_1_echo-3.json' to '/Volumes/Stephan_WD/NEUFEPME_data_organised/bids/sub-026/func/sub-026_task-rest_run-1_echo-3_bold.json'\n",
      "Renaming '/Volumes/Stephan_WD/NEUFEPME_data_organised/bids/sub-026/NEUFEP-ME-026_NEUFEP-ME-026_NEUFEP-ME-rest1_SENSE_3_1_echo-3.nii' to '/Volumes/Stephan_WD/NEUFEPME_data_organised/bids/sub-026/func/sub-026_task-rest_run-1_echo-3_bold.nii'\n",
      "Renaming '/Volumes/Stephan_WD/NEUFEPME_data_organised/bids/sub-026/NEUFEP-ME-026_NEUFEP-ME-026_NEUFEP-ME-rest2_SENSE_6_1_echo-1.json' to '/Volumes/Stephan_WD/NEUFEPME_data_organised/bids/sub-026/func/sub-026_task-rest_run-2_echo-1_bold.json'\n",
      "Renaming '/Volumes/Stephan_WD/NEUFEPME_data_organised/bids/sub-026/NEUFEP-ME-026_NEUFEP-ME-026_NEUFEP-ME-rest2_SENSE_6_1_echo-1.nii' to '/Volumes/Stephan_WD/NEUFEPME_data_organised/bids/sub-026/func/sub-026_task-rest_run-2_echo-1_bold.nii'\n",
      "Renaming '/Volumes/Stephan_WD/NEUFEPME_data_organised/bids/sub-026/NEUFEP-ME-026_NEUFEP-ME-026_NEUFEP-ME-rest2_SENSE_6_1_echo-2.json' to '/Volumes/Stephan_WD/NEUFEPME_data_organised/bids/sub-026/func/sub-026_task-rest_run-2_echo-2_bold.json'\n",
      "Renaming '/Volumes/Stephan_WD/NEUFEPME_data_organised/bids/sub-026/NEUFEP-ME-026_NEUFEP-ME-026_NEUFEP-ME-rest2_SENSE_6_1_echo-2.nii' to '/Volumes/Stephan_WD/NEUFEPME_data_organised/bids/sub-026/func/sub-026_task-rest_run-2_echo-2_bold.nii'\n",
      "Renaming '/Volumes/Stephan_WD/NEUFEPME_data_organised/bids/sub-026/NEUFEP-ME-026_NEUFEP-ME-026_NEUFEP-ME-rest2_SENSE_6_1_echo-3.json' to '/Volumes/Stephan_WD/NEUFEPME_data_organised/bids/sub-026/func/sub-026_task-rest_run-2_echo-3_bold.json'\n",
      "Renaming '/Volumes/Stephan_WD/NEUFEPME_data_organised/bids/sub-026/NEUFEP-ME-026_NEUFEP-ME-026_NEUFEP-ME-rest2_SENSE_6_1_echo-3.nii' to '/Volumes/Stephan_WD/NEUFEPME_data_organised/bids/sub-026/func/sub-026_task-rest_run-2_echo-3_bold.nii'\n",
      "Renaming '/Volumes/Stephan_WD/NEUFEPME_data_organised/bids/sub-026/NEUFEP-ME-026_NEUFEP-ME-026_NEUFEP-ME-motor1_SENSE_4_1_echo-1.json' to '/Volumes/Stephan_WD/NEUFEPME_data_organised/bids/sub-026/func/sub-026_task-motor_run-1_echo-1_bold.json'\n",
      "Renaming '/Volumes/Stephan_WD/NEUFEPME_data_organised/bids/sub-026/NEUFEP-ME-026_NEUFEP-ME-026_NEUFEP-ME-motor1_SENSE_4_1_echo-1.nii' to '/Volumes/Stephan_WD/NEUFEPME_data_organised/bids/sub-026/func/sub-026_task-motor_run-1_echo-1_bold.nii'\n",
      "Renaming '/Volumes/Stephan_WD/NEUFEPME_data_organised/bids/sub-026/NEUFEP-ME-026_NEUFEP-ME-026_NEUFEP-ME-motor1_SENSE_4_1_echo-2.json' to '/Volumes/Stephan_WD/NEUFEPME_data_organised/bids/sub-026/func/sub-026_task-motor_run-1_echo-2_bold.json'\n",
      "Renaming '/Volumes/Stephan_WD/NEUFEPME_data_organised/bids/sub-026/NEUFEP-ME-026_NEUFEP-ME-026_NEUFEP-ME-motor1_SENSE_4_1_echo-2.nii' to '/Volumes/Stephan_WD/NEUFEPME_data_organised/bids/sub-026/func/sub-026_task-motor_run-1_echo-2_bold.nii'\n",
      "Renaming '/Volumes/Stephan_WD/NEUFEPME_data_organised/bids/sub-026/NEUFEP-ME-026_NEUFEP-ME-026_NEUFEP-ME-motor1_SENSE_4_1_echo-3.json' to '/Volumes/Stephan_WD/NEUFEPME_data_organised/bids/sub-026/func/sub-026_task-motor_run-1_echo-3_bold.json'\n",
      "Renaming '/Volumes/Stephan_WD/NEUFEPME_data_organised/bids/sub-026/NEUFEP-ME-026_NEUFEP-ME-026_NEUFEP-ME-motor1_SENSE_4_1_echo-3.nii' to '/Volumes/Stephan_WD/NEUFEPME_data_organised/bids/sub-026/func/sub-026_task-motor_run-1_echo-3_bold.nii'\n",
      "Renaming '/Volumes/Stephan_WD/NEUFEPME_data_organised/bids/sub-026/NEUFEP-ME-026_NEUFEP-ME-026_NEUFEP-ME-motor2_SENSE_7_1_echo-1.json' to '/Volumes/Stephan_WD/NEUFEPME_data_organised/bids/sub-026/func/sub-026_task-motor_run-2_echo-1_bold.json'\n",
      "Renaming '/Volumes/Stephan_WD/NEUFEPME_data_organised/bids/sub-026/NEUFEP-ME-026_NEUFEP-ME-026_NEUFEP-ME-motor2_SENSE_7_1_echo-1.nii' to '/Volumes/Stephan_WD/NEUFEPME_data_organised/bids/sub-026/func/sub-026_task-motor_run-2_echo-1_bold.nii'\n",
      "Renaming '/Volumes/Stephan_WD/NEUFEPME_data_organised/bids/sub-026/NEUFEP-ME-026_NEUFEP-ME-026_NEUFEP-ME-motor2_SENSE_7_1_echo-2.json' to '/Volumes/Stephan_WD/NEUFEPME_data_organised/bids/sub-026/func/sub-026_task-motor_run-2_echo-2_bold.json'\n",
      "Renaming '/Volumes/Stephan_WD/NEUFEPME_data_organised/bids/sub-026/NEUFEP-ME-026_NEUFEP-ME-026_NEUFEP-ME-motor2_SENSE_7_1_echo-2.nii' to '/Volumes/Stephan_WD/NEUFEPME_data_organised/bids/sub-026/func/sub-026_task-motor_run-2_echo-2_bold.nii'\n",
      "Renaming '/Volumes/Stephan_WD/NEUFEPME_data_organised/bids/sub-026/NEUFEP-ME-026_NEUFEP-ME-026_NEUFEP-ME-motor2_SENSE_7_1_echo-3.json' to '/Volumes/Stephan_WD/NEUFEPME_data_organised/bids/sub-026/func/sub-026_task-motor_run-2_echo-3_bold.json'\n",
      "Renaming '/Volumes/Stephan_WD/NEUFEPME_data_organised/bids/sub-026/NEUFEP-ME-026_NEUFEP-ME-026_NEUFEP-ME-motor2_SENSE_7_1_echo-3.nii' to '/Volumes/Stephan_WD/NEUFEPME_data_organised/bids/sub-026/func/sub-026_task-motor_run-2_echo-3_bold.nii'\n",
      "Renaming '/Volumes/Stephan_WD/NEUFEPME_data_organised/bids/sub-026/NEUFEP-ME-026_NEUFEP-ME-026_NEUFEP-ME-emotion1_SENSE_5_1_echo-1.json' to '/Volumes/Stephan_WD/NEUFEPME_data_organised/bids/sub-026/func/sub-026_task-emotion_run-1_echo-1_bold.json'\n",
      "Renaming '/Volumes/Stephan_WD/NEUFEPME_data_organised/bids/sub-026/NEUFEP-ME-026_NEUFEP-ME-026_NEUFEP-ME-emotion1_SENSE_5_1_echo-1.nii' to '/Volumes/Stephan_WD/NEUFEPME_data_organised/bids/sub-026/func/sub-026_task-emotion_run-1_echo-1_bold.nii'\n",
      "Renaming '/Volumes/Stephan_WD/NEUFEPME_data_organised/bids/sub-026/NEUFEP-ME-026_NEUFEP-ME-026_NEUFEP-ME-emotion1_SENSE_5_1_echo-2.json' to '/Volumes/Stephan_WD/NEUFEPME_data_organised/bids/sub-026/func/sub-026_task-emotion_run-1_echo-2_bold.json'\n",
      "Renaming '/Volumes/Stephan_WD/NEUFEPME_data_organised/bids/sub-026/NEUFEP-ME-026_NEUFEP-ME-026_NEUFEP-ME-emotion1_SENSE_5_1_echo-2.nii' to '/Volumes/Stephan_WD/NEUFEPME_data_organised/bids/sub-026/func/sub-026_task-emotion_run-1_echo-2_bold.nii'\n",
      "Renaming '/Volumes/Stephan_WD/NEUFEPME_data_organised/bids/sub-026/NEUFEP-ME-026_NEUFEP-ME-026_NEUFEP-ME-emotion1_SENSE_5_1_echo-3.json' to '/Volumes/Stephan_WD/NEUFEPME_data_organised/bids/sub-026/func/sub-026_task-emotion_run-1_echo-3_bold.json'\n",
      "Renaming '/Volumes/Stephan_WD/NEUFEPME_data_organised/bids/sub-026/NEUFEP-ME-026_NEUFEP-ME-026_NEUFEP-ME-emotion1_SENSE_5_1_echo-3.nii' to '/Volumes/Stephan_WD/NEUFEPME_data_organised/bids/sub-026/func/sub-026_task-emotion_run-1_echo-3_bold.nii'\n",
      "Renaming '/Volumes/Stephan_WD/NEUFEPME_data_organised/bids/sub-026/NEUFEP-ME-026_NEUFEP-ME-026_NEUFEP-ME-emotion2_SENSE_8_1_echo-1.json' to '/Volumes/Stephan_WD/NEUFEPME_data_organised/bids/sub-026/func/sub-026_task-emotion_run-2_echo-1_bold.json'\n",
      "Renaming '/Volumes/Stephan_WD/NEUFEPME_data_organised/bids/sub-026/NEUFEP-ME-026_NEUFEP-ME-026_NEUFEP-ME-emotion2_SENSE_8_1_echo-1.nii' to '/Volumes/Stephan_WD/NEUFEPME_data_organised/bids/sub-026/func/sub-026_task-emotion_run-2_echo-1_bold.nii'\n",
      "Renaming '/Volumes/Stephan_WD/NEUFEPME_data_organised/bids/sub-026/NEUFEP-ME-026_NEUFEP-ME-026_NEUFEP-ME-emotion2_SENSE_8_1_echo-2.json' to '/Volumes/Stephan_WD/NEUFEPME_data_organised/bids/sub-026/func/sub-026_task-emotion_run-2_echo-2_bold.json'\n",
      "Renaming '/Volumes/Stephan_WD/NEUFEPME_data_organised/bids/sub-026/NEUFEP-ME-026_NEUFEP-ME-026_NEUFEP-ME-emotion2_SENSE_8_1_echo-2.nii' to '/Volumes/Stephan_WD/NEUFEPME_data_organised/bids/sub-026/func/sub-026_task-emotion_run-2_echo-2_bold.nii'\n"
     ]
    },
    {
     "name": "stdout",
     "output_type": "stream",
     "text": [
      "Renaming '/Volumes/Stephan_WD/NEUFEPME_data_organised/bids/sub-026/NEUFEP-ME-026_NEUFEP-ME-026_NEUFEP-ME-emotion2_SENSE_8_1_echo-3.json' to '/Volumes/Stephan_WD/NEUFEPME_data_organised/bids/sub-026/func/sub-026_task-emotion_run-2_echo-3_bold.json'\n",
      "Renaming '/Volumes/Stephan_WD/NEUFEPME_data_organised/bids/sub-026/NEUFEP-ME-026_NEUFEP-ME-026_NEUFEP-ME-emotion2_SENSE_8_1_echo-3.nii' to '/Volumes/Stephan_WD/NEUFEPME_data_organised/bids/sub-026/func/sub-026_task-emotion_run-2_echo-3_bold.nii'\n",
      "Renaming '/Volumes/Stephan_WD/NEUFEPME_data_organised/bids/sub-026/NEUFEP-ME-026^NEUFEP-ME-026_T1W_3D_TFE_2_1.nii' to '/Volumes/Stephan_WD/NEUFEPME_data_organised/bids/sub-026/anat/sub-026_T1w.nii'\n",
      "Converting data from sub-027 ...\n",
      "WARNING: file NEUFEP-ME-027^NEUFEP-ME-027_NEUFEP-ME-emotion1_SENSE_5_1.PAR seems to be a multiecho file - this feature is experimental!\n",
      "Compression will be faster with 'pigz' installed http://macappstore.org/pigz/\n",
      "Chris Rorden's dcm2niiX version v1.0.20190410  Clang9.0.0 (64-bit MacOS)\n",
      "Warning: dcm2niix PAR is not actively supported (hint: use dicm2nii)\n",
      "Warning: Reported TR=2002.7ms, measured TR=2002.68ms (prospect. motion corr.?)\n",
      "Warning: PAR file volumes not saved in ascending temporal order (please check re-ordering)\n",
      "Done reading PAR header version 4.2, with 21420 slices\n",
      "Warning: Multiple Echo (3) or Cardiac (1). Carefully inspect output\n",
      "Philips Scaling Values RS:RI:SS = 0.74139:0:0.00176156 (see PMC3998685)\n",
      "Convert 1 DICOM as /Volumes/Stephan_WD/NEUFEPME_data_organised/bids/sub-027/NEUFEP-ME-027_NEUFEP-ME-027_NEUFEP-ME-emotion1_SENSE_5_1_echo-1 (64x64x34x210)\n",
      "Philips Scaling Values RS:RI:SS = 0.74139:0:0.00176156 (see PMC3998685)\n",
      "Convert 1 DICOM as /Volumes/Stephan_WD/NEUFEPME_data_organised/bids/sub-027/NEUFEP-ME-027_NEUFEP-ME-027_NEUFEP-ME-emotion1_SENSE_5_1_echo-2 (64x64x34x210)\n",
      "Philips Scaling Values RS:RI:SS = 0.74139:0:0.00176156 (see PMC3998685)\n",
      "Convert 1 DICOM as /Volumes/Stephan_WD/NEUFEPME_data_organised/bids/sub-027/NEUFEP-ME-027_NEUFEP-ME-027_NEUFEP-ME-emotion1_SENSE_5_1_echo-3 (64x64x34x210)\n",
      "Conversion required 5.670554 seconds (2.022068 for core code).\n",
      "WARNING: file NEUFEP-ME-027^NEUFEP-ME-027_NEUFEP-ME-emotion2_SENSE_8_1.PAR seems to be a multiecho file - this feature is experimental!\n",
      "Compression will be faster with 'pigz' installed http://macappstore.org/pigz/\n",
      "Chris Rorden's dcm2niiX version v1.0.20190410  Clang9.0.0 (64-bit MacOS)\n",
      "Warning: dcm2niix PAR is not actively supported (hint: use dicm2nii)\n",
      "Warning: Reported TR=2002.7ms, measured TR=2002.68ms (prospect. motion corr.?)\n",
      "Warning: PAR file volumes not saved in ascending temporal order (please check re-ordering)\n",
      "Done reading PAR header version 4.2, with 21420 slices\n",
      "Warning: Multiple Echo (3) or Cardiac (1). Carefully inspect output\n",
      "Philips Scaling Values RS:RI:SS = 0.7663:0:0.00177201 (see PMC3998685)\n",
      "Convert 1 DICOM as /Volumes/Stephan_WD/NEUFEPME_data_organised/bids/sub-027/NEUFEP-ME-027_NEUFEP-ME-027_NEUFEP-ME-emotion2_SENSE_8_1_echo-1 (64x64x34x210)\n",
      "Philips Scaling Values RS:RI:SS = 0.7663:0:0.00177201 (see PMC3998685)\n",
      "Convert 1 DICOM as /Volumes/Stephan_WD/NEUFEPME_data_organised/bids/sub-027/NEUFEP-ME-027_NEUFEP-ME-027_NEUFEP-ME-emotion2_SENSE_8_1_echo-2 (64x64x34x210)\n",
      "Philips Scaling Values RS:RI:SS = 0.7663:0:0.00177201 (see PMC3998685)\n",
      "Convert 1 DICOM as /Volumes/Stephan_WD/NEUFEPME_data_organised/bids/sub-027/NEUFEP-ME-027_NEUFEP-ME-027_NEUFEP-ME-emotion2_SENSE_8_1_echo-3 (64x64x34x210)\n",
      "Conversion required 5.965995 seconds (2.263628 for core code).\n",
      "WARNING: file NEUFEP-ME-027^NEUFEP-ME-027_NEUFEP-ME-motor1_SENSE_4_1.PAR seems to be a multiecho file - this feature is experimental!\n",
      "Compression will be faster with 'pigz' installed http://macappstore.org/pigz/\n",
      "Chris Rorden's dcm2niiX version v1.0.20190410  Clang9.0.0 (64-bit MacOS)\n",
      "Warning: dcm2niix PAR is not actively supported (hint: use dicm2nii)\n",
      "Warning: Reported TR=2002.7ms, measured TR=2002.68ms (prospect. motion corr.?)\n",
      "Warning: PAR file volumes not saved in ascending temporal order (please check re-ordering)\n",
      "Done reading PAR header version 4.2, with 21420 slices\n",
      "Warning: Multiple Echo (3) or Cardiac (1). Carefully inspect output\n",
      "Philips Scaling Values RS:RI:SS = 0.74799:0:0.00177968 (see PMC3998685)\n",
      "Convert 1 DICOM as /Volumes/Stephan_WD/NEUFEPME_data_organised/bids/sub-027/NEUFEP-ME-027_NEUFEP-ME-027_NEUFEP-ME-motor1_SENSE_4_1_echo-1 (64x64x34x210)\n",
      "Philips Scaling Values RS:RI:SS = 0.74799:0:0.00177968 (see PMC3998685)\n",
      "Convert 1 DICOM as /Volumes/Stephan_WD/NEUFEPME_data_organised/bids/sub-027/NEUFEP-ME-027_NEUFEP-ME-027_NEUFEP-ME-motor1_SENSE_4_1_echo-2 (64x64x34x210)\n",
      "Philips Scaling Values RS:RI:SS = 0.74799:0:0.00177968 (see PMC3998685)\n",
      "Convert 1 DICOM as /Volumes/Stephan_WD/NEUFEPME_data_organised/bids/sub-027/NEUFEP-ME-027_NEUFEP-ME-027_NEUFEP-ME-motor1_SENSE_4_1_echo-3 (64x64x34x210)\n",
      "Conversion required 6.755226 seconds (2.513080 for core code).\n",
      "WARNING: file NEUFEP-ME-027^NEUFEP-ME-027_NEUFEP-ME-motor2_SENSE_7_1.PAR seems to be a multiecho file - this feature is experimental!\n",
      "Compression will be faster with 'pigz' installed http://macappstore.org/pigz/\n",
      "Chris Rorden's dcm2niiX version v1.0.20190410  Clang9.0.0 (64-bit MacOS)\n",
      "Warning: dcm2niix PAR is not actively supported (hint: use dicm2nii)\n",
      "Warning: Reported TR=2002.7ms, measured TR=2002.68ms (prospect. motion corr.?)\n",
      "Warning: PAR file volumes not saved in ascending temporal order (please check re-ordering)\n",
      "Done reading PAR header version 4.2, with 21420 slices\n",
      "Warning: Multiple Echo (3) or Cardiac (1). Carefully inspect output\n",
      "Philips Scaling Values RS:RI:SS = 0.73919:0:0.0018298 (see PMC3998685)\n",
      "Convert 1 DICOM as /Volumes/Stephan_WD/NEUFEPME_data_organised/bids/sub-027/NEUFEP-ME-027_NEUFEP-ME-027_NEUFEP-ME-motor2_SENSE_7_1_echo-1 (64x64x34x210)\n",
      "Philips Scaling Values RS:RI:SS = 0.73919:0:0.0018298 (see PMC3998685)\n",
      "Convert 1 DICOM as /Volumes/Stephan_WD/NEUFEPME_data_organised/bids/sub-027/NEUFEP-ME-027_NEUFEP-ME-027_NEUFEP-ME-motor2_SENSE_7_1_echo-2 (64x64x34x210)\n",
      "Philips Scaling Values RS:RI:SS = 0.73919:0:0.0018298 (see PMC3998685)\n",
      "Convert 1 DICOM as /Volumes/Stephan_WD/NEUFEPME_data_organised/bids/sub-027/NEUFEP-ME-027_NEUFEP-ME-027_NEUFEP-ME-motor2_SENSE_7_1_echo-3 (64x64x34x210)\n",
      "Conversion required 6.125684 seconds (2.499939 for core code).\n",
      "WARNING: file NEUFEP-ME-027^NEUFEP-ME-027_NEUFEP-ME-rest1_SENSE_3_1.PAR seems to be a multiecho file - this feature is experimental!\n",
      "Compression will be faster with 'pigz' installed http://macappstore.org/pigz/\n",
      "Chris Rorden's dcm2niiX version v1.0.20190410  Clang9.0.0 (64-bit MacOS)\n",
      "Warning: dcm2niix PAR is not actively supported (hint: use dicm2nii)\n",
      "Warning: Reported TR=2002.7ms, measured TR=2002.68ms (prospect. motion corr.?)\n",
      "Warning: PAR file volumes not saved in ascending temporal order (please check re-ordering)\n",
      "Done reading PAR header version 4.2, with 21420 slices\n",
      "Warning: Multiple Echo (3) or Cardiac (1). Carefully inspect output\n",
      "Philips Scaling Values RS:RI:SS = 0.74872:0:0.0018203 (see PMC3998685)\n",
      "Convert 1 DICOM as /Volumes/Stephan_WD/NEUFEPME_data_organised/bids/sub-027/NEUFEP-ME-027_NEUFEP-ME-027_NEUFEP-ME-rest1_SENSE_3_1_echo-1 (64x64x34x210)\n",
      "Philips Scaling Values RS:RI:SS = 0.74872:0:0.0018203 (see PMC3998685)\n",
      "Convert 1 DICOM as /Volumes/Stephan_WD/NEUFEPME_data_organised/bids/sub-027/NEUFEP-ME-027_NEUFEP-ME-027_NEUFEP-ME-rest1_SENSE_3_1_echo-2 (64x64x34x210)\n",
      "Philips Scaling Values RS:RI:SS = 0.74872:0:0.0018203 (see PMC3998685)\n",
      "Convert 1 DICOM as /Volumes/Stephan_WD/NEUFEPME_data_organised/bids/sub-027/NEUFEP-ME-027_NEUFEP-ME-027_NEUFEP-ME-rest1_SENSE_3_1_echo-3 (64x64x34x210)\n",
      "Conversion required 7.482160 seconds (2.499648 for core code).\n",
      "WARNING: file NEUFEP-ME-027^NEUFEP-ME-027_NEUFEP-ME-rest2_SENSE_6_1.PAR seems to be a multiecho file - this feature is experimental!\n",
      "Compression will be faster with 'pigz' installed http://macappstore.org/pigz/\n",
      "Chris Rorden's dcm2niiX version v1.0.20190410  Clang9.0.0 (64-bit MacOS)\n",
      "Warning: dcm2niix PAR is not actively supported (hint: use dicm2nii)\n",
      "Warning: Reported TR=2002.7ms, measured TR=2002.68ms (prospect. motion corr.?)\n",
      "Warning: PAR file volumes not saved in ascending temporal order (please check re-ordering)\n",
      "Done reading PAR header version 4.2, with 21420 slices\n",
      "Warning: Multiple Echo (3) or Cardiac (1). Carefully inspect output\n"
     ]
    },
    {
     "name": "stdout",
     "output_type": "stream",
     "text": [
      "Philips Scaling Values RS:RI:SS = 0.74652:0:0.00188167 (see PMC3998685)\n",
      "Convert 1 DICOM as /Volumes/Stephan_WD/NEUFEPME_data_organised/bids/sub-027/NEUFEP-ME-027_NEUFEP-ME-027_NEUFEP-ME-rest2_SENSE_6_1_echo-1 (64x64x34x210)\n",
      "Philips Scaling Values RS:RI:SS = 0.74652:0:0.00188167 (see PMC3998685)\n",
      "Convert 1 DICOM as /Volumes/Stephan_WD/NEUFEPME_data_organised/bids/sub-027/NEUFEP-ME-027_NEUFEP-ME-027_NEUFEP-ME-rest2_SENSE_6_1_echo-2 (64x64x34x210)\n",
      "Philips Scaling Values RS:RI:SS = 0.74652:0:0.00188167 (see PMC3998685)\n",
      "Convert 1 DICOM as /Volumes/Stephan_WD/NEUFEPME_data_organised/bids/sub-027/NEUFEP-ME-027_NEUFEP-ME-027_NEUFEP-ME-rest2_SENSE_6_1_echo-3 (64x64x34x210)\n",
      "Conversion required 6.697960 seconds (2.523001 for core code).\n",
      "Renaming '/Volumes/Stephan_WD/NEUFEPME_data_organised/bids/sub-027/NEUFEP-ME-027_NEUFEP-ME-027_NEUFEP-ME-rest1_SENSE_3_1_echo-1.json' to '/Volumes/Stephan_WD/NEUFEPME_data_organised/bids/sub-027/func/sub-027_task-rest_run-1_echo-1_bold.json'\n",
      "Renaming '/Volumes/Stephan_WD/NEUFEPME_data_organised/bids/sub-027/NEUFEP-ME-027_NEUFEP-ME-027_NEUFEP-ME-rest1_SENSE_3_1_echo-1.nii' to '/Volumes/Stephan_WD/NEUFEPME_data_organised/bids/sub-027/func/sub-027_task-rest_run-1_echo-1_bold.nii'\n",
      "Renaming '/Volumes/Stephan_WD/NEUFEPME_data_organised/bids/sub-027/NEUFEP-ME-027_NEUFEP-ME-027_NEUFEP-ME-rest1_SENSE_3_1_echo-2.json' to '/Volumes/Stephan_WD/NEUFEPME_data_organised/bids/sub-027/func/sub-027_task-rest_run-1_echo-2_bold.json'\n",
      "Renaming '/Volumes/Stephan_WD/NEUFEPME_data_organised/bids/sub-027/NEUFEP-ME-027_NEUFEP-ME-027_NEUFEP-ME-rest1_SENSE_3_1_echo-2.nii' to '/Volumes/Stephan_WD/NEUFEPME_data_organised/bids/sub-027/func/sub-027_task-rest_run-1_echo-2_bold.nii'\n",
      "Renaming '/Volumes/Stephan_WD/NEUFEPME_data_organised/bids/sub-027/NEUFEP-ME-027_NEUFEP-ME-027_NEUFEP-ME-rest1_SENSE_3_1_echo-3.json' to '/Volumes/Stephan_WD/NEUFEPME_data_organised/bids/sub-027/func/sub-027_task-rest_run-1_echo-3_bold.json'\n",
      "Renaming '/Volumes/Stephan_WD/NEUFEPME_data_organised/bids/sub-027/NEUFEP-ME-027_NEUFEP-ME-027_NEUFEP-ME-rest1_SENSE_3_1_echo-3.nii' to '/Volumes/Stephan_WD/NEUFEPME_data_organised/bids/sub-027/func/sub-027_task-rest_run-1_echo-3_bold.nii'\n",
      "Renaming '/Volumes/Stephan_WD/NEUFEPME_data_organised/bids/sub-027/NEUFEP-ME-027_NEUFEP-ME-027_NEUFEP-ME-rest2_SENSE_6_1_echo-1.json' to '/Volumes/Stephan_WD/NEUFEPME_data_organised/bids/sub-027/func/sub-027_task-rest_run-2_echo-1_bold.json'\n",
      "Renaming '/Volumes/Stephan_WD/NEUFEPME_data_organised/bids/sub-027/NEUFEP-ME-027_NEUFEP-ME-027_NEUFEP-ME-rest2_SENSE_6_1_echo-1.nii' to '/Volumes/Stephan_WD/NEUFEPME_data_organised/bids/sub-027/func/sub-027_task-rest_run-2_echo-1_bold.nii'\n",
      "Renaming '/Volumes/Stephan_WD/NEUFEPME_data_organised/bids/sub-027/NEUFEP-ME-027_NEUFEP-ME-027_NEUFEP-ME-rest2_SENSE_6_1_echo-2.json' to '/Volumes/Stephan_WD/NEUFEPME_data_organised/bids/sub-027/func/sub-027_task-rest_run-2_echo-2_bold.json'\n",
      "Renaming '/Volumes/Stephan_WD/NEUFEPME_data_organised/bids/sub-027/NEUFEP-ME-027_NEUFEP-ME-027_NEUFEP-ME-rest2_SENSE_6_1_echo-2.nii' to '/Volumes/Stephan_WD/NEUFEPME_data_organised/bids/sub-027/func/sub-027_task-rest_run-2_echo-2_bold.nii'\n",
      "Renaming '/Volumes/Stephan_WD/NEUFEPME_data_organised/bids/sub-027/NEUFEP-ME-027_NEUFEP-ME-027_NEUFEP-ME-rest2_SENSE_6_1_echo-3.json' to '/Volumes/Stephan_WD/NEUFEPME_data_organised/bids/sub-027/func/sub-027_task-rest_run-2_echo-3_bold.json'\n",
      "Renaming '/Volumes/Stephan_WD/NEUFEPME_data_organised/bids/sub-027/NEUFEP-ME-027_NEUFEP-ME-027_NEUFEP-ME-rest2_SENSE_6_1_echo-3.nii' to '/Volumes/Stephan_WD/NEUFEPME_data_organised/bids/sub-027/func/sub-027_task-rest_run-2_echo-3_bold.nii'\n",
      "Renaming '/Volumes/Stephan_WD/NEUFEPME_data_organised/bids/sub-027/NEUFEP-ME-027_NEUFEP-ME-027_NEUFEP-ME-motor1_SENSE_4_1_echo-1.json' to '/Volumes/Stephan_WD/NEUFEPME_data_organised/bids/sub-027/func/sub-027_task-motor_run-1_echo-1_bold.json'\n",
      "Renaming '/Volumes/Stephan_WD/NEUFEPME_data_organised/bids/sub-027/NEUFEP-ME-027_NEUFEP-ME-027_NEUFEP-ME-motor1_SENSE_4_1_echo-1.nii' to '/Volumes/Stephan_WD/NEUFEPME_data_organised/bids/sub-027/func/sub-027_task-motor_run-1_echo-1_bold.nii'\n",
      "Renaming '/Volumes/Stephan_WD/NEUFEPME_data_organised/bids/sub-027/NEUFEP-ME-027_NEUFEP-ME-027_NEUFEP-ME-motor1_SENSE_4_1_echo-2.json' to '/Volumes/Stephan_WD/NEUFEPME_data_organised/bids/sub-027/func/sub-027_task-motor_run-1_echo-2_bold.json'\n",
      "Renaming '/Volumes/Stephan_WD/NEUFEPME_data_organised/bids/sub-027/NEUFEP-ME-027_NEUFEP-ME-027_NEUFEP-ME-motor1_SENSE_4_1_echo-2.nii' to '/Volumes/Stephan_WD/NEUFEPME_data_organised/bids/sub-027/func/sub-027_task-motor_run-1_echo-2_bold.nii'\n",
      "Renaming '/Volumes/Stephan_WD/NEUFEPME_data_organised/bids/sub-027/NEUFEP-ME-027_NEUFEP-ME-027_NEUFEP-ME-motor1_SENSE_4_1_echo-3.json' to '/Volumes/Stephan_WD/NEUFEPME_data_organised/bids/sub-027/func/sub-027_task-motor_run-1_echo-3_bold.json'\n",
      "Renaming '/Volumes/Stephan_WD/NEUFEPME_data_organised/bids/sub-027/NEUFEP-ME-027_NEUFEP-ME-027_NEUFEP-ME-motor1_SENSE_4_1_echo-3.nii' to '/Volumes/Stephan_WD/NEUFEPME_data_organised/bids/sub-027/func/sub-027_task-motor_run-1_echo-3_bold.nii'\n",
      "Renaming '/Volumes/Stephan_WD/NEUFEPME_data_organised/bids/sub-027/NEUFEP-ME-027_NEUFEP-ME-027_NEUFEP-ME-motor2_SENSE_7_1_echo-1.json' to '/Volumes/Stephan_WD/NEUFEPME_data_organised/bids/sub-027/func/sub-027_task-motor_run-2_echo-1_bold.json'\n",
      "Renaming '/Volumes/Stephan_WD/NEUFEPME_data_organised/bids/sub-027/NEUFEP-ME-027_NEUFEP-ME-027_NEUFEP-ME-motor2_SENSE_7_1_echo-1.nii' to '/Volumes/Stephan_WD/NEUFEPME_data_organised/bids/sub-027/func/sub-027_task-motor_run-2_echo-1_bold.nii'\n",
      "Renaming '/Volumes/Stephan_WD/NEUFEPME_data_organised/bids/sub-027/NEUFEP-ME-027_NEUFEP-ME-027_NEUFEP-ME-motor2_SENSE_7_1_echo-2.json' to '/Volumes/Stephan_WD/NEUFEPME_data_organised/bids/sub-027/func/sub-027_task-motor_run-2_echo-2_bold.json'\n",
      "Renaming '/Volumes/Stephan_WD/NEUFEPME_data_organised/bids/sub-027/NEUFEP-ME-027_NEUFEP-ME-027_NEUFEP-ME-motor2_SENSE_7_1_echo-2.nii' to '/Volumes/Stephan_WD/NEUFEPME_data_organised/bids/sub-027/func/sub-027_task-motor_run-2_echo-2_bold.nii'\n",
      "Renaming '/Volumes/Stephan_WD/NEUFEPME_data_organised/bids/sub-027/NEUFEP-ME-027_NEUFEP-ME-027_NEUFEP-ME-motor2_SENSE_7_1_echo-3.json' to '/Volumes/Stephan_WD/NEUFEPME_data_organised/bids/sub-027/func/sub-027_task-motor_run-2_echo-3_bold.json'\n",
      "Renaming '/Volumes/Stephan_WD/NEUFEPME_data_organised/bids/sub-027/NEUFEP-ME-027_NEUFEP-ME-027_NEUFEP-ME-motor2_SENSE_7_1_echo-3.nii' to '/Volumes/Stephan_WD/NEUFEPME_data_organised/bids/sub-027/func/sub-027_task-motor_run-2_echo-3_bold.nii'\n",
      "Renaming '/Volumes/Stephan_WD/NEUFEPME_data_organised/bids/sub-027/NEUFEP-ME-027_NEUFEP-ME-027_NEUFEP-ME-emotion1_SENSE_5_1_echo-1.json' to '/Volumes/Stephan_WD/NEUFEPME_data_organised/bids/sub-027/func/sub-027_task-emotion_run-1_echo-1_bold.json'\n",
      "Renaming '/Volumes/Stephan_WD/NEUFEPME_data_organised/bids/sub-027/NEUFEP-ME-027_NEUFEP-ME-027_NEUFEP-ME-emotion1_SENSE_5_1_echo-1.nii' to '/Volumes/Stephan_WD/NEUFEPME_data_organised/bids/sub-027/func/sub-027_task-emotion_run-1_echo-1_bold.nii'\n",
      "Renaming '/Volumes/Stephan_WD/NEUFEPME_data_organised/bids/sub-027/NEUFEP-ME-027_NEUFEP-ME-027_NEUFEP-ME-emotion1_SENSE_5_1_echo-2.json' to '/Volumes/Stephan_WD/NEUFEPME_data_organised/bids/sub-027/func/sub-027_task-emotion_run-1_echo-2_bold.json'\n",
      "Renaming '/Volumes/Stephan_WD/NEUFEPME_data_organised/bids/sub-027/NEUFEP-ME-027_NEUFEP-ME-027_NEUFEP-ME-emotion1_SENSE_5_1_echo-2.nii' to '/Volumes/Stephan_WD/NEUFEPME_data_organised/bids/sub-027/func/sub-027_task-emotion_run-1_echo-2_bold.nii'\n",
      "Renaming '/Volumes/Stephan_WD/NEUFEPME_data_organised/bids/sub-027/NEUFEP-ME-027_NEUFEP-ME-027_NEUFEP-ME-emotion1_SENSE_5_1_echo-3.json' to '/Volumes/Stephan_WD/NEUFEPME_data_organised/bids/sub-027/func/sub-027_task-emotion_run-1_echo-3_bold.json'\n",
      "Renaming '/Volumes/Stephan_WD/NEUFEPME_data_organised/bids/sub-027/NEUFEP-ME-027_NEUFEP-ME-027_NEUFEP-ME-emotion1_SENSE_5_1_echo-3.nii' to '/Volumes/Stephan_WD/NEUFEPME_data_organised/bids/sub-027/func/sub-027_task-emotion_run-1_echo-3_bold.nii'\n",
      "Renaming '/Volumes/Stephan_WD/NEUFEPME_data_organised/bids/sub-027/NEUFEP-ME-027_NEUFEP-ME-027_NEUFEP-ME-emotion2_SENSE_8_1_echo-1.json' to '/Volumes/Stephan_WD/NEUFEPME_data_organised/bids/sub-027/func/sub-027_task-emotion_run-2_echo-1_bold.json'\n",
      "Renaming '/Volumes/Stephan_WD/NEUFEPME_data_organised/bids/sub-027/NEUFEP-ME-027_NEUFEP-ME-027_NEUFEP-ME-emotion2_SENSE_8_1_echo-1.nii' to '/Volumes/Stephan_WD/NEUFEPME_data_organised/bids/sub-027/func/sub-027_task-emotion_run-2_echo-1_bold.nii'\n",
      "Renaming '/Volumes/Stephan_WD/NEUFEPME_data_organised/bids/sub-027/NEUFEP-ME-027_NEUFEP-ME-027_NEUFEP-ME-emotion2_SENSE_8_1_echo-2.json' to '/Volumes/Stephan_WD/NEUFEPME_data_organised/bids/sub-027/func/sub-027_task-emotion_run-2_echo-2_bold.json'\n",
      "Renaming '/Volumes/Stephan_WD/NEUFEPME_data_organised/bids/sub-027/NEUFEP-ME-027_NEUFEP-ME-027_NEUFEP-ME-emotion2_SENSE_8_1_echo-2.nii' to '/Volumes/Stephan_WD/NEUFEPME_data_organised/bids/sub-027/func/sub-027_task-emotion_run-2_echo-2_bold.nii'\n",
      "Renaming '/Volumes/Stephan_WD/NEUFEPME_data_organised/bids/sub-027/NEUFEP-ME-027_NEUFEP-ME-027_NEUFEP-ME-emotion2_SENSE_8_1_echo-3.json' to '/Volumes/Stephan_WD/NEUFEPME_data_organised/bids/sub-027/func/sub-027_task-emotion_run-2_echo-3_bold.json'\n",
      "Renaming '/Volumes/Stephan_WD/NEUFEPME_data_organised/bids/sub-027/NEUFEP-ME-027_NEUFEP-ME-027_NEUFEP-ME-emotion2_SENSE_8_1_echo-3.nii' to '/Volumes/Stephan_WD/NEUFEPME_data_organised/bids/sub-027/func/sub-027_task-emotion_run-2_echo-3_bold.nii'\n",
      "Renaming '/Volumes/Stephan_WD/NEUFEPME_data_organised/bids/sub-027/NEUFEP-ME-027^NEUFEP-ME-027_T1W_3D_TFE_2_1.nii' to '/Volumes/Stephan_WD/NEUFEPME_data_organised/bids/sub-027/anat/sub-027_T1w.nii'\n"
     ]
    },
    {
     "name": "stdout",
     "output_type": "stream",
     "text": [
      "Converting data from sub-029 ...\n",
      "WARNING: file NEUFEP-ME-029^NEUFEP-ME-029_NEUFEP-ME-emotion1_SENSE_5_1.PAR seems to be a multiecho file - this feature is experimental!\n",
      "Compression will be faster with 'pigz' installed http://macappstore.org/pigz/\n",
      "Chris Rorden's dcm2niiX version v1.0.20190410  Clang9.0.0 (64-bit MacOS)\n",
      "Warning: dcm2niix PAR is not actively supported (hint: use dicm2nii)\n",
      "Warning: Reported TR=2001.54ms, measured TR=2001.53ms (prospect. motion corr.?)\n",
      "Warning: PAR file volumes not saved in ascending temporal order (please check re-ordering)\n",
      "Done reading PAR header version 4.2, with 21420 slices\n",
      "Warning: Multiple Echo (3) or Cardiac (1). Carefully inspect output\n",
      "Philips Scaling Values RS:RI:SS = 0.75092:0:0.00196231 (see PMC3998685)\n",
      "Convert 1 DICOM as /Volumes/Stephan_WD/NEUFEPME_data_organised/bids/sub-029/NEUFEP-ME-029_NEUFEP-ME-029_NEUFEP-ME-emotion1_SENSE_5_1_echo-1 (64x64x34x210)\n",
      "Philips Scaling Values RS:RI:SS = 0.75092:0:0.00196231 (see PMC3998685)\n",
      "Convert 1 DICOM as /Volumes/Stephan_WD/NEUFEPME_data_organised/bids/sub-029/NEUFEP-ME-029_NEUFEP-ME-029_NEUFEP-ME-emotion1_SENSE_5_1_echo-2 (64x64x34x210)\n",
      "Philips Scaling Values RS:RI:SS = 0.75092:0:0.00196231 (see PMC3998685)\n",
      "Convert 1 DICOM as /Volumes/Stephan_WD/NEUFEPME_data_organised/bids/sub-029/NEUFEP-ME-029_NEUFEP-ME-029_NEUFEP-ME-emotion1_SENSE_5_1_echo-3 (64x64x34x210)\n",
      "Conversion required 6.045166 seconds (2.257518 for core code).\n",
      "WARNING: file NEUFEP-ME-029^NEUFEP-ME-029_NEUFEP-ME-emotion2_SENSE_8_1.PAR seems to be a multiecho file - this feature is experimental!\n",
      "Compression will be faster with 'pigz' installed http://macappstore.org/pigz/\n",
      "Chris Rorden's dcm2niiX version v1.0.20190410  Clang9.0.0 (64-bit MacOS)\n",
      "Warning: dcm2niix PAR is not actively supported (hint: use dicm2nii)\n",
      "Warning: Reported TR=2001.54ms, measured TR=2001.53ms (prospect. motion corr.?)\n",
      "Warning: PAR file volumes not saved in ascending temporal order (please check re-ordering)\n",
      "Done reading PAR header version 4.2, with 21420 slices\n",
      "Warning: Multiple Echo (3) or Cardiac (1). Carefully inspect output\n",
      "Philips Scaling Values RS:RI:SS = 0.79219:0:0.00191379 (see PMC3998685)\n",
      "Convert 1 DICOM as /Volumes/Stephan_WD/NEUFEPME_data_organised/bids/sub-029/NEUFEP-ME-029_NEUFEP-ME-029_NEUFEP-ME-emotion2_SENSE_8_1_echo-1 (64x64x34x210)\n",
      "Philips Scaling Values RS:RI:SS = 0.79219:0:0.00191379 (see PMC3998685)\n",
      "Convert 1 DICOM as /Volumes/Stephan_WD/NEUFEPME_data_organised/bids/sub-029/NEUFEP-ME-029_NEUFEP-ME-029_NEUFEP-ME-emotion2_SENSE_8_1_echo-2 (64x64x34x210)\n",
      "Philips Scaling Values RS:RI:SS = 0.79219:0:0.00191379 (see PMC3998685)\n",
      "Convert 1 DICOM as /Volumes/Stephan_WD/NEUFEPME_data_organised/bids/sub-029/NEUFEP-ME-029_NEUFEP-ME-029_NEUFEP-ME-emotion2_SENSE_8_1_echo-3 (64x64x34x210)\n",
      "Conversion required 5.890146 seconds (2.116491 for core code).\n",
      "WARNING: file NEUFEP-ME-029^NEUFEP-ME-029_NEUFEP-ME-motor1_SENSE_4_1.PAR seems to be a multiecho file - this feature is experimental!\n",
      "Compression will be faster with 'pigz' installed http://macappstore.org/pigz/\n",
      "Chris Rorden's dcm2niiX version v1.0.20190410  Clang9.0.0 (64-bit MacOS)\n",
      "Warning: dcm2niix PAR is not actively supported (hint: use dicm2nii)\n",
      "Warning: Reported TR=2001.54ms, measured TR=2001.53ms (prospect. motion corr.?)\n",
      "Warning: PAR file volumes not saved in ascending temporal order (please check re-ordering)\n",
      "Done reading PAR header version 4.2, with 21420 slices\n",
      "Warning: Multiple Echo (3) or Cardiac (1). Carefully inspect output\n",
      "Philips Scaling Values RS:RI:SS = 0.75775:0:0.00193059 (see PMC3998685)\n",
      "Convert 1 DICOM as /Volumes/Stephan_WD/NEUFEPME_data_organised/bids/sub-029/NEUFEP-ME-029_NEUFEP-ME-029_NEUFEP-ME-motor1_SENSE_4_1_echo-1 (64x64x34x210)\n",
      "Philips Scaling Values RS:RI:SS = 0.75775:0:0.00193059 (see PMC3998685)\n",
      "Convert 1 DICOM as /Volumes/Stephan_WD/NEUFEPME_data_organised/bids/sub-029/NEUFEP-ME-029_NEUFEP-ME-029_NEUFEP-ME-motor1_SENSE_4_1_echo-2 (64x64x34x210)\n",
      "Philips Scaling Values RS:RI:SS = 0.75775:0:0.00193059 (see PMC3998685)\n",
      "Convert 1 DICOM as /Volumes/Stephan_WD/NEUFEPME_data_organised/bids/sub-029/NEUFEP-ME-029_NEUFEP-ME-029_NEUFEP-ME-motor1_SENSE_4_1_echo-3 (64x64x34x210)\n",
      "Conversion required 5.724374 seconds (2.080067 for core code).\n",
      "WARNING: file NEUFEP-ME-029^NEUFEP-ME-029_NEUFEP-ME-motor2_SENSE_7_1.PAR seems to be a multiecho file - this feature is experimental!\n",
      "Compression will be faster with 'pigz' installed http://macappstore.org/pigz/\n",
      "Chris Rorden's dcm2niiX version v1.0.20190410  Clang9.0.0 (64-bit MacOS)\n",
      "Warning: dcm2niix PAR is not actively supported (hint: use dicm2nii)\n",
      "Warning: Reported TR=2001.54ms, measured TR=2001.53ms (prospect. motion corr.?)\n",
      "Warning: PAR file volumes not saved in ascending temporal order (please check re-ordering)\n",
      "Done reading PAR header version 4.2, with 21420 slices\n",
      "Warning: Multiple Echo (3) or Cardiac (1). Carefully inspect output\n",
      "Philips Scaling Values RS:RI:SS = 0.81197:0:0.0018938 (see PMC3998685)\n",
      "Convert 1 DICOM as /Volumes/Stephan_WD/NEUFEPME_data_organised/bids/sub-029/NEUFEP-ME-029_NEUFEP-ME-029_NEUFEP-ME-motor2_SENSE_7_1_echo-1 (64x64x34x210)\n",
      "Philips Scaling Values RS:RI:SS = 0.81197:0:0.0018938 (see PMC3998685)\n",
      "Convert 1 DICOM as /Volumes/Stephan_WD/NEUFEPME_data_organised/bids/sub-029/NEUFEP-ME-029_NEUFEP-ME-029_NEUFEP-ME-motor2_SENSE_7_1_echo-2 (64x64x34x210)\n",
      "Philips Scaling Values RS:RI:SS = 0.81197:0:0.0018938 (see PMC3998685)\n",
      "Convert 1 DICOM as /Volumes/Stephan_WD/NEUFEPME_data_organised/bids/sub-029/NEUFEP-ME-029_NEUFEP-ME-029_NEUFEP-ME-motor2_SENSE_7_1_echo-3 (64x64x34x210)\n",
      "Conversion required 5.544923 seconds (2.148666 for core code).\n",
      "WARNING: file NEUFEP-ME-029^NEUFEP-ME-029_NEUFEP-ME-rest1_SENSE_3_1.PAR seems to be a multiecho file - this feature is experimental!\n",
      "Compression will be faster with 'pigz' installed http://macappstore.org/pigz/\n",
      "Chris Rorden's dcm2niiX version v1.0.20190410  Clang9.0.0 (64-bit MacOS)\n",
      "Warning: dcm2niix PAR is not actively supported (hint: use dicm2nii)\n",
      "Warning: Reported TR=2001.54ms, measured TR=2001.53ms (prospect. motion corr.?)\n",
      "Warning: PAR file volumes not saved in ascending temporal order (please check re-ordering)\n",
      "Done reading PAR header version 4.2, with 21420 slices\n",
      "Warning: Multiple Echo (3) or Cardiac (1). Carefully inspect output\n",
      "Philips Scaling Values RS:RI:SS = 0.74212:0:0.00194156 (see PMC3998685)\n",
      "Convert 1 DICOM as /Volumes/Stephan_WD/NEUFEPME_data_organised/bids/sub-029/NEUFEP-ME-029_NEUFEP-ME-029_NEUFEP-ME-rest1_SENSE_3_1_echo-1 (64x64x34x210)\n",
      "Philips Scaling Values RS:RI:SS = 0.74212:0:0.00194156 (see PMC3998685)\n",
      "Convert 1 DICOM as /Volumes/Stephan_WD/NEUFEPME_data_organised/bids/sub-029/NEUFEP-ME-029_NEUFEP-ME-029_NEUFEP-ME-rest1_SENSE_3_1_echo-2 (64x64x34x210)\n",
      "Philips Scaling Values RS:RI:SS = 0.74212:0:0.00194156 (see PMC3998685)\n",
      "Convert 1 DICOM as /Volumes/Stephan_WD/NEUFEPME_data_organised/bids/sub-029/NEUFEP-ME-029_NEUFEP-ME-029_NEUFEP-ME-rest1_SENSE_3_1_echo-3 (64x64x34x210)\n",
      "Conversion required 7.192097 seconds (2.250670 for core code).\n",
      "WARNING: file NEUFEP-ME-029^NEUFEP-ME-029_NEUFEP-ME-rest2_SENSE_6_1.PAR seems to be a multiecho file - this feature is experimental!\n",
      "Compression will be faster with 'pigz' installed http://macappstore.org/pigz/\n",
      "Chris Rorden's dcm2niiX version v1.0.20190410  Clang9.0.0 (64-bit MacOS)\n",
      "Warning: dcm2niix PAR is not actively supported (hint: use dicm2nii)\n",
      "Warning: Reported TR=2001.54ms, measured TR=2001.53ms (prospect. motion corr.?)\n",
      "Warning: PAR file volumes not saved in ascending temporal order (please check re-ordering)\n",
      "Done reading PAR header version 4.2, with 21420 slices\n",
      "Warning: Multiple Echo (3) or Cardiac (1). Carefully inspect output\n",
      "Philips Scaling Values RS:RI:SS = 0.75238:0:0.00198673 (see PMC3998685)\n",
      "Convert 1 DICOM as /Volumes/Stephan_WD/NEUFEPME_data_organised/bids/sub-029/NEUFEP-ME-029_NEUFEP-ME-029_NEUFEP-ME-rest2_SENSE_6_1_echo-1 (64x64x34x210)\n",
      "Philips Scaling Values RS:RI:SS = 0.75238:0:0.00198673 (see PMC3998685)\n",
      "Convert 1 DICOM as /Volumes/Stephan_WD/NEUFEPME_data_organised/bids/sub-029/NEUFEP-ME-029_NEUFEP-ME-029_NEUFEP-ME-rest2_SENSE_6_1_echo-2 (64x64x34x210)\n",
      "Philips Scaling Values RS:RI:SS = 0.75238:0:0.00198673 (see PMC3998685)\n",
      "Convert 1 DICOM as /Volumes/Stephan_WD/NEUFEPME_data_organised/bids/sub-029/NEUFEP-ME-029_NEUFEP-ME-029_NEUFEP-ME-rest2_SENSE_6_1_echo-3 (64x64x34x210)\n"
     ]
    },
    {
     "name": "stdout",
     "output_type": "stream",
     "text": [
      "Conversion required 6.924552 seconds (2.095558 for core code).\n",
      "Renaming '/Volumes/Stephan_WD/NEUFEPME_data_organised/bids/sub-029/NEUFEP-ME-029_NEUFEP-ME-029_NEUFEP-ME-rest1_SENSE_3_1_echo-1.json' to '/Volumes/Stephan_WD/NEUFEPME_data_organised/bids/sub-029/func/sub-029_task-rest_run-1_echo-1_bold.json'\n",
      "Renaming '/Volumes/Stephan_WD/NEUFEPME_data_organised/bids/sub-029/NEUFEP-ME-029_NEUFEP-ME-029_NEUFEP-ME-rest1_SENSE_3_1_echo-1.nii' to '/Volumes/Stephan_WD/NEUFEPME_data_organised/bids/sub-029/func/sub-029_task-rest_run-1_echo-1_bold.nii'\n",
      "Renaming '/Volumes/Stephan_WD/NEUFEPME_data_organised/bids/sub-029/NEUFEP-ME-029_NEUFEP-ME-029_NEUFEP-ME-rest1_SENSE_3_1_echo-2.json' to '/Volumes/Stephan_WD/NEUFEPME_data_organised/bids/sub-029/func/sub-029_task-rest_run-1_echo-2_bold.json'\n",
      "Renaming '/Volumes/Stephan_WD/NEUFEPME_data_organised/bids/sub-029/NEUFEP-ME-029_NEUFEP-ME-029_NEUFEP-ME-rest1_SENSE_3_1_echo-2.nii' to '/Volumes/Stephan_WD/NEUFEPME_data_organised/bids/sub-029/func/sub-029_task-rest_run-1_echo-2_bold.nii'\n",
      "Renaming '/Volumes/Stephan_WD/NEUFEPME_data_organised/bids/sub-029/NEUFEP-ME-029_NEUFEP-ME-029_NEUFEP-ME-rest1_SENSE_3_1_echo-3.json' to '/Volumes/Stephan_WD/NEUFEPME_data_organised/bids/sub-029/func/sub-029_task-rest_run-1_echo-3_bold.json'\n",
      "Renaming '/Volumes/Stephan_WD/NEUFEPME_data_organised/bids/sub-029/NEUFEP-ME-029_NEUFEP-ME-029_NEUFEP-ME-rest1_SENSE_3_1_echo-3.nii' to '/Volumes/Stephan_WD/NEUFEPME_data_organised/bids/sub-029/func/sub-029_task-rest_run-1_echo-3_bold.nii'\n",
      "Renaming '/Volumes/Stephan_WD/NEUFEPME_data_organised/bids/sub-029/NEUFEP-ME-029_NEUFEP-ME-029_NEUFEP-ME-rest2_SENSE_6_1_echo-1.json' to '/Volumes/Stephan_WD/NEUFEPME_data_organised/bids/sub-029/func/sub-029_task-rest_run-2_echo-1_bold.json'\n",
      "Renaming '/Volumes/Stephan_WD/NEUFEPME_data_organised/bids/sub-029/NEUFEP-ME-029_NEUFEP-ME-029_NEUFEP-ME-rest2_SENSE_6_1_echo-1.nii' to '/Volumes/Stephan_WD/NEUFEPME_data_organised/bids/sub-029/func/sub-029_task-rest_run-2_echo-1_bold.nii'\n",
      "Renaming '/Volumes/Stephan_WD/NEUFEPME_data_organised/bids/sub-029/NEUFEP-ME-029_NEUFEP-ME-029_NEUFEP-ME-rest2_SENSE_6_1_echo-2.json' to '/Volumes/Stephan_WD/NEUFEPME_data_organised/bids/sub-029/func/sub-029_task-rest_run-2_echo-2_bold.json'\n",
      "Renaming '/Volumes/Stephan_WD/NEUFEPME_data_organised/bids/sub-029/NEUFEP-ME-029_NEUFEP-ME-029_NEUFEP-ME-rest2_SENSE_6_1_echo-2.nii' to '/Volumes/Stephan_WD/NEUFEPME_data_organised/bids/sub-029/func/sub-029_task-rest_run-2_echo-2_bold.nii'\n",
      "Renaming '/Volumes/Stephan_WD/NEUFEPME_data_organised/bids/sub-029/NEUFEP-ME-029_NEUFEP-ME-029_NEUFEP-ME-rest2_SENSE_6_1_echo-3.json' to '/Volumes/Stephan_WD/NEUFEPME_data_organised/bids/sub-029/func/sub-029_task-rest_run-2_echo-3_bold.json'\n",
      "Renaming '/Volumes/Stephan_WD/NEUFEPME_data_organised/bids/sub-029/NEUFEP-ME-029_NEUFEP-ME-029_NEUFEP-ME-rest2_SENSE_6_1_echo-3.nii' to '/Volumes/Stephan_WD/NEUFEPME_data_organised/bids/sub-029/func/sub-029_task-rest_run-2_echo-3_bold.nii'\n",
      "Renaming '/Volumes/Stephan_WD/NEUFEPME_data_organised/bids/sub-029/NEUFEP-ME-029_NEUFEP-ME-029_NEUFEP-ME-motor1_SENSE_4_1_echo-1.json' to '/Volumes/Stephan_WD/NEUFEPME_data_organised/bids/sub-029/func/sub-029_task-motor_run-1_echo-1_bold.json'\n",
      "Renaming '/Volumes/Stephan_WD/NEUFEPME_data_organised/bids/sub-029/NEUFEP-ME-029_NEUFEP-ME-029_NEUFEP-ME-motor1_SENSE_4_1_echo-1.nii' to '/Volumes/Stephan_WD/NEUFEPME_data_organised/bids/sub-029/func/sub-029_task-motor_run-1_echo-1_bold.nii'\n",
      "Renaming '/Volumes/Stephan_WD/NEUFEPME_data_organised/bids/sub-029/NEUFEP-ME-029_NEUFEP-ME-029_NEUFEP-ME-motor1_SENSE_4_1_echo-2.json' to '/Volumes/Stephan_WD/NEUFEPME_data_organised/bids/sub-029/func/sub-029_task-motor_run-1_echo-2_bold.json'\n",
      "Renaming '/Volumes/Stephan_WD/NEUFEPME_data_organised/bids/sub-029/NEUFEP-ME-029_NEUFEP-ME-029_NEUFEP-ME-motor1_SENSE_4_1_echo-2.nii' to '/Volumes/Stephan_WD/NEUFEPME_data_organised/bids/sub-029/func/sub-029_task-motor_run-1_echo-2_bold.nii'\n",
      "Renaming '/Volumes/Stephan_WD/NEUFEPME_data_organised/bids/sub-029/NEUFEP-ME-029_NEUFEP-ME-029_NEUFEP-ME-motor1_SENSE_4_1_echo-3.json' to '/Volumes/Stephan_WD/NEUFEPME_data_organised/bids/sub-029/func/sub-029_task-motor_run-1_echo-3_bold.json'\n",
      "Renaming '/Volumes/Stephan_WD/NEUFEPME_data_organised/bids/sub-029/NEUFEP-ME-029_NEUFEP-ME-029_NEUFEP-ME-motor1_SENSE_4_1_echo-3.nii' to '/Volumes/Stephan_WD/NEUFEPME_data_organised/bids/sub-029/func/sub-029_task-motor_run-1_echo-3_bold.nii'\n",
      "Renaming '/Volumes/Stephan_WD/NEUFEPME_data_organised/bids/sub-029/NEUFEP-ME-029_NEUFEP-ME-029_NEUFEP-ME-motor2_SENSE_7_1_echo-1.json' to '/Volumes/Stephan_WD/NEUFEPME_data_organised/bids/sub-029/func/sub-029_task-motor_run-2_echo-1_bold.json'\n",
      "Renaming '/Volumes/Stephan_WD/NEUFEPME_data_organised/bids/sub-029/NEUFEP-ME-029_NEUFEP-ME-029_NEUFEP-ME-motor2_SENSE_7_1_echo-1.nii' to '/Volumes/Stephan_WD/NEUFEPME_data_organised/bids/sub-029/func/sub-029_task-motor_run-2_echo-1_bold.nii'\n",
      "Renaming '/Volumes/Stephan_WD/NEUFEPME_data_organised/bids/sub-029/NEUFEP-ME-029_NEUFEP-ME-029_NEUFEP-ME-motor2_SENSE_7_1_echo-2.json' to '/Volumes/Stephan_WD/NEUFEPME_data_organised/bids/sub-029/func/sub-029_task-motor_run-2_echo-2_bold.json'\n",
      "Renaming '/Volumes/Stephan_WD/NEUFEPME_data_organised/bids/sub-029/NEUFEP-ME-029_NEUFEP-ME-029_NEUFEP-ME-motor2_SENSE_7_1_echo-2.nii' to '/Volumes/Stephan_WD/NEUFEPME_data_organised/bids/sub-029/func/sub-029_task-motor_run-2_echo-2_bold.nii'\n",
      "Renaming '/Volumes/Stephan_WD/NEUFEPME_data_organised/bids/sub-029/NEUFEP-ME-029_NEUFEP-ME-029_NEUFEP-ME-motor2_SENSE_7_1_echo-3.json' to '/Volumes/Stephan_WD/NEUFEPME_data_organised/bids/sub-029/func/sub-029_task-motor_run-2_echo-3_bold.json'\n",
      "Renaming '/Volumes/Stephan_WD/NEUFEPME_data_organised/bids/sub-029/NEUFEP-ME-029_NEUFEP-ME-029_NEUFEP-ME-motor2_SENSE_7_1_echo-3.nii' to '/Volumes/Stephan_WD/NEUFEPME_data_organised/bids/sub-029/func/sub-029_task-motor_run-2_echo-3_bold.nii'\n",
      "Renaming '/Volumes/Stephan_WD/NEUFEPME_data_organised/bids/sub-029/NEUFEP-ME-029_NEUFEP-ME-029_NEUFEP-ME-emotion1_SENSE_5_1_echo-1.json' to '/Volumes/Stephan_WD/NEUFEPME_data_organised/bids/sub-029/func/sub-029_task-emotion_run-1_echo-1_bold.json'\n",
      "Renaming '/Volumes/Stephan_WD/NEUFEPME_data_organised/bids/sub-029/NEUFEP-ME-029_NEUFEP-ME-029_NEUFEP-ME-emotion1_SENSE_5_1_echo-1.nii' to '/Volumes/Stephan_WD/NEUFEPME_data_organised/bids/sub-029/func/sub-029_task-emotion_run-1_echo-1_bold.nii'\n",
      "Renaming '/Volumes/Stephan_WD/NEUFEPME_data_organised/bids/sub-029/NEUFEP-ME-029_NEUFEP-ME-029_NEUFEP-ME-emotion1_SENSE_5_1_echo-2.json' to '/Volumes/Stephan_WD/NEUFEPME_data_organised/bids/sub-029/func/sub-029_task-emotion_run-1_echo-2_bold.json'\n",
      "Renaming '/Volumes/Stephan_WD/NEUFEPME_data_organised/bids/sub-029/NEUFEP-ME-029_NEUFEP-ME-029_NEUFEP-ME-emotion1_SENSE_5_1_echo-2.nii' to '/Volumes/Stephan_WD/NEUFEPME_data_organised/bids/sub-029/func/sub-029_task-emotion_run-1_echo-2_bold.nii'\n",
      "Renaming '/Volumes/Stephan_WD/NEUFEPME_data_organised/bids/sub-029/NEUFEP-ME-029_NEUFEP-ME-029_NEUFEP-ME-emotion1_SENSE_5_1_echo-3.json' to '/Volumes/Stephan_WD/NEUFEPME_data_organised/bids/sub-029/func/sub-029_task-emotion_run-1_echo-3_bold.json'\n",
      "Renaming '/Volumes/Stephan_WD/NEUFEPME_data_organised/bids/sub-029/NEUFEP-ME-029_NEUFEP-ME-029_NEUFEP-ME-emotion1_SENSE_5_1_echo-3.nii' to '/Volumes/Stephan_WD/NEUFEPME_data_organised/bids/sub-029/func/sub-029_task-emotion_run-1_echo-3_bold.nii'\n",
      "Renaming '/Volumes/Stephan_WD/NEUFEPME_data_organised/bids/sub-029/NEUFEP-ME-029_NEUFEP-ME-029_NEUFEP-ME-emotion2_SENSE_8_1_echo-1.json' to '/Volumes/Stephan_WD/NEUFEPME_data_organised/bids/sub-029/func/sub-029_task-emotion_run-2_echo-1_bold.json'\n",
      "Renaming '/Volumes/Stephan_WD/NEUFEPME_data_organised/bids/sub-029/NEUFEP-ME-029_NEUFEP-ME-029_NEUFEP-ME-emotion2_SENSE_8_1_echo-1.nii' to '/Volumes/Stephan_WD/NEUFEPME_data_organised/bids/sub-029/func/sub-029_task-emotion_run-2_echo-1_bold.nii'\n",
      "Renaming '/Volumes/Stephan_WD/NEUFEPME_data_organised/bids/sub-029/NEUFEP-ME-029_NEUFEP-ME-029_NEUFEP-ME-emotion2_SENSE_8_1_echo-2.json' to '/Volumes/Stephan_WD/NEUFEPME_data_organised/bids/sub-029/func/sub-029_task-emotion_run-2_echo-2_bold.json'\n",
      "Renaming '/Volumes/Stephan_WD/NEUFEPME_data_organised/bids/sub-029/NEUFEP-ME-029_NEUFEP-ME-029_NEUFEP-ME-emotion2_SENSE_8_1_echo-2.nii' to '/Volumes/Stephan_WD/NEUFEPME_data_organised/bids/sub-029/func/sub-029_task-emotion_run-2_echo-2_bold.nii'\n",
      "Renaming '/Volumes/Stephan_WD/NEUFEPME_data_organised/bids/sub-029/NEUFEP-ME-029_NEUFEP-ME-029_NEUFEP-ME-emotion2_SENSE_8_1_echo-3.json' to '/Volumes/Stephan_WD/NEUFEPME_data_organised/bids/sub-029/func/sub-029_task-emotion_run-2_echo-3_bold.json'\n",
      "Renaming '/Volumes/Stephan_WD/NEUFEPME_data_organised/bids/sub-029/NEUFEP-ME-029_NEUFEP-ME-029_NEUFEP-ME-emotion2_SENSE_8_1_echo-3.nii' to '/Volumes/Stephan_WD/NEUFEPME_data_organised/bids/sub-029/func/sub-029_task-emotion_run-2_echo-3_bold.nii'\n",
      "Renaming '/Volumes/Stephan_WD/NEUFEPME_data_organised/bids/sub-029/NEUFEP-ME-029^NEUFEP-ME-029_T1W_3D_TFE_2_1.nii' to '/Volumes/Stephan_WD/NEUFEPME_data_organised/bids/sub-029/anat/sub-029_T1w.nii'\n"
     ]
    },
    {
     "name": "stdout",
     "output_type": "stream",
     "text": [
      "Converting data from sub-030 ...\n",
      "WARNING: file NEUFEP-ME-030^NEUFEP-ME-030_NEUFEP-ME-emotion1_SENSE_5_1.PAR seems to be a multiecho file - this feature is experimental!\n",
      "Compression will be faster with 'pigz' installed http://macappstore.org/pigz/\n",
      "Chris Rorden's dcm2niiX version v1.0.20190410  Clang9.0.0 (64-bit MacOS)\n",
      "Warning: dcm2niix PAR is not actively supported (hint: use dicm2nii)\n",
      "Warning: Reported TR=2002.7ms, measured TR=2002.68ms (prospect. motion corr.?)\n",
      "Warning: PAR file volumes not saved in ascending temporal order (please check re-ordering)\n",
      "Done reading PAR header version 4.2, with 21420 slices\n",
      "Warning: Multiple Echo (3) or Cardiac (1). Carefully inspect output\n",
      "Philips Scaling Values RS:RI:SS = 0.76093:0:0.001832 (see PMC3998685)\n",
      "Convert 1 DICOM as /Volumes/Stephan_WD/NEUFEPME_data_organised/bids/sub-030/NEUFEP-ME-030_NEUFEP-ME-030_NEUFEP-ME-emotion1_SENSE_5_1_echo-1 (64x64x34x210)\n",
      "Philips Scaling Values RS:RI:SS = 0.76093:0:0.001832 (see PMC3998685)\n",
      "Convert 1 DICOM as /Volumes/Stephan_WD/NEUFEPME_data_organised/bids/sub-030/NEUFEP-ME-030_NEUFEP-ME-030_NEUFEP-ME-emotion1_SENSE_5_1_echo-2 (64x64x34x210)\n",
      "Philips Scaling Values RS:RI:SS = 0.76093:0:0.001832 (see PMC3998685)\n",
      "Convert 1 DICOM as /Volumes/Stephan_WD/NEUFEPME_data_organised/bids/sub-030/NEUFEP-ME-030_NEUFEP-ME-030_NEUFEP-ME-emotion1_SENSE_5_1_echo-3 (64x64x34x210)\n",
      "Conversion required 6.016398 seconds (2.055089 for core code).\n",
      "WARNING: file NEUFEP-ME-030^NEUFEP-ME-030_NEUFEP-ME-emotion2_SENSE_8_1.PAR seems to be a multiecho file - this feature is experimental!\n",
      "Compression will be faster with 'pigz' installed http://macappstore.org/pigz/\n",
      "Chris Rorden's dcm2niiX version v1.0.20190410  Clang9.0.0 (64-bit MacOS)\n",
      "Warning: dcm2niix PAR is not actively supported (hint: use dicm2nii)\n",
      "Warning: Reported TR=2002.7ms, measured TR=2002.68ms (prospect. motion corr.?)\n",
      "Warning: PAR file volumes not saved in ascending temporal order (please check re-ordering)\n",
      "Done reading PAR header version 4.2, with 21420 slices\n",
      "Warning: Multiple Echo (3) or Cardiac (1). Carefully inspect output\n",
      "Philips Scaling Values RS:RI:SS = 0.76459:0:0.00186923 (see PMC3998685)\n",
      "Convert 1 DICOM as /Volumes/Stephan_WD/NEUFEPME_data_organised/bids/sub-030/NEUFEP-ME-030_NEUFEP-ME-030_NEUFEP-ME-emotion2_SENSE_8_1_echo-1 (64x64x34x210)\n",
      "Philips Scaling Values RS:RI:SS = 0.76459:0:0.00186923 (see PMC3998685)\n",
      "Convert 1 DICOM as /Volumes/Stephan_WD/NEUFEPME_data_organised/bids/sub-030/NEUFEP-ME-030_NEUFEP-ME-030_NEUFEP-ME-emotion2_SENSE_8_1_echo-2 (64x64x34x210)\n",
      "Philips Scaling Values RS:RI:SS = 0.76459:0:0.00186923 (see PMC3998685)\n",
      "Convert 1 DICOM as /Volumes/Stephan_WD/NEUFEPME_data_organised/bids/sub-030/NEUFEP-ME-030_NEUFEP-ME-030_NEUFEP-ME-emotion2_SENSE_8_1_echo-3 (64x64x34x210)\n",
      "Conversion required 5.710357 seconds (2.108362 for core code).\n",
      "WARNING: file NEUFEP-ME-030^NEUFEP-ME-030_NEUFEP-ME-motor1_SENSE_4_1.PAR seems to be a multiecho file - this feature is experimental!\n",
      "Compression will be faster with 'pigz' installed http://macappstore.org/pigz/\n",
      "Chris Rorden's dcm2niiX version v1.0.20190410  Clang9.0.0 (64-bit MacOS)\n",
      "Warning: dcm2niix PAR is not actively supported (hint: use dicm2nii)\n",
      "Warning: Reported TR=2002.7ms, measured TR=2002.68ms (prospect. motion corr.?)\n",
      "Warning: PAR file volumes not saved in ascending temporal order (please check re-ordering)\n",
      "Done reading PAR header version 4.2, with 21420 slices\n",
      "Warning: Multiple Echo (3) or Cardiac (1). Carefully inspect output\n",
      "Philips Scaling Values RS:RI:SS = 0.76874:0:0.00179262 (see PMC3998685)\n",
      "Convert 1 DICOM as /Volumes/Stephan_WD/NEUFEPME_data_organised/bids/sub-030/NEUFEP-ME-030_NEUFEP-ME-030_NEUFEP-ME-motor1_SENSE_4_1_echo-1 (64x64x34x210)\n",
      "Philips Scaling Values RS:RI:SS = 0.76874:0:0.00179262 (see PMC3998685)\n",
      "Convert 1 DICOM as /Volumes/Stephan_WD/NEUFEPME_data_organised/bids/sub-030/NEUFEP-ME-030_NEUFEP-ME-030_NEUFEP-ME-motor1_SENSE_4_1_echo-2 (64x64x34x210)\n",
      "Philips Scaling Values RS:RI:SS = 0.76874:0:0.00179262 (see PMC3998685)\n",
      "Convert 1 DICOM as /Volumes/Stephan_WD/NEUFEPME_data_organised/bids/sub-030/NEUFEP-ME-030_NEUFEP-ME-030_NEUFEP-ME-motor1_SENSE_4_1_echo-3 (64x64x34x210)\n",
      "Conversion required 5.899042 seconds (1.990806 for core code).\n",
      "WARNING: file NEUFEP-ME-030^NEUFEP-ME-030_NEUFEP-ME-motor2_SENSE_7_1.PAR seems to be a multiecho file - this feature is experimental!\n",
      "Compression will be faster with 'pigz' installed http://macappstore.org/pigz/\n",
      "Chris Rorden's dcm2niiX version v1.0.20190410  Clang9.0.0 (64-bit MacOS)\n",
      "Warning: dcm2niix PAR is not actively supported (hint: use dicm2nii)\n",
      "Warning: Reported TR=2002.7ms, measured TR=2002.68ms (prospect. motion corr.?)\n",
      "Warning: PAR file volumes not saved in ascending temporal order (please check re-ordering)\n",
      "Done reading PAR header version 4.2, with 21420 slices\n",
      "Warning: Multiple Echo (3) or Cardiac (1). Carefully inspect output\n",
      "Philips Scaling Values RS:RI:SS = 0.779:0:0.00178859 (see PMC3998685)\n",
      "Convert 1 DICOM as /Volumes/Stephan_WD/NEUFEPME_data_organised/bids/sub-030/NEUFEP-ME-030_NEUFEP-ME-030_NEUFEP-ME-motor2_SENSE_7_1_echo-1 (64x64x34x210)\n",
      "Philips Scaling Values RS:RI:SS = 0.779:0:0.00178859 (see PMC3998685)\n",
      "Convert 1 DICOM as /Volumes/Stephan_WD/NEUFEPME_data_organised/bids/sub-030/NEUFEP-ME-030_NEUFEP-ME-030_NEUFEP-ME-motor2_SENSE_7_1_echo-2 (64x64x34x210)\n",
      "Philips Scaling Values RS:RI:SS = 0.779:0:0.00178859 (see PMC3998685)\n",
      "Convert 1 DICOM as /Volumes/Stephan_WD/NEUFEPME_data_organised/bids/sub-030/NEUFEP-ME-030_NEUFEP-ME-030_NEUFEP-ME-motor2_SENSE_7_1_echo-3 (64x64x34x210)\n",
      "Conversion required 5.972656 seconds (2.040156 for core code).\n",
      "WARNING: file NEUFEP-ME-030^NEUFEP-ME-030_NEUFEP-ME-rest1_SENSE_3_1.PAR seems to be a multiecho file - this feature is experimental!\n",
      "Compression will be faster with 'pigz' installed http://macappstore.org/pigz/\n",
      "Chris Rorden's dcm2niiX version v1.0.20190410  Clang9.0.0 (64-bit MacOS)\n",
      "Warning: dcm2niix PAR is not actively supported (hint: use dicm2nii)\n",
      "Warning: Reported TR=2002.7ms, measured TR=2002.68ms (prospect. motion corr.?)\n",
      "Warning: PAR file volumes not saved in ascending temporal order (please check re-ordering)\n",
      "Done reading PAR header version 4.2, with 21420 slices\n",
      "Warning: Multiple Echo (3) or Cardiac (1). Carefully inspect output\n",
      "Philips Scaling Values RS:RI:SS = 0.7663:0:0.00188286 (see PMC3998685)\n",
      "Convert 1 DICOM as /Volumes/Stephan_WD/NEUFEPME_data_organised/bids/sub-030/NEUFEP-ME-030_NEUFEP-ME-030_NEUFEP-ME-rest1_SENSE_3_1_echo-1 (64x64x34x210)\n",
      "Philips Scaling Values RS:RI:SS = 0.7663:0:0.00188286 (see PMC3998685)\n",
      "Convert 1 DICOM as /Volumes/Stephan_WD/NEUFEPME_data_organised/bids/sub-030/NEUFEP-ME-030_NEUFEP-ME-030_NEUFEP-ME-rest1_SENSE_3_1_echo-2 (64x64x34x210)\n",
      "Philips Scaling Values RS:RI:SS = 0.7663:0:0.00188286 (see PMC3998685)\n",
      "Convert 1 DICOM as /Volumes/Stephan_WD/NEUFEPME_data_organised/bids/sub-030/NEUFEP-ME-030_NEUFEP-ME-030_NEUFEP-ME-rest1_SENSE_3_1_echo-3 (64x64x34x210)\n",
      "Conversion required 6.975100 seconds (2.064369 for core code).\n",
      "WARNING: file NEUFEP-ME-030^NEUFEP-ME-030_NEUFEP-ME-rest2_SENSE_6_1.PAR seems to be a multiecho file - this feature is experimental!\n",
      "Compression will be faster with 'pigz' installed http://macappstore.org/pigz/\n",
      "Chris Rorden's dcm2niiX version v1.0.20190410  Clang9.0.0 (64-bit MacOS)\n",
      "Warning: dcm2niix PAR is not actively supported (hint: use dicm2nii)\n",
      "Warning: Reported TR=2002.7ms, measured TR=2002.68ms (prospect. motion corr.?)\n",
      "Warning: PAR file volumes not saved in ascending temporal order (please check re-ordering)\n",
      "Done reading PAR header version 4.2, with 21420 slices\n",
      "Warning: Multiple Echo (3) or Cardiac (1). Carefully inspect output\n",
      "Philips Scaling Values RS:RI:SS = 0.76874:0:0.00180419 (see PMC3998685)\n",
      "Convert 1 DICOM as /Volumes/Stephan_WD/NEUFEPME_data_organised/bids/sub-030/NEUFEP-ME-030_NEUFEP-ME-030_NEUFEP-ME-rest2_SENSE_6_1_echo-1 (64x64x34x210)\n",
      "Philips Scaling Values RS:RI:SS = 0.76874:0:0.00180419 (see PMC3998685)\n",
      "Convert 1 DICOM as /Volumes/Stephan_WD/NEUFEPME_data_organised/bids/sub-030/NEUFEP-ME-030_NEUFEP-ME-030_NEUFEP-ME-rest2_SENSE_6_1_echo-2 (64x64x34x210)\n",
      "Philips Scaling Values RS:RI:SS = 0.76874:0:0.00180419 (see PMC3998685)\n",
      "Convert 1 DICOM as /Volumes/Stephan_WD/NEUFEPME_data_organised/bids/sub-030/NEUFEP-ME-030_NEUFEP-ME-030_NEUFEP-ME-rest2_SENSE_6_1_echo-3 (64x64x34x210)\n"
     ]
    },
    {
     "name": "stdout",
     "output_type": "stream",
     "text": [
      "Conversion required 6.492298 seconds (2.059760 for core code).\n",
      "Renaming '/Volumes/Stephan_WD/NEUFEPME_data_organised/bids/sub-030/NEUFEP-ME-030_NEUFEP-ME-030_NEUFEP-ME-rest1_SENSE_3_1_echo-1.json' to '/Volumes/Stephan_WD/NEUFEPME_data_organised/bids/sub-030/func/sub-030_task-rest_run-1_echo-1_bold.json'\n",
      "Renaming '/Volumes/Stephan_WD/NEUFEPME_data_organised/bids/sub-030/NEUFEP-ME-030_NEUFEP-ME-030_NEUFEP-ME-rest1_SENSE_3_1_echo-1.nii' to '/Volumes/Stephan_WD/NEUFEPME_data_organised/bids/sub-030/func/sub-030_task-rest_run-1_echo-1_bold.nii'\n",
      "Renaming '/Volumes/Stephan_WD/NEUFEPME_data_organised/bids/sub-030/NEUFEP-ME-030_NEUFEP-ME-030_NEUFEP-ME-rest1_SENSE_3_1_echo-2.json' to '/Volumes/Stephan_WD/NEUFEPME_data_organised/bids/sub-030/func/sub-030_task-rest_run-1_echo-2_bold.json'\n",
      "Renaming '/Volumes/Stephan_WD/NEUFEPME_data_organised/bids/sub-030/NEUFEP-ME-030_NEUFEP-ME-030_NEUFEP-ME-rest1_SENSE_3_1_echo-2.nii' to '/Volumes/Stephan_WD/NEUFEPME_data_organised/bids/sub-030/func/sub-030_task-rest_run-1_echo-2_bold.nii'\n",
      "Renaming '/Volumes/Stephan_WD/NEUFEPME_data_organised/bids/sub-030/NEUFEP-ME-030_NEUFEP-ME-030_NEUFEP-ME-rest1_SENSE_3_1_echo-3.json' to '/Volumes/Stephan_WD/NEUFEPME_data_organised/bids/sub-030/func/sub-030_task-rest_run-1_echo-3_bold.json'\n",
      "Renaming '/Volumes/Stephan_WD/NEUFEPME_data_organised/bids/sub-030/NEUFEP-ME-030_NEUFEP-ME-030_NEUFEP-ME-rest1_SENSE_3_1_echo-3.nii' to '/Volumes/Stephan_WD/NEUFEPME_data_organised/bids/sub-030/func/sub-030_task-rest_run-1_echo-3_bold.nii'\n",
      "Renaming '/Volumes/Stephan_WD/NEUFEPME_data_organised/bids/sub-030/NEUFEP-ME-030_NEUFEP-ME-030_NEUFEP-ME-rest2_SENSE_6_1_echo-1.json' to '/Volumes/Stephan_WD/NEUFEPME_data_organised/bids/sub-030/func/sub-030_task-rest_run-2_echo-1_bold.json'\n",
      "Renaming '/Volumes/Stephan_WD/NEUFEPME_data_organised/bids/sub-030/NEUFEP-ME-030_NEUFEP-ME-030_NEUFEP-ME-rest2_SENSE_6_1_echo-1.nii' to '/Volumes/Stephan_WD/NEUFEPME_data_organised/bids/sub-030/func/sub-030_task-rest_run-2_echo-1_bold.nii'\n",
      "Renaming '/Volumes/Stephan_WD/NEUFEPME_data_organised/bids/sub-030/NEUFEP-ME-030_NEUFEP-ME-030_NEUFEP-ME-rest2_SENSE_6_1_echo-2.json' to '/Volumes/Stephan_WD/NEUFEPME_data_organised/bids/sub-030/func/sub-030_task-rest_run-2_echo-2_bold.json'\n",
      "Renaming '/Volumes/Stephan_WD/NEUFEPME_data_organised/bids/sub-030/NEUFEP-ME-030_NEUFEP-ME-030_NEUFEP-ME-rest2_SENSE_6_1_echo-2.nii' to '/Volumes/Stephan_WD/NEUFEPME_data_organised/bids/sub-030/func/sub-030_task-rest_run-2_echo-2_bold.nii'\n",
      "Renaming '/Volumes/Stephan_WD/NEUFEPME_data_organised/bids/sub-030/NEUFEP-ME-030_NEUFEP-ME-030_NEUFEP-ME-rest2_SENSE_6_1_echo-3.json' to '/Volumes/Stephan_WD/NEUFEPME_data_organised/bids/sub-030/func/sub-030_task-rest_run-2_echo-3_bold.json'\n",
      "Renaming '/Volumes/Stephan_WD/NEUFEPME_data_organised/bids/sub-030/NEUFEP-ME-030_NEUFEP-ME-030_NEUFEP-ME-rest2_SENSE_6_1_echo-3.nii' to '/Volumes/Stephan_WD/NEUFEPME_data_organised/bids/sub-030/func/sub-030_task-rest_run-2_echo-3_bold.nii'\n",
      "Renaming '/Volumes/Stephan_WD/NEUFEPME_data_organised/bids/sub-030/NEUFEP-ME-030_NEUFEP-ME-030_NEUFEP-ME-motor1_SENSE_4_1_echo-1.json' to '/Volumes/Stephan_WD/NEUFEPME_data_organised/bids/sub-030/func/sub-030_task-motor_run-1_echo-1_bold.json'\n",
      "Renaming '/Volumes/Stephan_WD/NEUFEPME_data_organised/bids/sub-030/NEUFEP-ME-030_NEUFEP-ME-030_NEUFEP-ME-motor1_SENSE_4_1_echo-1.nii' to '/Volumes/Stephan_WD/NEUFEPME_data_organised/bids/sub-030/func/sub-030_task-motor_run-1_echo-1_bold.nii'\n",
      "Renaming '/Volumes/Stephan_WD/NEUFEPME_data_organised/bids/sub-030/NEUFEP-ME-030_NEUFEP-ME-030_NEUFEP-ME-motor1_SENSE_4_1_echo-2.json' to '/Volumes/Stephan_WD/NEUFEPME_data_organised/bids/sub-030/func/sub-030_task-motor_run-1_echo-2_bold.json'\n",
      "Renaming '/Volumes/Stephan_WD/NEUFEPME_data_organised/bids/sub-030/NEUFEP-ME-030_NEUFEP-ME-030_NEUFEP-ME-motor1_SENSE_4_1_echo-2.nii' to '/Volumes/Stephan_WD/NEUFEPME_data_organised/bids/sub-030/func/sub-030_task-motor_run-1_echo-2_bold.nii'\n",
      "Renaming '/Volumes/Stephan_WD/NEUFEPME_data_organised/bids/sub-030/NEUFEP-ME-030_NEUFEP-ME-030_NEUFEP-ME-motor1_SENSE_4_1_echo-3.json' to '/Volumes/Stephan_WD/NEUFEPME_data_organised/bids/sub-030/func/sub-030_task-motor_run-1_echo-3_bold.json'\n",
      "Renaming '/Volumes/Stephan_WD/NEUFEPME_data_organised/bids/sub-030/NEUFEP-ME-030_NEUFEP-ME-030_NEUFEP-ME-motor1_SENSE_4_1_echo-3.nii' to '/Volumes/Stephan_WD/NEUFEPME_data_organised/bids/sub-030/func/sub-030_task-motor_run-1_echo-3_bold.nii'\n",
      "Renaming '/Volumes/Stephan_WD/NEUFEPME_data_organised/bids/sub-030/NEUFEP-ME-030_NEUFEP-ME-030_NEUFEP-ME-motor2_SENSE_7_1_echo-1.json' to '/Volumes/Stephan_WD/NEUFEPME_data_organised/bids/sub-030/func/sub-030_task-motor_run-2_echo-1_bold.json'\n",
      "Renaming '/Volumes/Stephan_WD/NEUFEPME_data_organised/bids/sub-030/NEUFEP-ME-030_NEUFEP-ME-030_NEUFEP-ME-motor2_SENSE_7_1_echo-1.nii' to '/Volumes/Stephan_WD/NEUFEPME_data_organised/bids/sub-030/func/sub-030_task-motor_run-2_echo-1_bold.nii'\n",
      "Renaming '/Volumes/Stephan_WD/NEUFEPME_data_organised/bids/sub-030/NEUFEP-ME-030_NEUFEP-ME-030_NEUFEP-ME-motor2_SENSE_7_1_echo-2.json' to '/Volumes/Stephan_WD/NEUFEPME_data_organised/bids/sub-030/func/sub-030_task-motor_run-2_echo-2_bold.json'\n",
      "Renaming '/Volumes/Stephan_WD/NEUFEPME_data_organised/bids/sub-030/NEUFEP-ME-030_NEUFEP-ME-030_NEUFEP-ME-motor2_SENSE_7_1_echo-2.nii' to '/Volumes/Stephan_WD/NEUFEPME_data_organised/bids/sub-030/func/sub-030_task-motor_run-2_echo-2_bold.nii'\n",
      "Renaming '/Volumes/Stephan_WD/NEUFEPME_data_organised/bids/sub-030/NEUFEP-ME-030_NEUFEP-ME-030_NEUFEP-ME-motor2_SENSE_7_1_echo-3.json' to '/Volumes/Stephan_WD/NEUFEPME_data_organised/bids/sub-030/func/sub-030_task-motor_run-2_echo-3_bold.json'\n",
      "Renaming '/Volumes/Stephan_WD/NEUFEPME_data_organised/bids/sub-030/NEUFEP-ME-030_NEUFEP-ME-030_NEUFEP-ME-motor2_SENSE_7_1_echo-3.nii' to '/Volumes/Stephan_WD/NEUFEPME_data_organised/bids/sub-030/func/sub-030_task-motor_run-2_echo-3_bold.nii'\n",
      "Renaming '/Volumes/Stephan_WD/NEUFEPME_data_organised/bids/sub-030/NEUFEP-ME-030_NEUFEP-ME-030_NEUFEP-ME-emotion1_SENSE_5_1_echo-1.json' to '/Volumes/Stephan_WD/NEUFEPME_data_organised/bids/sub-030/func/sub-030_task-emotion_run-1_echo-1_bold.json'\n",
      "Renaming '/Volumes/Stephan_WD/NEUFEPME_data_organised/bids/sub-030/NEUFEP-ME-030_NEUFEP-ME-030_NEUFEP-ME-emotion1_SENSE_5_1_echo-1.nii' to '/Volumes/Stephan_WD/NEUFEPME_data_organised/bids/sub-030/func/sub-030_task-emotion_run-1_echo-1_bold.nii'\n",
      "Renaming '/Volumes/Stephan_WD/NEUFEPME_data_organised/bids/sub-030/NEUFEP-ME-030_NEUFEP-ME-030_NEUFEP-ME-emotion1_SENSE_5_1_echo-2.json' to '/Volumes/Stephan_WD/NEUFEPME_data_organised/bids/sub-030/func/sub-030_task-emotion_run-1_echo-2_bold.json'\n",
      "Renaming '/Volumes/Stephan_WD/NEUFEPME_data_organised/bids/sub-030/NEUFEP-ME-030_NEUFEP-ME-030_NEUFEP-ME-emotion1_SENSE_5_1_echo-2.nii' to '/Volumes/Stephan_WD/NEUFEPME_data_organised/bids/sub-030/func/sub-030_task-emotion_run-1_echo-2_bold.nii'\n",
      "Renaming '/Volumes/Stephan_WD/NEUFEPME_data_organised/bids/sub-030/NEUFEP-ME-030_NEUFEP-ME-030_NEUFEP-ME-emotion1_SENSE_5_1_echo-3.json' to '/Volumes/Stephan_WD/NEUFEPME_data_organised/bids/sub-030/func/sub-030_task-emotion_run-1_echo-3_bold.json'\n",
      "Renaming '/Volumes/Stephan_WD/NEUFEPME_data_organised/bids/sub-030/NEUFEP-ME-030_NEUFEP-ME-030_NEUFEP-ME-emotion1_SENSE_5_1_echo-3.nii' to '/Volumes/Stephan_WD/NEUFEPME_data_organised/bids/sub-030/func/sub-030_task-emotion_run-1_echo-3_bold.nii'\n",
      "Renaming '/Volumes/Stephan_WD/NEUFEPME_data_organised/bids/sub-030/NEUFEP-ME-030_NEUFEP-ME-030_NEUFEP-ME-emotion2_SENSE_8_1_echo-1.json' to '/Volumes/Stephan_WD/NEUFEPME_data_organised/bids/sub-030/func/sub-030_task-emotion_run-2_echo-1_bold.json'\n",
      "Renaming '/Volumes/Stephan_WD/NEUFEPME_data_organised/bids/sub-030/NEUFEP-ME-030_NEUFEP-ME-030_NEUFEP-ME-emotion2_SENSE_8_1_echo-1.nii' to '/Volumes/Stephan_WD/NEUFEPME_data_organised/bids/sub-030/func/sub-030_task-emotion_run-2_echo-1_bold.nii'\n",
      "Renaming '/Volumes/Stephan_WD/NEUFEPME_data_organised/bids/sub-030/NEUFEP-ME-030_NEUFEP-ME-030_NEUFEP-ME-emotion2_SENSE_8_1_echo-2.json' to '/Volumes/Stephan_WD/NEUFEPME_data_organised/bids/sub-030/func/sub-030_task-emotion_run-2_echo-2_bold.json'\n",
      "Renaming '/Volumes/Stephan_WD/NEUFEPME_data_organised/bids/sub-030/NEUFEP-ME-030_NEUFEP-ME-030_NEUFEP-ME-emotion2_SENSE_8_1_echo-2.nii' to '/Volumes/Stephan_WD/NEUFEPME_data_organised/bids/sub-030/func/sub-030_task-emotion_run-2_echo-2_bold.nii'\n",
      "Renaming '/Volumes/Stephan_WD/NEUFEPME_data_organised/bids/sub-030/NEUFEP-ME-030_NEUFEP-ME-030_NEUFEP-ME-emotion2_SENSE_8_1_echo-3.json' to '/Volumes/Stephan_WD/NEUFEPME_data_organised/bids/sub-030/func/sub-030_task-emotion_run-2_echo-3_bold.json'\n",
      "Renaming '/Volumes/Stephan_WD/NEUFEPME_data_organised/bids/sub-030/NEUFEP-ME-030_NEUFEP-ME-030_NEUFEP-ME-emotion2_SENSE_8_1_echo-3.nii' to '/Volumes/Stephan_WD/NEUFEPME_data_organised/bids/sub-030/func/sub-030_task-emotion_run-2_echo-3_bold.nii'\n",
      "Renaming '/Volumes/Stephan_WD/NEUFEPME_data_organised/bids/sub-030/NEUFEP-ME-030^NEUFEP-ME-030_T1W_3D_TFE_2_1.nii' to '/Volumes/Stephan_WD/NEUFEPME_data_organised/bids/sub-030/anat/sub-030_T1w.nii'\n"
     ]
    },
    {
     "name": "stdout",
     "output_type": "stream",
     "text": [
      "Converting data from sub-031 ...\n",
      "WARNING: file NEUFEP-ME-031^NEUFEP-ME-031_NEUFEP-ME-emotion1_SENSE_5_1.PAR seems to be a multiecho file - this feature is experimental!\n",
      "Compression will be faster with 'pigz' installed http://macappstore.org/pigz/\n",
      "Chris Rorden's dcm2niiX version v1.0.20190410  Clang9.0.0 (64-bit MacOS)\n",
      "Warning: dcm2niix PAR is not actively supported (hint: use dicm2nii)\n",
      "Warning: Reported TR=2005.19ms, measured TR=2005.17ms (prospect. motion corr.?)\n",
      "Warning: PAR file volumes not saved in ascending temporal order (please check re-ordering)\n",
      "Warning: Distance between slices reported by slice gap+thick does not match estimate from slice positions (issue 273).\n",
      "Done reading PAR header version 4.2, with 21420 slices\n",
      "Warning: Multiple Echo (3) or Cardiac (1). Carefully inspect output\n",
      "Philips Scaling Values RS:RI:SS = 0.73993:0:0.00203529 (see PMC3998685)\n",
      "Convert 1 DICOM as /Volumes/Stephan_WD/NEUFEPME_data_organised/bids/sub-031/NEUFEP-ME-031_NEUFEP-ME-031_NEUFEP-ME-emotion1_SENSE_5_1_echo-1 (64x64x34x210)\n",
      "Philips Scaling Values RS:RI:SS = 0.73993:0:0.00203529 (see PMC3998685)\n",
      "Convert 1 DICOM as /Volumes/Stephan_WD/NEUFEPME_data_organised/bids/sub-031/NEUFEP-ME-031_NEUFEP-ME-031_NEUFEP-ME-emotion1_SENSE_5_1_echo-2 (64x64x34x210)\n",
      "Philips Scaling Values RS:RI:SS = 0.73993:0:0.00203529 (see PMC3998685)\n",
      "Convert 1 DICOM as /Volumes/Stephan_WD/NEUFEPME_data_organised/bids/sub-031/NEUFEP-ME-031_NEUFEP-ME-031_NEUFEP-ME-emotion1_SENSE_5_1_echo-3 (64x64x34x210)\n",
      "Conversion required 4.697769 seconds (1.987963 for core code).\n",
      "WARNING: file NEUFEP-ME-031^NEUFEP-ME-031_NEUFEP-ME-emotion2_SENSE_8_1.PAR seems to be a multiecho file - this feature is experimental!\n",
      "Compression will be faster with 'pigz' installed http://macappstore.org/pigz/\n",
      "Chris Rorden's dcm2niiX version v1.0.20190410  Clang9.0.0 (64-bit MacOS)\n",
      "Warning: dcm2niix PAR is not actively supported (hint: use dicm2nii)\n",
      "Warning: Reported TR=2005.19ms, measured TR=2005.17ms (prospect. motion corr.?)\n",
      "Warning: PAR file volumes not saved in ascending temporal order (please check re-ordering)\n",
      "Warning: Distance between slices reported by slice gap+thick does not match estimate from slice positions (issue 273).\n",
      "Done reading PAR header version 4.2, with 21420 slices\n",
      "Warning: Multiple Echo (3) or Cardiac (1). Carefully inspect output\n",
      "Philips Scaling Values RS:RI:SS = 0.74286:0:0.00206901 (see PMC3998685)\n",
      "Convert 1 DICOM as /Volumes/Stephan_WD/NEUFEPME_data_organised/bids/sub-031/NEUFEP-ME-031_NEUFEP-ME-031_NEUFEP-ME-emotion2_SENSE_8_1_echo-1 (64x64x34x210)\n",
      "Philips Scaling Values RS:RI:SS = 0.74286:0:0.00206901 (see PMC3998685)\n",
      "Convert 1 DICOM as /Volumes/Stephan_WD/NEUFEPME_data_organised/bids/sub-031/NEUFEP-ME-031_NEUFEP-ME-031_NEUFEP-ME-emotion2_SENSE_8_1_echo-2 (64x64x34x210)\n",
      "Philips Scaling Values RS:RI:SS = 0.74286:0:0.00206901 (see PMC3998685)\n",
      "Convert 1 DICOM as /Volumes/Stephan_WD/NEUFEPME_data_organised/bids/sub-031/NEUFEP-ME-031_NEUFEP-ME-031_NEUFEP-ME-emotion2_SENSE_8_1_echo-3 (64x64x34x210)\n",
      "Conversion required 5.711278 seconds (2.011999 for core code).\n",
      "WARNING: file NEUFEP-ME-031^NEUFEP-ME-031_NEUFEP-ME-motor1_SENSE_4_1.PAR seems to be a multiecho file - this feature is experimental!\n",
      "Compression will be faster with 'pigz' installed http://macappstore.org/pigz/\n",
      "Chris Rorden's dcm2niiX version v1.0.20190410  Clang9.0.0 (64-bit MacOS)\n",
      "Warning: dcm2niix PAR is not actively supported (hint: use dicm2nii)\n",
      "Warning: Reported TR=2005.19ms, measured TR=2005.17ms (prospect. motion corr.?)\n",
      "Warning: PAR file volumes not saved in ascending temporal order (please check re-ordering)\n",
      "Warning: Distance between slices reported by slice gap+thick does not match estimate from slice positions (issue 273).\n",
      "Done reading PAR header version 4.2, with 21420 slices\n",
      "Warning: Multiple Echo (3) or Cardiac (1). Carefully inspect output\n",
      "Philips Scaling Values RS:RI:SS = 0.74432:0:0.00196994 (see PMC3998685)\n",
      "Convert 1 DICOM as /Volumes/Stephan_WD/NEUFEPME_data_organised/bids/sub-031/NEUFEP-ME-031_NEUFEP-ME-031_NEUFEP-ME-motor1_SENSE_4_1_echo-1 (64x64x34x210)\n",
      "Philips Scaling Values RS:RI:SS = 0.74432:0:0.00196994 (see PMC3998685)\n",
      "Convert 1 DICOM as /Volumes/Stephan_WD/NEUFEPME_data_organised/bids/sub-031/NEUFEP-ME-031_NEUFEP-ME-031_NEUFEP-ME-motor1_SENSE_4_1_echo-2 (64x64x34x210)\n",
      "Philips Scaling Values RS:RI:SS = 0.74432:0:0.00196994 (see PMC3998685)\n",
      "Convert 1 DICOM as /Volumes/Stephan_WD/NEUFEPME_data_organised/bids/sub-031/NEUFEP-ME-031_NEUFEP-ME-031_NEUFEP-ME-motor1_SENSE_4_1_echo-3 (64x64x34x210)\n",
      "Conversion required 5.778795 seconds (2.082177 for core code).\n",
      "WARNING: file NEUFEP-ME-031^NEUFEP-ME-031_NEUFEP-ME-motor2_SENSE_7_1.PAR seems to be a multiecho file - this feature is experimental!\n",
      "Compression will be faster with 'pigz' installed http://macappstore.org/pigz/\n",
      "Chris Rorden's dcm2niiX version v1.0.20190410  Clang9.0.0 (64-bit MacOS)\n",
      "Warning: dcm2niix PAR is not actively supported (hint: use dicm2nii)\n",
      "Warning: Reported TR=2005.19ms, measured TR=2005.17ms (prospect. motion corr.?)\n",
      "Warning: PAR file volumes not saved in ascending temporal order (please check re-ordering)\n",
      "Warning: Distance between slices reported by slice gap+thick does not match estimate from slice positions (issue 273).\n",
      "Done reading PAR header version 4.2, with 21420 slices\n",
      "Warning: Multiple Echo (3) or Cardiac (1). Carefully inspect output\n",
      "Philips Scaling Values RS:RI:SS = 0.74505:0:0.00203484 (see PMC3998685)\n",
      "Convert 1 DICOM as /Volumes/Stephan_WD/NEUFEPME_data_organised/bids/sub-031/NEUFEP-ME-031_NEUFEP-ME-031_NEUFEP-ME-motor2_SENSE_7_1_echo-1 (64x64x34x210)\n",
      "Philips Scaling Values RS:RI:SS = 0.74505:0:0.00203484 (see PMC3998685)\n",
      "Convert 1 DICOM as /Volumes/Stephan_WD/NEUFEPME_data_organised/bids/sub-031/NEUFEP-ME-031_NEUFEP-ME-031_NEUFEP-ME-motor2_SENSE_7_1_echo-2 (64x64x34x210)\n",
      "Philips Scaling Values RS:RI:SS = 0.74505:0:0.00203484 (see PMC3998685)\n",
      "Convert 1 DICOM as /Volumes/Stephan_WD/NEUFEPME_data_organised/bids/sub-031/NEUFEP-ME-031_NEUFEP-ME-031_NEUFEP-ME-motor2_SENSE_7_1_echo-3 (64x64x34x210)\n",
      "Conversion required 6.185396 seconds (2.021391 for core code).\n",
      "WARNING: file NEUFEP-ME-031^NEUFEP-ME-031_NEUFEP-ME-rest1_SENSE_3_1.PAR seems to be a multiecho file - this feature is experimental!\n",
      "Compression will be faster with 'pigz' installed http://macappstore.org/pigz/\n",
      "Chris Rorden's dcm2niiX version v1.0.20190410  Clang9.0.0 (64-bit MacOS)\n",
      "Warning: dcm2niix PAR is not actively supported (hint: use dicm2nii)\n",
      "Warning: Reported TR=2005.19ms, measured TR=2005.17ms (prospect. motion corr.?)\n",
      "Warning: PAR file volumes not saved in ascending temporal order (please check re-ordering)\n",
      "Warning: Distance between slices reported by slice gap+thick does not match estimate from slice positions (issue 273).\n",
      "Done reading PAR header version 4.2, with 21420 slices\n",
      "Warning: Multiple Echo (3) or Cardiac (1). Carefully inspect output\n",
      "Philips Scaling Values RS:RI:SS = 0.75311:0:0.00201791 (see PMC3998685)\n",
      "Convert 1 DICOM as /Volumes/Stephan_WD/NEUFEPME_data_organised/bids/sub-031/NEUFEP-ME-031_NEUFEP-ME-031_NEUFEP-ME-rest1_SENSE_3_1_echo-1 (64x64x34x210)\n",
      "Philips Scaling Values RS:RI:SS = 0.75311:0:0.00201791 (see PMC3998685)\n",
      "Convert 1 DICOM as /Volumes/Stephan_WD/NEUFEPME_data_organised/bids/sub-031/NEUFEP-ME-031_NEUFEP-ME-031_NEUFEP-ME-rest1_SENSE_3_1_echo-2 (64x64x34x210)\n",
      "Philips Scaling Values RS:RI:SS = 0.75311:0:0.00201791 (see PMC3998685)\n",
      "Convert 1 DICOM as /Volumes/Stephan_WD/NEUFEPME_data_organised/bids/sub-031/NEUFEP-ME-031_NEUFEP-ME-031_NEUFEP-ME-rest1_SENSE_3_1_echo-3 (64x64x34x210)\n",
      "Conversion required 6.858049 seconds (1.999171 for core code).\n",
      "WARNING: file NEUFEP-ME-031^NEUFEP-ME-031_NEUFEP-ME-rest2_SENSE_6_1.PAR seems to be a multiecho file - this feature is experimental!\n",
      "Compression will be faster with 'pigz' installed http://macappstore.org/pigz/\n",
      "Chris Rorden's dcm2niiX version v1.0.20190410  Clang9.0.0 (64-bit MacOS)\n",
      "Warning: dcm2niix PAR is not actively supported (hint: use dicm2nii)\n",
      "Warning: Reported TR=2005.19ms, measured TR=2005.17ms (prospect. motion corr.?)\n",
      "Warning: PAR file volumes not saved in ascending temporal order (please check re-ordering)\n",
      "Warning: Distance between slices reported by slice gap+thick does not match estimate from slice positions (issue 273).\n",
      "Done reading PAR header version 4.2, with 21420 slices\n",
      "Warning: Multiple Echo (3) or Cardiac (1). Carefully inspect output\n"
     ]
    },
    {
     "name": "stdout",
     "output_type": "stream",
     "text": [
      "Philips Scaling Values RS:RI:SS = 0.73407:0:0.00206577 (see PMC3998685)\n",
      "Convert 1 DICOM as /Volumes/Stephan_WD/NEUFEPME_data_organised/bids/sub-031/NEUFEP-ME-031_NEUFEP-ME-031_NEUFEP-ME-rest2_SENSE_6_1_echo-1 (64x64x34x210)\n",
      "Philips Scaling Values RS:RI:SS = 0.73407:0:0.00206577 (see PMC3998685)\n",
      "Convert 1 DICOM as /Volumes/Stephan_WD/NEUFEPME_data_organised/bids/sub-031/NEUFEP-ME-031_NEUFEP-ME-031_NEUFEP-ME-rest2_SENSE_6_1_echo-2 (64x64x34x210)\n",
      "Philips Scaling Values RS:RI:SS = 0.73407:0:0.00206577 (see PMC3998685)\n",
      "Convert 1 DICOM as /Volumes/Stephan_WD/NEUFEPME_data_organised/bids/sub-031/NEUFEP-ME-031_NEUFEP-ME-031_NEUFEP-ME-rest2_SENSE_6_1_echo-3 (64x64x34x210)\n",
      "Conversion required 6.217240 seconds (2.033914 for core code).\n",
      "Renaming '/Volumes/Stephan_WD/NEUFEPME_data_organised/bids/sub-031/NEUFEP-ME-031_NEUFEP-ME-031_NEUFEP-ME-rest1_SENSE_3_1_echo-1.json' to '/Volumes/Stephan_WD/NEUFEPME_data_organised/bids/sub-031/func/sub-031_task-rest_run-1_echo-1_bold.json'\n",
      "Renaming '/Volumes/Stephan_WD/NEUFEPME_data_organised/bids/sub-031/NEUFEP-ME-031_NEUFEP-ME-031_NEUFEP-ME-rest1_SENSE_3_1_echo-1.nii' to '/Volumes/Stephan_WD/NEUFEPME_data_organised/bids/sub-031/func/sub-031_task-rest_run-1_echo-1_bold.nii'\n",
      "Renaming '/Volumes/Stephan_WD/NEUFEPME_data_organised/bids/sub-031/NEUFEP-ME-031_NEUFEP-ME-031_NEUFEP-ME-rest1_SENSE_3_1_echo-2.json' to '/Volumes/Stephan_WD/NEUFEPME_data_organised/bids/sub-031/func/sub-031_task-rest_run-1_echo-2_bold.json'\n",
      "Renaming '/Volumes/Stephan_WD/NEUFEPME_data_organised/bids/sub-031/NEUFEP-ME-031_NEUFEP-ME-031_NEUFEP-ME-rest1_SENSE_3_1_echo-2.nii' to '/Volumes/Stephan_WD/NEUFEPME_data_organised/bids/sub-031/func/sub-031_task-rest_run-1_echo-2_bold.nii'\n",
      "Renaming '/Volumes/Stephan_WD/NEUFEPME_data_organised/bids/sub-031/NEUFEP-ME-031_NEUFEP-ME-031_NEUFEP-ME-rest1_SENSE_3_1_echo-3.json' to '/Volumes/Stephan_WD/NEUFEPME_data_organised/bids/sub-031/func/sub-031_task-rest_run-1_echo-3_bold.json'\n",
      "Renaming '/Volumes/Stephan_WD/NEUFEPME_data_organised/bids/sub-031/NEUFEP-ME-031_NEUFEP-ME-031_NEUFEP-ME-rest1_SENSE_3_1_echo-3.nii' to '/Volumes/Stephan_WD/NEUFEPME_data_organised/bids/sub-031/func/sub-031_task-rest_run-1_echo-3_bold.nii'\n",
      "Renaming '/Volumes/Stephan_WD/NEUFEPME_data_organised/bids/sub-031/NEUFEP-ME-031_NEUFEP-ME-031_NEUFEP-ME-rest2_SENSE_6_1_echo-1.json' to '/Volumes/Stephan_WD/NEUFEPME_data_organised/bids/sub-031/func/sub-031_task-rest_run-2_echo-1_bold.json'\n",
      "Renaming '/Volumes/Stephan_WD/NEUFEPME_data_organised/bids/sub-031/NEUFEP-ME-031_NEUFEP-ME-031_NEUFEP-ME-rest2_SENSE_6_1_echo-1.nii' to '/Volumes/Stephan_WD/NEUFEPME_data_organised/bids/sub-031/func/sub-031_task-rest_run-2_echo-1_bold.nii'\n",
      "Renaming '/Volumes/Stephan_WD/NEUFEPME_data_organised/bids/sub-031/NEUFEP-ME-031_NEUFEP-ME-031_NEUFEP-ME-rest2_SENSE_6_1_echo-2.json' to '/Volumes/Stephan_WD/NEUFEPME_data_organised/bids/sub-031/func/sub-031_task-rest_run-2_echo-2_bold.json'\n",
      "Renaming '/Volumes/Stephan_WD/NEUFEPME_data_organised/bids/sub-031/NEUFEP-ME-031_NEUFEP-ME-031_NEUFEP-ME-rest2_SENSE_6_1_echo-2.nii' to '/Volumes/Stephan_WD/NEUFEPME_data_organised/bids/sub-031/func/sub-031_task-rest_run-2_echo-2_bold.nii'\n",
      "Renaming '/Volumes/Stephan_WD/NEUFEPME_data_organised/bids/sub-031/NEUFEP-ME-031_NEUFEP-ME-031_NEUFEP-ME-rest2_SENSE_6_1_echo-3.json' to '/Volumes/Stephan_WD/NEUFEPME_data_organised/bids/sub-031/func/sub-031_task-rest_run-2_echo-3_bold.json'\n",
      "Renaming '/Volumes/Stephan_WD/NEUFEPME_data_organised/bids/sub-031/NEUFEP-ME-031_NEUFEP-ME-031_NEUFEP-ME-rest2_SENSE_6_1_echo-3.nii' to '/Volumes/Stephan_WD/NEUFEPME_data_organised/bids/sub-031/func/sub-031_task-rest_run-2_echo-3_bold.nii'\n",
      "Renaming '/Volumes/Stephan_WD/NEUFEPME_data_organised/bids/sub-031/NEUFEP-ME-031_NEUFEP-ME-031_NEUFEP-ME-motor1_SENSE_4_1_echo-1.json' to '/Volumes/Stephan_WD/NEUFEPME_data_organised/bids/sub-031/func/sub-031_task-motor_run-1_echo-1_bold.json'\n",
      "Renaming '/Volumes/Stephan_WD/NEUFEPME_data_organised/bids/sub-031/NEUFEP-ME-031_NEUFEP-ME-031_NEUFEP-ME-motor1_SENSE_4_1_echo-1.nii' to '/Volumes/Stephan_WD/NEUFEPME_data_organised/bids/sub-031/func/sub-031_task-motor_run-1_echo-1_bold.nii'\n",
      "Renaming '/Volumes/Stephan_WD/NEUFEPME_data_organised/bids/sub-031/NEUFEP-ME-031_NEUFEP-ME-031_NEUFEP-ME-motor1_SENSE_4_1_echo-2.json' to '/Volumes/Stephan_WD/NEUFEPME_data_organised/bids/sub-031/func/sub-031_task-motor_run-1_echo-2_bold.json'\n",
      "Renaming '/Volumes/Stephan_WD/NEUFEPME_data_organised/bids/sub-031/NEUFEP-ME-031_NEUFEP-ME-031_NEUFEP-ME-motor1_SENSE_4_1_echo-2.nii' to '/Volumes/Stephan_WD/NEUFEPME_data_organised/bids/sub-031/func/sub-031_task-motor_run-1_echo-2_bold.nii'\n",
      "Renaming '/Volumes/Stephan_WD/NEUFEPME_data_organised/bids/sub-031/NEUFEP-ME-031_NEUFEP-ME-031_NEUFEP-ME-motor1_SENSE_4_1_echo-3.json' to '/Volumes/Stephan_WD/NEUFEPME_data_organised/bids/sub-031/func/sub-031_task-motor_run-1_echo-3_bold.json'\n",
      "Renaming '/Volumes/Stephan_WD/NEUFEPME_data_organised/bids/sub-031/NEUFEP-ME-031_NEUFEP-ME-031_NEUFEP-ME-motor1_SENSE_4_1_echo-3.nii' to '/Volumes/Stephan_WD/NEUFEPME_data_organised/bids/sub-031/func/sub-031_task-motor_run-1_echo-3_bold.nii'\n",
      "Renaming '/Volumes/Stephan_WD/NEUFEPME_data_organised/bids/sub-031/NEUFEP-ME-031_NEUFEP-ME-031_NEUFEP-ME-motor2_SENSE_7_1_echo-1.json' to '/Volumes/Stephan_WD/NEUFEPME_data_organised/bids/sub-031/func/sub-031_task-motor_run-2_echo-1_bold.json'\n",
      "Renaming '/Volumes/Stephan_WD/NEUFEPME_data_organised/bids/sub-031/NEUFEP-ME-031_NEUFEP-ME-031_NEUFEP-ME-motor2_SENSE_7_1_echo-1.nii' to '/Volumes/Stephan_WD/NEUFEPME_data_organised/bids/sub-031/func/sub-031_task-motor_run-2_echo-1_bold.nii'\n",
      "Renaming '/Volumes/Stephan_WD/NEUFEPME_data_organised/bids/sub-031/NEUFEP-ME-031_NEUFEP-ME-031_NEUFEP-ME-motor2_SENSE_7_1_echo-2.json' to '/Volumes/Stephan_WD/NEUFEPME_data_organised/bids/sub-031/func/sub-031_task-motor_run-2_echo-2_bold.json'\n",
      "Renaming '/Volumes/Stephan_WD/NEUFEPME_data_organised/bids/sub-031/NEUFEP-ME-031_NEUFEP-ME-031_NEUFEP-ME-motor2_SENSE_7_1_echo-2.nii' to '/Volumes/Stephan_WD/NEUFEPME_data_organised/bids/sub-031/func/sub-031_task-motor_run-2_echo-2_bold.nii'\n",
      "Renaming '/Volumes/Stephan_WD/NEUFEPME_data_organised/bids/sub-031/NEUFEP-ME-031_NEUFEP-ME-031_NEUFEP-ME-motor2_SENSE_7_1_echo-3.json' to '/Volumes/Stephan_WD/NEUFEPME_data_organised/bids/sub-031/func/sub-031_task-motor_run-2_echo-3_bold.json'\n",
      "Renaming '/Volumes/Stephan_WD/NEUFEPME_data_organised/bids/sub-031/NEUFEP-ME-031_NEUFEP-ME-031_NEUFEP-ME-motor2_SENSE_7_1_echo-3.nii' to '/Volumes/Stephan_WD/NEUFEPME_data_organised/bids/sub-031/func/sub-031_task-motor_run-2_echo-3_bold.nii'\n",
      "Renaming '/Volumes/Stephan_WD/NEUFEPME_data_organised/bids/sub-031/NEUFEP-ME-031_NEUFEP-ME-031_NEUFEP-ME-emotion1_SENSE_5_1_echo-1.json' to '/Volumes/Stephan_WD/NEUFEPME_data_organised/bids/sub-031/func/sub-031_task-emotion_run-1_echo-1_bold.json'\n",
      "Renaming '/Volumes/Stephan_WD/NEUFEPME_data_organised/bids/sub-031/NEUFEP-ME-031_NEUFEP-ME-031_NEUFEP-ME-emotion1_SENSE_5_1_echo-1.nii' to '/Volumes/Stephan_WD/NEUFEPME_data_organised/bids/sub-031/func/sub-031_task-emotion_run-1_echo-1_bold.nii'\n",
      "Renaming '/Volumes/Stephan_WD/NEUFEPME_data_organised/bids/sub-031/NEUFEP-ME-031_NEUFEP-ME-031_NEUFEP-ME-emotion1_SENSE_5_1_echo-2.json' to '/Volumes/Stephan_WD/NEUFEPME_data_organised/bids/sub-031/func/sub-031_task-emotion_run-1_echo-2_bold.json'\n",
      "Renaming '/Volumes/Stephan_WD/NEUFEPME_data_organised/bids/sub-031/NEUFEP-ME-031_NEUFEP-ME-031_NEUFEP-ME-emotion1_SENSE_5_1_echo-2.nii' to '/Volumes/Stephan_WD/NEUFEPME_data_organised/bids/sub-031/func/sub-031_task-emotion_run-1_echo-2_bold.nii'\n",
      "Renaming '/Volumes/Stephan_WD/NEUFEPME_data_organised/bids/sub-031/NEUFEP-ME-031_NEUFEP-ME-031_NEUFEP-ME-emotion1_SENSE_5_1_echo-3.json' to '/Volumes/Stephan_WD/NEUFEPME_data_organised/bids/sub-031/func/sub-031_task-emotion_run-1_echo-3_bold.json'\n",
      "Renaming '/Volumes/Stephan_WD/NEUFEPME_data_organised/bids/sub-031/NEUFEP-ME-031_NEUFEP-ME-031_NEUFEP-ME-emotion1_SENSE_5_1_echo-3.nii' to '/Volumes/Stephan_WD/NEUFEPME_data_organised/bids/sub-031/func/sub-031_task-emotion_run-1_echo-3_bold.nii'\n",
      "Renaming '/Volumes/Stephan_WD/NEUFEPME_data_organised/bids/sub-031/NEUFEP-ME-031_NEUFEP-ME-031_NEUFEP-ME-emotion2_SENSE_8_1_echo-1.json' to '/Volumes/Stephan_WD/NEUFEPME_data_organised/bids/sub-031/func/sub-031_task-emotion_run-2_echo-1_bold.json'\n",
      "Renaming '/Volumes/Stephan_WD/NEUFEPME_data_organised/bids/sub-031/NEUFEP-ME-031_NEUFEP-ME-031_NEUFEP-ME-emotion2_SENSE_8_1_echo-1.nii' to '/Volumes/Stephan_WD/NEUFEPME_data_organised/bids/sub-031/func/sub-031_task-emotion_run-2_echo-1_bold.nii'\n",
      "Renaming '/Volumes/Stephan_WD/NEUFEPME_data_organised/bids/sub-031/NEUFEP-ME-031_NEUFEP-ME-031_NEUFEP-ME-emotion2_SENSE_8_1_echo-2.json' to '/Volumes/Stephan_WD/NEUFEPME_data_organised/bids/sub-031/func/sub-031_task-emotion_run-2_echo-2_bold.json'\n",
      "Renaming '/Volumes/Stephan_WD/NEUFEPME_data_organised/bids/sub-031/NEUFEP-ME-031_NEUFEP-ME-031_NEUFEP-ME-emotion2_SENSE_8_1_echo-2.nii' to '/Volumes/Stephan_WD/NEUFEPME_data_organised/bids/sub-031/func/sub-031_task-emotion_run-2_echo-2_bold.nii'\n",
      "Renaming '/Volumes/Stephan_WD/NEUFEPME_data_organised/bids/sub-031/NEUFEP-ME-031_NEUFEP-ME-031_NEUFEP-ME-emotion2_SENSE_8_1_echo-3.json' to '/Volumes/Stephan_WD/NEUFEPME_data_organised/bids/sub-031/func/sub-031_task-emotion_run-2_echo-3_bold.json'\n",
      "Renaming '/Volumes/Stephan_WD/NEUFEPME_data_organised/bids/sub-031/NEUFEP-ME-031_NEUFEP-ME-031_NEUFEP-ME-emotion2_SENSE_8_1_echo-3.nii' to '/Volumes/Stephan_WD/NEUFEPME_data_organised/bids/sub-031/func/sub-031_task-emotion_run-2_echo-3_bold.nii'\n",
      "Renaming '/Volumes/Stephan_WD/NEUFEPME_data_organised/bids/sub-031/NEUFEP-ME-031^NEUFEP-ME-031_T1W_3D_TFE_2_1.nii' to '/Volumes/Stephan_WD/NEUFEPME_data_organised/bids/sub-031/anat/sub-031_T1w.nii'\n"
     ]
    },
    {
     "name": "stdout",
     "output_type": "stream",
     "text": [
      "Converting data from sub-032 ...\n",
      "WARNING: file NEUFEP-ME-032^NEUFEP-ME-032_NEUFEP-ME-emotion1_SENSE_5_1.PAR seems to be a multiecho file - this feature is experimental!\n",
      "Compression will be faster with 'pigz' installed http://macappstore.org/pigz/\n",
      "Chris Rorden's dcm2niiX version v1.0.20190410  Clang9.0.0 (64-bit MacOS)\n",
      "Warning: dcm2niix PAR is not actively supported (hint: use dicm2nii)\n",
      "Warning: Reported TR=2000.44ms, measured TR=2000.43ms (prospect. motion corr.?)\n",
      "Warning: PAR file volumes not saved in ascending temporal order (please check re-ordering)\n",
      "Done reading PAR header version 4.2, with 21420 slices\n",
      "Warning: Multiple Echo (3) or Cardiac (1). Carefully inspect output\n",
      "Philips Scaling Values RS:RI:SS = 0.78462:0:0.00167228 (see PMC3998685)\n",
      "Convert 1 DICOM as /Volumes/Stephan_WD/NEUFEPME_data_organised/bids/sub-032/NEUFEP-ME-032_NEUFEP-ME-032_NEUFEP-ME-emotion1_SENSE_5_1_echo-1 (64x64x34x210)\n",
      "Philips Scaling Values RS:RI:SS = 0.78462:0:0.00167228 (see PMC3998685)\n",
      "Convert 1 DICOM as /Volumes/Stephan_WD/NEUFEPME_data_organised/bids/sub-032/NEUFEP-ME-032_NEUFEP-ME-032_NEUFEP-ME-emotion1_SENSE_5_1_echo-2 (64x64x34x210)\n",
      "Philips Scaling Values RS:RI:SS = 0.78462:0:0.00167228 (see PMC3998685)\n",
      "Convert 1 DICOM as /Volumes/Stephan_WD/NEUFEPME_data_organised/bids/sub-032/NEUFEP-ME-032_NEUFEP-ME-032_NEUFEP-ME-emotion1_SENSE_5_1_echo-3 (64x64x34x210)\n",
      "Conversion required 5.975177 seconds (2.062325 for core code).\n",
      "WARNING: file NEUFEP-ME-032^NEUFEP-ME-032_NEUFEP-ME-emotion2_SENSE_8_1.PAR seems to be a multiecho file - this feature is experimental!\n",
      "Compression will be faster with 'pigz' installed http://macappstore.org/pigz/\n",
      "Chris Rorden's dcm2niiX version v1.0.20190410  Clang9.0.0 (64-bit MacOS)\n",
      "Warning: dcm2niix PAR is not actively supported (hint: use dicm2nii)\n",
      "Warning: Reported TR=2000.44ms, measured TR=2000.43ms (prospect. motion corr.?)\n",
      "Warning: PAR file volumes not saved in ascending temporal order (please check re-ordering)\n",
      "Done reading PAR header version 4.2, with 21420 slices\n",
      "Warning: Multiple Echo (3) or Cardiac (1). Carefully inspect output\n",
      "Philips Scaling Values RS:RI:SS = 0.75385:0:0.00172744 (see PMC3998685)\n",
      "Convert 1 DICOM as /Volumes/Stephan_WD/NEUFEPME_data_organised/bids/sub-032/NEUFEP-ME-032_NEUFEP-ME-032_NEUFEP-ME-emotion2_SENSE_8_1_echo-1 (64x64x34x210)\n",
      "Philips Scaling Values RS:RI:SS = 0.75385:0:0.00172744 (see PMC3998685)\n",
      "Convert 1 DICOM as /Volumes/Stephan_WD/NEUFEPME_data_organised/bids/sub-032/NEUFEP-ME-032_NEUFEP-ME-032_NEUFEP-ME-emotion2_SENSE_8_1_echo-2 (64x64x34x210)\n",
      "Philips Scaling Values RS:RI:SS = 0.75385:0:0.00172744 (see PMC3998685)\n",
      "Convert 1 DICOM as /Volumes/Stephan_WD/NEUFEPME_data_organised/bids/sub-032/NEUFEP-ME-032_NEUFEP-ME-032_NEUFEP-ME-emotion2_SENSE_8_1_echo-3 (64x64x34x210)\n",
      "Conversion required 5.946559 seconds (2.192882 for core code).\n",
      "WARNING: file NEUFEP-ME-032^NEUFEP-ME-032_NEUFEP-ME-motor1_SENSE_4_1.PAR seems to be a multiecho file - this feature is experimental!\n",
      "Compression will be faster with 'pigz' installed http://macappstore.org/pigz/\n",
      "Chris Rorden's dcm2niiX version v1.0.20190410  Clang9.0.0 (64-bit MacOS)\n",
      "Warning: dcm2niix PAR is not actively supported (hint: use dicm2nii)\n",
      "Warning: Reported TR=2000.44ms, measured TR=2000.43ms (prospect. motion corr.?)\n",
      "Warning: PAR file volumes not saved in ascending temporal order (please check re-ordering)\n",
      "Done reading PAR header version 4.2, with 21420 slices\n",
      "Warning: Multiple Echo (3) or Cardiac (1). Carefully inspect output\n",
      "Philips Scaling Values RS:RI:SS = 0.77265:0:0.00169532 (see PMC3998685)\n",
      "Convert 1 DICOM as /Volumes/Stephan_WD/NEUFEPME_data_organised/bids/sub-032/NEUFEP-ME-032_NEUFEP-ME-032_NEUFEP-ME-motor1_SENSE_4_1_echo-1 (64x64x34x210)\n",
      "Philips Scaling Values RS:RI:SS = 0.77265:0:0.00169532 (see PMC3998685)\n",
      "Convert 1 DICOM as /Volumes/Stephan_WD/NEUFEPME_data_organised/bids/sub-032/NEUFEP-ME-032_NEUFEP-ME-032_NEUFEP-ME-motor1_SENSE_4_1_echo-2 (64x64x34x210)\n",
      "Philips Scaling Values RS:RI:SS = 0.77265:0:0.00169532 (see PMC3998685)\n",
      "Convert 1 DICOM as /Volumes/Stephan_WD/NEUFEPME_data_organised/bids/sub-032/NEUFEP-ME-032_NEUFEP-ME-032_NEUFEP-ME-motor1_SENSE_4_1_echo-3 (64x64x34x210)\n",
      "Conversion required 5.987353 seconds (2.120124 for core code).\n",
      "WARNING: file NEUFEP-ME-032^NEUFEP-ME-032_NEUFEP-ME-motor2_SENSE_7_1.PAR seems to be a multiecho file - this feature is experimental!\n",
      "Compression will be faster with 'pigz' installed http://macappstore.org/pigz/\n",
      "Chris Rorden's dcm2niiX version v1.0.20190410  Clang9.0.0 (64-bit MacOS)\n",
      "Warning: dcm2niix PAR is not actively supported (hint: use dicm2nii)\n",
      "Warning: Reported TR=2000.44ms, measured TR=2000.43ms (prospect. motion corr.?)\n",
      "Warning: PAR file volumes not saved in ascending temporal order (please check re-ordering)\n",
      "Done reading PAR header version 4.2, with 21420 slices\n",
      "Warning: Multiple Echo (3) or Cardiac (1). Carefully inspect output\n",
      "Philips Scaling Values RS:RI:SS = 0.74945:0:0.00172686 (see PMC3998685)\n",
      "Convert 1 DICOM as /Volumes/Stephan_WD/NEUFEPME_data_organised/bids/sub-032/NEUFEP-ME-032_NEUFEP-ME-032_NEUFEP-ME-motor2_SENSE_7_1_echo-1 (64x64x34x210)\n",
      "Philips Scaling Values RS:RI:SS = 0.74945:0:0.00172686 (see PMC3998685)\n",
      "Convert 1 DICOM as /Volumes/Stephan_WD/NEUFEPME_data_organised/bids/sub-032/NEUFEP-ME-032_NEUFEP-ME-032_NEUFEP-ME-motor2_SENSE_7_1_echo-2 (64x64x34x210)\n",
      "Philips Scaling Values RS:RI:SS = 0.74945:0:0.00172686 (see PMC3998685)\n",
      "Convert 1 DICOM as /Volumes/Stephan_WD/NEUFEPME_data_organised/bids/sub-032/NEUFEP-ME-032_NEUFEP-ME-032_NEUFEP-ME-motor2_SENSE_7_1_echo-3 (64x64x34x210)\n",
      "Conversion required 6.563489 seconds (2.035530 for core code).\n",
      "WARNING: file NEUFEP-ME-032^NEUFEP-ME-032_NEUFEP-ME-rest1_SENSE_3_1.PAR seems to be a multiecho file - this feature is experimental!\n",
      "Compression will be faster with 'pigz' installed http://macappstore.org/pigz/\n",
      "Chris Rorden's dcm2niiX version v1.0.20190410  Clang9.0.0 (64-bit MacOS)\n",
      "Warning: dcm2niix PAR is not actively supported (hint: use dicm2nii)\n",
      "Warning: Reported TR=2000.44ms, measured TR=2000.43ms (prospect. motion corr.?)\n",
      "Warning: PAR file volumes not saved in ascending temporal order (please check re-ordering)\n",
      "Done reading PAR header version 4.2, with 21420 slices\n",
      "Warning: Multiple Echo (3) or Cardiac (1). Carefully inspect output\n",
      "Philips Scaling Values RS:RI:SS = 0.77656:0:0.00166663 (see PMC3998685)\n",
      "Convert 1 DICOM as /Volumes/Stephan_WD/NEUFEPME_data_organised/bids/sub-032/NEUFEP-ME-032_NEUFEP-ME-032_NEUFEP-ME-rest1_SENSE_3_1_echo-1 (64x64x34x210)\n",
      "Philips Scaling Values RS:RI:SS = 0.77656:0:0.00166663 (see PMC3998685)\n",
      "Convert 1 DICOM as /Volumes/Stephan_WD/NEUFEPME_data_organised/bids/sub-032/NEUFEP-ME-032_NEUFEP-ME-032_NEUFEP-ME-rest1_SENSE_3_1_echo-2 (64x64x34x210)\n",
      "Philips Scaling Values RS:RI:SS = 0.77656:0:0.00166663 (see PMC3998685)\n",
      "Convert 1 DICOM as /Volumes/Stephan_WD/NEUFEPME_data_organised/bids/sub-032/NEUFEP-ME-032_NEUFEP-ME-032_NEUFEP-ME-rest1_SENSE_3_1_echo-3 (64x64x34x210)\n",
      "Conversion required 7.712389 seconds (2.074293 for core code).\n",
      "WARNING: file NEUFEP-ME-032^NEUFEP-ME-032_NEUFEP-ME-rest2_SENSE_6_1.PAR seems to be a multiecho file - this feature is experimental!\n",
      "Compression will be faster with 'pigz' installed http://macappstore.org/pigz/\n",
      "Chris Rorden's dcm2niiX version v1.0.20190410  Clang9.0.0 (64-bit MacOS)\n",
      "Warning: dcm2niix PAR is not actively supported (hint: use dicm2nii)\n",
      "Warning: Reported TR=2000.44ms, measured TR=2000.43ms (prospect. motion corr.?)\n",
      "Warning: PAR file volumes not saved in ascending temporal order (please check re-ordering)\n",
      "Done reading PAR header version 4.2, with 21420 slices\n",
      "Warning: Multiple Echo (3) or Cardiac (1). Carefully inspect output\n",
      "Philips Scaling Values RS:RI:SS = 0.77582:0:0.00171704 (see PMC3998685)\n",
      "Convert 1 DICOM as /Volumes/Stephan_WD/NEUFEPME_data_organised/bids/sub-032/NEUFEP-ME-032_NEUFEP-ME-032_NEUFEP-ME-rest2_SENSE_6_1_echo-1 (64x64x34x210)\n",
      "Philips Scaling Values RS:RI:SS = 0.77582:0:0.00171704 (see PMC3998685)\n",
      "Convert 1 DICOM as /Volumes/Stephan_WD/NEUFEPME_data_organised/bids/sub-032/NEUFEP-ME-032_NEUFEP-ME-032_NEUFEP-ME-rest2_SENSE_6_1_echo-2 (64x64x34x210)\n",
      "Philips Scaling Values RS:RI:SS = 0.77582:0:0.00171704 (see PMC3998685)\n",
      "Convert 1 DICOM as /Volumes/Stephan_WD/NEUFEPME_data_organised/bids/sub-032/NEUFEP-ME-032_NEUFEP-ME-032_NEUFEP-ME-rest2_SENSE_6_1_echo-3 (64x64x34x210)\n"
     ]
    },
    {
     "name": "stdout",
     "output_type": "stream",
     "text": [
      "Conversion required 6.387168 seconds (2.068134 for core code).\n",
      "Renaming '/Volumes/Stephan_WD/NEUFEPME_data_organised/bids/sub-032/NEUFEP-ME-032_NEUFEP-ME-032_NEUFEP-ME-rest1_SENSE_3_1_echo-1.json' to '/Volumes/Stephan_WD/NEUFEPME_data_organised/bids/sub-032/func/sub-032_task-rest_run-1_echo-1_bold.json'\n",
      "Renaming '/Volumes/Stephan_WD/NEUFEPME_data_organised/bids/sub-032/NEUFEP-ME-032_NEUFEP-ME-032_NEUFEP-ME-rest1_SENSE_3_1_echo-1.nii' to '/Volumes/Stephan_WD/NEUFEPME_data_organised/bids/sub-032/func/sub-032_task-rest_run-1_echo-1_bold.nii'\n",
      "Renaming '/Volumes/Stephan_WD/NEUFEPME_data_organised/bids/sub-032/NEUFEP-ME-032_NEUFEP-ME-032_NEUFEP-ME-rest1_SENSE_3_1_echo-2.json' to '/Volumes/Stephan_WD/NEUFEPME_data_organised/bids/sub-032/func/sub-032_task-rest_run-1_echo-2_bold.json'\n",
      "Renaming '/Volumes/Stephan_WD/NEUFEPME_data_organised/bids/sub-032/NEUFEP-ME-032_NEUFEP-ME-032_NEUFEP-ME-rest1_SENSE_3_1_echo-2.nii' to '/Volumes/Stephan_WD/NEUFEPME_data_organised/bids/sub-032/func/sub-032_task-rest_run-1_echo-2_bold.nii'\n",
      "Renaming '/Volumes/Stephan_WD/NEUFEPME_data_organised/bids/sub-032/NEUFEP-ME-032_NEUFEP-ME-032_NEUFEP-ME-rest1_SENSE_3_1_echo-3.json' to '/Volumes/Stephan_WD/NEUFEPME_data_organised/bids/sub-032/func/sub-032_task-rest_run-1_echo-3_bold.json'\n",
      "Renaming '/Volumes/Stephan_WD/NEUFEPME_data_organised/bids/sub-032/NEUFEP-ME-032_NEUFEP-ME-032_NEUFEP-ME-rest1_SENSE_3_1_echo-3.nii' to '/Volumes/Stephan_WD/NEUFEPME_data_organised/bids/sub-032/func/sub-032_task-rest_run-1_echo-3_bold.nii'\n",
      "Renaming '/Volumes/Stephan_WD/NEUFEPME_data_organised/bids/sub-032/NEUFEP-ME-032_NEUFEP-ME-032_NEUFEP-ME-rest2_SENSE_6_1_echo-1.json' to '/Volumes/Stephan_WD/NEUFEPME_data_organised/bids/sub-032/func/sub-032_task-rest_run-2_echo-1_bold.json'\n",
      "Renaming '/Volumes/Stephan_WD/NEUFEPME_data_organised/bids/sub-032/NEUFEP-ME-032_NEUFEP-ME-032_NEUFEP-ME-rest2_SENSE_6_1_echo-1.nii' to '/Volumes/Stephan_WD/NEUFEPME_data_organised/bids/sub-032/func/sub-032_task-rest_run-2_echo-1_bold.nii'\n",
      "Renaming '/Volumes/Stephan_WD/NEUFEPME_data_organised/bids/sub-032/NEUFEP-ME-032_NEUFEP-ME-032_NEUFEP-ME-rest2_SENSE_6_1_echo-2.json' to '/Volumes/Stephan_WD/NEUFEPME_data_organised/bids/sub-032/func/sub-032_task-rest_run-2_echo-2_bold.json'\n",
      "Renaming '/Volumes/Stephan_WD/NEUFEPME_data_organised/bids/sub-032/NEUFEP-ME-032_NEUFEP-ME-032_NEUFEP-ME-rest2_SENSE_6_1_echo-2.nii' to '/Volumes/Stephan_WD/NEUFEPME_data_organised/bids/sub-032/func/sub-032_task-rest_run-2_echo-2_bold.nii'\n",
      "Renaming '/Volumes/Stephan_WD/NEUFEPME_data_organised/bids/sub-032/NEUFEP-ME-032_NEUFEP-ME-032_NEUFEP-ME-rest2_SENSE_6_1_echo-3.json' to '/Volumes/Stephan_WD/NEUFEPME_data_organised/bids/sub-032/func/sub-032_task-rest_run-2_echo-3_bold.json'\n",
      "Renaming '/Volumes/Stephan_WD/NEUFEPME_data_organised/bids/sub-032/NEUFEP-ME-032_NEUFEP-ME-032_NEUFEP-ME-rest2_SENSE_6_1_echo-3.nii' to '/Volumes/Stephan_WD/NEUFEPME_data_organised/bids/sub-032/func/sub-032_task-rest_run-2_echo-3_bold.nii'\n",
      "Renaming '/Volumes/Stephan_WD/NEUFEPME_data_organised/bids/sub-032/NEUFEP-ME-032_NEUFEP-ME-032_NEUFEP-ME-motor1_SENSE_4_1_echo-1.json' to '/Volumes/Stephan_WD/NEUFEPME_data_organised/bids/sub-032/func/sub-032_task-motor_run-1_echo-1_bold.json'\n",
      "Renaming '/Volumes/Stephan_WD/NEUFEPME_data_organised/bids/sub-032/NEUFEP-ME-032_NEUFEP-ME-032_NEUFEP-ME-motor1_SENSE_4_1_echo-1.nii' to '/Volumes/Stephan_WD/NEUFEPME_data_organised/bids/sub-032/func/sub-032_task-motor_run-1_echo-1_bold.nii'\n",
      "Renaming '/Volumes/Stephan_WD/NEUFEPME_data_organised/bids/sub-032/NEUFEP-ME-032_NEUFEP-ME-032_NEUFEP-ME-motor1_SENSE_4_1_echo-2.json' to '/Volumes/Stephan_WD/NEUFEPME_data_organised/bids/sub-032/func/sub-032_task-motor_run-1_echo-2_bold.json'\n",
      "Renaming '/Volumes/Stephan_WD/NEUFEPME_data_organised/bids/sub-032/NEUFEP-ME-032_NEUFEP-ME-032_NEUFEP-ME-motor1_SENSE_4_1_echo-2.nii' to '/Volumes/Stephan_WD/NEUFEPME_data_organised/bids/sub-032/func/sub-032_task-motor_run-1_echo-2_bold.nii'\n",
      "Renaming '/Volumes/Stephan_WD/NEUFEPME_data_organised/bids/sub-032/NEUFEP-ME-032_NEUFEP-ME-032_NEUFEP-ME-motor1_SENSE_4_1_echo-3.json' to '/Volumes/Stephan_WD/NEUFEPME_data_organised/bids/sub-032/func/sub-032_task-motor_run-1_echo-3_bold.json'\n",
      "Renaming '/Volumes/Stephan_WD/NEUFEPME_data_organised/bids/sub-032/NEUFEP-ME-032_NEUFEP-ME-032_NEUFEP-ME-motor1_SENSE_4_1_echo-3.nii' to '/Volumes/Stephan_WD/NEUFEPME_data_organised/bids/sub-032/func/sub-032_task-motor_run-1_echo-3_bold.nii'\n",
      "Renaming '/Volumes/Stephan_WD/NEUFEPME_data_organised/bids/sub-032/NEUFEP-ME-032_NEUFEP-ME-032_NEUFEP-ME-motor2_SENSE_7_1_echo-1.json' to '/Volumes/Stephan_WD/NEUFEPME_data_organised/bids/sub-032/func/sub-032_task-motor_run-2_echo-1_bold.json'\n",
      "Renaming '/Volumes/Stephan_WD/NEUFEPME_data_organised/bids/sub-032/NEUFEP-ME-032_NEUFEP-ME-032_NEUFEP-ME-motor2_SENSE_7_1_echo-1.nii' to '/Volumes/Stephan_WD/NEUFEPME_data_organised/bids/sub-032/func/sub-032_task-motor_run-2_echo-1_bold.nii'\n",
      "Renaming '/Volumes/Stephan_WD/NEUFEPME_data_organised/bids/sub-032/NEUFEP-ME-032_NEUFEP-ME-032_NEUFEP-ME-motor2_SENSE_7_1_echo-2.json' to '/Volumes/Stephan_WD/NEUFEPME_data_organised/bids/sub-032/func/sub-032_task-motor_run-2_echo-2_bold.json'\n",
      "Renaming '/Volumes/Stephan_WD/NEUFEPME_data_organised/bids/sub-032/NEUFEP-ME-032_NEUFEP-ME-032_NEUFEP-ME-motor2_SENSE_7_1_echo-2.nii' to '/Volumes/Stephan_WD/NEUFEPME_data_organised/bids/sub-032/func/sub-032_task-motor_run-2_echo-2_bold.nii'\n",
      "Renaming '/Volumes/Stephan_WD/NEUFEPME_data_organised/bids/sub-032/NEUFEP-ME-032_NEUFEP-ME-032_NEUFEP-ME-motor2_SENSE_7_1_echo-3.json' to '/Volumes/Stephan_WD/NEUFEPME_data_organised/bids/sub-032/func/sub-032_task-motor_run-2_echo-3_bold.json'\n",
      "Renaming '/Volumes/Stephan_WD/NEUFEPME_data_organised/bids/sub-032/NEUFEP-ME-032_NEUFEP-ME-032_NEUFEP-ME-motor2_SENSE_7_1_echo-3.nii' to '/Volumes/Stephan_WD/NEUFEPME_data_organised/bids/sub-032/func/sub-032_task-motor_run-2_echo-3_bold.nii'\n",
      "Renaming '/Volumes/Stephan_WD/NEUFEPME_data_organised/bids/sub-032/NEUFEP-ME-032_NEUFEP-ME-032_NEUFEP-ME-emotion1_SENSE_5_1_echo-1.json' to '/Volumes/Stephan_WD/NEUFEPME_data_organised/bids/sub-032/func/sub-032_task-emotion_run-1_echo-1_bold.json'\n",
      "Renaming '/Volumes/Stephan_WD/NEUFEPME_data_organised/bids/sub-032/NEUFEP-ME-032_NEUFEP-ME-032_NEUFEP-ME-emotion1_SENSE_5_1_echo-1.nii' to '/Volumes/Stephan_WD/NEUFEPME_data_organised/bids/sub-032/func/sub-032_task-emotion_run-1_echo-1_bold.nii'\n",
      "Renaming '/Volumes/Stephan_WD/NEUFEPME_data_organised/bids/sub-032/NEUFEP-ME-032_NEUFEP-ME-032_NEUFEP-ME-emotion1_SENSE_5_1_echo-2.json' to '/Volumes/Stephan_WD/NEUFEPME_data_organised/bids/sub-032/func/sub-032_task-emotion_run-1_echo-2_bold.json'\n",
      "Renaming '/Volumes/Stephan_WD/NEUFEPME_data_organised/bids/sub-032/NEUFEP-ME-032_NEUFEP-ME-032_NEUFEP-ME-emotion1_SENSE_5_1_echo-2.nii' to '/Volumes/Stephan_WD/NEUFEPME_data_organised/bids/sub-032/func/sub-032_task-emotion_run-1_echo-2_bold.nii'\n",
      "Renaming '/Volumes/Stephan_WD/NEUFEPME_data_organised/bids/sub-032/NEUFEP-ME-032_NEUFEP-ME-032_NEUFEP-ME-emotion1_SENSE_5_1_echo-3.json' to '/Volumes/Stephan_WD/NEUFEPME_data_organised/bids/sub-032/func/sub-032_task-emotion_run-1_echo-3_bold.json'\n",
      "Renaming '/Volumes/Stephan_WD/NEUFEPME_data_organised/bids/sub-032/NEUFEP-ME-032_NEUFEP-ME-032_NEUFEP-ME-emotion1_SENSE_5_1_echo-3.nii' to '/Volumes/Stephan_WD/NEUFEPME_data_organised/bids/sub-032/func/sub-032_task-emotion_run-1_echo-3_bold.nii'\n",
      "Renaming '/Volumes/Stephan_WD/NEUFEPME_data_organised/bids/sub-032/NEUFEP-ME-032_NEUFEP-ME-032_NEUFEP-ME-emotion2_SENSE_8_1_echo-1.json' to '/Volumes/Stephan_WD/NEUFEPME_data_organised/bids/sub-032/func/sub-032_task-emotion_run-2_echo-1_bold.json'\n",
      "Renaming '/Volumes/Stephan_WD/NEUFEPME_data_organised/bids/sub-032/NEUFEP-ME-032_NEUFEP-ME-032_NEUFEP-ME-emotion2_SENSE_8_1_echo-1.nii' to '/Volumes/Stephan_WD/NEUFEPME_data_organised/bids/sub-032/func/sub-032_task-emotion_run-2_echo-1_bold.nii'\n",
      "Renaming '/Volumes/Stephan_WD/NEUFEPME_data_organised/bids/sub-032/NEUFEP-ME-032_NEUFEP-ME-032_NEUFEP-ME-emotion2_SENSE_8_1_echo-2.json' to '/Volumes/Stephan_WD/NEUFEPME_data_organised/bids/sub-032/func/sub-032_task-emotion_run-2_echo-2_bold.json'\n",
      "Renaming '/Volumes/Stephan_WD/NEUFEPME_data_organised/bids/sub-032/NEUFEP-ME-032_NEUFEP-ME-032_NEUFEP-ME-emotion2_SENSE_8_1_echo-2.nii' to '/Volumes/Stephan_WD/NEUFEPME_data_organised/bids/sub-032/func/sub-032_task-emotion_run-2_echo-2_bold.nii'\n",
      "Renaming '/Volumes/Stephan_WD/NEUFEPME_data_organised/bids/sub-032/NEUFEP-ME-032_NEUFEP-ME-032_NEUFEP-ME-emotion2_SENSE_8_1_echo-3.json' to '/Volumes/Stephan_WD/NEUFEPME_data_organised/bids/sub-032/func/sub-032_task-emotion_run-2_echo-3_bold.json'\n",
      "Renaming '/Volumes/Stephan_WD/NEUFEPME_data_organised/bids/sub-032/NEUFEP-ME-032_NEUFEP-ME-032_NEUFEP-ME-emotion2_SENSE_8_1_echo-3.nii' to '/Volumes/Stephan_WD/NEUFEPME_data_organised/bids/sub-032/func/sub-032_task-emotion_run-2_echo-3_bold.nii'\n",
      "Renaming '/Volumes/Stephan_WD/NEUFEPME_data_organised/bids/sub-032/NEUFEP-ME-032^NEUFEP-ME-032_T1W_3D_TFE_2_1.nii' to '/Volumes/Stephan_WD/NEUFEPME_data_organised/bids/sub-032/anat/sub-032_T1w.nii'\n"
     ]
    }
   ],
   "source": [
    "!cd /Volumes/Stephan_WD/NEUFEPME_data_organised/new && bidsify -v"
   ]
  },
  {
   "cell_type": "markdown",
   "metadata": {},
   "source": [
    "## Step 3.2: Deface T1w images\n",
    "\n",
    "Using `pydeface`\n"
   ]
  },
  {
   "cell_type": "code",
   "execution_count": 11,
   "metadata": {},
   "outputs": [
    {
     "name": "stdout",
     "output_type": "stream",
     "text": [
      "['sub-021', 'sub-022', 'sub-023', 'sub-024', 'sub-025', 'sub-026', 'sub-027', 'sub-029', 'sub-030', 'sub-031', 'sub-032']\n",
      "0 - sub-021\n",
      "1 - sub-022\n",
      "2 - sub-023\n",
      "3 - sub-024\n",
      "4 - sub-025\n",
      "5 - sub-026\n",
      "6 - sub-027\n",
      "7 - sub-029\n",
      "8 - sub-030\n",
      "9 - sub-031\n",
      "10 - sub-032\n"
     ]
    }
   ],
   "source": [
    "# First run pydeface on all. This creates an extra T1w nifti image with defaced extension\n",
    "\n",
    "# bids_data_dir = '/Volumes/Stephan_WD/NEUFEPME_data_organised/bids'\n",
    "# bids_deriv_data_dir = '/Volumes/Stephan_WD/NEUFEPME_data_organised/bids/derivatives'\n",
    "\n",
    "# os.chdir(bids_data_dir)\n",
    "# all_subs = next(os.walk(bids_data_dir))[1]\n",
    "# print(all_subs)\n",
    "\n",
    "# for i, sub in enumerate(all_subs):\n",
    "#     anat_dir = os.path.join(bids_data_dir, sub, 'anat')\n",
    "#     T1w_fn = os.path.join(anat_dir, sub+'_T1w.nii')\n",
    "#     T1w_defaced_fn = os.path.join(anat_dir, sub+'_T1w_defaced.nii')\n",
    "#     if not os.path.exists(T1w_defaced_fn):\n",
    "#         print('{} - {}'.format(i, T1w_fn))\n",
    "#         !cd $anat_dir && pydeface $T1w_fn\n",
    "        \n",
    "# # Then move both niftis to derivatives folder, remove the identifiable nifti, and rename defaced nifti to standard BIDS format\n",
    "# os.chdir(bids_data_dir)\n",
    "# all_subs = next(os.walk(bids_data_dir))[1]\n",
    "# print(all_subs)\n",
    "# for i, sub in enumerate(all_subs):\n",
    "#     print('{} - {}'.format(i, sub))\n",
    "#     anat_dir = os.path.join(bids_data_dir, sub, 'anat')\n",
    "#     src = anat_dir    \n",
    "#     dst = os.path.join(bids_deriv_data_dir, 'pydeface', sub, 'anat')\n",
    "#     if not os.path.exists(dst):\n",
    "#         shutil.copytree(src, dst)\n",
    "#         T1w_fn = os.path.join(anat_dir, sub+'_T1w.nii')\n",
    "#         T1w_defaced_fn = os.path.join(anat_dir, sub+'_T1w_defaced.nii')\n",
    "#         os.remove(T1w_fn)\n",
    "#         os.rename(T1w_defaced_fn, T1w_defaced_fn.replace('_defaced', ''))\n",
    "#     else:\n",
    "#         print('Already processed')"
   ]
  },
  {
   "cell_type": "markdown",
   "metadata": {},
   "source": [
    "## Step 3.3: Convert Eprime data to BIDS\n",
    "\n",
    "Use `neufepme_read_eprime.ipynb`, which uses `convert-eprime`\n",
    "\n",
    "see: https://bids-specification.readthedocs.io/en/stable/04-modality-specific-files/05-task-events.html\n",
    "\n",
    "Perhaps write this into separate functions?\n"
   ]
  },
  {
   "cell_type": "code",
   "execution_count": 13,
   "metadata": {},
   "outputs": [
    {
     "name": "stdout",
     "output_type": "stream",
     "text": [
      "['sub-021', 'sub-022', 'sub-023', 'sub-024', 'sub-025', 'sub-026', 'sub-027', 'sub-029', 'sub-030', 'sub-031', 'sub-032', 'derivatives']\n"
     ]
    }
   ],
   "source": [
    "# import utilities as util\n",
    "# pd.set_option('display.max_rows', None)\n",
    "\n",
    "# bids_data_dir = '/Volumes/Stephan_WD/NEUFEPME_data_organised/bids'\n",
    "# bids_deriv_data_dir = '/Volumes/Stephan_WD/NEUFEPME_data_organised/bids/derivatives'\n",
    "\n",
    "# paradigms = ['motor-', 'motor-imagine-', 'emotion-', 'emotion-imagine-']\n",
    "# paradigm_nrs = ['-001', '-002', '-001', '-002']\n",
    "# event_names = ['_task-motor_run-1_', '_task-motor_run-2_', '_task-emotion_run-1_', '_task-emotion_run-2_']\n",
    "# keys = ['df0', 'df1', 'df2', 'df3']\n",
    "# dct_df = dict.fromkeys(keys, None)\n",
    "\n",
    "# # Loop through all subjects in BIDS folder\n",
    "# os.chdir(bids_data_dir)\n",
    "# all_subs = next(os.walk(bids_data_dir))[1]\n",
    "\n",
    "# print(all_subs)\n",
    "\n",
    "# for sub in all_subs:\n",
    "#     # Find text files for each subject's four runs (see `paradigms` for run types)\n",
    "#     # Create empty csv files (into which text file content is copied) and tsv files (for events in BIDS format)\n",
    "#     sub_data_dir = os.path.join(eprime_data_dir, sub)\n",
    "#     print(sub_data_dir)\n",
    "#     txt_files = [None] * 4\n",
    "#     csv_files = [None] * 4\n",
    "#     event_files = [None] * 4\n",
    "#     sub_nr = sub.split('-')[1]\n",
    "#     for i, par in enumerate(paradigms):\n",
    "#         txt_files[i] = os.path.join(sub_data_dir, 'neufepme-' + par + sub_nr + paradigm_nrs[i] + '.txt')\n",
    "#         name, ext = os.path.splitext(txt_files[i])\n",
    "#         csv_files[i] = name + '.csv'\n",
    "#         event_files[i] = os.path.join(bids_data_dir, sub, 'func', sub+event_names[i]+'events.tsv')\n",
    "#     # Read text files, convert to csv files, and cv files into dataframes \n",
    "#     all_dfs = {}\n",
    "#     for i, fn in enumerate(txt_files):\n",
    "#         text_to_csv(fn, csv_files[i])\n",
    "#         df = pd.read_csv(csv_files[i])\n",
    "#         all_dfs[paradigms[i]] = df\n",
    "\n",
    "#     dct_df = util.create_event_files(all_dfs, paradigms, dct_df, sub)\n",
    "\n",
    "\n",
    "#     ## FIX ALL THE DATAFRAMES TO MAKE THEM BIDS COMPATIBLE\n",
    "#     # Drop the 'Rest' rows from df0, df1, df3\n",
    "#     if not sub == 'sub-001':\n",
    "#         for i in [0,1,3]:\n",
    "#             df = dct_df[keys[i]]\n",
    "#             idx = df[df['trial_type'] == 'Rest'].index\n",
    "#             df.drop(idx , inplace=True)\n",
    "\n",
    "#     # Update df2:\n",
    "#     df = dct_df['df2']\n",
    "#     # fill in missing values for sub-001:\n",
    "#     if sub == 'sub-001':\n",
    "#         df.loc[60, 'duration'] = 3.012\n",
    "#         df.loc[60, 'response_time'] = 0.000\n",
    "#     # 'button_pressed' = NaN ==> n/a; same rows 'response_time' ==> n/a\n",
    "#     nan_rows = df[df['button_pressed'].isnull()]\n",
    "#     df.loc[nan_rows.index, 'response_time'] = 'n/a'\n",
    "#     df.loc[nan_rows.index, 'button_pressed'] = 'n/a'\n",
    "#     # r = red = RIGHT ==> R; g = green = LEFT ==> L\n",
    "#     r_rows = df[df['button_pressed'] == 'r']\n",
    "#     df.loc[r_rows.index, 'button_pressed'] = 'R'\n",
    "#     g_rows = df[df['button_pressed'] == 'g']\n",
    "#     df.loc[g_rows.index, 'button_pressed'] = 'L'\n",
    "#     # Fix onset times\n",
    "#     df.loc[0, 'onset'] = 0.000\n",
    "#     for i in df.index:\n",
    "#         if i > 0:\n",
    "#             df.loc[i, 'onset'] = np.round(df.loc[i-1, 'onset'] + df.loc[i-1, 'duration'], 3)\n",
    "\n",
    "#     print(dct_df)\n",
    "\n",
    "#     # Write to TSV files\n",
    "#     for i, key in enumerate(keys):\n",
    "#         if sub == 'sub-001':\n",
    "#             if i==2:\n",
    "#                 events = dct_df[key]\n",
    "#                 events.to_csv(event_files[i], sep='\\t', index=False)\n",
    "#         else:   \n",
    "#             events = dct_df[key]\n",
    "#             events.to_csv(event_files[i], sep='\\t', index=False)"
   ]
  },
  {
   "cell_type": "markdown",
   "metadata": {},
   "source": [
    "## Step 3.5: Add slice-timing information"
   ]
  },
  {
   "cell_type": "code",
   "execution_count": 14,
   "metadata": {},
   "outputs": [
    {
     "name": "stdout",
     "output_type": "stream",
     "text": [
      "['sub-021', 'sub-022', 'sub-023', 'sub-024', 'sub-025', 'sub-026', 'sub-027', 'sub-029', 'sub-030', 'sub-031', 'sub-032', 'derivatives']\n"
     ]
    },
    {
     "ename": "FileNotFoundError",
     "evalue": "[Errno 2] No such file or directory: '/Volumes/Stephan_WD/NEUFEPME_data_organised/bids/derivatives/func'",
     "output_type": "error",
     "traceback": [
      "\u001b[0;31m---------------------------------------------------------------------------\u001b[0m",
      "\u001b[0;31mFileNotFoundError\u001b[0m                         Traceback (most recent call last)",
      "\u001b[0;32m<ipython-input-14-ffa472dd6589>\u001b[0m in \u001b[0;36m<module>\u001b[0;34m\u001b[0m\n\u001b[1;32m     15\u001b[0m \u001b[0;34m\u001b[0m\u001b[0m\n\u001b[1;32m     16\u001b[0m \u001b[0;32mfor\u001b[0m \u001b[0msub\u001b[0m \u001b[0;32min\u001b[0m \u001b[0mall_subs\u001b[0m\u001b[0;34m:\u001b[0m\u001b[0;34m\u001b[0m\u001b[0;34m\u001b[0m\u001b[0m\n\u001b[0;32m---> 17\u001b[0;31m     \u001b[0mos\u001b[0m\u001b[0;34m.\u001b[0m\u001b[0mchdir\u001b[0m\u001b[0;34m(\u001b[0m\u001b[0mos\u001b[0m\u001b[0;34m.\u001b[0m\u001b[0mpath\u001b[0m\u001b[0;34m.\u001b[0m\u001b[0mjoin\u001b[0m\u001b[0;34m(\u001b[0m\u001b[0mbids_data_dir\u001b[0m\u001b[0;34m,\u001b[0m \u001b[0msub\u001b[0m\u001b[0;34m,\u001b[0m \u001b[0;34m'func'\u001b[0m\u001b[0;34m)\u001b[0m\u001b[0;34m)\u001b[0m\u001b[0;34m\u001b[0m\u001b[0;34m\u001b[0m\u001b[0m\n\u001b[0m\u001b[1;32m     18\u001b[0m     \u001b[0mjson_files\u001b[0m \u001b[0;34m=\u001b[0m \u001b[0mglob\u001b[0m\u001b[0;34m.\u001b[0m\u001b[0mglob\u001b[0m\u001b[0;34m(\u001b[0m\u001b[0;34m'*bold.json'\u001b[0m\u001b[0;34m)\u001b[0m\u001b[0;34m\u001b[0m\u001b[0;34m\u001b[0m\u001b[0m\n\u001b[1;32m     19\u001b[0m     \u001b[0;32mif\u001b[0m \u001b[0mlen\u001b[0m\u001b[0;34m(\u001b[0m\u001b[0mjson_files\u001b[0m\u001b[0;34m)\u001b[0m \u001b[0;34m!=\u001b[0m \u001b[0;36m18\u001b[0m\u001b[0;34m:\u001b[0m\u001b[0;34m\u001b[0m\u001b[0;34m\u001b[0m\u001b[0m\n",
      "\u001b[0;31mFileNotFoundError\u001b[0m: [Errno 2] No such file or directory: '/Volumes/Stephan_WD/NEUFEPME_data_organised/bids/derivatives/func'"
     ]
    }
   ],
   "source": [
    "bids_data_dir = '/Volumes/Stephan_WD/NEUFEPME_data_organised/bids'\n",
    "bids_deriv_data_dir = '/Volumes/Stephan_WD/NEUFEPME_data_organised/bids/derivatives'\n",
    "\n",
    "# First run scripts to ensure that BIDS json data is correct\n",
    "TR = 2\n",
    "N_slices = 34\n",
    "t_d = TR/N_slices\n",
    "t_start = 0\n",
    "t_stop = TR\n",
    "slice_timing = np.arange(start=t_start, stop=t_stop, step=t_d).round(4).tolist()\n",
    "\n",
    "os.chdir(bids_data_dir)\n",
    "all_subs = next(os.walk(bids_data_dir))[1]\n",
    "print(all_subs)\n",
    "\n",
    "for sub in all_subs:\n",
    "    os.chdir(os.path.join(bids_data_dir, sub, 'func'))\n",
    "    json_files = glob.glob('*bold.json')\n",
    "    if len(json_files) != 18:\n",
    "        print('ERROR: there are {} BOLD json files, while there should be 18. Skipping subject: {}'.format(len(json_files), sub))\n",
    "    else:\n",
    "        for json_fn in json_files:\n",
    "            with open(json_fn) as json_file:\n",
    "                json_decoded = json.load(json_file)\n",
    "\n",
    "            json_decoded[\"SliceTiming\"] = slice_timing\n",
    "\n",
    "            with open(json_fn, 'w') as json_file:\n",
    "                json.dump(json_decoded, json_file)"
   ]
  },
  {
   "cell_type": "markdown",
   "metadata": {},
   "source": [
    "## Step 3.4: Convert physiology data to BIDS\n",
    "\n",
    "Using `scanphyslog2bids`\n",
    "\n",
    "See: https://bids-specification.readthedocs.io/en/stable/04-modality-specific-files/06-physiological-and-other-continuous-recordings.html\n"
   ]
  },
  {
   "cell_type": "code",
   "execution_count": 15,
   "metadata": {
    "scrolled": true
   },
   "outputs": [
    {
     "name": "stdout",
     "output_type": "stream",
     "text": [
      "/Volumes/Stephan_WD/NEUFEPME_data_organised/new/sub-021/scanphyslog\n",
      "/Volumes/Stephan_WD/NEUFEPME_data_organised/new/sub-021/scanphyslog/sub-021_task-rest_run-1_physio.log\n"
     ]
    },
    {
     "name": "stderr",
     "output_type": "stream",
     "text": [
      "2020-03-03 12:14:20,211 [MainThread] [INFO   ]  Found end marker ('0020') at an offset of 22 samples relative to the end of the file.\n",
      "2020-03-03 12:14:24,817 [MainThread] [INFO   ]  Trimmed off 59 samples from end of file based on the (absence) of a gradient.\n",
      "2020-03-03 12:14:24,818 [MainThread] [INFO   ]  Found 210 triggers with a mean duration of 2.00300 (0.00100)!\n",
      "2020-03-03 12:14:25,706 [MainThread] [INFO   ]  Saving BIDS data to /Volumes/Stephan_WD/NEUFEPME_data_organised/bids/sub-021/func/sub-021_task-rest_run-1_physio.tsv.\n",
      "/Users/jheunis/miniconda3/envs/rtme-fmri/lib/python3.7/site-packages/scanphyslog2bids/core.py:570: UserWarning: Creating legend with loc=\"best\" can be slow with large amounts of data.\n",
      "  fig.tight_layout()\n",
      "/Users/jheunis/miniconda3/envs/rtme-fmri/lib/python3.7/site-packages/scanphyslog2bids/core.py:581: UserWarning: Creating legend with loc=\"best\" can be slow with large amounts of data.\n",
      "  fig.savefig(base_name, dpi=100)\n"
     ]
    },
    {
     "name": "stdout",
     "output_type": "stream",
     "text": [
      "/Volumes/Stephan_WD/NEUFEPME_data_organised/new/sub-021/scanphyslog/sub-021_task-motor_run-1_physio.log\n"
     ]
    },
    {
     "name": "stderr",
     "output_type": "stream",
     "text": [
      "2020-03-03 12:14:31,680 [MainThread] [INFO   ]  Found end marker ('0020') at an offset of 53 samples relative to the end of the file.\n",
      "2020-03-03 12:14:36,718 [MainThread] [INFO   ]  Trimmed off 60 samples from end of file based on the (absence) of a gradient.\n",
      "2020-03-03 12:14:36,719 [MainThread] [INFO   ]  Found 210 triggers with a mean duration of 2.00300 (0.00100)!\n",
      "2020-03-03 12:14:37,608 [MainThread] [INFO   ]  Saving BIDS data to /Volumes/Stephan_WD/NEUFEPME_data_organised/bids/sub-021/func/sub-021_task-motor_run-1_physio.tsv.\n"
     ]
    },
    {
     "name": "stdout",
     "output_type": "stream",
     "text": [
      "/Volumes/Stephan_WD/NEUFEPME_data_organised/new/sub-021/scanphyslog/sub-021_task-emotion_run-1_physio.log\n"
     ]
    },
    {
     "name": "stderr",
     "output_type": "stream",
     "text": [
      "2020-03-03 12:14:43,629 [MainThread] [INFO   ]  Found end marker ('0020') at an offset of 85 samples relative to the end of the file.\n",
      "2020-03-03 12:14:48,406 [MainThread] [INFO   ]  Trimmed off 61 samples from end of file based on the (absence) of a gradient.\n",
      "2020-03-03 12:14:48,407 [MainThread] [INFO   ]  Found 210 triggers with a mean duration of 2.00300 (0.00100)!\n",
      "2020-03-03 12:14:49,374 [MainThread] [INFO   ]  Saving BIDS data to /Volumes/Stephan_WD/NEUFEPME_data_organised/bids/sub-021/func/sub-021_task-emotion_run-1_physio.tsv.\n"
     ]
    },
    {
     "name": "stdout",
     "output_type": "stream",
     "text": [
      "/Volumes/Stephan_WD/NEUFEPME_data_organised/new/sub-021/scanphyslog/sub-021_task-rest_run-2_physio.log\n"
     ]
    },
    {
     "name": "stderr",
     "output_type": "stream",
     "text": [
      "2020-03-03 12:14:55,366 [MainThread] [INFO   ]  Found end marker ('0020') at an offset of 16 samples relative to the end of the file.\n",
      "2020-03-03 12:15:00,133 [MainThread] [INFO   ]  Trimmed off 58 samples from end of file based on the (absence) of a gradient.\n",
      "2020-03-03 12:15:00,137 [MainThread] [INFO   ]  Found 210 triggers with a mean duration of 2.00300 (0.00100)!\n",
      "2020-03-03 12:15:01,173 [MainThread] [INFO   ]  Saving BIDS data to /Volumes/Stephan_WD/NEUFEPME_data_organised/bids/sub-021/func/sub-021_task-rest_run-2_physio.tsv.\n"
     ]
    },
    {
     "name": "stdout",
     "output_type": "stream",
     "text": [
      "/Volumes/Stephan_WD/NEUFEPME_data_organised/new/sub-021/scanphyslog/sub-021_task-motor_run-2_physio.log\n"
     ]
    },
    {
     "name": "stderr",
     "output_type": "stream",
     "text": [
      "2020-03-03 12:15:07,074 [MainThread] [INFO   ]  Found end marker ('0020') at an offset of 56 samples relative to the end of the file.\n",
      "2020-03-03 12:15:11,864 [MainThread] [INFO   ]  Trimmed off 62 samples from end of file based on the (absence) of a gradient.\n",
      "2020-03-03 12:15:11,865 [MainThread] [INFO   ]  Found 210 triggers with a mean duration of 2.00300 (0.00100)!\n",
      "2020-03-03 12:15:12,807 [MainThread] [INFO   ]  Saving BIDS data to /Volumes/Stephan_WD/NEUFEPME_data_organised/bids/sub-021/func/sub-021_task-motor_run-2_physio.tsv.\n"
     ]
    },
    {
     "name": "stdout",
     "output_type": "stream",
     "text": [
      "/Volumes/Stephan_WD/NEUFEPME_data_organised/new/sub-021/scanphyslog/sub-021_task-emotion_run-2_physio.log\n"
     ]
    },
    {
     "name": "stderr",
     "output_type": "stream",
     "text": [
      "2020-03-03 12:15:18,740 [MainThread] [INFO   ]  Found end marker ('0020') at an offset of 5 samples relative to the end of the file.\n",
      "2020-03-03 12:15:23,282 [MainThread] [INFO   ]  Trimmed off 61 samples from end of file based on the (absence) of a gradient.\n",
      "2020-03-03 12:15:23,284 [MainThread] [INFO   ]  Found 210 triggers with a mean duration of 2.00300 (0.00100)!\n",
      "2020-03-03 12:15:24,254 [MainThread] [INFO   ]  Saving BIDS data to /Volumes/Stephan_WD/NEUFEPME_data_organised/bids/sub-021/func/sub-021_task-emotion_run-2_physio.tsv.\n"
     ]
    },
    {
     "name": "stdout",
     "output_type": "stream",
     "text": [
      "/Volumes/Stephan_WD/NEUFEPME_data_organised/new/sub-022/scanphyslog\n",
      "/Volumes/Stephan_WD/NEUFEPME_data_organised/new/sub-022/scanphyslog/sub-022_task-rest_run-1_physio.log\n"
     ]
    },
    {
     "name": "stderr",
     "output_type": "stream",
     "text": [
      "2020-03-03 12:15:30,112 [MainThread] [INFO   ]  Found end marker ('0020') at an offset of 6 samples relative to the end of the file.\n",
      "2020-03-03 12:15:34,533 [MainThread] [INFO   ]  Trimmed off 62 samples from end of file based on the (absence) of a gradient.\n",
      "2020-03-03 12:15:34,534 [MainThread] [INFO   ]  Found 210 triggers with a mean duration of 2.00400 (0.00000)!\n",
      "2020-03-03 12:15:35,351 [MainThread] [INFO   ]  Saving BIDS data to /Volumes/Stephan_WD/NEUFEPME_data_organised/bids/sub-022/func/sub-022_task-rest_run-1_physio.tsv.\n"
     ]
    },
    {
     "name": "stdout",
     "output_type": "stream",
     "text": [
      "/Volumes/Stephan_WD/NEUFEPME_data_organised/new/sub-022/scanphyslog/sub-022_task-motor_run-1_physio.log\n"
     ]
    },
    {
     "name": "stderr",
     "output_type": "stream",
     "text": [
      "2020-03-03 12:15:41,365 [MainThread] [INFO   ]  Found end marker ('0020') at an offset of 54 samples relative to the end of the file.\n",
      "2020-03-03 12:15:46,115 [MainThread] [INFO   ]  Trimmed off 60 samples from end of file based on the (absence) of a gradient.\n",
      "2020-03-03 12:15:46,117 [MainThread] [INFO   ]  Found 210 triggers with a mean duration of 2.00400 (0.00000)!\n",
      "2020-03-03 12:15:47,012 [MainThread] [INFO   ]  Saving BIDS data to /Volumes/Stephan_WD/NEUFEPME_data_organised/bids/sub-022/func/sub-022_task-motor_run-1_physio.tsv.\n"
     ]
    },
    {
     "name": "stdout",
     "output_type": "stream",
     "text": [
      "/Volumes/Stephan_WD/NEUFEPME_data_organised/new/sub-022/scanphyslog/sub-022_task-emotion_run-1_physio.log\n"
     ]
    },
    {
     "name": "stderr",
     "output_type": "stream",
     "text": [
      "2020-03-03 12:15:53,372 [MainThread] [INFO   ]  Found end marker ('0020') at an offset of 43 samples relative to the end of the file.\n",
      "2020-03-03 12:15:59,540 [MainThread] [INFO   ]  Trimmed off 59 samples from end of file based on the (absence) of a gradient.\n",
      "2020-03-03 12:15:59,541 [MainThread] [INFO   ]  Found 210 triggers with a mean duration of 2.00400 (0.00000)!\n",
      "2020-03-03 12:16:00,652 [MainThread] [INFO   ]  Saving BIDS data to /Volumes/Stephan_WD/NEUFEPME_data_organised/bids/sub-022/func/sub-022_task-emotion_run-1_physio.tsv.\n"
     ]
    },
    {
     "name": "stdout",
     "output_type": "stream",
     "text": [
      "/Volumes/Stephan_WD/NEUFEPME_data_organised/new/sub-022/scanphyslog/sub-022_task-rest_run-2_physio.log\n"
     ]
    },
    {
     "name": "stderr",
     "output_type": "stream",
     "text": [
      "2020-03-03 12:16:07,307 [MainThread] [INFO   ]  Found end marker ('0020') at an offset of 8 samples relative to the end of the file.\n",
      "2020-03-03 12:16:11,708 [MainThread] [INFO   ]  Trimmed off 57 samples from end of file based on the (absence) of a gradient.\n",
      "2020-03-03 12:16:11,709 [MainThread] [INFO   ]  Found 210 triggers with a mean duration of 2.00400 (0.00000)!\n",
      "2020-03-03 12:16:12,632 [MainThread] [INFO   ]  Saving BIDS data to /Volumes/Stephan_WD/NEUFEPME_data_organised/bids/sub-022/func/sub-022_task-rest_run-2_physio.tsv.\n"
     ]
    },
    {
     "name": "stdout",
     "output_type": "stream",
     "text": [
      "/Volumes/Stephan_WD/NEUFEPME_data_organised/new/sub-022/scanphyslog/sub-022_task-motor_run-2_physio.log\n"
     ]
    },
    {
     "name": "stderr",
     "output_type": "stream",
     "text": [
      "2020-03-03 12:16:18,952 [MainThread] [INFO   ]  Found end marker ('0020') at an offset of 40 samples relative to the end of the file.\n",
      "2020-03-03 12:16:24,066 [MainThread] [INFO   ]  Trimmed off 56 samples from end of file based on the (absence) of a gradient.\n",
      "2020-03-03 12:16:24,067 [MainThread] [INFO   ]  Found 210 triggers with a mean duration of 2.00400 (0.00000)!\n",
      "2020-03-03 12:16:25,078 [MainThread] [INFO   ]  Saving BIDS data to /Volumes/Stephan_WD/NEUFEPME_data_organised/bids/sub-022/func/sub-022_task-motor_run-2_physio.tsv.\n"
     ]
    },
    {
     "name": "stdout",
     "output_type": "stream",
     "text": [
      "/Volumes/Stephan_WD/NEUFEPME_data_organised/new/sub-022/scanphyslog/sub-022_task-emotion_run-2_physio.log\n"
     ]
    },
    {
     "name": "stderr",
     "output_type": "stream",
     "text": [
      "2020-03-03 12:16:31,515 [MainThread] [INFO   ]  Found end marker ('0020') at an offset of 13 samples relative to the end of the file.\n",
      "2020-03-03 12:16:37,008 [MainThread] [INFO   ]  Trimmed off 59 samples from end of file based on the (absence) of a gradient.\n",
      "2020-03-03 12:16:37,009 [MainThread] [INFO   ]  Found 210 triggers with a mean duration of 2.00400 (0.00000)!\n",
      "2020-03-03 12:16:37,946 [MainThread] [INFO   ]  Saving BIDS data to /Volumes/Stephan_WD/NEUFEPME_data_organised/bids/sub-022/func/sub-022_task-emotion_run-2_physio.tsv.\n"
     ]
    },
    {
     "name": "stdout",
     "output_type": "stream",
     "text": [
      "/Volumes/Stephan_WD/NEUFEPME_data_organised/new/sub-023/scanphyslog\n",
      "/Volumes/Stephan_WD/NEUFEPME_data_organised/new/sub-023/scanphyslog/sub-023_task-rest_run-1_physio.log\n"
     ]
    },
    {
     "name": "stderr",
     "output_type": "stream",
     "text": [
      "2020-03-03 12:16:43,693 [MainThread] [INFO   ]  Found end marker ('0020') at an offset of 76 samples relative to the end of the file.\n",
      "2020-03-03 12:16:48,173 [MainThread] [INFO   ]  Trimmed off 57 samples from end of file based on the (absence) of a gradient.\n",
      "2020-03-03 12:16:48,174 [MainThread] [INFO   ]  Found 210 triggers with a mean duration of 2.00300 (0.00100)!\n",
      "2020-03-03 12:16:49,054 [MainThread] [INFO   ]  Saving BIDS data to /Volumes/Stephan_WD/NEUFEPME_data_organised/bids/sub-023/func/sub-023_task-rest_run-1_physio.tsv.\n"
     ]
    },
    {
     "name": "stdout",
     "output_type": "stream",
     "text": [
      "/Volumes/Stephan_WD/NEUFEPME_data_organised/new/sub-023/scanphyslog/sub-023_task-motor_run-1_physio.log\n"
     ]
    },
    {
     "name": "stderr",
     "output_type": "stream",
     "text": [
      "2020-03-03 12:16:55,810 [MainThread] [INFO   ]  Found end marker ('0020') at an offset of 15 samples relative to the end of the file.\n",
      "2020-03-03 12:17:01,569 [MainThread] [INFO   ]  Trimmed off 58 samples from end of file based on the (absence) of a gradient.\n",
      "2020-03-03 12:17:01,570 [MainThread] [INFO   ]  Found 210 triggers with a mean duration of 2.00300 (0.00100)!\n",
      "2020-03-03 12:17:02,710 [MainThread] [INFO   ]  Saving BIDS data to /Volumes/Stephan_WD/NEUFEPME_data_organised/bids/sub-023/func/sub-023_task-motor_run-1_physio.tsv.\n"
     ]
    },
    {
     "name": "stdout",
     "output_type": "stream",
     "text": [
      "/Volumes/Stephan_WD/NEUFEPME_data_organised/new/sub-023/scanphyslog/sub-023_task-emotion_run-1_physio.log\n"
     ]
    },
    {
     "name": "stderr",
     "output_type": "stream",
     "text": [
      "2020-03-03 12:17:10,527 [MainThread] [INFO   ]  Found end marker ('0020') at an offset of 30 samples relative to the end of the file.\n",
      "2020-03-03 12:17:15,100 [MainThread] [INFO   ]  Trimmed off 63 samples from end of file based on the (absence) of a gradient.\n",
      "2020-03-03 12:17:15,101 [MainThread] [INFO   ]  Found 210 triggers with a mean duration of 2.00300 (0.00100)!\n",
      "2020-03-03 12:17:15,969 [MainThread] [INFO   ]  Saving BIDS data to /Volumes/Stephan_WD/NEUFEPME_data_organised/bids/sub-023/func/sub-023_task-emotion_run-1_physio.tsv.\n"
     ]
    },
    {
     "name": "stdout",
     "output_type": "stream",
     "text": [
      "/Volumes/Stephan_WD/NEUFEPME_data_organised/new/sub-023/scanphyslog/sub-023_task-rest_run-2_physio.log\n"
     ]
    },
    {
     "name": "stderr",
     "output_type": "stream",
     "text": [
      "2020-03-03 12:17:21,985 [MainThread] [INFO   ]  Found end marker ('0020') at an offset of 37 samples relative to the end of the file.\n",
      "2020-03-03 12:17:26,636 [MainThread] [INFO   ]  Trimmed off 61 samples from end of file based on the (absence) of a gradient.\n",
      "2020-03-03 12:17:26,638 [MainThread] [INFO   ]  Found 210 triggers with a mean duration of 2.00300 (0.00100)!\n",
      "2020-03-03 12:17:27,733 [MainThread] [INFO   ]  Saving BIDS data to /Volumes/Stephan_WD/NEUFEPME_data_organised/bids/sub-023/func/sub-023_task-rest_run-2_physio.tsv.\n"
     ]
    },
    {
     "name": "stdout",
     "output_type": "stream",
     "text": [
      "/Volumes/Stephan_WD/NEUFEPME_data_organised/new/sub-023/scanphyslog/sub-023_task-motor_run-2_physio.log\n"
     ]
    },
    {
     "name": "stderr",
     "output_type": "stream",
     "text": [
      "2020-03-03 12:17:33,559 [MainThread] [INFO   ]  Found end marker ('0020') at an offset of 93 samples relative to the end of the file.\n",
      "2020-03-03 12:17:38,720 [MainThread] [INFO   ]  Trimmed off 63 samples from end of file based on the (absence) of a gradient.\n",
      "2020-03-03 12:17:38,722 [MainThread] [INFO   ]  Found 210 triggers with a mean duration of 2.00300 (0.00100)!\n",
      "2020-03-03 12:17:40,446 [MainThread] [INFO   ]  Saving BIDS data to /Volumes/Stephan_WD/NEUFEPME_data_organised/bids/sub-023/func/sub-023_task-motor_run-2_physio.tsv.\n"
     ]
    },
    {
     "name": "stdout",
     "output_type": "stream",
     "text": [
      "/Volumes/Stephan_WD/NEUFEPME_data_organised/new/sub-023/scanphyslog/sub-023_task-emotion_run-2_physio.log\n"
     ]
    },
    {
     "name": "stderr",
     "output_type": "stream",
     "text": [
      "2020-03-03 12:17:46,834 [MainThread] [INFO   ]  Found end marker ('0020') at an offset of 99 samples relative to the end of the file.\n",
      "2020-03-03 12:17:51,516 [MainThread] [INFO   ]  Trimmed off 63 samples from end of file based on the (absence) of a gradient.\n",
      "2020-03-03 12:17:51,517 [MainThread] [INFO   ]  Found 210 triggers with a mean duration of 2.00300 (0.00100)!\n",
      "2020-03-03 12:17:52,662 [MainThread] [INFO   ]  Saving BIDS data to /Volumes/Stephan_WD/NEUFEPME_data_organised/bids/sub-023/func/sub-023_task-emotion_run-2_physio.tsv.\n"
     ]
    },
    {
     "name": "stdout",
     "output_type": "stream",
     "text": [
      "/Volumes/Stephan_WD/NEUFEPME_data_organised/new/sub-024/scanphyslog\n",
      "/Volumes/Stephan_WD/NEUFEPME_data_organised/new/sub-024/scanphyslog/sub-024_task-rest_run-1_physio.log\n"
     ]
    },
    {
     "name": "stderr",
     "output_type": "stream",
     "text": [
      "2020-03-03 12:17:59,525 [MainThread] [INFO   ]  Found end marker ('0020') at an offset of 53 samples relative to the end of the file.\n",
      "2020-03-03 12:18:04,395 [MainThread] [INFO   ]  Trimmed off 61 samples from end of file based on the (absence) of a gradient.\n",
      "2020-03-03 12:18:04,396 [MainThread] [INFO   ]  Found 210 triggers with a mean duration of 2.00400 (0.00000)!\n",
      "2020-03-03 12:18:06,088 [MainThread] [INFO   ]  Saving BIDS data to /Volumes/Stephan_WD/NEUFEPME_data_organised/bids/sub-024/func/sub-024_task-rest_run-1_physio.tsv.\n"
     ]
    },
    {
     "name": "stdout",
     "output_type": "stream",
     "text": [
      "/Volumes/Stephan_WD/NEUFEPME_data_organised/new/sub-024/scanphyslog/sub-024_task-motor_run-1_physio.log\n"
     ]
    },
    {
     "name": "stderr",
     "output_type": "stream",
     "text": [
      "2020-03-03 12:18:14,545 [MainThread] [INFO   ]  Found end marker ('0020') at an offset of 35 samples relative to the end of the file.\n",
      "2020-03-03 12:18:20,800 [MainThread] [INFO   ]  Trimmed off 61 samples from end of file based on the (absence) of a gradient.\n",
      "2020-03-03 12:18:20,801 [MainThread] [INFO   ]  Found 210 triggers with a mean duration of 2.00400 (0.00000)!\n",
      "2020-03-03 12:18:22,272 [MainThread] [INFO   ]  Saving BIDS data to /Volumes/Stephan_WD/NEUFEPME_data_organised/bids/sub-024/func/sub-024_task-motor_run-1_physio.tsv.\n"
     ]
    },
    {
     "name": "stdout",
     "output_type": "stream",
     "text": [
      "/Volumes/Stephan_WD/NEUFEPME_data_organised/new/sub-024/scanphyslog/sub-024_task-emotion_run-1_physio.log\n"
     ]
    },
    {
     "name": "stderr",
     "output_type": "stream",
     "text": [
      "2020-03-03 12:18:30,603 [MainThread] [INFO   ]  Found end marker ('0020') at an offset of 49 samples relative to the end of the file.\n",
      "2020-03-03 12:18:36,306 [MainThread] [INFO   ]  Trimmed off 57 samples from end of file based on the (absence) of a gradient.\n",
      "2020-03-03 12:18:36,307 [MainThread] [INFO   ]  Found 210 triggers with a mean duration of 2.00400 (0.00000)!\n",
      "2020-03-03 12:18:39,325 [MainThread] [INFO   ]  Saving BIDS data to /Volumes/Stephan_WD/NEUFEPME_data_organised/bids/sub-024/func/sub-024_task-emotion_run-1_physio.tsv.\n"
     ]
    },
    {
     "name": "stdout",
     "output_type": "stream",
     "text": [
      "/Volumes/Stephan_WD/NEUFEPME_data_organised/new/sub-024/scanphyslog/sub-024_task-rest_run-2_physio.log\n"
     ]
    },
    {
     "name": "stderr",
     "output_type": "stream",
     "text": [
      "2020-03-03 12:18:45,956 [MainThread] [INFO   ]  Found end marker ('0020') at an offset of 23 samples relative to the end of the file.\n",
      "2020-03-03 12:18:50,458 [MainThread] [INFO   ]  Trimmed off 57 samples from end of file based on the (absence) of a gradient.\n",
      "2020-03-03 12:18:50,459 [MainThread] [INFO   ]  Found 210 triggers with a mean duration of 2.00400 (0.00000)!\n",
      "2020-03-03 12:18:51,602 [MainThread] [INFO   ]  Saving BIDS data to /Volumes/Stephan_WD/NEUFEPME_data_organised/bids/sub-024/func/sub-024_task-rest_run-2_physio.tsv.\n"
     ]
    },
    {
     "name": "stdout",
     "output_type": "stream",
     "text": [
      "/Volumes/Stephan_WD/NEUFEPME_data_organised/new/sub-024/scanphyslog/sub-024_task-motor_run-2_physio.log\n"
     ]
    },
    {
     "name": "stderr",
     "output_type": "stream",
     "text": [
      "2020-03-03 12:18:57,645 [MainThread] [INFO   ]  Found end marker ('0020') at an offset of 79 samples relative to the end of the file.\n",
      "2020-03-03 12:19:02,356 [MainThread] [INFO   ]  Trimmed off 57 samples from end of file based on the (absence) of a gradient.\n",
      "2020-03-03 12:19:02,357 [MainThread] [INFO   ]  Found 210 triggers with a mean duration of 2.00400 (0.00000)!\n",
      "2020-03-03 12:19:03,481 [MainThread] [INFO   ]  Saving BIDS data to /Volumes/Stephan_WD/NEUFEPME_data_organised/bids/sub-024/func/sub-024_task-motor_run-2_physio.tsv.\n"
     ]
    },
    {
     "name": "stdout",
     "output_type": "stream",
     "text": [
      "/Volumes/Stephan_WD/NEUFEPME_data_organised/new/sub-024/scanphyslog/sub-024_task-emotion_run-2_physio.log\n"
     ]
    },
    {
     "name": "stderr",
     "output_type": "stream",
     "text": [
      "2020-03-03 12:19:09,402 [MainThread] [INFO   ]  Found end marker ('0020') at an offset of 53 samples relative to the end of the file.\n",
      "2020-03-03 12:19:14,133 [MainThread] [INFO   ]  Trimmed off 56 samples from end of file based on the (absence) of a gradient.\n",
      "2020-03-03 12:19:14,134 [MainThread] [INFO   ]  Found 210 triggers with a mean duration of 2.00400 (0.00000)!\n",
      "2020-03-03 12:19:15,124 [MainThread] [INFO   ]  Saving BIDS data to /Volumes/Stephan_WD/NEUFEPME_data_organised/bids/sub-024/func/sub-024_task-emotion_run-2_physio.tsv.\n"
     ]
    },
    {
     "name": "stdout",
     "output_type": "stream",
     "text": [
      "/Volumes/Stephan_WD/NEUFEPME_data_organised/new/sub-025/scanphyslog\n",
      "/Volumes/Stephan_WD/NEUFEPME_data_organised/new/sub-025/scanphyslog/sub-025_task-rest_run-1_physio.log\n"
     ]
    },
    {
     "name": "stderr",
     "output_type": "stream",
     "text": [
      "2020-03-03 12:19:21,452 [MainThread] [INFO   ]  Found end marker ('0020') at an offset of 40 samples relative to the end of the file.\n",
      "2020-03-03 12:19:25,931 [MainThread] [INFO   ]  Trimmed off 61 samples from end of file based on the (absence) of a gradient.\n",
      "2020-03-03 12:19:25,933 [MainThread] [INFO   ]  Found 210 triggers with a mean duration of 2.00300 (0.00100)!\n",
      "2020-03-03 12:19:27,082 [MainThread] [INFO   ]  Saving BIDS data to /Volumes/Stephan_WD/NEUFEPME_data_organised/bids/sub-025/func/sub-025_task-rest_run-1_physio.tsv.\n"
     ]
    },
    {
     "name": "stdout",
     "output_type": "stream",
     "text": [
      "/Volumes/Stephan_WD/NEUFEPME_data_organised/new/sub-025/scanphyslog/sub-025_task-motor_run-1_physio.log\n"
     ]
    },
    {
     "name": "stderr",
     "output_type": "stream",
     "text": [
      "2020-03-03 12:19:33,301 [MainThread] [INFO   ]  Found end marker ('0020') at an offset of 23 samples relative to the end of the file.\n",
      "2020-03-03 12:19:38,098 [MainThread] [INFO   ]  Trimmed off 55 samples from end of file based on the (absence) of a gradient.\n",
      "2020-03-03 12:19:38,099 [MainThread] [INFO   ]  Found 210 triggers with a mean duration of 2.00300 (0.00100)!\n",
      "2020-03-03 12:19:39,109 [MainThread] [INFO   ]  Saving BIDS data to /Volumes/Stephan_WD/NEUFEPME_data_organised/bids/sub-025/func/sub-025_task-motor_run-1_physio.tsv.\n"
     ]
    },
    {
     "name": "stdout",
     "output_type": "stream",
     "text": [
      "/Volumes/Stephan_WD/NEUFEPME_data_organised/new/sub-025/scanphyslog/sub-025_task-emotion_run-1_physio.log\n"
     ]
    },
    {
     "name": "stderr",
     "output_type": "stream",
     "text": [
      "2020-03-03 12:19:46,574 [MainThread] [INFO   ]  Found end marker ('0020') at an offset of 30 samples relative to the end of the file.\n",
      "2020-03-03 12:19:51,919 [MainThread] [INFO   ]  Trimmed off 60 samples from end of file based on the (absence) of a gradient.\n",
      "2020-03-03 12:19:51,920 [MainThread] [INFO   ]  Found 210 triggers with a mean duration of 2.00300 (0.00100)!\n",
      "2020-03-03 12:19:53,258 [MainThread] [INFO   ]  Saving BIDS data to /Volumes/Stephan_WD/NEUFEPME_data_organised/bids/sub-025/func/sub-025_task-emotion_run-1_physio.tsv.\n"
     ]
    },
    {
     "name": "stdout",
     "output_type": "stream",
     "text": [
      "/Volumes/Stephan_WD/NEUFEPME_data_organised/new/sub-025/scanphyslog/sub-025_task-rest_run-2_physio.log\n"
     ]
    },
    {
     "name": "stderr",
     "output_type": "stream",
     "text": [
      "2020-03-03 12:20:00,522 [MainThread] [INFO   ]  Found end marker ('0020') at an offset of 61 samples relative to the end of the file.\n",
      "2020-03-03 12:20:05,758 [MainThread] [INFO   ]  Trimmed off 63 samples from end of file based on the (absence) of a gradient.\n",
      "2020-03-03 12:20:05,760 [MainThread] [INFO   ]  Found 210 triggers with a mean duration of 2.00300 (0.00100)!\n",
      "2020-03-03 12:20:06,643 [MainThread] [INFO   ]  Saving BIDS data to /Volumes/Stephan_WD/NEUFEPME_data_organised/bids/sub-025/func/sub-025_task-rest_run-2_physio.tsv.\n"
     ]
    },
    {
     "name": "stdout",
     "output_type": "stream",
     "text": [
      "/Volumes/Stephan_WD/NEUFEPME_data_organised/new/sub-025/scanphyslog/sub-025_task-motor_run-2_physio.log\n"
     ]
    },
    {
     "name": "stderr",
     "output_type": "stream",
     "text": [
      "2020-03-03 12:20:12,587 [MainThread] [INFO   ]  Found end marker ('0020') at an offset of 68 samples relative to the end of the file.\n",
      "2020-03-03 12:20:17,990 [MainThread] [INFO   ]  Trimmed off 56 samples from end of file based on the (absence) of a gradient.\n",
      "2020-03-03 12:20:17,991 [MainThread] [INFO   ]  Found 210 triggers with a mean duration of 2.00300 (0.00100)!\n",
      "2020-03-03 12:20:19,854 [MainThread] [INFO   ]  Saving BIDS data to /Volumes/Stephan_WD/NEUFEPME_data_organised/bids/sub-025/func/sub-025_task-motor_run-2_physio.tsv.\n"
     ]
    },
    {
     "name": "stdout",
     "output_type": "stream",
     "text": [
      "/Volumes/Stephan_WD/NEUFEPME_data_organised/new/sub-025/scanphyslog/sub-025_task-emotion_run-2_physio.log\n"
     ]
    },
    {
     "name": "stderr",
     "output_type": "stream",
     "text": [
      "2020-03-03 12:20:27,740 [MainThread] [INFO   ]  Found end marker ('0020') at an offset of 67 samples relative to the end of the file.\n",
      "2020-03-03 12:20:32,208 [MainThread] [INFO   ]  Trimmed off 59 samples from end of file based on the (absence) of a gradient.\n",
      "2020-03-03 12:20:32,209 [MainThread] [INFO   ]  Found 210 triggers with a mean duration of 2.00300 (0.00100)!\n",
      "2020-03-03 12:20:33,419 [MainThread] [INFO   ]  Saving BIDS data to /Volumes/Stephan_WD/NEUFEPME_data_organised/bids/sub-025/func/sub-025_task-emotion_run-2_physio.tsv.\n"
     ]
    },
    {
     "name": "stdout",
     "output_type": "stream",
     "text": [
      "/Volumes/Stephan_WD/NEUFEPME_data_organised/new/sub-026/scanphyslog\n",
      "/Volumes/Stephan_WD/NEUFEPME_data_organised/new/sub-026/scanphyslog/sub-026_task-rest_run-1_physio.log\n"
     ]
    },
    {
     "name": "stderr",
     "output_type": "stream",
     "text": [
      "2020-03-03 12:20:40,182 [MainThread] [INFO   ]  Found end marker ('0020') at an offset of 23 samples relative to the end of the file.\n",
      "2020-03-03 12:20:44,550 [MainThread] [INFO   ]  Trimmed off 58 samples from end of file based on the (absence) of a gradient.\n",
      "2020-03-03 12:20:44,551 [MainThread] [INFO   ]  Found 210 triggers with a mean duration of 2.00200 (0.00000)!\n",
      "2020-03-03 12:20:45,661 [MainThread] [INFO   ]  Saving BIDS data to /Volumes/Stephan_WD/NEUFEPME_data_organised/bids/sub-026/func/sub-026_task-rest_run-1_physio.tsv.\n"
     ]
    },
    {
     "name": "stdout",
     "output_type": "stream",
     "text": [
      "/Volumes/Stephan_WD/NEUFEPME_data_organised/new/sub-026/scanphyslog/sub-026_task-motor_run-1_physio.log\n"
     ]
    },
    {
     "name": "stderr",
     "output_type": "stream",
     "text": [
      "2020-03-03 12:20:52,518 [MainThread] [INFO   ]  Found end marker ('0020') at an offset of 4 samples relative to the end of the file.\n",
      "2020-03-03 12:20:57,470 [MainThread] [INFO   ]  Trimmed off 56 samples from end of file based on the (absence) of a gradient.\n",
      "2020-03-03 12:20:57,471 [MainThread] [INFO   ]  Found 210 triggers with a mean duration of 2.00200 (0.00000)!\n",
      "2020-03-03 12:20:58,456 [MainThread] [INFO   ]  Saving BIDS data to /Volumes/Stephan_WD/NEUFEPME_data_organised/bids/sub-026/func/sub-026_task-motor_run-1_physio.tsv.\n"
     ]
    },
    {
     "name": "stdout",
     "output_type": "stream",
     "text": [
      "/Volumes/Stephan_WD/NEUFEPME_data_organised/new/sub-026/scanphyslog/sub-026_task-emotion_run-1_physio.log\n"
     ]
    },
    {
     "name": "stderr",
     "output_type": "stream",
     "text": [
      "2020-03-03 12:21:04,809 [MainThread] [INFO   ]  Found end marker ('0020') at an offset of 52 samples relative to the end of the file.\n",
      "2020-03-03 12:21:09,522 [MainThread] [INFO   ]  Trimmed off 61 samples from end of file based on the (absence) of a gradient.\n",
      "2020-03-03 12:21:09,523 [MainThread] [INFO   ]  Found 210 triggers with a mean duration of 2.00200 (0.00000)!\n",
      "2020-03-03 12:21:10,538 [MainThread] [INFO   ]  Saving BIDS data to /Volumes/Stephan_WD/NEUFEPME_data_organised/bids/sub-026/func/sub-026_task-emotion_run-1_physio.tsv.\n"
     ]
    },
    {
     "name": "stdout",
     "output_type": "stream",
     "text": [
      "/Volumes/Stephan_WD/NEUFEPME_data_organised/new/sub-026/scanphyslog/sub-026_task-rest_run-2_physio.log\n"
     ]
    },
    {
     "name": "stderr",
     "output_type": "stream",
     "text": [
      "2020-03-03 12:21:16,698 [MainThread] [INFO   ]  Found end marker ('0020') at an offset of 67 samples relative to the end of the file.\n",
      "2020-03-03 12:21:21,039 [MainThread] [INFO   ]  Trimmed off 59 samples from end of file based on the (absence) of a gradient.\n",
      "2020-03-03 12:21:21,041 [MainThread] [INFO   ]  Found 210 triggers with a mean duration of 2.00200 (0.00000)!\n",
      "2020-03-03 12:21:21,973 [MainThread] [INFO   ]  Saving BIDS data to /Volumes/Stephan_WD/NEUFEPME_data_organised/bids/sub-026/func/sub-026_task-rest_run-2_physio.tsv.\n"
     ]
    },
    {
     "name": "stdout",
     "output_type": "stream",
     "text": [
      "/Volumes/Stephan_WD/NEUFEPME_data_organised/new/sub-026/scanphyslog/sub-026_task-motor_run-2_physio.log\n"
     ]
    },
    {
     "name": "stderr",
     "output_type": "stream",
     "text": [
      "2020-03-03 12:21:27,911 [MainThread] [INFO   ]  Found end marker ('0020') at an offset of 57 samples relative to the end of the file.\n",
      "2020-03-03 12:21:32,560 [MainThread] [INFO   ]  Trimmed off 57 samples from end of file based on the (absence) of a gradient.\n",
      "2020-03-03 12:21:32,561 [MainThread] [INFO   ]  Found 210 triggers with a mean duration of 2.00200 (0.00000)!\n",
      "2020-03-03 12:21:33,443 [MainThread] [INFO   ]  Saving BIDS data to /Volumes/Stephan_WD/NEUFEPME_data_organised/bids/sub-026/func/sub-026_task-motor_run-2_physio.tsv.\n"
     ]
    },
    {
     "name": "stdout",
     "output_type": "stream",
     "text": [
      "/Volumes/Stephan_WD/NEUFEPME_data_organised/new/sub-026/scanphyslog/sub-026_task-emotion_run-2_physio.log\n"
     ]
    },
    {
     "name": "stderr",
     "output_type": "stream",
     "text": [
      "2020-03-03 12:21:41,280 [MainThread] [INFO   ]  Found end marker ('0020') at an offset of 54 samples relative to the end of the file.\n",
      "2020-03-03 12:21:45,864 [MainThread] [INFO   ]  Trimmed off 60 samples from end of file based on the (absence) of a gradient.\n",
      "2020-03-03 12:21:45,865 [MainThread] [INFO   ]  Found 210 triggers with a mean duration of 2.00200 (0.00000)!\n",
      "2020-03-03 12:21:46,811 [MainThread] [INFO   ]  Saving BIDS data to /Volumes/Stephan_WD/NEUFEPME_data_organised/bids/sub-026/func/sub-026_task-emotion_run-2_physio.tsv.\n"
     ]
    },
    {
     "name": "stdout",
     "output_type": "stream",
     "text": [
      "/Volumes/Stephan_WD/NEUFEPME_data_organised/new/sub-027/scanphyslog\n",
      "/Volumes/Stephan_WD/NEUFEPME_data_organised/new/sub-027/scanphyslog/sub-027_task-rest_run-1_physio.log\n"
     ]
    },
    {
     "name": "stderr",
     "output_type": "stream",
     "text": [
      "2020-03-03 12:21:54,575 [MainThread] [INFO   ]  Found end marker ('0020') at an offset of 24 samples relative to the end of the file.\n",
      "2020-03-03 12:22:00,251 [MainThread] [INFO   ]  Trimmed off 58 samples from end of file based on the (absence) of a gradient.\n",
      "2020-03-03 12:22:00,252 [MainThread] [INFO   ]  Found 210 triggers with a mean duration of 2.00300 (0.00100)!\n",
      "2020-03-03 12:22:01,234 [MainThread] [INFO   ]  Saving BIDS data to /Volumes/Stephan_WD/NEUFEPME_data_organised/bids/sub-027/func/sub-027_task-rest_run-1_physio.tsv.\n"
     ]
    },
    {
     "name": "stdout",
     "output_type": "stream",
     "text": [
      "/Volumes/Stephan_WD/NEUFEPME_data_organised/new/sub-027/scanphyslog/sub-027_task-motor_run-1_physio.log\n"
     ]
    },
    {
     "name": "stderr",
     "output_type": "stream",
     "text": [
      "2020-03-03 12:22:10,400 [MainThread] [INFO   ]  Found end marker ('0020') at an offset of 81 samples relative to the end of the file.\n",
      "2020-03-03 12:22:16,891 [MainThread] [INFO   ]  Trimmed off 59 samples from end of file based on the (absence) of a gradient.\n",
      "2020-03-03 12:22:16,892 [MainThread] [INFO   ]  Found 210 triggers with a mean duration of 2.00300 (0.00100)!\n",
      "2020-03-03 12:22:18,272 [MainThread] [INFO   ]  Saving BIDS data to /Volumes/Stephan_WD/NEUFEPME_data_organised/bids/sub-027/func/sub-027_task-motor_run-1_physio.tsv.\n"
     ]
    },
    {
     "name": "stdout",
     "output_type": "stream",
     "text": [
      "/Volumes/Stephan_WD/NEUFEPME_data_organised/new/sub-027/scanphyslog/sub-027_task-emotion_run-1_physio.log\n"
     ]
    },
    {
     "name": "stderr",
     "output_type": "stream",
     "text": [
      "2020-03-03 12:22:25,059 [MainThread] [INFO   ]  Found end marker ('0020') at an offset of 45 samples relative to the end of the file.\n",
      "2020-03-03 12:22:30,495 [MainThread] [INFO   ]  Trimmed off 58 samples from end of file based on the (absence) of a gradient.\n",
      "2020-03-03 12:22:30,496 [MainThread] [INFO   ]  Found 210 triggers with a mean duration of 2.00300 (0.00100)!\n",
      "2020-03-03 12:22:31,603 [MainThread] [INFO   ]  Saving BIDS data to /Volumes/Stephan_WD/NEUFEPME_data_organised/bids/sub-027/func/sub-027_task-emotion_run-1_physio.tsv.\n"
     ]
    },
    {
     "name": "stdout",
     "output_type": "stream",
     "text": [
      "/Volumes/Stephan_WD/NEUFEPME_data_organised/new/sub-027/scanphyslog/sub-027_task-rest_run-2_physio.log\n"
     ]
    },
    {
     "name": "stderr",
     "output_type": "stream",
     "text": [
      "2020-03-03 12:22:38,695 [MainThread] [INFO   ]  Found end marker ('0020') at an offset of 60 samples relative to the end of the file.\n",
      "2020-03-03 12:22:44,004 [MainThread] [INFO   ]  Trimmed off 56 samples from end of file based on the (absence) of a gradient.\n",
      "2020-03-03 12:22:44,005 [MainThread] [INFO   ]  Found 210 triggers with a mean duration of 2.00300 (0.00100)!\n",
      "2020-03-03 12:22:45,078 [MainThread] [INFO   ]  Saving BIDS data to /Volumes/Stephan_WD/NEUFEPME_data_organised/bids/sub-027/func/sub-027_task-rest_run-2_physio.tsv.\n"
     ]
    },
    {
     "name": "stdout",
     "output_type": "stream",
     "text": [
      "/Volumes/Stephan_WD/NEUFEPME_data_organised/new/sub-027/scanphyslog/sub-027_task-motor_run-2_physio.log\n"
     ]
    },
    {
     "name": "stderr",
     "output_type": "stream",
     "text": [
      "2020-03-03 12:22:51,681 [MainThread] [INFO   ]  Found end marker ('0020') at an offset of 33 samples relative to the end of the file.\n",
      "2020-03-03 12:22:56,692 [MainThread] [INFO   ]  Trimmed off 56 samples from end of file based on the (absence) of a gradient.\n",
      "2020-03-03 12:22:56,694 [MainThread] [INFO   ]  Found 210 triggers with a mean duration of 2.00300 (0.00100)!\n",
      "2020-03-03 12:22:57,851 [MainThread] [INFO   ]  Saving BIDS data to /Volumes/Stephan_WD/NEUFEPME_data_organised/bids/sub-027/func/sub-027_task-motor_run-2_physio.tsv.\n"
     ]
    },
    {
     "name": "stdout",
     "output_type": "stream",
     "text": [
      "/Volumes/Stephan_WD/NEUFEPME_data_organised/new/sub-027/scanphyslog/sub-027_task-emotion_run-2_physio.log\n"
     ]
    },
    {
     "name": "stderr",
     "output_type": "stream",
     "text": [
      "2020-03-03 12:23:04,559 [MainThread] [INFO   ]  Found end marker ('0020') at an offset of 90 samples relative to the end of the file.\n",
      "2020-03-03 12:23:09,665 [MainThread] [INFO   ]  Trimmed off 63 samples from end of file based on the (absence) of a gradient.\n",
      "2020-03-03 12:23:09,666 [MainThread] [INFO   ]  Found 210 triggers with a mean duration of 2.00300 (0.00100)!\n",
      "2020-03-03 12:23:10,830 [MainThread] [INFO   ]  Saving BIDS data to /Volumes/Stephan_WD/NEUFEPME_data_organised/bids/sub-027/func/sub-027_task-emotion_run-2_physio.tsv.\n"
     ]
    },
    {
     "name": "stdout",
     "output_type": "stream",
     "text": [
      "/Volumes/Stephan_WD/NEUFEPME_data_organised/new/sub-029/scanphyslog\n",
      "/Volumes/Stephan_WD/NEUFEPME_data_organised/new/sub-029/scanphyslog/sub-029_task-rest_run-1_physio.log\n"
     ]
    },
    {
     "name": "stderr",
     "output_type": "stream",
     "text": [
      "2020-03-03 12:23:17,717 [MainThread] [INFO   ]  Found end marker ('0020') at an offset of 16 samples relative to the end of the file.\n",
      "2020-03-03 12:23:22,631 [MainThread] [INFO   ]  Trimmed off 56 samples from end of file based on the (absence) of a gradient.\n",
      "2020-03-03 12:23:22,632 [MainThread] [INFO   ]  Found 210 triggers with a mean duration of 2.00200 (0.00000)!\n",
      "2020-03-03 12:23:23,574 [MainThread] [INFO   ]  Saving BIDS data to /Volumes/Stephan_WD/NEUFEPME_data_organised/bids/sub-029/func/sub-029_task-rest_run-1_physio.tsv.\n"
     ]
    },
    {
     "name": "stdout",
     "output_type": "stream",
     "text": [
      "/Volumes/Stephan_WD/NEUFEPME_data_organised/new/sub-029/scanphyslog/sub-029_task-motor_run-1_physio.log\n"
     ]
    },
    {
     "name": "stderr",
     "output_type": "stream",
     "text": [
      "2020-03-03 12:23:30,361 [MainThread] [INFO   ]  Found end marker ('0020') at an offset of 97 samples relative to the end of the file.\n",
      "2020-03-03 12:23:36,582 [MainThread] [INFO   ]  Trimmed off 56 samples from end of file based on the (absence) of a gradient.\n",
      "2020-03-03 12:23:36,584 [MainThread] [INFO   ]  Found 210 triggers with a mean duration of 2.00200 (0.00000)!\n",
      "2020-03-03 12:23:38,217 [MainThread] [INFO   ]  Saving BIDS data to /Volumes/Stephan_WD/NEUFEPME_data_organised/bids/sub-029/func/sub-029_task-motor_run-1_physio.tsv.\n"
     ]
    },
    {
     "name": "stdout",
     "output_type": "stream",
     "text": [
      "/Volumes/Stephan_WD/NEUFEPME_data_organised/new/sub-029/scanphyslog/sub-029_task-emotion_run-1_physio.log\n"
     ]
    },
    {
     "name": "stderr",
     "output_type": "stream",
     "text": [
      "2020-03-03 12:23:46,548 [MainThread] [INFO   ]  Found end marker ('0020') at an offset of 61 samples relative to the end of the file.\n",
      "2020-03-03 12:23:53,286 [MainThread] [INFO   ]  Trimmed off 59 samples from end of file based on the (absence) of a gradient.\n",
      "2020-03-03 12:23:53,288 [MainThread] [INFO   ]  Found 210 triggers with a mean duration of 2.00200 (0.00000)!\n",
      "2020-03-03 12:23:54,766 [MainThread] [INFO   ]  Saving BIDS data to /Volumes/Stephan_WD/NEUFEPME_data_organised/bids/sub-029/func/sub-029_task-emotion_run-1_physio.tsv.\n"
     ]
    },
    {
     "name": "stdout",
     "output_type": "stream",
     "text": [
      "/Volumes/Stephan_WD/NEUFEPME_data_organised/new/sub-029/scanphyslog/sub-029_task-rest_run-2_physio.log\n"
     ]
    },
    {
     "name": "stderr",
     "output_type": "stream",
     "text": [
      "2020-03-03 12:24:02,479 [MainThread] [INFO   ]  Found end marker ('0020') at an offset of 17 samples relative to the end of the file.\n",
      "2020-03-03 12:24:07,528 [MainThread] [INFO   ]  Trimmed off 56 samples from end of file based on the (absence) of a gradient.\n",
      "2020-03-03 12:24:07,530 [MainThread] [INFO   ]  Found 210 triggers with a mean duration of 2.00200 (0.00000)!\n",
      "2020-03-03 12:24:09,009 [MainThread] [INFO   ]  Saving BIDS data to /Volumes/Stephan_WD/NEUFEPME_data_organised/bids/sub-029/func/sub-029_task-rest_run-2_physio.tsv.\n"
     ]
    },
    {
     "name": "stdout",
     "output_type": "stream",
     "text": [
      "/Volumes/Stephan_WD/NEUFEPME_data_organised/new/sub-029/scanphyslog/sub-029_task-motor_run-2_physio.log\n"
     ]
    },
    {
     "name": "stderr",
     "output_type": "stream",
     "text": [
      "2020-03-03 12:24:17,126 [MainThread] [INFO   ]  Found end marker ('0020') at an offset of 57 samples relative to the end of the file.\n",
      "2020-03-03 12:24:23,382 [MainThread] [INFO   ]  Trimmed off 63 samples from end of file based on the (absence) of a gradient.\n",
      "2020-03-03 12:24:23,384 [MainThread] [INFO   ]  Found 210 triggers with a mean duration of 2.00200 (0.00000)!\n",
      "2020-03-03 12:24:24,521 [MainThread] [INFO   ]  Saving BIDS data to /Volumes/Stephan_WD/NEUFEPME_data_organised/bids/sub-029/func/sub-029_task-motor_run-2_physio.tsv.\n"
     ]
    },
    {
     "name": "stdout",
     "output_type": "stream",
     "text": [
      "/Volumes/Stephan_WD/NEUFEPME_data_organised/new/sub-029/scanphyslog/sub-029_task-emotion_run-2_physio.log\n"
     ]
    },
    {
     "name": "stderr",
     "output_type": "stream",
     "text": [
      "2020-03-03 12:24:31,857 [MainThread] [INFO   ]  Found end marker ('0020') at an offset of 47 samples relative to the end of the file.\n",
      "2020-03-03 12:24:36,884 [MainThread] [INFO   ]  Trimmed off 58 samples from end of file based on the (absence) of a gradient.\n",
      "2020-03-03 12:24:36,886 [MainThread] [INFO   ]  Found 210 triggers with a mean duration of 2.00200 (0.00000)!\n",
      "2020-03-03 12:24:37,961 [MainThread] [INFO   ]  Saving BIDS data to /Volumes/Stephan_WD/NEUFEPME_data_organised/bids/sub-029/func/sub-029_task-emotion_run-2_physio.tsv.\n"
     ]
    },
    {
     "name": "stdout",
     "output_type": "stream",
     "text": [
      "/Volumes/Stephan_WD/NEUFEPME_data_organised/new/sub-030/scanphyslog\n",
      "/Volumes/Stephan_WD/NEUFEPME_data_organised/new/sub-030/scanphyslog/sub-030_task-rest_run-1_physio.log\n"
     ]
    },
    {
     "name": "stderr",
     "output_type": "stream",
     "text": [
      "2020-03-03 12:24:44,367 [MainThread] [INFO   ]  Found end marker ('0020') at an offset of 96 samples relative to the end of the file.\n",
      "2020-03-03 12:24:48,743 [MainThread] [INFO   ]  Trimmed off 58 samples from end of file based on the (absence) of a gradient.\n",
      "2020-03-03 12:24:48,745 [MainThread] [INFO   ]  Found 210 triggers with a mean duration of 2.00300 (0.00100)!\n",
      "2020-03-03 12:24:49,820 [MainThread] [INFO   ]  Saving BIDS data to /Volumes/Stephan_WD/NEUFEPME_data_organised/bids/sub-030/func/sub-030_task-rest_run-1_physio.tsv.\n"
     ]
    },
    {
     "name": "stdout",
     "output_type": "stream",
     "text": [
      "/Volumes/Stephan_WD/NEUFEPME_data_organised/new/sub-030/scanphyslog/sub-030_task-motor_run-1_physio.log\n"
     ]
    },
    {
     "name": "stderr",
     "output_type": "stream",
     "text": [
      "2020-03-03 12:24:56,327 [MainThread] [INFO   ]  Found end marker ('0020') at an offset of 52 samples relative to the end of the file.\n",
      "2020-03-03 12:25:00,798 [MainThread] [INFO   ]  Trimmed off 62 samples from end of file based on the (absence) of a gradient.\n",
      "2020-03-03 12:25:00,799 [MainThread] [INFO   ]  Found 210 triggers with a mean duration of 2.00300 (0.00100)!\n",
      "2020-03-03 12:25:01,889 [MainThread] [INFO   ]  Saving BIDS data to /Volumes/Stephan_WD/NEUFEPME_data_organised/bids/sub-030/func/sub-030_task-motor_run-1_physio.tsv.\n"
     ]
    },
    {
     "name": "stdout",
     "output_type": "stream",
     "text": [
      "/Volumes/Stephan_WD/NEUFEPME_data_organised/new/sub-030/scanphyslog/sub-030_task-emotion_run-1_physio.log\n"
     ]
    },
    {
     "name": "stderr",
     "output_type": "stream",
     "text": [
      "2020-03-03 12:25:08,086 [MainThread] [INFO   ]  Found end marker ('0020') at an offset of 42 samples relative to the end of the file.\n",
      "2020-03-03 12:25:13,700 [MainThread] [INFO   ]  Trimmed off 58 samples from end of file based on the (absence) of a gradient.\n",
      "2020-03-03 12:25:13,701 [MainThread] [INFO   ]  Found 210 triggers with a mean duration of 2.00300 (0.00100)!\n",
      "2020-03-03 12:25:14,710 [MainThread] [INFO   ]  Saving BIDS data to /Volumes/Stephan_WD/NEUFEPME_data_organised/bids/sub-030/func/sub-030_task-emotion_run-1_physio.tsv.\n"
     ]
    },
    {
     "name": "stdout",
     "output_type": "stream",
     "text": [
      "/Volumes/Stephan_WD/NEUFEPME_data_organised/new/sub-030/scanphyslog/sub-030_task-rest_run-2_physio.log\n"
     ]
    },
    {
     "name": "stderr",
     "output_type": "stream",
     "text": [
      "2020-03-03 12:25:21,591 [MainThread] [INFO   ]  Found end marker ('0020') at an offset of 66 samples relative to the end of the file.\n",
      "2020-03-03 12:25:26,138 [MainThread] [INFO   ]  Trimmed off 61 samples from end of file based on the (absence) of a gradient.\n",
      "2020-03-03 12:25:26,140 [MainThread] [INFO   ]  Found 210 triggers with a mean duration of 2.00300 (0.00100)!\n",
      "2020-03-03 12:25:27,104 [MainThread] [INFO   ]  Saving BIDS data to /Volumes/Stephan_WD/NEUFEPME_data_organised/bids/sub-030/func/sub-030_task-rest_run-2_physio.tsv.\n"
     ]
    },
    {
     "name": "stdout",
     "output_type": "stream",
     "text": [
      "/Volumes/Stephan_WD/NEUFEPME_data_organised/new/sub-030/scanphyslog/sub-030_task-motor_run-2_physio.log\n"
     ]
    },
    {
     "name": "stderr",
     "output_type": "stream",
     "text": [
      "2020-03-03 12:25:37,995 [MainThread] [INFO   ]  Found end marker ('0020') at an offset of 30 samples relative to the end of the file.\n",
      "2020-03-03 12:25:45,640 [MainThread] [INFO   ]  Trimmed off 58 samples from end of file based on the (absence) of a gradient.\n",
      "2020-03-03 12:25:45,641 [MainThread] [INFO   ]  Found 210 triggers with a mean duration of 2.00300 (0.00100)!\n",
      "2020-03-03 12:25:46,904 [MainThread] [INFO   ]  Saving BIDS data to /Volumes/Stephan_WD/NEUFEPME_data_organised/bids/sub-030/func/sub-030_task-motor_run-2_physio.tsv.\n"
     ]
    },
    {
     "name": "stdout",
     "output_type": "stream",
     "text": [
      "/Volumes/Stephan_WD/NEUFEPME_data_organised/new/sub-030/scanphyslog/sub-030_task-emotion_run-2_physio.log\n"
     ]
    },
    {
     "name": "stderr",
     "output_type": "stream",
     "text": [
      "2020-03-03 12:25:53,351 [MainThread] [INFO   ]  Found end marker ('0020') at an offset of 70 samples relative to the end of the file.\n",
      "2020-03-03 12:25:58,329 [MainThread] [INFO   ]  Trimmed off 57 samples from end of file based on the (absence) of a gradient.\n",
      "2020-03-03 12:25:58,330 [MainThread] [INFO   ]  Found 210 triggers with a mean duration of 2.00300 (0.00100)!\n",
      "2020-03-03 12:25:59,280 [MainThread] [INFO   ]  Saving BIDS data to /Volumes/Stephan_WD/NEUFEPME_data_organised/bids/sub-030/func/sub-030_task-emotion_run-2_physio.tsv.\n"
     ]
    },
    {
     "name": "stdout",
     "output_type": "stream",
     "text": [
      "/Volumes/Stephan_WD/NEUFEPME_data_organised/new/sub-031/scanphyslog\n",
      "/Volumes/Stephan_WD/NEUFEPME_data_organised/new/sub-031/scanphyslog/sub-031_task-rest_run-1_physio.log\n"
     ]
    },
    {
     "name": "stderr",
     "output_type": "stream",
     "text": [
      "2020-03-03 12:26:05,889 [MainThread] [INFO   ]  Found end marker ('0020') at an offset of 53 samples relative to the end of the file.\n",
      "2020-03-03 12:26:10,994 [MainThread] [INFO   ]  Trimmed off 61 samples from end of file based on the (absence) of a gradient.\n",
      "2020-03-03 12:26:10,995 [MainThread] [INFO   ]  Found 210 triggers with a mean duration of 2.00500 (0.00100)!\n",
      "2020-03-03 12:26:12,045 [MainThread] [INFO   ]  Saving BIDS data to /Volumes/Stephan_WD/NEUFEPME_data_organised/bids/sub-031/func/sub-031_task-rest_run-1_physio.tsv.\n"
     ]
    },
    {
     "name": "stdout",
     "output_type": "stream",
     "text": [
      "/Volumes/Stephan_WD/NEUFEPME_data_organised/new/sub-031/scanphyslog/sub-031_task-motor_run-1_physio.log\n"
     ]
    },
    {
     "name": "stderr",
     "output_type": "stream",
     "text": [
      "2020-03-03 12:26:19,398 [MainThread] [INFO   ]  Found end marker ('0020') at an offset of 10 samples relative to the end of the file.\n",
      "2020-03-03 12:26:24,507 [MainThread] [INFO   ]  Trimmed off 59 samples from end of file based on the (absence) of a gradient.\n",
      "2020-03-03 12:26:24,508 [MainThread] [INFO   ]  Found 210 triggers with a mean duration of 2.00500 (0.00100)!\n",
      "2020-03-03 12:26:25,576 [MainThread] [INFO   ]  Saving BIDS data to /Volumes/Stephan_WD/NEUFEPME_data_organised/bids/sub-031/func/sub-031_task-motor_run-1_physio.tsv.\n"
     ]
    },
    {
     "name": "stdout",
     "output_type": "stream",
     "text": [
      "/Volumes/Stephan_WD/NEUFEPME_data_organised/new/sub-031/scanphyslog/sub-031_task-emotion_run-1_physio.log\n"
     ]
    },
    {
     "name": "stderr",
     "output_type": "stream",
     "text": [
      "2020-03-03 12:26:31,981 [MainThread] [INFO   ]  Found end marker ('0020') at an offset of 8 samples relative to the end of the file.\n",
      "2020-03-03 12:26:36,653 [MainThread] [INFO   ]  Trimmed off 61 samples from end of file based on the (absence) of a gradient.\n",
      "2020-03-03 12:26:36,654 [MainThread] [INFO   ]  Found 210 triggers with a mean duration of 2.00500 (0.00100)!\n",
      "2020-03-03 12:26:37,550 [MainThread] [INFO   ]  Saving BIDS data to /Volumes/Stephan_WD/NEUFEPME_data_organised/bids/sub-031/func/sub-031_task-emotion_run-1_physio.tsv.\n"
     ]
    },
    {
     "name": "stdout",
     "output_type": "stream",
     "text": [
      "/Volumes/Stephan_WD/NEUFEPME_data_organised/new/sub-031/scanphyslog/sub-031_task-rest_run-2_physio.log\n"
     ]
    },
    {
     "name": "stderr",
     "output_type": "stream",
     "text": [
      "2020-03-03 12:26:43,775 [MainThread] [INFO   ]  Found end marker ('0020') at an offset of 15 samples relative to the end of the file.\n",
      "2020-03-03 12:26:48,215 [MainThread] [INFO   ]  Trimmed off 55 samples from end of file based on the (absence) of a gradient.\n",
      "2020-03-03 12:26:48,216 [MainThread] [INFO   ]  Found 210 triggers with a mean duration of 2.00500 (0.00100)!\n",
      "2020-03-03 12:26:49,382 [MainThread] [INFO   ]  Saving BIDS data to /Volumes/Stephan_WD/NEUFEPME_data_organised/bids/sub-031/func/sub-031_task-rest_run-2_physio.tsv.\n"
     ]
    },
    {
     "name": "stdout",
     "output_type": "stream",
     "text": [
      "/Volumes/Stephan_WD/NEUFEPME_data_organised/new/sub-031/scanphyslog/sub-031_task-motor_run-2_physio.log\n"
     ]
    },
    {
     "name": "stderr",
     "output_type": "stream",
     "text": [
      "2020-03-03 12:26:55,979 [MainThread] [INFO   ]  Found end marker ('0020') at an offset of 38 samples relative to the end of the file.\n",
      "2020-03-03 12:27:03,334 [MainThread] [INFO   ]  Trimmed off 58 samples from end of file based on the (absence) of a gradient.\n",
      "2020-03-03 12:27:03,336 [MainThread] [INFO   ]  Found 210 triggers with a mean duration of 2.00500 (0.00100)!\n",
      "2020-03-03 12:27:04,794 [MainThread] [INFO   ]  Saving BIDS data to /Volumes/Stephan_WD/NEUFEPME_data_organised/bids/sub-031/func/sub-031_task-motor_run-2_physio.tsv.\n"
     ]
    },
    {
     "name": "stdout",
     "output_type": "stream",
     "text": [
      "/Volumes/Stephan_WD/NEUFEPME_data_organised/new/sub-031/scanphyslog/sub-031_task-emotion_run-2_physio.log\n"
     ]
    },
    {
     "name": "stderr",
     "output_type": "stream",
     "text": [
      "2020-03-03 12:27:11,472 [MainThread] [INFO   ]  Found end marker ('0020') at an offset of 3 samples relative to the end of the file.\n",
      "2020-03-03 12:27:17,032 [MainThread] [INFO   ]  Trimmed off 58 samples from end of file based on the (absence) of a gradient.\n",
      "2020-03-03 12:27:17,033 [MainThread] [INFO   ]  Found 210 triggers with a mean duration of 2.00500 (0.00100)!\n",
      "2020-03-03 12:27:17,964 [MainThread] [INFO   ]  Saving BIDS data to /Volumes/Stephan_WD/NEUFEPME_data_organised/bids/sub-031/func/sub-031_task-emotion_run-2_physio.tsv.\n"
     ]
    },
    {
     "name": "stdout",
     "output_type": "stream",
     "text": [
      "/Volumes/Stephan_WD/NEUFEPME_data_organised/new/sub-032/scanphyslog\n",
      "/Volumes/Stephan_WD/NEUFEPME_data_organised/new/sub-032/scanphyslog/sub-032_task-rest_run-1_physio.log\n"
     ]
    },
    {
     "name": "stderr",
     "output_type": "stream",
     "text": [
      "2020-03-03 12:27:25,146 [MainThread] [INFO   ]  Found end marker ('0020') at an offset of 40 samples relative to the end of the file.\n",
      "2020-03-03 12:27:30,728 [MainThread] [INFO   ]  Trimmed off 56 samples from end of file based on the (absence) of a gradient.\n",
      "2020-03-03 12:27:30,729 [MainThread] [INFO   ]  Found 210 triggers with a mean duration of 2.00000 (0.00000)!\n",
      "2020-03-03 12:27:32,066 [MainThread] [INFO   ]  Saving BIDS data to /Volumes/Stephan_WD/NEUFEPME_data_organised/bids/sub-032/func/sub-032_task-rest_run-1_physio.tsv.\n"
     ]
    },
    {
     "name": "stdout",
     "output_type": "stream",
     "text": [
      "/Volumes/Stephan_WD/NEUFEPME_data_organised/new/sub-032/scanphyslog/sub-032_task-motor_run-1_physio.log\n"
     ]
    },
    {
     "name": "stderr",
     "output_type": "stream",
     "text": [
      "2020-03-03 12:27:40,079 [MainThread] [INFO   ]  Found end marker ('0020') at an offset of 30 samples relative to the end of the file.\n",
      "2020-03-03 12:27:44,584 [MainThread] [INFO   ]  Trimmed off 63 samples from end of file based on the (absence) of a gradient.\n",
      "2020-03-03 12:27:44,585 [MainThread] [INFO   ]  Found 210 triggers with a mean duration of 2.00000 (0.00000)!\n",
      "2020-03-03 12:27:45,643 [MainThread] [INFO   ]  Saving BIDS data to /Volumes/Stephan_WD/NEUFEPME_data_organised/bids/sub-032/func/sub-032_task-motor_run-1_physio.tsv.\n"
     ]
    },
    {
     "name": "stdout",
     "output_type": "stream",
     "text": [
      "/Volumes/Stephan_WD/NEUFEPME_data_organised/new/sub-032/scanphyslog/sub-032_task-emotion_run-1_physio.log\n"
     ]
    },
    {
     "name": "stderr",
     "output_type": "stream",
     "text": [
      "2020-03-03 12:27:51,772 [MainThread] [INFO   ]  Found end marker ('0020') at an offset of 20 samples relative to the end of the file.\n",
      "2020-03-03 12:27:56,780 [MainThread] [INFO   ]  Trimmed off 63 samples from end of file based on the (absence) of a gradient.\n",
      "2020-03-03 12:27:56,781 [MainThread] [INFO   ]  Found 210 triggers with a mean duration of 2.00000 (0.00000)!\n",
      "2020-03-03 12:27:57,928 [MainThread] [INFO   ]  Saving BIDS data to /Volumes/Stephan_WD/NEUFEPME_data_organised/bids/sub-032/func/sub-032_task-emotion_run-1_physio.tsv.\n"
     ]
    },
    {
     "name": "stdout",
     "output_type": "stream",
     "text": [
      "/Volumes/Stephan_WD/NEUFEPME_data_organised/new/sub-032/scanphyslog/sub-032_task-rest_run-2_physio.log\n"
     ]
    },
    {
     "name": "stderr",
     "output_type": "stream",
     "text": [
      "2020-03-03 12:28:05,326 [MainThread] [INFO   ]  Found end marker ('0020') at an offset of 18 samples relative to the end of the file.\n",
      "2020-03-03 12:28:11,007 [MainThread] [INFO   ]  Trimmed off 64 samples from end of file based on the (absence) of a gradient.\n",
      "2020-03-03 12:28:11,009 [MainThread] [INFO   ]  Found 210 triggers with a mean duration of 2.00000 (0.00000)!\n",
      "2020-03-03 12:28:11,936 [MainThread] [INFO   ]  Saving BIDS data to /Volumes/Stephan_WD/NEUFEPME_data_organised/bids/sub-032/func/sub-032_task-rest_run-2_physio.tsv.\n"
     ]
    },
    {
     "name": "stdout",
     "output_type": "stream",
     "text": [
      "/Volumes/Stephan_WD/NEUFEPME_data_organised/new/sub-032/scanphyslog/sub-032_task-motor_run-2_physio.log\n"
     ]
    },
    {
     "name": "stderr",
     "output_type": "stream",
     "text": [
      "2020-03-03 12:28:18,219 [MainThread] [INFO   ]  Found end marker ('0020') at an offset of 92 samples relative to the end of the file.\n",
      "2020-03-03 12:28:23,245 [MainThread] [INFO   ]  Trimmed off 59 samples from end of file based on the (absence) of a gradient.\n",
      "2020-03-03 12:28:23,246 [MainThread] [INFO   ]  Found 210 triggers with a mean duration of 2.00000 (0.00000)!\n",
      "2020-03-03 12:28:24,356 [MainThread] [INFO   ]  Saving BIDS data to /Volumes/Stephan_WD/NEUFEPME_data_organised/bids/sub-032/func/sub-032_task-motor_run-2_physio.tsv.\n"
     ]
    },
    {
     "name": "stdout",
     "output_type": "stream",
     "text": [
      "/Volumes/Stephan_WD/NEUFEPME_data_organised/new/sub-032/scanphyslog/sub-032_task-emotion_run-2_physio.log\n"
     ]
    },
    {
     "name": "stderr",
     "output_type": "stream",
     "text": [
      "2020-03-03 12:28:31,656 [MainThread] [INFO   ]  Found end marker ('0020') at an offset of 32 samples relative to the end of the file.\n",
      "2020-03-03 12:28:37,013 [MainThread] [INFO   ]  Trimmed off 57 samples from end of file based on the (absence) of a gradient.\n",
      "2020-03-03 12:28:37,014 [MainThread] [INFO   ]  Found 210 triggers with a mean duration of 2.00000 (0.00000)!\n",
      "2020-03-03 12:28:37,947 [MainThread] [INFO   ]  Saving BIDS data to /Volumes/Stephan_WD/NEUFEPME_data_organised/bids/sub-032/func/sub-032_task-emotion_run-2_physio.tsv.\n"
     ]
    },
    {
     "name": "stdout",
     "output_type": "stream",
     "text": [
      "/Volumes/Stephan_WD/NEUFEPME_data_organised/new/derivatives/scanphyslog\n"
     ]
    },
    {
     "ename": "FileNotFoundError",
     "evalue": "[Errno 2] No such file or directory: '/Volumes/Stephan_WD/NEUFEPME_data_organised/new/derivatives/scanphyslog'",
     "output_type": "error",
     "traceback": [
      "\u001b[0;31m---------------------------------------------------------------------------\u001b[0m",
      "\u001b[0;31mFileNotFoundError\u001b[0m                         Traceback (most recent call last)",
      "\u001b[0;32m<ipython-input-15-38ab6f67b9ae>\u001b[0m in \u001b[0;36m<module>\u001b[0;34m\u001b[0m\n\u001b[1;32m     27\u001b[0m     \u001b[0mscanphys_data_dir\u001b[0m \u001b[0;34m=\u001b[0m \u001b[0mos\u001b[0m\u001b[0;34m.\u001b[0m\u001b[0mpath\u001b[0m\u001b[0;34m.\u001b[0m\u001b[0mjoin\u001b[0m\u001b[0;34m(\u001b[0m\u001b[0mnew_org_data_dir\u001b[0m\u001b[0;34m,\u001b[0m \u001b[0msub\u001b[0m\u001b[0;34m,\u001b[0m \u001b[0;34m'scanphyslog'\u001b[0m\u001b[0;34m)\u001b[0m\u001b[0;34m\u001b[0m\u001b[0;34m\u001b[0m\u001b[0m\n\u001b[1;32m     28\u001b[0m     \u001b[0mprint\u001b[0m\u001b[0;34m(\u001b[0m\u001b[0mscanphys_data_dir\u001b[0m\u001b[0;34m)\u001b[0m\u001b[0;34m\u001b[0m\u001b[0;34m\u001b[0m\u001b[0m\n\u001b[0;32m---> 29\u001b[0;31m     \u001b[0mos\u001b[0m\u001b[0;34m.\u001b[0m\u001b[0mchdir\u001b[0m\u001b[0;34m(\u001b[0m\u001b[0mscanphys_data_dir\u001b[0m\u001b[0;34m)\u001b[0m\u001b[0;34m\u001b[0m\u001b[0;34m\u001b[0m\u001b[0m\n\u001b[0m\u001b[1;32m     30\u001b[0m     \u001b[0;31m# For each scanphyslog file related to a specific functional run:\u001b[0m\u001b[0;34m\u001b[0m\u001b[0;34m\u001b[0m\u001b[0;34m\u001b[0m\u001b[0m\n\u001b[1;32m     31\u001b[0m     \u001b[0;32mfor\u001b[0m \u001b[0mi\u001b[0m\u001b[0;34m,\u001b[0m \u001b[0mtask\u001b[0m \u001b[0;32min\u001b[0m \u001b[0menumerate\u001b[0m\u001b[0;34m(\u001b[0m\u001b[0mtasks\u001b[0m\u001b[0;34m)\u001b[0m\u001b[0;34m:\u001b[0m\u001b[0;34m\u001b[0m\u001b[0;34m\u001b[0m\u001b[0m\n",
      "\u001b[0;31mFileNotFoundError\u001b[0m: [Errno 2] No such file or directory: '/Volumes/Stephan_WD/NEUFEPME_data_organised/new/derivatives/scanphyslog'"
     ]
    }
   ],
   "source": [
    "org_data_dir = '/Volumes/Stephan_WD/NEUFEPME_data_organised/'\n",
    "new_org_data_dir = org_data_dir + 'new/'\n",
    "bids_data_dir = '/Volumes/Stephan_WD/NEUFEPME_data_organised/bids'\n",
    "bids_deriv_data_dir = '/Volumes/Stephan_WD/NEUFEPME_data_organised/bids/derivatives'\n",
    "\n",
    "# Create folder into which scanphyslog2bids image outputs will be saved\n",
    "bids_physio_dir = os.path.join(bids_deriv_data_dir, 'scanphyslog2bids')\n",
    "if not os.path.exists(bids_physio_dir):\n",
    "    os.makedirs(bids_physio_dir)\n",
    "\n",
    "tasks = ['rest1', 'motor1', 'emotion1', 'rest2', 'motor2', 'emotion2']\n",
    "tasks_bids = ['rest_run-1', 'motor_run-1', 'emotion_run-1', 'rest_run-2', 'motor_run-2', 'emotion_run-2']\n",
    "\n",
    "os.chdir(bids_data_dir)\n",
    "all_subs = next(os.walk(bids_data_dir))[1]\n",
    "\n",
    "for sub in all_subs:\n",
    "    # Create folder into which scanphyslog2bids image outputs will be saved, for current subject\n",
    "    sub_physio_dir = os.path.join(bids_physio_dir, sub)\n",
    "    if not os.path.exists(sub_physio_dir):\n",
    "        os.makedirs(sub_physio_dir)\n",
    "    # Initialise variables\n",
    "    log_fns = [None] * len(tasks)\n",
    "    log_renamed_fns = [None] * len(tasks)\n",
    "    bids_fns = [None] * len(tasks)\n",
    "    # Navigate to raw scanphyslog data for current subject\n",
    "    scanphys_data_dir = os.path.join(new_org_data_dir, sub, 'scanphyslog')\n",
    "    print(scanphys_data_dir)\n",
    "    os.chdir(scanphys_data_dir)\n",
    "    # For each scanphyslog file related to a specific functional run:\n",
    "    for i, task in enumerate(tasks):\n",
    "        fn = glob.glob('*'+task+'*')[0]\n",
    "        log_fns[i] = os.path.join(scanphys_data_dir, fn)\n",
    "        log_renamed_fns[i] = os.path.join(scanphys_data_dir, sub+'_task-'+tasks_bids[i]+'_physio.log')\n",
    "        print(log_renamed_fns[i])\n",
    "        # Copy and rename scanphyslog file to BIDS-compatible naming structure\n",
    "        shutil.copy(log_fns[i], log_renamed_fns[i])\n",
    "        # File to be converted\n",
    "        log_file = log_renamed_fns[i]\n",
    "        # Folder where the BIDSified data should be saved\n",
    "        out_dir = os.path.join(bids_data_dir, sub, 'func')\n",
    "        # Folder where some QC plots should be saved\n",
    "        deriv_dir = sub_physio_dir\n",
    "        # fmri_file is used to extract metadata, such as TR and number of volumes\n",
    "        fmri_file = os.path.join(out_dir, sub+'_task-'+tasks_bids[i]+'_echo-2_bold.nii' ) \n",
    "        fmri_img = nib.load(fmri_file)\n",
    "        n_dyns = fmri_img.shape[-1]\n",
    "        tr = np.round(fmri_img.header['pixdim'][4], 3)\n",
    "        # Create PhilipsPhysioLog object with info\n",
    "        phlog = PhilipsPhysioLog(f=log_file, tr=tr, n_dyns=n_dyns, sf=500, manually_stopped=False)\n",
    "        # Load in data, do some preprocessing\n",
    "        phlog.load()\n",
    "        # Try to align physio data with scan data, using a particular method\n",
    "        # (either \"vol_markers\", \"gradient_log\", or \"interpolate\")\n",
    "        phlog.align(trigger_method='interpolate')  # load and find vol triggers\n",
    "        # Write out BIDS files - .tsv.gz and .json files\n",
    "        phlog.to_bids(out_dir)\n",
    "        # Optional: plot some QC graphs for alignment and actual traces\n",
    "        phlog.plot_alignment(out_dir=deriv_dir)  # plots alignment with gradient\n",
    "        phlog.plot_traces(out_dir=deriv_dir)  # plots cardiac/resp traces"
   ]
  },
  {
   "cell_type": "markdown",
   "metadata": {},
   "source": [
    "### Step 3.6 cleanup json bids files"
   ]
  },
  {
   "cell_type": "markdown",
   "metadata": {},
   "source": [
    "## Step 4: Run BIDS validator\n",
    "\n",
    "see: https://bids-standard.github.io/bids-validator/"
   ]
  },
  {
   "cell_type": "code",
   "execution_count": null,
   "metadata": {},
   "outputs": [],
   "source": [
    "\n",
    "\n",
    "\n",
    "\n",
    "\n"
   ]
  },
  {
   "cell_type": "code",
   "execution_count": 6,
   "metadata": {},
   "outputs": [],
   "source": [
    "# Check if possible to run validator on a full directory tree\n",
    "\n",
    "# fn = '/Users/jheunis/Documents/PYTHON/rtme-fMRI/bidsify_test_2709/sub-01/anat/sub-01_T1w.nii'\n",
    "# BIDSValidator().is_bids(fn)\n",
    "\n"
   ]
  },
  {
   "cell_type": "markdown",
   "metadata": {},
   "source": [
    "## Step 6: Create summary tables and plots using `pybids`\n",
    "\n",
    "See:\n",
    "- https://bids-standard.github.io/pybids/\n",
    "- https://github.com/bids-standard/pybids/blob/master/examples/pybids_tutorial.ipynb\n",
    "- https://mybinder.org/v2/gh/bids-standard/pybids/master\n",
    "\n",
    "this is also useful for de/constructing filenames, might be useful in earlier steps of this workflow already."
   ]
  },
  {
   "cell_type": "code",
   "execution_count": null,
   "metadata": {},
   "outputs": [],
   "source": []
  },
  {
   "cell_type": "markdown",
   "metadata": {},
   "source": [
    "# Notes\n",
    "\n",
    "## Data processing notes\n",
    "\n",
    "Pybids gave `unknown locale UTF-8` issue, fixed by adding values to path variable upon conda env startup (and removing upon deactivation), see: https://coderwall.com/p/-k_93g/mac-os-x-valueerror-unknown-locale-utf-8-in-python\n",
    "\n",
    "Need to build eprime code into a script, currently in a notebook\n",
    "\n",
    "Remember for BIDS-validator:\n",
    "- Delete T1w file and rename defaced file to original T1w name\n",
    "- add events.tsv\n",
    "- SliceTiming required for all functionals - need to find a better place to implement this in future. For now just a script to run through all files and update json with precalculated slice times based on known parameters. This is needed since Philips does not supply slice timing information in PAR/rec or DICOM.\n"
   ]
  },
  {
   "cell_type": "markdown",
   "metadata": {},
   "source": [
    "## Data quality notes\n",
    "\n",
    "#### Problem subjects: Eprime\n",
    "\n",
    "- **sub-001** - Settings were not correct for saving OnsetToOnset time, Response time, Response, and other values. This means that missing data had to be completed. Steps done:\n",
    "    - a) For event files for motor-run-1, motor-run-2 and emotion-run-2: copied event files from other subjects since the block paradigm stimulus timings are equal (to 2 decimal places).\n",
    "    - b) For event file for emotion-run-2, only some values were missing, had to add some NaNs and replace this with average timing values from other stimulus timings from same run, same subject.\n",
    "\n",
    "\n",
    "#### Problem subjects: EPI acquisition\n",
    "\n",
    "- **sub-008** - last scan not finished (recon issue), need to rescan\n",
    "- **sub-014** - last scan not finished (recon issue), need to rescan\n",
    "\n",
    "#### Problem subjects: scanphyslog\n",
    "\n",
    "UPDATE 13 January 2020:\n",
    "*I incorrectly attributed the emotion1 scan restart problem to sub-015, it was actually sub-016 as confirmed on RIS system (see photos). This also explains \"extra small file\" previously mentioned in sub-016 dataset*\n",
    "\n",
    "- **sub-015** - emotion1 scan was started twice, because heartrate sensor was not correctly recording. Second time was fine. need to inspect earlier scans for same issue. also, looks like scanphyslog didn't restart and kept loggin to same file, resulting in >12mb log file. need to inspect\n",
    "- **sub-016** - All image data fine. Have to look at this data on RIS since scanphyslog has one extra small file which doesn't seem to fit\n",
    "\n",
    "#### Problem subjects: T1w display\n",
    "\n",
    "- **sub-017** - when displaying in Mango, top slices of brain are cut off, need to check if this is a viewer issue or acquisition issue. Need to check other subjects as well.\n",
    "\n",
    "#### Steps done for now (8 Jan 2020):\n",
    "\n",
    "- **sub-008** - deleted from organised data and BIDS data\n",
    "- **sub-014** - deleted from organised data and BIDS data\n",
    "- **sub-015** - removed from BIDS data, kept in organised data separate folder, scanphyslog renamed, need to inspect\n",
    "- **sub-016** - removed from BIDS data, kept in organised data separate folder, scanphyslog NOT renamed, need to inspect\n",
    "\n",
    "#### Steps to do (UPDATE 13 Jan 2020):\n",
    "\n",
    "- **sub-015** - move back to BIDS and ensure everything is correctly named and converted\n",
    "- **sub-016** - inspect everything, ensure this is correctly named and converted (ignore small file).\n",
    "\n",
    "#### Steps done (UPDATE 30 Jan 2020):\n",
    "\n",
    "- **sub-015** - move back to BIDS and ensure everything is correctly named and converted - DONE\n",
    "- **sub-016** - inspect everything, ensure this is correctly named and converted - DONE\n",
    "    - Small file deleted from organised data folder\n",
    "    - script run to rename scanphyslog files x6\n",
    "    - \n"
   ]
  },
  {
   "cell_type": "code",
   "execution_count": null,
   "metadata": {},
   "outputs": [],
   "source": []
  }
 ],
 "metadata": {
  "kernelspec": {
   "display_name": "Python 3",
   "language": "python",
   "name": "python3"
  },
  "language_info": {
   "codemirror_mode": {
    "name": "ipython",
    "version": 3
   },
   "file_extension": ".py",
   "mimetype": "text/x-python",
   "name": "python",
   "nbconvert_exporter": "python",
   "pygments_lexer": "ipython3",
   "version": "3.7.3"
  }
 },
 "nbformat": 4,
 "nbformat_minor": 2
}
