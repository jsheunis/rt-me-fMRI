{
 "cells": [
  {
   "cell_type": "markdown",
   "metadata": {},
   "source": [
    "# Pipeline to (re)produce figures for rt-me-fMRI methods article"
   ]
  },
  {
   "cell_type": "markdown",
   "metadata": {},
   "source": [
    "## Imports"
   ]
  },
  {
   "cell_type": "code",
   "execution_count": 8,
   "metadata": {},
   "outputs": [],
   "source": [
    "from jupyter_dash import JupyterDash\n",
    "import dash\n",
    "import dash_core_components as dcc\n",
    "import dash_html_components as html\n",
    "import dash_bootstrap_components as dbc\n",
    "import pandas as pd\n",
    "import numpy as np\n",
    "import matplotlib.pyplot as plt\n",
    "import shutil\n",
    "import glob\n",
    "import os\n",
    "from IPython.display import display, set_matplotlib_formats\n",
    "import nibabel as nib\n",
    "from nilearn import plotting\n",
    "from nilearn.image import load_img\n",
    "from dash.dependencies import Input, Output\n",
    "from dash.exceptions import PreventUpdate\n",
    "from plotly.colors import sequential, n_colors\n",
    "import plotly.graph_objs as go\n",
    "from bids import BIDSLayout\n",
    "from nilearn.image.image import mean_img\n"
   ]
  },
  {
   "cell_type": "markdown",
   "metadata": {},
   "source": [
    "## 1. Signal intensity"
   ]
  },
  {
   "cell_type": "code",
   "execution_count": 9,
   "metadata": {},
   "outputs": [
    {
     "name": "stderr",
     "output_type": "stream",
     "text": [
      "/Users/jheunis/miniconda3/envs/rtme-fmri/lib/python3.7/site-packages/nilearn/image/resampling.py:543: RuntimeWarning: NaNs or infinite values are present in the data passed to resample. This is a bad thing as they make resampling ill-defined and much slower.\n",
      "  fill_value=fill_value)\n"
     ]
    },
    {
     "ename": "NameError",
     "evalue": "name 'html_vies' is not defined",
     "output_type": "error",
     "traceback": [
      "\u001b[0;31m---------------------------------------------------------------------------\u001b[0m",
      "\u001b[0;31mNameError\u001b[0m                                 Traceback (most recent call last)",
      "\u001b[0;32m<ipython-input-9-77fd697d8096>\u001b[0m in \u001b[0;36m<module>\u001b[0;34m\u001b[0m\n\u001b[1;32m     37\u001b[0m \u001b[0mtsnr_img\u001b[0m \u001b[0;34m=\u001b[0m \u001b[0mload_img\u001b[0m\u001b[0;34m(\u001b[0m\u001b[0mtsnr_fn\u001b[0m\u001b[0;34m)\u001b[0m\u001b[0;34m\u001b[0m\u001b[0;34m\u001b[0m\u001b[0m\n\u001b[1;32m     38\u001b[0m \u001b[0mhtml_view\u001b[0m \u001b[0;34m=\u001b[0m \u001b[0mplotting\u001b[0m\u001b[0;34m.\u001b[0m\u001b[0mview_img\u001b[0m\u001b[0;34m(\u001b[0m\u001b[0mtsnr_img\u001b[0m\u001b[0;34m,\u001b[0m \u001b[0mbg_img\u001b[0m\u001b[0;34m=\u001b[0m\u001b[0;32mFalse\u001b[0m\u001b[0;34m,\u001b[0m \u001b[0mcut_coords\u001b[0m\u001b[0;34m=\u001b[0m\u001b[0;34m[\u001b[0m\u001b[0;36m2\u001b[0m\u001b[0;34m,\u001b[0m \u001b[0;34m-\u001b[0m\u001b[0;36m16\u001b[0m\u001b[0;34m,\u001b[0m \u001b[0;36m20\u001b[0m\u001b[0;34m]\u001b[0m\u001b[0;34m,\u001b[0m \u001b[0mtitle\u001b[0m\u001b[0;34m=\u001b[0m\u001b[0mimg_title\u001b[0m\u001b[0;34m,\u001b[0m \u001b[0mblack_bg\u001b[0m\u001b[0;34m=\u001b[0m\u001b[0;32mTrue\u001b[0m\u001b[0;34m,\u001b[0m \u001b[0mvmax\u001b[0m\u001b[0;34m=\u001b[0m\u001b[0;36m255\u001b[0m\u001b[0;34m)\u001b[0m\u001b[0;34m\u001b[0m\u001b[0;34m\u001b[0m\u001b[0m\n\u001b[0;32m---> 39\u001b[0;31m \u001b[0mhtml_vies\u001b[0m\u001b[0;34m\u001b[0m\u001b[0;34m\u001b[0m\u001b[0m\n\u001b[0m",
      "\u001b[0;31mNameError\u001b[0m: name 'html_vies' is not defined"
     ]
    },
    {
     "data": {
      "image/png": "[encoded data removed]",
      "text/plain": [
       "<Figure size 475.2x187.2 with 4 Axes>"
      ]
     },
     "metadata": {},
     "output_type": "display_data"
    }
   ],
   "source": [
    "bids_dir = '/Volumes/TSM/NEUFEPME_data_BIDS'\n",
    "deriv_dir = os.path.join(bids_dir, 'derivatives')\n",
    "preproc_dir = os.path.join(deriv_dir, 'fmrwhy-preproc')\n",
    "qc_dir = os.path.join(deriv_dir, 'fmrwhy-qc')\n",
    "me_dir = os.path.join(deriv_dir, 'fmrwhy-multiecho')\n",
    "asset_dir = '/Users/jheunis/Documents/Websites/rt-me-fmri-dash/assets/'\n",
    "dash_dir = '/Users/jheunis/Documents/Websites/rt-me-fmri-dash/'\n",
    "dash_bids_dir = '/Users/jheunis/Documents/Websites/rt-me-fmri-dash/bids'\n",
    "dash_deriv_dir = '/Users/jheunis/Documents/Websites/rt-me-fmri-dash/bids/derivatives'\n",
    "dash_qc_dir = '/Users/jheunis/Documents/Websites/rt-me-fmri-dash/bids/derivatives/fmrwhy-qc'\n",
    "dash_me_dir = '/Users/jheunis/Documents/Websites/rt-me-fmri-dash/bids/derivatives/fmrwhy-multiecho'\n",
    "\n",
    "tasks = ['rest', 'fingerTapping', 'emotionProcessing', 'fingerTappingImagined', 'emotionProcessingImagined']\n",
    "tasksruns = ['rest_run-1', 'fingerTapping', 'emotionProcessing', 'rest_run-2', 'fingerTappingImagined', 'emotionProcessingImagined']\n",
    "rest_runs = ['1', '2']\n",
    "cols_tasksruns = ['rest 1', 'motor 1', 'emotion 1', 'rest 2', 'motor 2', 'emotion 2']\n",
    "cols_stats = ['tSNR_mean_GM', 'tSNR_mean_WM', 'tSNR_mean_CSF', 'tSNR_mean_brain', 'zscore_mean', 'gcor']\n",
    "# df_fdmean = pd.DataFrame(columns=cols_tasksruns)\n",
    "# df_fdsum = pd.DataFrame(columns=cols_tasksruns)\n",
    "# df_tsnrgm = pd.DataFrame(columns=cols_tasksruns)\n",
    "this_sub = ['sub-001']\n",
    "\n",
    "# for sub in this_sub:\n",
    "#     for taskrun in tasksruns:\n",
    "#         print(sub)\n",
    "sub = this_sub[0];\n",
    "taskrun = tasksruns[4]\n",
    "\n",
    "\n",
    "bold_fn = os.path.join(me_dir, sub, 'func', sub + '_task-' + taskrun + '_desc-combinedMEt2star_bold.nii')\n",
    "mean_bold = mean_img(bold_fn)\n",
    "koek = plotting.plot_epi(mean_bold)\n",
    "\n",
    "tsnr_fn = os.path.join(me_dir, sub, 'func', sub + '_task-' + taskrun + '_echo-2_space-MNI152_desc-rapreproc_tsnr.nii')\n",
    "html_fn = os.path.join(dash_me_dir, sub, sub + '_task-' + taskrun + '_echo-2_space-MNI152_desc-rapreproc_tsnr.html')\n",
    "img_title = 'tSNR'\n",
    "tsnr_img = load_img(tsnr_fn)\n",
    "html_view = plotting.view_img(tsnr_img, bg_img=False, cut_coords=[2, -16, 20], title=img_title, black_bg=True, vmax=255)\n",
    "html_view"
   ]
  },
  {
   "cell_type": "code",
   "execution_count": null,
   "metadata": {},
   "outputs": [],
   "source": []
  },
  {
   "cell_type": "code",
   "execution_count": null,
   "metadata": {},
   "outputs": [],
   "source": []
  },
  {
   "cell_type": "code",
   "execution_count": null,
   "metadata": {},
   "outputs": [],
   "source": []
  },
  {
   "cell_type": "markdown",
   "metadata": {},
   "source": []
  },
  {
   "cell_type": "code",
   "execution_count": null,
   "metadata": {},
   "outputs": [],
   "source": []
  }
 ],
 "metadata": {
  "kernelspec": {
   "display_name": "Python 3",
   "language": "python",
   "name": "python3"
  },
  "language_info": {
   "codemirror_mode": {
    "name": "ipython",
    "version": 3
   },
   "file_extension": ".py",
   "mimetype": "text/x-python",
   "name": "python",
   "nbconvert_exporter": "python",
   "pygments_lexer": "ipython3",
   "version": "3.7.3"
  }
 },
 "nbformat": 4,
 "nbformat_minor": 2
}
