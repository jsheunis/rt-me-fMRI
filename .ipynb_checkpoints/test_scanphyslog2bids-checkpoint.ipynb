{
 "cells": [
  {
   "cell_type": "code",
   "execution_count": 8,
   "metadata": {},
   "outputs": [
    {
     "name": "stderr",
     "output_type": "stream",
     "text": [
      "2020-01-06 13:30:40,454 [MainThread] [INFO   ]  Found end marker ('0020') at an offset of 32 samples relative to the end of the file.\n",
      "2020-01-06 13:30:44,565 [MainThread] [INFO   ]  Trimmed off 59 samples from end of file based on the (absence) of a gradient.\n"
     ]
    },
    {
     "ename": "ValueError",
     "evalue": "Did not find any volume markers ('0200' or '0202')!",
     "output_type": "error",
     "traceback": [
      "\u001b[0;31m---------------------------------------------------------------------------\u001b[0m",
      "\u001b[0;31mValueError\u001b[0m                                Traceback (most recent call last)",
      "\u001b[0;32m<ipython-input-8-51940ee89165>\u001b[0m in \u001b[0;36m<module>\u001b[0;34m\u001b[0m\n\u001b[1;32m     22\u001b[0m \u001b[0;31m# Try to align physio data with scan data, using a particular method\u001b[0m\u001b[0;34m\u001b[0m\u001b[0;34m\u001b[0m\u001b[0;34m\u001b[0m\u001b[0m\n\u001b[1;32m     23\u001b[0m \u001b[0;31m# (either \"vol_markers\", \"gradient_log\", or \"interpolation\")\u001b[0m\u001b[0;34m\u001b[0m\u001b[0;34m\u001b[0m\u001b[0;34m\u001b[0m\u001b[0m\n\u001b[0;32m---> 24\u001b[0;31m \u001b[0mphlog\u001b[0m\u001b[0;34m.\u001b[0m\u001b[0malign\u001b[0m\u001b[0;34m(\u001b[0m\u001b[0mtrigger_method\u001b[0m\u001b[0;34m=\u001b[0m\u001b[0;34m'vol_markers'\u001b[0m\u001b[0;34m)\u001b[0m  \u001b[0;31m# load and find vol triggers\u001b[0m\u001b[0;34m\u001b[0m\u001b[0;34m\u001b[0m\u001b[0m\n\u001b[0m\u001b[1;32m     25\u001b[0m \u001b[0;31m# phlog.align(trigger_method='gradient_log')  # load and find vol triggers\u001b[0m\u001b[0;34m\u001b[0m\u001b[0;34m\u001b[0m\u001b[0;34m\u001b[0m\u001b[0m\n\u001b[1;32m     26\u001b[0m \u001b[0;34m\u001b[0m\u001b[0m\n",
      "\u001b[0;32m~/miniconda3/envs/rtme-fmri/lib/python3.7/site-packages/scanphyslog2bids/core.py\u001b[0m in \u001b[0;36malign\u001b[0;34m(self, trigger_method, which_grad, trigger_diff_cutoff, offset_end_scan)\u001b[0m\n\u001b[1;32m    205\u001b[0m             \u001b[0mself\u001b[0m\u001b[0;34m.\u001b[0m\u001b[0m_determine_triggers_by_interpolation\u001b[0m\u001b[0;34m(\u001b[0m\u001b[0moffset_end_scan\u001b[0m\u001b[0;34m)\u001b[0m\u001b[0;34m\u001b[0m\u001b[0;34m\u001b[0m\u001b[0m\n\u001b[1;32m    206\u001b[0m         \u001b[0;32melif\u001b[0m \u001b[0mtrigger_method\u001b[0m \u001b[0;34m==\u001b[0m \u001b[0;34m'vol_markers'\u001b[0m\u001b[0;34m:\u001b[0m\u001b[0;34m\u001b[0m\u001b[0;34m\u001b[0m\u001b[0m\n\u001b[0;32m--> 207\u001b[0;31m             \u001b[0mself\u001b[0m\u001b[0;34m.\u001b[0m\u001b[0m_determine_triggers_by_volume_markers\u001b[0m\u001b[0;34m(\u001b[0m\u001b[0;34m)\u001b[0m\u001b[0;34m\u001b[0m\u001b[0;34m\u001b[0m\u001b[0m\n\u001b[0m\u001b[1;32m    208\u001b[0m         \u001b[0;32melse\u001b[0m\u001b[0;34m:\u001b[0m\u001b[0;34m\u001b[0m\u001b[0;34m\u001b[0m\u001b[0m\n\u001b[1;32m    209\u001b[0m             \u001b[0;32mraise\u001b[0m \u001b[0mValueError\u001b[0m\u001b[0;34m(\u001b[0m\u001b[0;34m\"Please choose trigger_method from 'interpolate', 'vol_markers', or 'gradient_log'\"\u001b[0m\u001b[0;34m)\u001b[0m\u001b[0;34m\u001b[0m\u001b[0;34m\u001b[0m\u001b[0m\n",
      "\u001b[0;32m~/miniconda3/envs/rtme-fmri/lib/python3.7/site-packages/scanphyslog2bids/core.py\u001b[0m in \u001b[0;36m_determine_triggers_by_volume_markers\u001b[0;34m(self)\u001b[0m\n\u001b[1;32m    301\u001b[0m \u001b[0;34m\u001b[0m\u001b[0m\n\u001b[1;32m    302\u001b[0m         \u001b[0;32mif\u001b[0m \u001b[0mlen\u001b[0m\u001b[0;34m(\u001b[0m\u001b[0minit_triggers\u001b[0m\u001b[0;34m)\u001b[0m \u001b[0;34m==\u001b[0m \u001b[0;36m0\u001b[0m\u001b[0;34m:\u001b[0m\u001b[0;34m\u001b[0m\u001b[0;34m\u001b[0m\u001b[0m\n\u001b[0;32m--> 303\u001b[0;31m             \u001b[0;32mraise\u001b[0m \u001b[0mValueError\u001b[0m\u001b[0;34m(\u001b[0m\u001b[0;34m\"Did not find any volume markers ('0200' or '0202')!\"\u001b[0m\u001b[0;34m)\u001b[0m\u001b[0;34m\u001b[0m\u001b[0;34m\u001b[0m\u001b[0m\n\u001b[0m\u001b[1;32m    304\u001b[0m \u001b[0;34m\u001b[0m\u001b[0m\n\u001b[1;32m    305\u001b[0m         \u001b[0;31m# Just to make sure, check the diffs\u001b[0m\u001b[0;34m\u001b[0m\u001b[0;34m\u001b[0m\u001b[0;34m\u001b[0m\u001b[0m\n",
      "\u001b[0;31mValueError\u001b[0m: Did not find any volume markers ('0200' or '0202')!"
     ]
    }
   ],
   "source": [
    "from scanphyslog2bids.core import PhilipsPhysioLog\n",
    "import nibabel as nib\n",
    "import numpy as np\n",
    "\n",
    "main_dir = '/Users/jheunis/Desktop/sample-data/sub-neufepmetest/sub-pilot/raw-data'\n",
    "log_file = main_dir + '/SCANPHYSLOG20191011115018_motor1.log'\n",
    "out_dir = main_dir + '/my_bids_data'  # where the BIDSified data should be saved\n",
    "deriv_dir = main_dir + '/my_bids_data/physio'  # where some QC plots should be saved\n",
    "\n",
    "# fmri_file is used to extract metadata, such as TR and number of volumes\n",
    "fmri_file = main_dir + '/sub-pilot_task-motor_run-1_echo-2.nii' \n",
    "fmri_img = nib.load(fmri_file)\n",
    "n_dyns = fmri_img.shape[-1]\n",
    "tr = np.round(fmri_img.header['pixdim'][4], 3)\n",
    "\n",
    "# Create PhilipsPhysioLog object with info\n",
    "phlog = PhilipsPhysioLog(f=log_file, tr=tr, n_dyns=n_dyns, sf=500, manually_stopped=False)\n",
    "\n",
    "# Load in data, do some preprocessing\n",
    "phlog.load()\n",
    "\n",
    "# Try to align physio data with scan data, using a particular method\n",
    "# (either \"vol_markers\", \"gradient_log\", or \"interpolation\")\n",
    "# phlog.align(trigger_method='vol_markers')  # load and find vol triggers\n",
    "phlog.align(trigger_method='gradient_log')  # load and find vol triggers\n",
    "\n",
    "# Write out BIDS files\n",
    "phlog.to_bids(out_dir)  # writes out .tsv.gz and .json files\n",
    "\n",
    "# Optional: plot some QC graphs for alignment and actual traces\n",
    "phlog.plot_alignment(out_dir=deriv_dir)  # plots alignment with gradient\n",
    "phlog.plot_traces(out_dir=deriv_dir)  # plots cardiac/resp traces"
   ]
  },
  {
   "cell_type": "code",
   "execution_count": null,
   "metadata": {},
   "outputs": [],
   "source": []
  }
 ],
 "metadata": {
  "kernelspec": {
   "display_name": "Python 3",
   "language": "python",
   "name": "python3"
  },
  "language_info": {
   "codemirror_mode": {
    "name": "ipython",
    "version": 3
   },
   "file_extension": ".py",
   "mimetype": "text/x-python",
   "name": "python",
   "nbconvert_exporter": "python",
   "pygments_lexer": "ipython3",
   "version": "3.7.3"
  }
 },
 "nbformat": 4,
 "nbformat_minor": 2
}
