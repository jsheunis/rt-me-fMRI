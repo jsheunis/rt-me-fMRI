{
 "cells": [
  {
   "cell_type": "markdown",
   "metadata": {},
   "source": [
    "# PAR/REC to NIfTI conversion"
   ]
  },
  {
   "cell_type": "code",
   "execution_count": 14,
   "metadata": {},
   "outputs": [],
   "source": [
    "%matplotlib inline\n",
    "\n",
    "import matplotlib.pyplot as plt\n",
    "import numpy as np\n",
    "import nibabel as nib"
   ]
  },
  {
   "cell_type": "markdown",
   "metadata": {},
   "source": [
    "## Using r2agui: http://r2agui.sourceforge.net/"
   ]
  },
  {
   "cell_type": "markdown",
   "metadata": {},
   "source": [
    "## Using bidsify (which uses dcm2niix)"
   ]
  },
  {
   "cell_type": "markdown",
   "metadata": {},
   "source": [
    "## Using [dcm2niix](https://github.com/rordenlab/dcm2niix) command line tool"
   ]
  },
  {
   "cell_type": "markdown",
   "metadata": {},
   "source": [
    "Also outputs JSON, multiple options/arguments, ..."
   ]
  },
  {
   "cell_type": "code",
   "execution_count": 23,
   "metadata": {},
   "outputs": [
    {
     "name": "stdout",
     "output_type": "stream",
     "text": [
      "Compression will be faster with 'pigz' installed http://macappstore.org/pigz/\n",
      "Chris Rorden's dcm2niiX version v1.0.20190410  Clang9.0.0 (64-bit MacOS)\n",
      "Found 1 DICOM file(s)\n",
      "Warning: dcm2niix PAR is not actively supported (hint: use dicm2nii)\n",
      "Warning: Reported TR=2002.7ms, measured TR=2002.68ms (prospect. motion corr.?)\n",
      "Warning: PAR file volumes not saved in ascending temporal order (please check re-ordering)\n",
      "Done reading PAR header version 4.2, with 21420 slices\n",
      "Warning: Multiple Echo (3) or Cardiac (1). Carefully inspect output\n",
      "Philips Scaling Values RS:RI:SS = 0.73553:0:0.00203517 (see PMC3998685)\n",
      "Convert 1 DICOM as /Users/jheunis/Documents/PYTHON/rtme-fMRI/dcm2niix/dcm2niix_ME3picturesaangepasT19_9tr_20190919091610_3_e1a (64x64x34x210)\n",
      "Philips Scaling Values RS:RI:SS = 0.73553:0:0.00203517 (see PMC3998685)\n",
      "Convert 1 DICOM as /Users/jheunis/Documents/PYTHON/rtme-fMRI/dcm2niix/dcm2niix_ME3picturesaangepasT19_9tr_20190919091610_3_e2a (64x64x34x210)\n",
      "Philips Scaling Values RS:RI:SS = 0.73553:0:0.00203517 (see PMC3998685)\n",
      "Convert 1 DICOM as /Users/jheunis/Documents/PYTHON/rtme-fMRI/dcm2niix/dcm2niix_ME3picturesaangepasT19_9tr_20190919091610_3_e3a (64x64x34x210)\n",
      "Conversion required 2.743896 seconds (2.266824 for core code).\n"
     ]
    }
   ],
   "source": [
    "# !dcm2niix -h\n",
    "# !dcm2niix /Users/jheunis/Documents/PYTHON/rtme-fMRI/dcm2niix"
   ]
  },
  {
   "cell_type": "markdown",
   "metadata": {},
   "source": [
    "## Using [dicm2nii](https://github.com/xiangruili/dicm2nii) Matlab scripts"
   ]
  },
  {
   "cell_type": "markdown",
   "metadata": {},
   "source": [
    "## Using nibabel-based [parrec2nii](https://github.com/nipy/nibabel/blob/master/nibabel/cmdline/parrec2nii.py) python script / command line tool"
   ]
  },
  {
   "cell_type": "markdown",
   "metadata": {},
   "source": [
    "Run the script from the comman line, pointing to the `PAR` file that is in the same folder as the `REC` file with the same name"
   ]
  },
  {
   "cell_type": "code",
   "execution_count": 18,
   "metadata": {},
   "outputs": [],
   "source": [
    "!parrec2nii NEUFEP-ME_ME3_pictures_aangepasT_19_9_tr_2000_SENSE_3_1 --strict-sort --overwrite"
   ]
  },
  {
   "cell_type": "markdown",
   "metadata": {},
   "source": [
    "This generates, for multi-echo data, a single NIfTI file with all echoes of all time points concatenated into a single time-series that has $N*e$ volumes, where $N$ is the number of time points and $e$ is the number of echoes. To get a separate NIfTI file (i.e. time series) per echo, we have to manipulate the data a bit:"
   ]
  },
  {
   "cell_type": "code",
   "execution_count": null,
   "metadata": {},
   "outputs": [],
   "source": [
    "me_fn = 'NEUFEP-ME_ME3_pictures_aangepasT_19_9_tr_2000_SENSE_3_1.nii'\n",
    "me_img = nib.load(me_fn)\n",
    "me_data = me_img.get_fdata()\n",
    "# print('ME image dimensions: {}'.format(me_img.shape))\n",
    "# me_hdr = me_img.header\n",
    "# print('ME image header:\\n{}'.format(me_hdr))\n",
    "# print(me_img.affine)\n",
    "data_e1 = me_data[:,:,:,0::3]\n",
    "data_e2 = me_data[:,:,:,1::3]\n",
    "data_e3 = me_data[:,:,:,2::3]\n",
    "me1_img = nib.Nifti1Image(data_e1, me_img.affine)\n",
    "me2_img = nib.Nifti1Image(data_e2, me_img.affine)\n",
    "me3_img = nib.Nifti1Image(data_e3, me_img.affine)\n",
    "nib.save(me1_img, 'me1.nii.gz')\n",
    "nib.save(me2_img, 'me2.nii.gz')\n",
    "nib.save(me3_img, 'me3.nii.gz')"
   ]
  },
  {
   "cell_type": "code",
   "execution_count": 22,
   "metadata": {},
   "outputs": [
    {
     "name": "stdout",
     "output_type": "stream",
     "text": [
      "Compression will be faster with 'pigz' installed http://macappstore.org/pigz/\n",
      "Chris Rorden's dcm2niiX version v1.0.20190410  Clang9.0.0 (64-bit MacOS)\n",
      "Found 1 DICOM file(s)\n",
      "Warning: dcm2niix PAR is not actively supported (hint: use dicm2nii)\n",
      "Warning: Reported TR=2002.7ms, measured TR=2002.68ms (prospect. motion corr.?)\n",
      "Warning: PAR file volumes not saved in ascending temporal order (please check re-ordering)\n",
      "Done reading PAR header version 4.2, with 21420 slices\n",
      "Warning: Multiple Echo (3) or Cardiac (1). Carefully inspect output\n",
      "Philips Scaling Values RS:RI:SS = 0.73553:0:0.00203517 (see PMC3998685)\n",
      "Convert 1 DICOM as /Users/jheunis/Documents/PYTHON/rtme-fMRI/dcm2niix/dcm2niix_ME3picturesaangepasT19_9tr_20190919091610_3_e1 (64x64x34x210)\n",
      "Philips Scaling Values RS:RI:SS = 0.73553:0:0.00203517 (see PMC3998685)\n",
      "Convert 1 DICOM as /Users/jheunis/Documents/PYTHON/rtme-fMRI/dcm2niix/dcm2niix_ME3picturesaangepasT19_9tr_20190919091610_3_e2 (64x64x34x210)\n",
      "Philips Scaling Values RS:RI:SS = 0.73553:0:0.00203517 (see PMC3998685)\n",
      "Convert 1 DICOM as /Users/jheunis/Documents/PYTHON/rtme-fMRI/dcm2niix/dcm2niix_ME3picturesaangepasT19_9tr_20190919091610_3_e3 (64x64x34x210)\n",
      "Conversion required 2.651147 seconds (2.213457 for core code).\n"
     ]
    }
   ],
   "source": []
  },
  {
   "cell_type": "code",
   "execution_count": null,
   "metadata": {},
   "outputs": [],
   "source": []
  },
  {
   "cell_type": "code",
   "execution_count": 9,
   "metadata": {},
   "outputs": [
    {
     "name": "stdout",
     "output_type": "stream",
     "text": [
      "ME image dimensions: (64, 64, 34, 630)\n",
      "ME image header:\n",
      "<class 'nibabel.nifti1.Nifti1Header'> object, endian='<'\n",
      "sizeof_hdr      : 348\n",
      "data_type       : b''\n",
      "db_name         : b''\n",
      "extents         : 0\n",
      "session_error   : 0\n",
      "regular         : b''\n",
      "dim_info        : 0\n",
      "dim             : [  4  64  64  34 630   1   1   1]\n",
      "intent_p1       : 0.0\n",
      "intent_p2       : 0.0\n",
      "intent_p3       : 0.0\n",
      "intent_code     : none\n",
      "datatype        : uint16\n",
      "bitpix          : 16\n",
      "slice_start     : 0\n",
      "pixdim          : [-1.        3.5       3.5       3.5       2.002696  1.        1.\n",
      "  1.      ]\n",
      "vox_offset      : 0.0\n",
      "scl_slope       : nan\n",
      "scl_inter       : nan\n",
      "slice_end       : 0\n",
      "slice_code      : unknown\n",
      "xyzt_units      : 18\n",
      "cal_max         : 2848.7078\n",
      "cal_min         : 0.0\n",
      "slice_duration  : 0.0\n",
      "toffset         : 0.0\n",
      "glmax           : 0\n",
      "glmin           : 0\n",
      "descrip         : b''\n",
      "aux_file        : b''\n",
      "qform_code      : scanner\n",
      "sform_code      : scanner\n",
      "quatern_b       : -0.06681208\n",
      "quatern_c       : 0.99553436\n",
      "quatern_d       : 0.054806914\n",
      "qoffset_x       : 123.25382\n",
      "qoffset_y       : -80.35115\n",
      "qoffset_z       : -21.113438\n",
      "srow_x          : [ -3.4586473   -0.48017308  -0.23915052 123.25382   ]\n",
      "srow_y          : [ -0.45101902   3.4477265   -0.39970523 -80.35115   ]\n",
      "srow_z          : [ -0.29041523   0.36416513   3.4688675  -21.113438  ]\n",
      "intent_name     : b''\n",
      "magic           : b'n+1'\n",
      "[[ -3.45864725  -0.48017308  -0.23915052 123.25382233]\n",
      " [ -0.45101902   3.44772649  -0.39970523 -80.35115051]\n",
      " [ -0.29041523   0.36416513   3.46886754 -21.11343765]\n",
      " [  0.           0.           0.           1.        ]]\n"
     ]
    }
   ],
   "source": []
  },
  {
   "cell_type": "code",
   "execution_count": 13,
   "metadata": {},
   "outputs": [],
   "source": [
    "# data_e1 = np.ones((32, 32, 15, 100), dtype=img.get_data_dtype())\n"
   ]
  },
  {
   "cell_type": "code",
   "execution_count": 11,
   "metadata": {},
   "outputs": [
    {
     "name": "stdout",
     "output_type": "stream",
     "text": [
      "[[0 1 2 3 4 5 6 7]\n",
      " [0 1 2 3 4 5 6 7]\n",
      " [0 1 2 3 4 5 6 7]]\n",
      "[[0 3 6]\n",
      " [0 3 6]\n",
      " [0 3 6]]\n"
     ]
    }
   ],
   "source": [
    "data1 = np.array([[0,1,2,3,4,5,6,7],[0,1,2,3,4,5,6,7],[0,1,2,3,4,5,6,7]])\n",
    "print(data1)\n",
    "\n",
    "data2 = data1[:,0::3]\n",
    "\n",
    "print(data2)"
   ]
  },
  {
   "cell_type": "code",
   "execution_count": null,
   "metadata": {},
   "outputs": [],
   "source": []
  }
 ],
 "metadata": {
  "kernelspec": {
   "display_name": "Python 3",
   "language": "python",
   "name": "python3"
  },
  "language_info": {
   "codemirror_mode": {
    "name": "ipython",
    "version": 3
   },
   "file_extension": ".py",
   "mimetype": "text/x-python",
   "name": "python",
   "nbconvert_exporter": "python",
   "pygments_lexer": "ipython3",
   "version": "3.7.3"
  }
 },
 "nbformat": 4,
 "nbformat_minor": 4
}
