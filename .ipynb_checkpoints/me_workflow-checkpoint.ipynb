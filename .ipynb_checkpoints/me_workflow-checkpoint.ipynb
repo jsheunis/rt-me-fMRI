{
 "cells": [
  {
   "cell_type": "code",
   "execution_count": 1,
   "metadata": {},
   "outputs": [
    {
     "name": "stdout",
     "output_type": "stream",
     "text": [
      "191022-13:24:08,26 nipype.utils INFO:\n",
      "\t Running nipype version 1.2.3 (latest: 1.2.3)\n"
     ]
    }
   ],
   "source": [
    "%matplotlib inline\n",
    "\n",
    "import matplotlib.pyplot as plt\n",
    "import numpy as np\n",
    "import nibabel as nib\n",
    "import bidsify\n",
    "import pydeface\n",
    "import nipype"
   ]
  },
  {
   "cell_type": "code",
   "execution_count": 2,
   "metadata": {},
   "outputs": [
    {
     "name": "stdout",
     "output_type": "stream",
     "text": [
      "LICENSE                     me_workflow.ipynb\n",
      "README.md                   parrec2nii_comparison.ipynb\n",
      "Untitled.ipynb              parrec_tests.ipynb\n",
      "acces_load_data.md          pipeline.txt\n",
      "\u001b[1m\u001b[36mbidsify_test_2709\u001b[m\u001b[m           \u001b[31mtestPAR_ME.PAR\u001b[m\u001b[m\n",
      "fmri_basics.ipynb           testPAR_ME.PAR.zip\n"
     ]
    }
   ],
   "source": [
    "!ls"
   ]
  },
  {
   "cell_type": "code",
   "execution_count": 3,
   "metadata": {},
   "outputs": [
    {
     "name": "stdout",
     "output_type": "stream",
     "text": [
      "Setting output-dir to /Users/jheunis/Documents/PYTHON/rtme-fMRI/bids\n",
      "Running bidsify with the following arguments:\n",
      "\t directory=/Users/jheunis/Documents/PYTHON/rtme-fMRI/bidsify_test_2709 \n",
      "\t config=/Users/jheunis/Documents/PYTHON/rtme-fMRI/bidsify_test_2709/config.yml \n",
      "\t out_dir=/Users/jheunis/Documents/PYTHON/rtme-fMRI/bids \n",
      "\t validate=False\n",
      "\n",
      "191022-13:24:19,973 nipype.utils INFO:\n",
      "\t Running nipype version 1.2.3 (latest: 1.2.3)\n",
      "Converting data from sub-01 ...\n",
      "WARNING: file pilot_sub_01_NEUFEP-ME-emotion1_SENSE_5_1.PAR seems to be a multiecho file - this feature is experimental!\n",
      "Compression will be faster with 'pigz' installed http://macappstore.org/pigz/\n",
      "Chris Rorden's dcm2niiX version v1.0.20190410  Clang9.0.0 (64-bit MacOS)\n",
      "Warning: dcm2niix PAR is not actively supported (hint: use dicm2nii)\n",
      "Warning: Reported TR=1999.4ms, measured TR=1999.43ms (prospect. motion corr.?)\n",
      "Warning: PAR file volumes not saved in ascending temporal order (please check re-ordering)\n",
      "Warning: Distance between slices reported by slice gap+thick does not match estimate from slice positions (issue 273).\n",
      "Done reading PAR header version 4.2, with 21420 slices\n",
      "Warning: Multiple Echo (3) or Cardiac (1). Carefully inspect output\n",
      "Philips Scaling Values RS:RI:SS = 0.73773:0:0.00206999 (see PMC3998685)\n",
      "Convert 1 DICOM as /Users/jheunis/Documents/PYTHON/rtme-fMRI/bids/sub-01/pilot_sub_01_NEUFEP-ME-emotion1_SENSE_5_1_echo-1 (64x64x34x210)\n",
      "Philips Scaling Values RS:RI:SS = 0.73773:0:0.00206999 (see PMC3998685)\n",
      "Convert 1 DICOM as /Users/jheunis/Documents/PYTHON/rtme-fMRI/bids/sub-01/pilot_sub_01_NEUFEP-ME-emotion1_SENSE_5_1_echo-2 (64x64x34x210)\n",
      "Philips Scaling Values RS:RI:SS = 0.73773:0:0.00206999 (see PMC3998685)\n",
      "Convert 1 DICOM as /Users/jheunis/Documents/PYTHON/rtme-fMRI/bids/sub-01/pilot_sub_01_NEUFEP-ME-emotion1_SENSE_5_1_echo-3 (64x64x34x210)\n",
      "Conversion required 3.362824 seconds (2.690983 for core code).\n",
      "WARNING: file pilot_sub_01_NEUFEP-ME-emotion2_SENSE_7_1.PAR seems to be a multiecho file - this feature is experimental!\n",
      "Compression will be faster with 'pigz' installed http://macappstore.org/pigz/\n",
      "Chris Rorden's dcm2niiX version v1.0.20190410  Clang9.0.0 (64-bit MacOS)\n",
      "Warning: dcm2niix PAR is not actively supported (hint: use dicm2nii)\n",
      "Warning: Reported TR=1999.4ms, measured TR=1999.43ms (prospect. motion corr.?)\n",
      "Warning: PAR file volumes not saved in ascending temporal order (please check re-ordering)\n",
      "Warning: Distance between slices reported by slice gap+thick does not match estimate from slice positions (issue 273).\n",
      "Done reading PAR header version 4.2, with 21420 slices\n",
      "Warning: Multiple Echo (3) or Cardiac (1). Carefully inspect output\n",
      "Philips Scaling Values RS:RI:SS = 0.737:0:0.00205297 (see PMC3998685)\n",
      "Convert 1 DICOM as /Users/jheunis/Documents/PYTHON/rtme-fMRI/bids/sub-01/pilot_sub_01_NEUFEP-ME-emotion2_SENSE_7_1_echo-1 (64x64x34x210)\n",
      "Philips Scaling Values RS:RI:SS = 0.737:0:0.00205297 (see PMC3998685)\n",
      "Convert 1 DICOM as /Users/jheunis/Documents/PYTHON/rtme-fMRI/bids/sub-01/pilot_sub_01_NEUFEP-ME-emotion2_SENSE_7_1_echo-2 (64x64x34x210)\n",
      "Philips Scaling Values RS:RI:SS = 0.737:0:0.00205297 (see PMC3998685)\n",
      "Convert 1 DICOM as /Users/jheunis/Documents/PYTHON/rtme-fMRI/bids/sub-01/pilot_sub_01_NEUFEP-ME-emotion2_SENSE_7_1_echo-3 (64x64x34x210)\n",
      "Conversion required 3.169977 seconds (2.722680 for core code).\n",
      "WARNING: file pilot_sub_01_NEUFEP-ME-motor1_SENSE_4_1.PAR seems to be a multiecho file - this feature is experimental!\n",
      "Compression will be faster with 'pigz' installed http://macappstore.org/pigz/\n",
      "Chris Rorden's dcm2niiX version v1.0.20190410  Clang9.0.0 (64-bit MacOS)\n",
      "Warning: dcm2niix PAR is not actively supported (hint: use dicm2nii)\n",
      "Warning: Reported TR=1999.4ms, measured TR=1999.43ms (prospect. motion corr.?)\n",
      "Warning: PAR file volumes not saved in ascending temporal order (please check re-ordering)\n",
      "Warning: Distance between slices reported by slice gap+thick does not match estimate from slice positions (issue 273).\n",
      "Done reading PAR header version 4.2, with 21420 slices\n",
      "Warning: Multiple Echo (3) or Cardiac (1). Carefully inspect output\n",
      "Philips Scaling Values RS:RI:SS = 0.75165:0:0.0020179 (see PMC3998685)\n",
      "Convert 1 DICOM as /Users/jheunis/Documents/PYTHON/rtme-fMRI/bids/sub-01/pilot_sub_01_NEUFEP-ME-motor1_SENSE_4_1_echo-1 (64x64x34x210)\n",
      "Philips Scaling Values RS:RI:SS = 0.75165:0:0.0020179 (see PMC3998685)\n",
      "Convert 1 DICOM as /Users/jheunis/Documents/PYTHON/rtme-fMRI/bids/sub-01/pilot_sub_01_NEUFEP-ME-motor1_SENSE_4_1_echo-2 (64x64x34x210)\n",
      "Philips Scaling Values RS:RI:SS = 0.75165:0:0.0020179 (see PMC3998685)\n",
      "Convert 1 DICOM as /Users/jheunis/Documents/PYTHON/rtme-fMRI/bids/sub-01/pilot_sub_01_NEUFEP-ME-motor1_SENSE_4_1_echo-3 (64x64x34x210)\n",
      "Conversion required 2.803132 seconds (2.447809 for core code).\n",
      "WARNING: file pilot_sub_01_NEUFEP-ME-motor2_SENSE_6_1.PAR seems to be a multiecho file - this feature is experimental!\n",
      "Compression will be faster with 'pigz' installed http://macappstore.org/pigz/\n",
      "Chris Rorden's dcm2niiX version v1.0.20190410  Clang9.0.0 (64-bit MacOS)\n",
      "Warning: dcm2niix PAR is not actively supported (hint: use dicm2nii)\n",
      "Warning: Reported TR=1999.4ms, measured TR=1999.43ms (prospect. motion corr.?)\n",
      "Warning: PAR file volumes not saved in ascending temporal order (please check re-ordering)\n",
      "Warning: Distance between slices reported by slice gap+thick does not match estimate from slice positions (issue 273).\n",
      "Done reading PAR header version 4.2, with 21420 slices\n",
      "Warning: Multiple Echo (3) or Cardiac (1). Carefully inspect output\n",
      "Philips Scaling Values RS:RI:SS = 0.73553:0:0.00203854 (see PMC3998685)\n",
      "Convert 1 DICOM as /Users/jheunis/Documents/PYTHON/rtme-fMRI/bids/sub-01/pilot_sub_01_NEUFEP-ME-motor2_SENSE_6_1_echo-1 (64x64x34x210)\n",
      "Philips Scaling Values RS:RI:SS = 0.73553:0:0.00203854 (see PMC3998685)\n",
      "Convert 1 DICOM as /Users/jheunis/Documents/PYTHON/rtme-fMRI/bids/sub-01/pilot_sub_01_NEUFEP-ME-motor2_SENSE_6_1_echo-2 (64x64x34x210)\n",
      "Philips Scaling Values RS:RI:SS = 0.73553:0:0.00203854 (see PMC3998685)\n",
      "Convert 1 DICOM as /Users/jheunis/Documents/PYTHON/rtme-fMRI/bids/sub-01/pilot_sub_01_NEUFEP-ME-motor2_SENSE_6_1_echo-3 (64x64x34x210)\n",
      "Conversion required 2.833088 seconds (2.404216 for core code).\n",
      "WARNING: file pilot_sub_01_NEUFEP-ME-rest1_SENSE_3_1.PAR seems to be a multiecho file - this feature is experimental!\n",
      "Compression will be faster with 'pigz' installed http://macappstore.org/pigz/\n",
      "Chris Rorden's dcm2niiX version v1.0.20190410  Clang9.0.0 (64-bit MacOS)\n",
      "Warning: dcm2niix PAR is not actively supported (hint: use dicm2nii)\n",
      "Warning: Reported TR=1999.4ms, measured TR=1999.43ms (prospect. motion corr.?)\n",
      "Warning: PAR file volumes not saved in ascending temporal order (please check re-ordering)\n",
      "Warning: Distance between slices reported by slice gap+thick does not match estimate from slice positions (issue 273).\n",
      "Done reading PAR header version 4.2, with 21420 slices\n",
      "Warning: Multiple Echo (3) or Cardiac (1). Carefully inspect output\n",
      "Philips Scaling Values RS:RI:SS = 0.75238:0:0.00211259 (see PMC3998685)\n",
      "Convert 1 DICOM as /Users/jheunis/Documents/PYTHON/rtme-fMRI/bids/sub-01/pilot_sub_01_NEUFEP-ME-rest1_SENSE_3_1_echo-1 (64x64x34x210)\n",
      "Philips Scaling Values RS:RI:SS = 0.75238:0:0.00211259 (see PMC3998685)\n",
      "Convert 1 DICOM as /Users/jheunis/Documents/PYTHON/rtme-fMRI/bids/sub-01/pilot_sub_01_NEUFEP-ME-rest1_SENSE_3_1_echo-2 (64x64x34x210)\n",
      "Philips Scaling Values RS:RI:SS = 0.75238:0:0.00211259 (see PMC3998685)\n",
      "Convert 1 DICOM as /Users/jheunis/Documents/PYTHON/rtme-fMRI/bids/sub-01/pilot_sub_01_NEUFEP-ME-rest1_SENSE_3_1_echo-3 (64x64x34x210)\n",
      "Conversion required 3.088820 seconds (2.533899 for core code).\n",
      "Renaming '/Users/jheunis/Documents/PYTHON/rtme-fMRI/bids/sub-01/pilot_sub_01_NEUFEP-ME-rest1_SENSE_3_1_echo-1.json' to '/Users/jheunis/Documents/PYTHON/rtme-fMRI/bids/sub-01/func/sub-01_task-rest_run-1_echo-1_bold.json'\n",
      "Renaming '/Users/jheunis/Documents/PYTHON/rtme-fMRI/bids/sub-01/pilot_sub_01_NEUFEP-ME-rest1_SENSE_3_1_echo-1.nii' to '/Users/jheunis/Documents/PYTHON/rtme-fMRI/bids/sub-01/func/sub-01_task-rest_run-1_echo-1_bold.nii'\n",
      "Renaming '/Users/jheunis/Documents/PYTHON/rtme-fMRI/bids/sub-01/pilot_sub_01_NEUFEP-ME-rest1_SENSE_3_1_echo-2.json' to '/Users/jheunis/Documents/PYTHON/rtme-fMRI/bids/sub-01/func/sub-01_task-rest_run-1_echo-2_bold.json'\n",
      "Renaming '/Users/jheunis/Documents/PYTHON/rtme-fMRI/bids/sub-01/pilot_sub_01_NEUFEP-ME-rest1_SENSE_3_1_echo-2.nii' to '/Users/jheunis/Documents/PYTHON/rtme-fMRI/bids/sub-01/func/sub-01_task-rest_run-1_echo-2_bold.nii'\n",
      "Renaming '/Users/jheunis/Documents/PYTHON/rtme-fMRI/bids/sub-01/pilot_sub_01_NEUFEP-ME-rest1_SENSE_3_1_echo-3.json' to '/Users/jheunis/Documents/PYTHON/rtme-fMRI/bids/sub-01/func/sub-01_task-rest_run-1_echo-3_bold.json'\n",
      "Renaming '/Users/jheunis/Documents/PYTHON/rtme-fMRI/bids/sub-01/pilot_sub_01_NEUFEP-ME-rest1_SENSE_3_1_echo-3.nii' to '/Users/jheunis/Documents/PYTHON/rtme-fMRI/bids/sub-01/func/sub-01_task-rest_run-1_echo-3_bold.nii'\n",
      "Could not find files for element rest2 (dtype func) with identifier 'rest2'\n",
      "Renaming '/Users/jheunis/Documents/PYTHON/rtme-fMRI/bids/sub-01/pilot_sub_01_NEUFEP-ME-motor1_SENSE_4_1_echo-1.json' to '/Users/jheunis/Documents/PYTHON/rtme-fMRI/bids/sub-01/func/sub-01_task-motor_run-1_echo-1_bold.json'\n",
      "Renaming '/Users/jheunis/Documents/PYTHON/rtme-fMRI/bids/sub-01/pilot_sub_01_NEUFEP-ME-motor1_SENSE_4_1_echo-1.nii' to '/Users/jheunis/Documents/PYTHON/rtme-fMRI/bids/sub-01/func/sub-01_task-motor_run-1_echo-1_bold.nii'\n",
      "Renaming '/Users/jheunis/Documents/PYTHON/rtme-fMRI/bids/sub-01/pilot_sub_01_NEUFEP-ME-motor1_SENSE_4_1_echo-2.json' to '/Users/jheunis/Documents/PYTHON/rtme-fMRI/bids/sub-01/func/sub-01_task-motor_run-1_echo-2_bold.json'\n",
      "Renaming '/Users/jheunis/Documents/PYTHON/rtme-fMRI/bids/sub-01/pilot_sub_01_NEUFEP-ME-motor1_SENSE_4_1_echo-2.nii' to '/Users/jheunis/Documents/PYTHON/rtme-fMRI/bids/sub-01/func/sub-01_task-motor_run-1_echo-2_bold.nii'\n",
      "Renaming '/Users/jheunis/Documents/PYTHON/rtme-fMRI/bids/sub-01/pilot_sub_01_NEUFEP-ME-motor1_SENSE_4_1_echo-3.json' to '/Users/jheunis/Documents/PYTHON/rtme-fMRI/bids/sub-01/func/sub-01_task-motor_run-1_echo-3_bold.json'\n",
      "Renaming '/Users/jheunis/Documents/PYTHON/rtme-fMRI/bids/sub-01/pilot_sub_01_NEUFEP-ME-motor1_SENSE_4_1_echo-3.nii' to '/Users/jheunis/Documents/PYTHON/rtme-fMRI/bids/sub-01/func/sub-01_task-motor_run-1_echo-3_bold.nii'\n",
      "Renaming '/Users/jheunis/Documents/PYTHON/rtme-fMRI/bids/sub-01/pilot_sub_01_NEUFEP-ME-motor2_SENSE_6_1_echo-1.json' to '/Users/jheunis/Documents/PYTHON/rtme-fMRI/bids/sub-01/func/sub-01_task-motor_run-2_echo-1_bold.json'\n",
      "Renaming '/Users/jheunis/Documents/PYTHON/rtme-fMRI/bids/sub-01/pilot_sub_01_NEUFEP-ME-motor2_SENSE_6_1_echo-1.nii' to '/Users/jheunis/Documents/PYTHON/rtme-fMRI/bids/sub-01/func/sub-01_task-motor_run-2_echo-1_bold.nii'\n",
      "Renaming '/Users/jheunis/Documents/PYTHON/rtme-fMRI/bids/sub-01/pilot_sub_01_NEUFEP-ME-motor2_SENSE_6_1_echo-2.json' to '/Users/jheunis/Documents/PYTHON/rtme-fMRI/bids/sub-01/func/sub-01_task-motor_run-2_echo-2_bold.json'\n",
      "Renaming '/Users/jheunis/Documents/PYTHON/rtme-fMRI/bids/sub-01/pilot_sub_01_NEUFEP-ME-motor2_SENSE_6_1_echo-2.nii' to '/Users/jheunis/Documents/PYTHON/rtme-fMRI/bids/sub-01/func/sub-01_task-motor_run-2_echo-2_bold.nii'\n",
      "Renaming '/Users/jheunis/Documents/PYTHON/rtme-fMRI/bids/sub-01/pilot_sub_01_NEUFEP-ME-motor2_SENSE_6_1_echo-3.json' to '/Users/jheunis/Documents/PYTHON/rtme-fMRI/bids/sub-01/func/sub-01_task-motor_run-2_echo-3_bold.json'\n",
      "Renaming '/Users/jheunis/Documents/PYTHON/rtme-fMRI/bids/sub-01/pilot_sub_01_NEUFEP-ME-motor2_SENSE_6_1_echo-3.nii' to '/Users/jheunis/Documents/PYTHON/rtme-fMRI/bids/sub-01/func/sub-01_task-motor_run-2_echo-3_bold.nii'\n",
      "Renaming '/Users/jheunis/Documents/PYTHON/rtme-fMRI/bids/sub-01/pilot_sub_01_NEUFEP-ME-emotion1_SENSE_5_1_echo-1.json' to '/Users/jheunis/Documents/PYTHON/rtme-fMRI/bids/sub-01/func/sub-01_task-emotion_run-1_echo-1_bold.json'\n",
      "Renaming '/Users/jheunis/Documents/PYTHON/rtme-fMRI/bids/sub-01/pilot_sub_01_NEUFEP-ME-emotion1_SENSE_5_1_echo-1.nii' to '/Users/jheunis/Documents/PYTHON/rtme-fMRI/bids/sub-01/func/sub-01_task-emotion_run-1_echo-1_bold.nii'\n",
      "Renaming '/Users/jheunis/Documents/PYTHON/rtme-fMRI/bids/sub-01/pilot_sub_01_NEUFEP-ME-emotion1_SENSE_5_1_echo-2.json' to '/Users/jheunis/Documents/PYTHON/rtme-fMRI/bids/sub-01/func/sub-01_task-emotion_run-1_echo-2_bold.json'\n",
      "Renaming '/Users/jheunis/Documents/PYTHON/rtme-fMRI/bids/sub-01/pilot_sub_01_NEUFEP-ME-emotion1_SENSE_5_1_echo-2.nii' to '/Users/jheunis/Documents/PYTHON/rtme-fMRI/bids/sub-01/func/sub-01_task-emotion_run-1_echo-2_bold.nii'\n",
      "Renaming '/Users/jheunis/Documents/PYTHON/rtme-fMRI/bids/sub-01/pilot_sub_01_NEUFEP-ME-emotion1_SENSE_5_1_echo-3.json' to '/Users/jheunis/Documents/PYTHON/rtme-fMRI/bids/sub-01/func/sub-01_task-emotion_run-1_echo-3_bold.json'\n",
      "Renaming '/Users/jheunis/Documents/PYTHON/rtme-fMRI/bids/sub-01/pilot_sub_01_NEUFEP-ME-emotion1_SENSE_5_1_echo-3.nii' to '/Users/jheunis/Documents/PYTHON/rtme-fMRI/bids/sub-01/func/sub-01_task-emotion_run-1_echo-3_bold.nii'\n",
      "Renaming '/Users/jheunis/Documents/PYTHON/rtme-fMRI/bids/sub-01/pilot_sub_01_NEUFEP-ME-emotion2_SENSE_7_1_echo-1.json' to '/Users/jheunis/Documents/PYTHON/rtme-fMRI/bids/sub-01/func/sub-01_task-emotion_run-2_echo-1_bold.json'\n",
      "Renaming '/Users/jheunis/Documents/PYTHON/rtme-fMRI/bids/sub-01/pilot_sub_01_NEUFEP-ME-emotion2_SENSE_7_1_echo-1.nii' to '/Users/jheunis/Documents/PYTHON/rtme-fMRI/bids/sub-01/func/sub-01_task-emotion_run-2_echo-1_bold.nii'\n",
      "Renaming '/Users/jheunis/Documents/PYTHON/rtme-fMRI/bids/sub-01/pilot_sub_01_NEUFEP-ME-emotion2_SENSE_7_1_echo-2.json' to '/Users/jheunis/Documents/PYTHON/rtme-fMRI/bids/sub-01/func/sub-01_task-emotion_run-2_echo-2_bold.json'\n",
      "Renaming '/Users/jheunis/Documents/PYTHON/rtme-fMRI/bids/sub-01/pilot_sub_01_NEUFEP-ME-emotion2_SENSE_7_1_echo-2.nii' to '/Users/jheunis/Documents/PYTHON/rtme-fMRI/bids/sub-01/func/sub-01_task-emotion_run-2_echo-2_bold.nii'\n",
      "Renaming '/Users/jheunis/Documents/PYTHON/rtme-fMRI/bids/sub-01/pilot_sub_01_NEUFEP-ME-emotion2_SENSE_7_1_echo-3.json' to '/Users/jheunis/Documents/PYTHON/rtme-fMRI/bids/sub-01/func/sub-01_task-emotion_run-2_echo-3_bold.json'\n",
      "Renaming '/Users/jheunis/Documents/PYTHON/rtme-fMRI/bids/sub-01/pilot_sub_01_NEUFEP-ME-emotion2_SENSE_7_1_echo-3.nii' to '/Users/jheunis/Documents/PYTHON/rtme-fMRI/bids/sub-01/func/sub-01_task-emotion_run-2_echo-3_bold.nii'\n",
      "Renaming '/Users/jheunis/Documents/PYTHON/rtme-fMRI/bids/sub-01/pilot_sub_01_T1W_3D_TFE_2_1.nii' to '/Users/jheunis/Documents/PYTHON/rtme-fMRI/bids/sub-01/anat/sub-01_T1w.nii'\n"
     ]
    }
   ],
   "source": [
    "!cd bidsify_test_2709 && bidsify"
   ]
  },
  {
   "cell_type": "markdown",
   "metadata": {},
   "source": [
    "This generates, for multi-echo data, a single NIfTI file with all echoes of all time points concatenated into a single time-series that has $N*e$ volumes, where $N$ is the number of time points and $e$ is the number of echoes. To get a separate NIfTI file (i.e. time series) per echo, we have to manipulate the data a bit:"
   ]
  },
  {
   "cell_type": "code",
   "execution_count": null,
   "metadata": {},
   "outputs": [],
   "source": []
  },
  {
   "cell_type": "code",
   "execution_count": null,
   "metadata": {},
   "outputs": [],
   "source": [
    "me_fn = 'NEUFEP-ME_ME3_pictures_aangepasT_19_9_tr_2000_SENSE_3_1.nii'\n",
    "me_img = nib.load(me_fn)\n",
    "me_data = me_img.get_fdata()\n",
    "# print('ME image dimensions: {}'.format(me_img.shape))\n",
    "# me_hdr = me_img.header\n",
    "# print('ME image header:\\n{}'.format(me_hdr))\n",
    "# print(me_img.affine)\n",
    "data_e1 = me_data[:,:,:,0::3]\n",
    "data_e2 = me_data[:,:,:,1::3]\n",
    "data_e3 = me_data[:,:,:,2::3]\n",
    "me1_img = nib.Nifti1Image(data_e1, me_img.affine)\n",
    "me2_img = nib.Nifti1Image(data_e2, me_img.affine)\n",
    "me3_img = nib.Nifti1Image(data_e3, me_img.affine)\n",
    "nib.save(me1_img, 'me1.nii.gz')\n",
    "nib.save(me2_img, 'me2.nii.gz')\n",
    "nib.save(me3_img, 'me3.nii.gz')"
   ]
  },
  {
   "cell_type": "code",
   "execution_count": 9,
   "metadata": {},
   "outputs": [
    {
     "name": "stdout",
     "output_type": "stream",
     "text": [
      "Compression will be faster with 'pigz' installed http://macappstore.org/pigz/\n",
      "Chris Rorden's dcm2niiX version v1.0.20190410  Clang9.0.0 (64-bit MacOS)\n",
      "usage: dcm2niix [options] <in_folder>\n",
      " Options :\n",
      "  -1..-9 : gz compression level (1=fastest..9=smallest, default 6)\n",
      "  -a : adjacent DICOMs (images from same series always in same folder) for faster conversion (n/y, default n)\n",
      "  -b : BIDS sidecar (y/n/o [o=only: no NIfTI], default y)\n",
      "   -ba : anonymize BIDS (y/n, default y)\n",
      "  -c : comment stored in NIfTI aux_file (provide up to 24 characters)\n",
      "  -d : directory search depth. Convert DICOMs in sub-folders of in_folder? (0..9, default 5)\n",
      "  -e : export as NRRD instead of NIfTI (y/n, default n)\n",
      "  -f : filename (%a=antenna (coil) name, %b=basename, %c=comments, %d=description, %e=echo number, %f=folder name, %i=ID of patient, %j=seriesInstanceUID, %k=studyInstanceUID, %m=manufacturer, %n=name of patient, %p=protocol, %r=instance number, %s=series number, %t=time, %u=acquisition number, %v=vendor, %x=study ID; %z=sequence name; default '%f_%p_%t_%s')\n",
      "  -g : generate defaults file (y/n/o/i [o=only: reset and write defaults; i=ignore: reset defaults], default n)\n",
      "  -h : show help\n",
      "  -i : ignore derived, localizer and 2D images (y/n, default n)\n",
      "  -l : losslessly scale 16-bit integers to use dynamic range (y/n, default n)\n",
      "  -m : merge 2D slices from same series regardless of study time, echo, coil, orientation, etc. (y/n, default n)\n",
      "  -n : only convert this series number - can be used up to 16 times (default convert all)\n",
      "  -o : output directory (omit to save to input folder)\n",
      "  -p : Philips precise float (not display) scaling (y/n, default y)\n",
      "  -r : rename instead of convert DICOMs (y/n, default n)\n",
      "  -s : single file mode, do not convert other images in folder (y/n, default n)\n",
      "  -t : text notes includes private patient details (y/n, default n)\n",
      "  -u : up-to-date check\n",
      "  -v : verbose (n/y or 0/1/2 [no, yes, logorrheic], default 0)\n",
      "  -w : write behavior for name conflicts (0,1,2, default 2: 0=skip duplicates, 1=overwrite, 2=add suffix)\n",
      "  -x : crop 3D acquisitions (y/n/i, default n, use 'i'gnore to neither crop nor rotate 3D acquistions)\n",
      "  -z : gz compress images (y/o/i/n/3, default n) [y=pigz, o=optimal pigz, i=internal:miniz, n=no, 3=no,3D]\n",
      " Defaults file : /Users/jheunis/.dcm2nii.ini\n",
      " Examples :\n",
      "  dcm2niix /Users/chris/dir\n",
      "  dcm2niix -c \"my comment\" /Users/chris/dir\n",
      "  dcm2niix -o /users/cr/outdir/ -z y ~/dicomdir\n",
      "  dcm2niix -f %p_%s -b y -ba n ~/dicomdir\n",
      "  dcm2niix -f mystudy%s ~/dicomdir\n",
      "  dcm2niix -o \"~/dir with spaces/dir\" ~/dicomdir\n"
     ]
    }
   ],
   "source": [
    "!cd ../../../Desktop/sample-data/sub-neufepmetest/sub-pilot && dcm2niix"
   ]
  },
  {
   "cell_type": "code",
   "execution_count": null,
   "metadata": {},
   "outputs": [],
   "source": []
  },
  {
   "cell_type": "code",
   "execution_count": 9,
   "metadata": {},
   "outputs": [
    {
     "name": "stdout",
     "output_type": "stream",
     "text": [
      "ME image dimensions: (64, 64, 34, 630)\n",
      "ME image header:\n",
      "<class 'nibabel.nifti1.Nifti1Header'> object, endian='<'\n",
      "sizeof_hdr      : 348\n",
      "data_type       : b''\n",
      "db_name         : b''\n",
      "extents         : 0\n",
      "session_error   : 0\n",
      "regular         : b''\n",
      "dim_info        : 0\n",
      "dim             : [  4  64  64  34 630   1   1   1]\n",
      "intent_p1       : 0.0\n",
      "intent_p2       : 0.0\n",
      "intent_p3       : 0.0\n",
      "intent_code     : none\n",
      "datatype        : uint16\n",
      "bitpix          : 16\n",
      "slice_start     : 0\n",
      "pixdim          : [-1.        3.5       3.5       3.5       2.002696  1.        1.\n",
      "  1.      ]\n",
      "vox_offset      : 0.0\n",
      "scl_slope       : nan\n",
      "scl_inter       : nan\n",
      "slice_end       : 0\n",
      "slice_code      : unknown\n",
      "xyzt_units      : 18\n",
      "cal_max         : 2848.7078\n",
      "cal_min         : 0.0\n",
      "slice_duration  : 0.0\n",
      "toffset         : 0.0\n",
      "glmax           : 0\n",
      "glmin           : 0\n",
      "descrip         : b''\n",
      "aux_file        : b''\n",
      "qform_code      : scanner\n",
      "sform_code      : scanner\n",
      "quatern_b       : -0.06681208\n",
      "quatern_c       : 0.99553436\n",
      "quatern_d       : 0.054806914\n",
      "qoffset_x       : 123.25382\n",
      "qoffset_y       : -80.35115\n",
      "qoffset_z       : -21.113438\n",
      "srow_x          : [ -3.4586473   -0.48017308  -0.23915052 123.25382   ]\n",
      "srow_y          : [ -0.45101902   3.4477265   -0.39970523 -80.35115   ]\n",
      "srow_z          : [ -0.29041523   0.36416513   3.4688675  -21.113438  ]\n",
      "intent_name     : b''\n",
      "magic           : b'n+1'\n",
      "[[ -3.45864725  -0.48017308  -0.23915052 123.25382233]\n",
      " [ -0.45101902   3.44772649  -0.39970523 -80.35115051]\n",
      " [ -0.29041523   0.36416513   3.46886754 -21.11343765]\n",
      " [  0.           0.           0.           1.        ]]\n"
     ]
    }
   ],
   "source": []
  },
  {
   "cell_type": "code",
   "execution_count": 13,
   "metadata": {},
   "outputs": [],
   "source": [
    "# data_e1 = np.ones((32, 32, 15, 100), dtype=img.get_data_dtype())\n"
   ]
  },
  {
   "cell_type": "code",
   "execution_count": 11,
   "metadata": {},
   "outputs": [
    {
     "name": "stdout",
     "output_type": "stream",
     "text": [
      "[[0 1 2 3 4 5 6 7]\n",
      " [0 1 2 3 4 5 6 7]\n",
      " [0 1 2 3 4 5 6 7]]\n",
      "[[0 3 6]\n",
      " [0 3 6]\n",
      " [0 3 6]]\n"
     ]
    }
   ],
   "source": [
    "data1 = np.array([[0,1,2,3,4,5,6,7],[0,1,2,3,4,5,6,7],[0,1,2,3,4,5,6,7]])\n",
    "print(data1)\n",
    "\n",
    "data2 = data1[:,0::3]\n",
    "\n",
    "print(data2)"
   ]
  },
  {
   "cell_type": "code",
   "execution_count": null,
   "metadata": {},
   "outputs": [],
   "source": [
    "pydeface /Users/jheunis/Documents/PYTHON/rtme-fMRI/bidsify_test_2709/sub-01/pilot_sub_01_T1W_3D_TFE_2_1.nii"
   ]
  }
 ],
 "metadata": {
  "kernelspec": {
   "display_name": "Python 3",
   "language": "python",
   "name": "python3"
  },
  "language_info": {
   "codemirror_mode": {
    "name": "ipython",
    "version": 3
   },
   "file_extension": ".py",
   "mimetype": "text/x-python",
   "name": "python",
   "nbconvert_exporter": "python",
   "pygments_lexer": "ipython3",
   "version": "3.7.3"
  }
 },
 "nbformat": 4,
 "nbformat_minor": 4
}
