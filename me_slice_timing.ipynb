{
 "cells": [
  {
   "cell_type": "code",
   "execution_count": 17,
   "metadata": {},
   "outputs": [
    {
     "name": "stdout",
     "output_type": "stream",
     "text": [
      "{'Manufacturer': 'Philips', 'PatientPosition': 'HFS', 'SeriesDescription': 'ImageMRSERIES', 'ProtocolName': 'NEUFEP-ME-motor1SENSE', 'SeriesNumber': 4, 'AcquisitionNumber': 4, 'ImageComments': '------', 'PhilipsRescaleSlope': 0.75165, 'PhilipsRescaleIntercept': 0, 'PhilipsScaleSlope': 0.0020179, 'UsePhilipsFloatNotDisplayScaling': 1, 'EchoNumber': 2, 'EchoTime': 0.028, 'RepetitionTime': 1.99943, 'ReconMatrixPE': 64, 'ImageOrientationPatientDICOM': [0.998842, -0.0195283, -0.043966, 0.0149936, 0.994752, -0.101207], 'ConversionSoftware': 'dcm2niix', 'ConversionSoftwareVersion': 'v1.0.20190410  Clang9.0.0', 'BidsifyVersion': '0.3.7', 'MagneticFieldStrength': 3, 'ParallelAcquisitionTechnique': 'SENSE', 'BIDSVersion': '1.1.0', 'TaskName': 'motor', 'SliceTiming': [0.0, 0.0588, 0.1176, 0.1765, 0.2353, 0.2941, 0.3529, 0.4118, 0.4706, 0.5294, 0.5882, 0.6471, 0.7059, 0.7647, 0.8235, 0.8824, 0.9412, 1.0, 1.0588, 1.1176, 1.1765, 1.2353, 1.2941, 1.3529, 1.4118, 1.4706, 1.5294, 1.5882, 1.6471, 1.7059, 1.7647, 1.8235, 1.8824, 1.9412]}\n"
     ]
    }
   ],
   "source": [
    "import json\n",
    "import numpy as np\n",
    "\n",
    "json_fn = '/Users/jheunis/Desktop/sub-01_task-motor_run-1_echo-2_bold.json'\n",
    "\n",
    "TR = 2\n",
    "N_slices = 34\n",
    "t_d = TR/N_slices\n",
    "t_start = 0\n",
    "t_stop = TR\n",
    "slice_timing = np.arange(start=t_start, stop=t_stop, step=t_d).round(4).tolist()\n",
    "\n",
    "with open(json_fn) as json_file:\n",
    "    data = json.load(json_file)\n",
    "\n",
    "data['SliceTiming'] = slice_timing\n",
    "data.pop('InstitutionName')\n",
    "print(data)\n",
    "#     for p in data['people']:\n",
    "#         print('Name: ' + p['name'])\n",
    "#         print('Website: ' + p['website'])\n",
    "#         print('From: ' + p['from'])\n",
    "#         print('')\n",
    "\n",
    "\n",
    "# data = {}\n",
    "# data['people'] = []\n",
    "# data['people'].append({\n",
    "#     'name': 'Scott',\n",
    "#     'website': 'stackabuse.com',\n",
    "#     'from': 'Nebraska'\n",
    "# })\n",
    "# data['people'].append({\n",
    "#     'name': 'Larry',\n",
    "#     'website': 'google.com',\n",
    "#     'from': 'Michigan'\n",
    "# })\n",
    "# data['people'].append({\n",
    "#     'name': 'Tim',\n",
    "#     'website': 'apple.com',\n",
    "#     'from': 'Alabama'\n",
    "# })\n",
    "\n",
    "# with open('data.txt', 'w') as outfile:\n",
    "#     json.dump(data, outfile)"
   ]
  },
  {
   "cell_type": "code",
   "execution_count": 4,
   "metadata": {},
   "outputs": [
    {
     "name": "stdout",
     "output_type": "stream",
     "text": [
      "0.058823529411764705\n"
     ]
    }
   ],
   "source": [
    "print(2/34)"
   ]
  },
  {
   "cell_type": "code",
   "execution_count": null,
   "metadata": {},
   "outputs": [],
   "source": []
  }
 ],
 "metadata": {
  "kernelspec": {
   "display_name": "Python 3",
   "language": "python",
   "name": "python3"
  },
  "language_info": {
   "codemirror_mode": {
    "name": "ipython",
    "version": 3
   },
   "file_extension": ".py",
   "mimetype": "text/x-python",
   "name": "python",
   "nbconvert_exporter": "python",
   "pygments_lexer": "ipython3",
   "version": "3.7.3"
  }
 },
 "nbformat": 4,
 "nbformat_minor": 2
}
