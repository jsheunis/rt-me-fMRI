{
 "cells": [
  {
   "cell_type": "markdown",
   "metadata": {},
   "source": [
    "# Finger tapping experiment: data setup"
   ]
  },
  {
   "cell_type": "markdown",
   "metadata": {},
   "source": [
    "This notebook contains the workflow required to convert raw T1w and multi-echo fMRI data into the formats, types and structures necessary for the main data processing pipeline. Thus, getting data ready to be processed.\n",
    "\n",
    "## Data\n",
    "\n",
    "Per subject, all of the following data are collected during one scan session (all functional scans are multi-echo EPI):\n",
    "\n",
    "| Nr | Name  | Scan Type | Description | Format |\n",
    "| :--- | :--- | :--- | :--- | :--- |\n",
    "| 1 | T1w | Anatomical | Standard T1-weighted sequence | NIfTI |\n",
    "| 3 | run1_BOLD_task1 | Functional | Motor - finger tapping | PAR/REC, XML/REC, DICOM |\n",
    "\n",
    "**Export data instructions:**\n",
    "    - Non-dicom only\n",
    "    - use file-names\n",
    "    - all available formats\n",
    "\n",
    "\n",
    "## Data setup goals\n",
    "\n",
    "For each dataset (i.e. for each subject) we have to:\n",
    "\n",
    "1. Move all files into a machine readable directory structure\n",
    "2. Rename all image files in this directory structure such that BIDS tags are findable\n",
    "3. Convert data to BIDS (using `bidsify` to convert the image data, which includes conversion of PAR/REC to NIfTI using `dcm2niix`)"
   ]
  },
  {
   "cell_type": "markdown",
   "metadata": {},
   "source": [
    "## Required packages / software\n",
    "\n",
    "- numpy, matplotlib, etc\n",
    "- bidsify: https://github.com/NILAB-UvA/bidsify/tree/master/bidsify"
   ]
  },
  {
   "cell_type": "code",
   "execution_count": 5,
   "metadata": {},
   "outputs": [
    {
     "name": "stdout",
     "output_type": "stream",
     "text": [
      "The autoreload extension is already loaded. To reload it, use:\n",
      "  %reload_ext autoreload\n"
     ]
    }
   ],
   "source": [
    "%matplotlib inline\n",
    "%load_ext autoreload\n",
    "%autoreload 2"
   ]
  },
  {
   "cell_type": "code",
   "execution_count": 9,
   "metadata": {},
   "outputs": [],
   "source": [
    "import os\n",
    "import shutil\n",
    "import glob\n",
    "import matplotlib.pyplot as plt\n",
    "import numpy as np\n",
    "import nibabel as nib\n",
    "import bidsify\n",
    "import pydeface\n",
    "import pandas as pd\n",
    "import json\n",
    "from bids_validator import BIDSValidator\n",
    "from convert_eprime.convert import text_to_csv\n",
    "from scanphyslog2bids.core import PhilipsPhysioLog"
   ]
  },
  {
   "cell_type": "markdown",
   "metadata": {},
   "source": [
    "## Step 0: initialize variables, directories, filenames, etc\n"
   ]
  },
  {
   "cell_type": "code",
   "execution_count": 14,
   "metadata": {},
   "outputs": [],
   "source": [
    "# Dependent on structure and filenames in current data on external drive\n",
    "data_dir = '/Users/jheunis/Desktop/KempCourse_data/'\n",
    "org_data_dir = '/Users/jheunis/Desktop/KempCourse_data_organised/'\n",
    "new_org_data_dir = org_data_dir + 'new/'\n",
    "bids_data_dir = '/Users/jheunis/Desktop/KempCourse_data_organised/bids/'"
   ]
  },
  {
   "cell_type": "markdown",
   "metadata": {},
   "source": [
    "## Step 1+2: Move and rename all files into a machine readable and BIDS-ready directory structure\n"
   ]
  },
  {
   "cell_type": "markdown",
   "metadata": {},
   "source": [
    "#### ONCE ONLY: copy all raw data, with exceptions, to new directory (leave raw data untouched!)\n"
   ]
  },
  {
   "cell_type": "code",
   "execution_count": 15,
   "metadata": {},
   "outputs": [
    {
     "data": {
      "text/plain": [
       "'/Users/jheunis/Desktop/KempCourse_data_organised/new/'"
      ]
     },
     "execution_count": 15,
     "metadata": {},
     "output_type": "execute_result"
    }
   ],
   "source": [
    "# Ignore files:\n",
    "# - with 'FSL', this is a proxy for the FSL '.nii' file\n",
    "# - with spaces (this is a proxy for the xml/rec files),\n",
    "# - the PAR/RECs of T1w file\n",
    "src = data_dir\n",
    "dst = new_org_data_dir\n",
    "ignore_pattern = shutil.ignore_patterns('*FSL*',\n",
    "                                        '* *',\n",
    "                                        '*T1W*.PAR',\n",
    "                                        '*T1W*.REC')\n",
    "shutil.copytree(src, dst, ignore=ignore_pattern)"
   ]
  },
  {
   "cell_type": "markdown",
   "metadata": {},
   "source": [
    "#### ONCE ONLY: Rename files such that bidsify can read separate tags and convert correctly to BIDS format\n",
    "See filenames in: \"/Users/jheunis/Documents/PYTHON/rtme-fMRI/bidsify_test_2709/sub-01\")\n"
   ]
  },
  {
   "cell_type": "code",
   "execution_count": 16,
   "metadata": {},
   "outputs": [],
   "source": [
    "# This means removing the 'SENSE' text from the T1w file such that files with SENSE are all recognised as BOLD\n",
    "os.chdir(new_org_data_dir)\n",
    "t1w = glob.glob('*/*T1W*',recursive=True)\n",
    "for fn in t1w:\n",
    "    os.rename(fn, fn.replace('_SENSE', ''))"
   ]
  },
  {
   "cell_type": "markdown",
   "metadata": {},
   "source": [
    "## Step 3: Convert image data to BIDS\n",
    "\n",
    "Using `bidsify`\n",
    "\n",
    "See `me_workflow.ipynb`\n"
   ]
  },
  {
   "cell_type": "code",
   "execution_count": 17,
   "metadata": {},
   "outputs": [
    {
     "name": "stdout",
     "output_type": "stream",
     "text": [
      "Setting output-dir to /Users/jheunis/Desktop/KempCourse_data_organised/bids\n",
      "Running bidsify with the following arguments:\n",
      "\t directory=/Users/jheunis/Desktop/KempCourse_data_organised/new \n",
      "\t config=/Users/jheunis/Desktop/KempCourse_data_organised/config.yml \n",
      "\t out_dir=/Users/jheunis/Desktop/KempCourse_data_organised/bids \n",
      "\t validate=False\n",
      "\n",
      "200221-11:50:42,371 nipype.utils INFO:\n",
      "\t Running nipype version 1.2.3 (latest: 1.4.2)\n",
      "Converting data from sub-111 ...\n",
      "WARNING: file NEUFEP-ME-111^NEUFEP-ME-111_NEUFEP-ME-motor1_SENSE_3_1.PAR seems to be a multiecho file - this feature is experimental!\n",
      "Compression will be faster with 'pigz' installed http://macappstore.org/pigz/\n",
      "Chris Rorden's dcm2niiX version v1.0.20190410  Clang9.0.0 (64-bit MacOS)\n",
      "Warning: dcm2niix PAR is not actively supported (hint: use dicm2nii)\n",
      "Warning: Reported TR=2000.44ms, measured TR=2000.43ms (prospect. motion corr.?)\n",
      "Warning: PAR file volumes not saved in ascending temporal order (please check re-ordering)\n",
      "Done reading PAR header version 4.2, with 21420 slices\n",
      "Warning: Multiple Echo (3) or Cardiac (1). Carefully inspect output\n",
      "Philips Scaling Values RS:RI:SS = 0.737:0:0.00218356 (see PMC3998685)\n",
      "Convert 1 DICOM as /Users/jheunis/Desktop/KempCourse_data_organised/bids/sub-111/NEUFEP-ME-111_NEUFEP-ME-111_NEUFEP-ME-motor1_SENSE_3_1_echo-1 (64x64x34x210)\n",
      "Philips Scaling Values RS:RI:SS = 0.737:0:0.00218356 (see PMC3998685)\n",
      "Convert 1 DICOM as /Users/jheunis/Desktop/KempCourse_data_organised/bids/sub-111/NEUFEP-ME-111_NEUFEP-ME-111_NEUFEP-ME-motor1_SENSE_3_1_echo-2 (64x64x34x210)\n",
      "Philips Scaling Values RS:RI:SS = 0.737:0:0.00218356 (see PMC3998685)\n",
      "Convert 1 DICOM as /Users/jheunis/Desktop/KempCourse_data_organised/bids/sub-111/NEUFEP-ME-111_NEUFEP-ME-111_NEUFEP-ME-motor1_SENSE_3_1_echo-3 (64x64x34x210)\n",
      "Conversion required 2.683540 seconds (2.215524 for core code).\n",
      "Could not find files for element rest1 (dtype func) with identifier 'rest1'\n",
      "Could not find files for element rest2 (dtype func) with identifier 'rest2'\n",
      "Renaming '/Users/jheunis/Desktop/KempCourse_data_organised/bids/sub-111/NEUFEP-ME-111_NEUFEP-ME-111_NEUFEP-ME-motor1_SENSE_3_1_echo-1.json' to '/Users/jheunis/Desktop/KempCourse_data_organised/bids/sub-111/func/sub-111_task-motor_run-1_echo-1_bold.json'\n",
      "Renaming '/Users/jheunis/Desktop/KempCourse_data_organised/bids/sub-111/NEUFEP-ME-111_NEUFEP-ME-111_NEUFEP-ME-motor1_SENSE_3_1_echo-1.nii' to '/Users/jheunis/Desktop/KempCourse_data_organised/bids/sub-111/func/sub-111_task-motor_run-1_echo-1_bold.nii'\n",
      "Renaming '/Users/jheunis/Desktop/KempCourse_data_organised/bids/sub-111/NEUFEP-ME-111_NEUFEP-ME-111_NEUFEP-ME-motor1_SENSE_3_1_echo-2.json' to '/Users/jheunis/Desktop/KempCourse_data_organised/bids/sub-111/func/sub-111_task-motor_run-1_echo-2_bold.json'\n",
      "Renaming '/Users/jheunis/Desktop/KempCourse_data_organised/bids/sub-111/NEUFEP-ME-111_NEUFEP-ME-111_NEUFEP-ME-motor1_SENSE_3_1_echo-2.nii' to '/Users/jheunis/Desktop/KempCourse_data_organised/bids/sub-111/func/sub-111_task-motor_run-1_echo-2_bold.nii'\n",
      "Renaming '/Users/jheunis/Desktop/KempCourse_data_organised/bids/sub-111/NEUFEP-ME-111_NEUFEP-ME-111_NEUFEP-ME-motor1_SENSE_3_1_echo-3.json' to '/Users/jheunis/Desktop/KempCourse_data_organised/bids/sub-111/func/sub-111_task-motor_run-1_echo-3_bold.json'\n",
      "Renaming '/Users/jheunis/Desktop/KempCourse_data_organised/bids/sub-111/NEUFEP-ME-111_NEUFEP-ME-111_NEUFEP-ME-motor1_SENSE_3_1_echo-3.nii' to '/Users/jheunis/Desktop/KempCourse_data_organised/bids/sub-111/func/sub-111_task-motor_run-1_echo-3_bold.nii'\n",
      "Could not find files for element motor-task2 (dtype func) with identifier 'motor2'\n",
      "Could not find files for element emotion-task1 (dtype func) with identifier 'emotion1'\n",
      "Could not find files for element emotion-task2 (dtype func) with identifier 'emotion2'\n",
      "Renaming '/Users/jheunis/Desktop/KempCourse_data_organised/bids/sub-111/NEUFEP-ME-111^NEUFEP-ME-111_T1W_3D_TFE_2_1.nii' to '/Users/jheunis/Desktop/KempCourse_data_organised/bids/sub-111/anat/sub-111_T1w.nii'\n"
     ]
    }
   ],
   "source": [
    "!cd /Users/jheunis/Desktop/KempCourse_data_organised/new && bidsify -c /Users/jheunis/Desktop/KempCourse_data_organised/config.yml"
   ]
  },
  {
   "cell_type": "markdown",
   "metadata": {},
   "source": [
    "## Next steps\n",
    "\n",
    "Once the above steps are finished:\n",
    "1. Head over to Matlab and run the `fmrwhy_workflow_fingertapping.m` script"
   ]
  },
  {
   "cell_type": "code",
   "execution_count": null,
   "metadata": {},
   "outputs": [],
   "source": []
  }
 ],
 "metadata": {
  "kernelspec": {
   "display_name": "Python 3",
   "language": "python",
   "name": "python3"
  },
  "language_info": {
   "codemirror_mode": {
    "name": "ipython",
    "version": 3
   },
   "file_extension": ".py",
   "mimetype": "text/x-python",
   "name": "python",
   "nbconvert_exporter": "python",
   "pygments_lexer": "ipython3",
   "version": "3.7.3"
  }
 },
 "nbformat": 4,
 "nbformat_minor": 2
}
